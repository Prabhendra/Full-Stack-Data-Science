{
  "nbformat": 4,
  "nbformat_minor": 0,
  "metadata": {
    "colab": {
      "provenance": []
    },
    "kernelspec": {
      "name": "python3",
      "display_name": "Python 3"
    },
    "language_info": {
      "name": "python"
    }
  },
  "cells": [
    {
      "cell_type": "markdown",
      "source": [
        "1. Generate a list of 100 integers containing values between 90 to 130 and store it in the variable `int_list`.\n",
        "After generating the list, find the following:"
      ],
      "metadata": {
        "id": "z6TNUEvVPdPL"
      }
    },
    {
      "cell_type": "code",
      "source": [
        "import random\n",
        "\n",
        "# Generate a list of 100 integers between 90 and 130\n",
        "int_list = [random.randint(90, 130) for _ in range(100)]\n",
        "print(f\"Generated list: {int_list}\")"
      ],
      "metadata": {
        "colab": {
          "base_uri": "https://localhost:8080/"
        },
        "id": "xys_PsXPP5mT",
        "outputId": "5a806ecd-3d4c-4602-eeca-3d0965e94687"
      },
      "execution_count": 1,
      "outputs": [
        {
          "output_type": "stream",
          "name": "stdout",
          "text": [
            "Generated list: [114, 94, 121, 94, 111, 103, 116, 103, 124, 114, 98, 104, 118, 129, 124, 109, 117, 106, 113, 100, 129, 103, 117, 107, 90, 120, 101, 91, 109, 97, 90, 114, 95, 126, 126, 111, 95, 96, 116, 130, 124, 112, 103, 91, 96, 111, 116, 128, 120, 111, 114, 98, 102, 119, 105, 108, 94, 94, 96, 130, 107, 91, 110, 119, 103, 128, 127, 119, 118, 129, 116, 116, 127, 96, 128, 96, 120, 91, 101, 128, 90, 106, 114, 96, 100, 118, 97, 122, 118, 105, 127, 103, 104, 103, 115, 129, 119, 105, 96, 106]\n"
          ]
        }
      ]
    },
    {
      "cell_type": "markdown",
      "source": [
        "  (i) Write a Python function to calculate the mean of a given list of numbers.\n",
        "\n",
        "Create a function to find the median of a list of numbers.\n",
        "\n",
        "  \n"
      ],
      "metadata": {
        "id": "s2jnItvKPdLs"
      }
    },
    {
      "cell_type": "code",
      "source": [
        "def calculate_mean(data):\n",
        "    if not data:\n",
        "        return 0\n",
        "    return sum(data) / len(data)\n",
        "\n",
        "def calculate_median(data):\n",
        "    n = len(data)\n",
        "    if n == 0:\n",
        "        return 0\n",
        "    sorted_data = sorted(data)\n",
        "    if n % 2 == 0:\n",
        "        mid1 = sorted_data[n // 2 - 1]\n",
        "        mid2 = sorted_data[n // 2]\n",
        "        return (mid1 + mid2) / 2\n",
        "    else:\n",
        "        return sorted_data[n // 2]\n",
        "\n",
        "mean_value = calculate_mean(int_list)\n",
        "median_value = calculate_median(int_list)\n",
        "print(f\"\\n(i) Mean of the list: {mean_value}\")\n",
        "print(f\"    Median of the list: {median_value}\")"
      ],
      "metadata": {
        "colab": {
          "base_uri": "https://localhost:8080/"
        },
        "id": "QiOQRRS7P6Fj",
        "outputId": "8106f3d9-8b5a-4633-d96d-ea043cf3b04f"
      },
      "execution_count": 2,
      "outputs": [
        {
          "output_type": "stream",
          "name": "stdout",
          "text": [
            "\n",
            "(i) Mean of the list: 109.9\n",
            "    Median of the list: 110.5\n"
          ]
        }
      ]
    },
    {
      "cell_type": "markdown",
      "source": [
        "\n",
        "  (ii) Develop a program to compute the mode of a list of integers.\n",
        "\n",
        "  \n"
      ],
      "metadata": {
        "id": "g0I-jeR3PdIi"
      }
    },
    {
      "cell_type": "code",
      "source": [
        "from collections import Counter\n",
        "\n",
        "def calculate_mode(data):\n",
        "    if not data:\n",
        "        return []\n",
        "    counts = Counter(data)\n",
        "    max_count = max(counts.values())\n",
        "    modes = [key for key, value in counts.items() if value == max_count]\n",
        "    return modes\n",
        "\n",
        "mode_value = calculate_mode(int_list)\n",
        "print(f\"\\n(ii) Mode(s) of the list: {mode_value}\")"
      ],
      "metadata": {
        "colab": {
          "base_uri": "https://localhost:8080/"
        },
        "id": "hXMa4xQyP63C",
        "outputId": "5619871c-ec54-422b-d6b6-ea69a345be01"
      },
      "execution_count": 3,
      "outputs": [
        {
          "output_type": "stream",
          "name": "stdout",
          "text": [
            "\n",
            "(ii) Mode(s) of the list: [103, 96]\n"
          ]
        }
      ]
    },
    {
      "cell_type": "markdown",
      "source": [
        "\n",
        "  (iii) Implement a function to calculate the weighted mean of a list of values and their corresponding weights.\n",
        "\n",
        "  \n",
        "\n"
      ],
      "metadata": {
        "id": "KvRQyuo4PdFz"
      }
    },
    {
      "cell_type": "code",
      "source": [
        "import random\n",
        "\n",
        "def calculate_weighted_mean(values, weights):\n",
        "    if not values or not weights or len(values) != len(weights):\n",
        "        return 0\n",
        "    numerator = sum(value * weight for value, weight in zip(values, weights))\n",
        "    denominator = sum(weights)\n",
        "    if denominator == 0:\n",
        "        return 0\n",
        "    return numerator / denominator\n",
        "\n",
        "# Example weights (you can define your own weights)\n",
        "weights = [random.uniform(0.5, 1.5) for _ in range(len(int_list))]\n",
        "weighted_mean_value = calculate_weighted_mean(int_list, weights)\n",
        "print(f\"\\n(iii) Weighted mean of the list: {weighted_mean_value}\")"
      ],
      "metadata": {
        "colab": {
          "base_uri": "https://localhost:8080/"
        },
        "id": "iqdKFPuGP7Oe",
        "outputId": "a793451f-1d0f-4e54-8a56-0938c5f8aff9"
      },
      "execution_count": 4,
      "outputs": [
        {
          "output_type": "stream",
          "name": "stdout",
          "text": [
            "\n",
            "(iii) Weighted mean of the list: 110.3070721302854\n"
          ]
        }
      ]
    },
    {
      "cell_type": "markdown",
      "source": [
        "  (iv) Write a Python function to find the geometric mean of a list of positive numbers.\n",
        "\n",
        "  \n"
      ],
      "metadata": {
        "id": "H84TmRsCPdCq"
      }
    },
    {
      "cell_type": "code",
      "source": [
        "import numpy as np\n",
        "\n",
        "def calculate_geometric_mean(data):\n",
        "    if not all(x > 0 for x in data) or not data:\n",
        "        return 0\n",
        "    return np.power(np.prod(data), 1/len(data))\n",
        "\n",
        "# Filter out non-positive numbers\n",
        "positive_int_list = [x for x in int_list if x > 0]\n",
        "geometric_mean_value = calculate_geometric_mean(positive_int_list)\n",
        "print(f\"\\n(iv) Geometric mean of the positive numbers in the list: {geometric_mean_value}\")"
      ],
      "metadata": {
        "colab": {
          "base_uri": "https://localhost:8080/"
        },
        "id": "F86EKzILP7pT",
        "outputId": "486ad2a5-8526-420c-f090-ca2a87734dc9"
      },
      "execution_count": 5,
      "outputs": [
        {
          "output_type": "stream",
          "name": "stdout",
          "text": [
            "\n",
            "(iv) Geometric mean of the positive numbers in the list: 0.0\n"
          ]
        }
      ]
    },
    {
      "cell_type": "markdown",
      "source": [
        "\n",
        "  (v) Create a program to calculate the harmonic mean of a list of values.\n",
        "\n",
        "  \n",
        "\n"
      ],
      "metadata": {
        "id": "iFWQbUqNPc_w"
      }
    },
    {
      "cell_type": "code",
      "source": [
        "def calculate_harmonic_mean(data):\n",
        "    if not all(x != 0 for x in data) or not data:\n",
        "        return 0\n",
        "    reciprocal_sum = sum(1 / x for x in data)\n",
        "    return len(data) / reciprocal_sum\n",
        "\n",
        "harmonic_mean_value = calculate_harmonic_mean(int_list)\n",
        "print(f\"\\n(v) Harmonic mean of the list: {harmonic_mean_value}\")"
      ],
      "metadata": {
        "colab": {
          "base_uri": "https://localhost:8080/"
        },
        "id": "yB6-3ZS5P8KH",
        "outputId": "b69af806-4af6-4995-aae4-25eac014cdc7"
      },
      "execution_count": 6,
      "outputs": [
        {
          "output_type": "stream",
          "name": "stdout",
          "text": [
            "\n",
            "(v) Harmonic mean of the list: 108.60464095907388\n"
          ]
        }
      ]
    },
    {
      "cell_type": "markdown",
      "source": [
        "  (vi) Build a function to determine the midrange of a list of numbers (average of the minimum and maximum).\n",
        "\n",
        "  \n",
        "\n"
      ],
      "metadata": {
        "id": "R-SYtN6IPc80"
      }
    },
    {
      "cell_type": "code",
      "source": [
        "def calculate_midrange(data):\n",
        "    if not data:\n",
        "        return 0\n",
        "    return (min(data) + max(data)) / 2\n",
        "\n",
        "midrange_value = calculate_midrange(int_list)\n",
        "print(f\"\\n(vi) Midrange of the list: {midrange_value}\")"
      ],
      "metadata": {
        "colab": {
          "base_uri": "https://localhost:8080/"
        },
        "id": "0o1vSuabP8jH",
        "outputId": "07d1e6a5-325e-4a2f-bf2b-145a0d2ef34d"
      },
      "execution_count": 7,
      "outputs": [
        {
          "output_type": "stream",
          "name": "stdout",
          "text": [
            "\n",
            "(vi) Midrange of the list: 110.0\n"
          ]
        }
      ]
    },
    {
      "cell_type": "markdown",
      "source": [
        "  (vii) Implement a Python program to find the trimmed mean of a list, excluding a certain percentage of\n",
        "outliers."
      ],
      "metadata": {
        "id": "o9euVd5CPc5r"
      }
    },
    {
      "cell_type": "code",
      "source": [
        "from scipy.stats import trim_mean\n",
        "\n",
        "trim_percentage = 0.1  # Exclude the top and bottom 10%\n",
        "trimmed_mean_value = trim_mean(int_list, trim_percentage)\n",
        "print(f\"\\n(vii) Trimmed mean (excluding {trim_percentage*100}%): {trimmed_mean_value}\")"
      ],
      "metadata": {
        "colab": {
          "base_uri": "https://localhost:8080/"
        },
        "id": "S7g58KyjP9Gi",
        "outputId": "6ad51ee7-acfe-4860-f578-da80eb0929b4"
      },
      "execution_count": 8,
      "outputs": [
        {
          "output_type": "stream",
          "name": "stdout",
          "text": [
            "\n",
            "(vii) Trimmed mean (excluding 10.0%): 109.825\n"
          ]
        }
      ]
    },
    {
      "cell_type": "markdown",
      "source": [
        " 2. Generate a list of 500 integers containing values between 200 to 300 and store it in the variable `int_list2`.\n",
        "After generating the list, find the following:"
      ],
      "metadata": {
        "id": "VS3U29nJPc2y"
      }
    },
    {
      "cell_type": "code",
      "source": [
        "import random\n",
        "\n",
        "# Generate a list of 500 integers between 200 and 300\n",
        "int_list2 = [random.randint(200, 300) for _ in range(500)]\n",
        "print(f\"Generated list (first 10 elements): {int_list2[:10]} ... (total {len(int_list2)} elements)\")"
      ],
      "metadata": {
        "colab": {
          "base_uri": "https://localhost:8080/"
        },
        "id": "fTXRvh2MRtDV",
        "outputId": "5ba8a554-57da-4c73-e3ea-c431f521b54a"
      },
      "execution_count": 9,
      "outputs": [
        {
          "output_type": "stream",
          "name": "stdout",
          "text": [
            "Generated list (first 10 elements): [231, 223, 300, 215, 276, 283, 274, 285, 249, 293] ... (total 500 elements)\n"
          ]
        }
      ]
    },
    {
      "cell_type": "markdown",
      "source": [
        " (i) Compare the given list of visualization for the given data:\n",
        "\n",
        "    \n",
        "\n",
        "    1. Frequency & Gaussian distribution\n",
        "\n",
        "    2. Frequency smoothened KDE plot\n",
        "\n",
        "    3. Gaussian distribution & smoothened KDE plot\n",
        "\n",
        "\n",
        ""
      ],
      "metadata": {
        "id": "Axm4r6RGPczp"
      }
    },
    {
      "cell_type": "code",
      "source": [
        "import matplotlib.pyplot as plt\n",
        "import seaborn as sns\n",
        "import numpy as np\n",
        "from scipy.stats import norm\n",
        "\n",
        "# Convert the list to a NumPy array for easier calculations\n",
        "data = np.array(int_list2)\n",
        "\n",
        "# 1. Frequency & Gaussian distribution\n",
        "plt.figure(figsize=(10, 6))\n",
        "sns.histplot(data, kde=False, stat=\"density\", color=\"skyblue\", label=\"Frequency\")\n",
        "mu, std = norm.fit(data)\n",
        "xmin, xmax = plt.xlim()\n",
        "x = np.linspace(xmin, xmax, 100)\n",
        "p = norm.pdf(x, mu, std)\n",
        "plt.plot(x, p, 'k', linewidth=2, label=f\"Gaussian Fit (μ={mu:.2f}, σ={std:.2f})\")\n",
        "plt.title(\"Frequency & Gaussian Distribution\")\n",
        "plt.xlabel(\"Value\")\n",
        "plt.ylabel(\"Density\")\n",
        "plt.legend()\n",
        "plt.show()\n",
        "\n",
        "# 2. Frequency smoothed KDE plot\n",
        "plt.figure(figsize=(10, 6))\n",
        "sns.histplot(data, kde=True, stat=\"density\", color=\"lightcoral\", label=\"Frequency & KDE\")\n",
        "plt.title(\"Frequency Smoothed KDE Plot\")\n",
        "plt.xlabel(\"Value\")\n",
        "plt.ylabel(\"Density\")\n",
        "plt.legend()\n",
        "plt.show()\n",
        "\n",
        "# 3. Gaussian distribution & smoothed KDE plot\n",
        "plt.figure(figsize=(10, 6))\n",
        "sns.kdeplot(data, color=\"orange\", label=\"Smoothed KDE\")\n",
        "xmin, xmax = plt.xlim()\n",
        "x = np.linspace(xmin, xmax, 100)\n",
        "p = norm.pdf(x, mu, std)\n",
        "plt.plot(x, p, 'k', linewidth=2, label=f\"Gaussian Fit (μ={mu:.2f}, σ={std:.2f})\")\n",
        "plt.title(\"Gaussian Distribution & Smoothed KDE Plot\")\n",
        "plt.xlabel(\"Value\")\n",
        "plt.ylabel(\"Density\")\n",
        "plt.legend()\n",
        "plt.show()\n",
        "\n",
        "print(\"\\n(i) Visualizations generated and displayed. Observation:\")\n",
        "print(\"    - The frequency histogram shows the distribution of the generated integers.\")\n",
        "print(\"    - The Gaussian distribution fit attempts to model the data with a normal curve.\")\n",
        "print(\"    - The KDE plot provides a smoothed estimate of the probability density function.\")\n",
        "print(\"    - Comparing the plots helps understand how well a normal distribution approximates the data's shape.\")"
      ],
      "metadata": {
        "colab": {
          "base_uri": "https://localhost:8080/",
          "height": 1000
        },
        "id": "CMN-PMOnRl85",
        "outputId": "eeb717df-0aeb-4399-d81d-0a6770e51c94"
      },
      "execution_count": 10,
      "outputs": [
        {
          "output_type": "display_data",
          "data": {
            "text/plain": [
              "<Figure size 1000x600 with 1 Axes>"
            ],
            "image/png": "[encoded data removed]"
          },
          "metadata": {}
        },
        {
          "output_type": "display_data",
          "data": {
            "text/plain": [
              "<Figure size 1000x600 with 1 Axes>"
            ],
            "image/png": "[encoded data removed]"
          },
          "metadata": {}
        },
        {
          "output_type": "display_data",
          "data": {
            "text/plain": [
              "<Figure size 1000x600 with 1 Axes>"
            ],
            "image/png": "[encoded data removed]"
          },
          "metadata": {}
        },
        {
          "output_type": "stream",
          "name": "stdout",
          "text": [
            "\n",
            "(i) Visualizations generated and displayed. Observation:\n",
            "    - The frequency histogram shows the distribution of the generated integers.\n",
            "    - The Gaussian distribution fit attempts to model the data with a normal curve.\n",
            "    - The KDE plot provides a smoothed estimate of the probability density function.\n",
            "    - Comparing the plots helps understand how well a normal distribution approximates the data's shape.\n"
          ]
        }
      ]
    },
    {
      "cell_type": "markdown",
      "source": [
        "\n",
        "(ii) Write a Python function to calculate the range of a given list of numbers.\n",
        "\n",
        "\n",
        ""
      ],
      "metadata": {
        "id": "X3-cgoxYPcwv"
      }
    },
    {
      "cell_type": "code",
      "source": [
        "def calculate_range(data):\n",
        "    if not data:\n",
        "        return 0\n",
        "    return max(data) - min(data)\n",
        "\n",
        "range_value = calculate_range(int_list2)\n",
        "print(f\"\\n(ii) Range of the list: {range_value}\")"
      ],
      "metadata": {
        "colab": {
          "base_uri": "https://localhost:8080/"
        },
        "id": "dcQqvYPNRm5U",
        "outputId": "7f7fb232-1644-494f-af66-4be035d4d4e0"
      },
      "execution_count": 13,
      "outputs": [
        {
          "output_type": "stream",
          "name": "stdout",
          "text": [
            "\n",
            "(ii) Range of the list: 100\n"
          ]
        }
      ]
    },
    {
      "cell_type": "markdown",
      "source": [
        " (iii) Create a program to find the variance and standard deviation of a list of numbers.\n",
        "\n",
        "\n",
        ""
      ],
      "metadata": {
        "id": "FMqrHvZPPctu"
      }
    },
    {
      "cell_type": "code",
      "source": [
        "import numpy as np\n",
        "\n",
        "def calculate_variance(data):\n",
        "    if len(data) < 2:\n",
        "        return 0\n",
        "    mean = np.mean(data)\n",
        "    squared_diffs = [(x - mean) ** 2 for x in data]\n",
        "    return sum(squared_diffs) / (len(data) - 1) # Sample variance\n",
        "\n",
        "def calculate_std_dev(data):\n",
        "    variance = calculate_variance(data)\n",
        "    return np.sqrt(variance)\n",
        "\n",
        "variance_value = calculate_variance(int_list2)\n",
        "std_dev_value = calculate_std_dev(int_list2)\n",
        "print(f\"\\n(iii) Variance of the list: {variance_value:.2f}\")\n",
        "print(f\"     Standard deviation of the list: {std_dev_value:.2f}\")"
      ],
      "metadata": {
        "colab": {
          "base_uri": "https://localhost:8080/"
        },
        "id": "OlMFU4OlRoxG",
        "outputId": "80cd4ae5-7222-4b52-81a2-e8927928f114"
      },
      "execution_count": 14,
      "outputs": [
        {
          "output_type": "stream",
          "name": "stdout",
          "text": [
            "\n",
            "(iii) Variance of the list: 841.63\n",
            "     Standard deviation of the list: 29.01\n"
          ]
        }
      ]
    },
    {
      "cell_type": "markdown",
      "source": [
        " (iv) Implement a function to compute the interquartile range (IQR) of a list of values.\n",
        "\n"
      ],
      "metadata": {
        "id": "-0sA-r0jPcnt"
      }
    },
    {
      "cell_type": "code",
      "source": [
        "import numpy as np\n",
        "\n",
        "def calculate_iqr(data):\n",
        "    if len(data) < 2:\n",
        "        return 0\n",
        "    q75, q25 = np.percentile(data, [75, 25])\n",
        "    return q75 - q25\n",
        "\n",
        "iqr_value = calculate_iqr(int_list2)\n",
        "print(f\"\\n(iv) Interquartile Range (IQR) of the list: {iqr_value:.2f}\")"
      ],
      "metadata": {
        "colab": {
          "base_uri": "https://localhost:8080/"
        },
        "id": "Iwpw8TbYRpLK",
        "outputId": "8bded5d5-e648-478d-ee32-36d297cdde27"
      },
      "execution_count": 15,
      "outputs": [
        {
          "output_type": "stream",
          "name": "stdout",
          "text": [
            "\n",
            "(iv) Interquartile Range (IQR) of the list: 51.25\n"
          ]
        }
      ]
    },
    {
      "cell_type": "markdown",
      "source": [
        "\n",
        "  (v) Build a program to calculate the coefficient of variation for a dataset.\n",
        "\n",
        "  \n",
        "\n"
      ],
      "metadata": {
        "id": "AwTNWjk-PcQ9"
      }
    },
    {
      "cell_type": "code",
      "source": [
        "import numpy as np\n",
        "\n",
        "def calculate_coefficient_of_variation(data):\n",
        "    if np.mean(data) == 0:\n",
        "        return 0\n",
        "    return (np.std(data, ddof=1) / np.mean(data)) * 100\n",
        "\n",
        "cv_value = calculate_coefficient_of_variation(int_list2)\n",
        "print(f\"\\n(v) Coefficient of Variation of the dataset: {cv_value:.2f}%\")"
      ],
      "metadata": {
        "colab": {
          "base_uri": "https://localhost:8080/"
        },
        "id": "gtd2KvU0Rp3K",
        "outputId": "440c7a2e-fb5b-4201-f78e-860fba1ced1f"
      },
      "execution_count": 16,
      "outputs": [
        {
          "output_type": "stream",
          "name": "stdout",
          "text": [
            "\n",
            "(v) Coefficient of Variation of the dataset: 11.57%\n"
          ]
        }
      ]
    },
    {
      "cell_type": "markdown",
      "source": [
        "  (vi) Write a Python function to find the mean absolute deviation (MAD) of a list of numbers.\n",
        "\n",
        "\n"
      ],
      "metadata": {
        "id": "OARhS6f-PcNm"
      }
    },
    {
      "cell_type": "code",
      "source": [
        "import numpy as np\n",
        "\n",
        "def calculate_mean_absolute_deviation(data):\n",
        "    if not data:\n",
        "        return 0\n",
        "    mean = np.mean(data)\n",
        "    absolute_diffs = [abs(x - mean) for x in data]\n",
        "    return np.mean(absolute_diffs)\n",
        "\n",
        "mad_value = calculate_mean_absolute_deviation(int_list2)\n",
        "print(f\"\\n(vi) Mean Absolute Deviation (MAD) of the list: {mad_value:.2f}\")"
      ],
      "metadata": {
        "colab": {
          "base_uri": "https://localhost:8080/"
        },
        "id": "9OKax0L3RqRd",
        "outputId": "f515c84d-7476-4c29-d444-e665c1e2e118"
      },
      "execution_count": 17,
      "outputs": [
        {
          "output_type": "stream",
          "name": "stdout",
          "text": [
            "\n",
            "(vi) Mean Absolute Deviation (MAD) of the list: 25.26\n"
          ]
        }
      ]
    },
    {
      "cell_type": "markdown",
      "source": [
        "  (vii) Create a program to calculate the quartile deviation of a list of values.\n",
        "\n",
        "  \n"
      ],
      "metadata": {
        "id": "XjpFwK-xPb6y"
      }
    },
    {
      "cell_type": "code",
      "source": [
        "import numpy as np\n",
        "\n",
        "def calculate_quartile_deviation(data):\n",
        "    if len(data) < 2:\n",
        "        return 0\n",
        "    q75, q25 = np.percentile(data, [75, 25])\n",
        "    return (q75 - q25) / 2\n",
        "\n",
        "quartile_dev_value = calculate_quartile_deviation(int_list2)\n",
        "print(f\"\\n(vii) Quartile Deviation of the list: {quartile_dev_value:.2f}\")"
      ],
      "metadata": {
        "colab": {
          "base_uri": "https://localhost:8080/"
        },
        "id": "6fGkV2BkRqpb",
        "outputId": "e4edd149-626f-468f-c744-f51e527d41ac"
      },
      "execution_count": 18,
      "outputs": [
        {
          "output_type": "stream",
          "name": "stdout",
          "text": [
            "\n",
            "(vii) Quartile Deviation of the list: 25.62\n"
          ]
        }
      ]
    },
    {
      "cell_type": "markdown",
      "source": [
        "\n",
        "  (viii) Implement a function to find the range-based coefficient of dispersion for a dataset."
      ],
      "metadata": {
        "id": "goyUezvpRiv8"
      }
    },
    {
      "cell_type": "code",
      "execution_count": 19,
      "metadata": {
        "colab": {
          "base_uri": "https://localhost:8080/"
        },
        "id": "kIORsJcxPKnX",
        "outputId": "77346306-5bcf-4b38-af43-dce3b3c72094"
      },
      "outputs": [
        {
          "output_type": "stream",
          "name": "stdout",
          "text": [
            "\n",
            "(viii) Range-based Coefficient of Dispersion: 0.2000\n"
          ]
        }
      ],
      "source": [
        "def calculate_range_based_coefficient_of_dispersion(data):\n",
        "    if not data:\n",
        "        return 0\n",
        "    range_val = max(data) - min(data)\n",
        "    if max(data) + min(data) == 0:\n",
        "        return 0\n",
        "    return range_val / (max(data) + min(data))\n",
        "\n",
        "range_coeff_dispersion_value = calculate_range_based_coefficient_of_dispersion(int_list2)\n",
        "print(f\"\\n(viii) Range-based Coefficient of Dispersion: {range_coeff_dispersion_value:.4f}\")"
      ]
    },
    {
      "cell_type": "markdown",
      "source": [
        "3. Write a Python class representing a discrete random variable with methods to calculate its expected\n",
        "value and variance.\n"
      ],
      "metadata": {
        "id": "KPUznyseS_d3"
      }
    },
    {
      "cell_type": "code",
      "source": [
        "\n",
        "class DiscreteRandomVariable:\n",
        "    def __init__(self, values, probabilities):\n",
        "        if not isinstance(values, list) or not isinstance(probabilities, list):\n",
        "            raise TypeError(\"Values and probabilities must be lists.\")\n",
        "        if len(values) != len(probabilities):\n",
        "            raise ValueError(\"Values and probabilities lists must have the same length.\")\n",
        "        if not all(isinstance(p, (int, float)) and 0 <= p <= 1 for p in probabilities):\n",
        "            raise ValueError(\"Probabilities must be numbers between 0 and 1.\")\n",
        "        if not math.isclose(sum(probabilities), 1.0):\n",
        "          raise ValueError(\"Sum of probabilities must equal 1.\")\n",
        "\n",
        "        self.values = values\n",
        "        self.probabilities = probabilities\n",
        "\n",
        "    def expected_value(self):\n",
        "        return sum(value * prob for value, prob in zip(self.values, self.probabilities))\n",
        "\n",
        "    def variance(self):\n",
        "        e_x = self.expected_value()\n",
        "        return sum(((value - e_x)**2) * prob for value, prob in zip(self.values, self.probabilities))\n",
        "\n"
      ],
      "metadata": {
        "id": "jzlWHQN3VUqK"
      },
      "execution_count": 43,
      "outputs": []
    },
    {
      "cell_type": "markdown",
      "source": [
        "4. Implement a program to simulate the rolling of a fair six-sided die and calculate the expected value and\n",
        "variance of the outcomes."
      ],
      "metadata": {
        "id": "k3IquRajS_UO"
      }
    },
    {
      "cell_type": "code",
      "source": [
        "import random\n",
        "\n",
        "def simulate_die_roll(num_rolls):\n",
        "    \"\"\"Simulates rolling a fair six-sided die a given number of times.\"\"\"\n",
        "    outcomes = [random.randint(1, 6) for _ in range(num_rolls)]\n",
        "    return outcomes\n",
        "\n",
        "def calculate_expected_value_simulation(outcomes):\n",
        "    \"\"\"Calculates the expected value from a list of outcomes.\"\"\"\n",
        "    if not outcomes:\n",
        "        return 0\n",
        "    return sum(outcomes) / len(outcomes)\n",
        "\n",
        "def calculate_variance_simulation(outcomes):\n",
        "    \"\"\"Calculates the variance from a list of outcomes.\"\"\"\n",
        "    if len(outcomes) < 2:\n",
        "        return 0\n",
        "    mean = calculate_expected_value_simulation(outcomes)\n",
        "    squared_diffs = [(x - mean) ** 2 for x in outcomes]\n",
        "    return sum(squared_diffs) / (len(outcomes) - 1) # Sample variance\n",
        "\n",
        "num_simulations = 10000\n",
        "rolls = simulate_die_roll(num_simulations)\n",
        "expected_value_simulated = calculate_expected_value_simulation(rolls)\n",
        "variance_simulated = calculate_variance_simulation(rolls)\n",
        "\n",
        "print(\"\\nProblem 4:\")\n",
        "print(f\"Number of simulations: {num_simulations}\")\n",
        "print(f\"Simulated Expected Value: {expected_value_simulated:.2f}\")\n",
        "print(f\"Simulated Variance: {variance_simulated:.2f}\")"
      ],
      "metadata": {
        "colab": {
          "base_uri": "https://localhost:8080/"
        },
        "id": "cwraTCMDVUOt",
        "outputId": "e3a75cec-05a9-4948-c0e1-f2cf29c08b9a"
      },
      "execution_count": 22,
      "outputs": [
        {
          "output_type": "stream",
          "name": "stdout",
          "text": [
            "\n",
            "Problem 4:\n",
            "Number of simulations: 10000\n",
            "Simulated Expected Value: 3.48\n",
            "Simulated Variance: 2.91\n"
          ]
        }
      ]
    },
    {
      "cell_type": "markdown",
      "source": [
        "5. Create a Python function to generate random samples from a given probability distribution (e.g.,\n",
        "binomial, Poisson) and calculate their mean and variance."
      ],
      "metadata": {
        "id": "_oX8HDgYS_Id"
      }
    },
    {
      "cell_type": "code",
      "source": [
        "\n",
        "\n",
        "import random\n",
        "from collections import Counter\n",
        "import numpy as np\n",
        "from scipy.stats import trim_mean\n",
        "import matplotlib.pyplot as plt\n",
        "import seaborn as sns\n",
        "from scipy.stats import norm\n",
        "import math\n",
        "\n",
        "# ... (rest of the code from the previous response) ...\n",
        "\n",
        "# 5. Create a Python function to generate random samples from a given probability distribution (e.g.,\n",
        "# binomial, Poisson) and calculate their mean and variance.\n",
        "\n",
        "def generate_samples_and_calculate_stats(distribution, params, num_samples):\n",
        "    \"\"\"\n",
        "    Generates random samples from a given probability distribution and calculates\n",
        "    their mean and variance.\n",
        "\n",
        "    Args:\n",
        "      distribution: A string indicating the distribution ('binomial' or 'poisson').\n",
        "      params: A dictionary of parameters for the distribution.\n",
        "      num_samples: The number of random samples to generate.\n",
        "\n",
        "    Returns:\n",
        "      A dictionary containing the generated samples, mean, and variance.\n",
        "      Returns an empty dictionary if the distribution is invalid.\n",
        "    \"\"\"\n",
        "\n",
        "    if distribution == 'binomial':\n",
        "      if not all(key in params for key in ['n', 'p']):\n",
        "        return {}\n",
        "      samples = np.random.binomial(n=params['n'], p=params['p'], size=num_samples)\n",
        "    elif distribution == 'poisson':\n",
        "      if 'lam' not in params:\n",
        "        return {}\n",
        "      samples = np.random.poisson(lam=params['lam'], size=num_samples)\n",
        "    else:\n",
        "        return {}\n",
        "\n",
        "    mean = np.mean(samples)\n",
        "    variance = np.var(samples, ddof=1)  # Sample variance\n",
        "\n",
        "    return {\"samples\": samples, \"mean\": mean, \"variance\": variance}\n",
        "\n",
        "# Example usage (Binomial)\n",
        "binomial_params = {'n': 10, 'p': 0.6}  # n trials, probability of success p\n",
        "binomial_samples = generate_samples_and_calculate_stats(\"binomial\", binomial_params, 1000)\n",
        "print(\"\\nProblem 5 (Binomial):\")\n",
        "if binomial_samples:\n",
        "  print(\"Generated Binomial samples:\", binomial_samples[\"samples\"][:10], \"...\")\n",
        "  print(\"Mean of the samples:\", binomial_samples[\"mean\"])\n",
        "  print(\"Variance of the samples:\", binomial_samples[\"variance\"])\n",
        "\n",
        "# Example usage (Poisson)\n",
        "poisson_params = {'lam': 5}  # average rate (lambda) of events\n",
        "poisson_samples = generate_samples_and_calculate_stats(\"poisson\", poisson_params, 1000)\n",
        "\n",
        "print(\"\\nProblem 5 (Poisson):\")\n",
        "if poisson_samples:\n",
        "  print(\"Generated Poisson samples:\", poisson_samples[\"samples\"][:10], \"...\")\n",
        "  print(\"Mean of the samples:\", poisson_samples[\"mean\"])\n",
        "  print(\"Variance of the samples:\", poisson_samples[\"variance\"])\n"
      ],
      "metadata": {
        "colab": {
          "base_uri": "https://localhost:8080/"
        },
        "id": "VEN11-rMVTux",
        "outputId": "ea3346b6-866e-4a13-dd89-06988df3a732"
      },
      "execution_count": 44,
      "outputs": [
        {
          "output_type": "stream",
          "name": "stdout",
          "text": [
            "\n",
            "Problem 5 (Binomial):\n",
            "Generated Binomial samples: [7 7 6 6 2 8 7 8 5 7] ...\n",
            "Mean of the samples: 6.023\n",
            "Variance of the samples: 2.5069779779779786\n",
            "\n",
            "Problem 5 (Poisson):\n",
            "Generated Poisson samples: [3 5 4 1 1 3 4 6 7 4] ...\n",
            "Mean of the samples: 4.944\n",
            "Variance of the samples: 4.769633633633634\n"
          ]
        }
      ]
    },
    {
      "cell_type": "markdown",
      "source": [
        "6. Write a Python script to generate random numbers from a Gaussian (normal) distribution and compute\n",
        "the mean, variance, and standard deviation of the samples."
      ],
      "metadata": {
        "id": "GbCg1XyQS-5a"
      }
    },
    {
      "cell_type": "code",
      "source": [
        "\n",
        "import random\n",
        "from collections import Counter\n",
        "import numpy as np\n",
        "from scipy.stats import trim_mean\n",
        "import matplotlib.pyplot as plt\n",
        "import seaborn as sns\n",
        "from scipy.stats import norm\n",
        "import math\n",
        "\n",
        "# ... (rest of the code from the previous response) ...\n",
        "\n",
        "# 6. Write a Python script to generate random numbers from a Gaussian (normal) distribution and compute\n",
        "# the mean, variance, and standard deviation of the samples.\n",
        "\n",
        "def generate_gaussian_samples(mu, sigma, num_samples):\n",
        "    \"\"\"Generates random samples from a Gaussian distribution.\"\"\"\n",
        "    samples = np.random.normal(loc=mu, scale=sigma, size=num_samples)\n",
        "    return samples\n",
        "\n",
        "def calculate_stats(data):\n",
        "    \"\"\"Calculates the mean, variance, and standard deviation of a dataset.\"\"\"\n",
        "    mean = np.mean(data)\n",
        "    variance = np.var(data, ddof=1)  # Sample variance\n",
        "    std_dev = np.std(data, ddof=1)\n",
        "    return mean, variance, std_dev\n",
        "\n",
        "# Example usage:\n",
        "mu = 0  # Mean of the Gaussian distribution\n",
        "sigma = 1  # Standard deviation of the Gaussian distribution\n",
        "num_samples = 1000\n",
        "\n",
        "gaussian_samples = generate_gaussian_samples(mu, sigma, num_samples)\n",
        "mean, variance, std_dev = calculate_stats(gaussian_samples)\n",
        "\n",
        "print(\"\\nProblem 6:\")\n",
        "print(f\"Generated {num_samples} random numbers from a Gaussian distribution\")\n",
        "print(f\"Mean: {mean:.4f}\")\n",
        "print(f\"Variance: {variance:.4f}\")\n",
        "print(f\"Standard Deviation: {std_dev:.4f}\")\n"
      ],
      "metadata": {
        "colab": {
          "base_uri": "https://localhost:8080/"
        },
        "id": "2_FqZoepVTIw",
        "outputId": "43111b1e-7a68-4f74-835a-723e4e327842"
      },
      "execution_count": 45,
      "outputs": [
        {
          "output_type": "stream",
          "name": "stdout",
          "text": [
            "\n",
            "Problem 6:\n",
            "Generated 1000 random numbers from a Gaussian distribution\n",
            "Mean: -0.0057\n",
            "Variance: 1.0046\n",
            "Standard Deviation: 1.0023\n"
          ]
        }
      ]
    },
    {
      "cell_type": "markdown",
      "source": [
        "7. Use seaborn library to load tips dataset. Find the following from the dataset for the columns total_bill\n",
        "and tip`:\n",
        "\n",
        "  "
      ],
      "metadata": {
        "id": "Od6EvBNATXVW"
      }
    },
    {
      "cell_type": "markdown",
      "source": [
        "\n",
        "\n",
        "  (i) Write a Python function that calculates their skewness.\n",
        "\n",
        "\n",
        "  "
      ],
      "metadata": {
        "id": "1Zneg_yHTXRK"
      }
    },
    {
      "cell_type": "code",
      "source": [
        "import seaborn as sns\n",
        "import pandas as pd\n",
        "from scipy.stats import skew\n",
        "\n",
        "# Load the 'tips' dataset\n",
        "try:\n",
        "    tips = sns.load_dataset('tips')\n",
        "except Exception as e:\n",
        "    print(f\"Error loading the 'tips' dataset: {e}\")\n",
        "    tips = pd.DataFrame() # Create an empty DataFrame to avoid further errors\n",
        "\n",
        "if not tips.empty:\n",
        "    def calculate_skewness(series):\n",
        "        \"\"\"Calculates the skewness of a Pandas Series.\"\"\"\n",
        "        return series.skew()\n",
        "\n",
        "    total_bill_skewness = calculate_skewness(tips['total_bill'])\n",
        "    tip_skewness = calculate_skewness(tips['tip'])\n",
        "\n",
        "    print(\"Problem 7 - (i):\")\n",
        "    print(f\"Skewness of 'total_bill': {total_bill_skewness:.2f}\")\n",
        "    print(f\"Skewness of 'tip': {tip_skewness:.2f}\")\n",
        "else:\n",
        "    print(\"Could not proceed with part (i) as the 'tips' dataset was not loaded.\")"
      ],
      "metadata": {
        "colab": {
          "base_uri": "https://localhost:8080/"
        },
        "id": "htN0StyDVRgU",
        "outputId": "ab686ecf-9197-4d18-a241-5c30441554ca"
      },
      "execution_count": 24,
      "outputs": [
        {
          "output_type": "stream",
          "name": "stdout",
          "text": [
            "Problem 7 - (i):\n",
            "Skewness of 'total_bill': 1.13\n",
            "Skewness of 'tip': 1.47\n"
          ]
        }
      ]
    },
    {
      "cell_type": "markdown",
      "source": [
        "(ii) Create a program that determines whether the columns exhibit positive skewness, negative skewness, or is\n",
        "approximately symmetric.\n",
        "\n",
        "\n",
        ""
      ],
      "metadata": {
        "id": "-j1QNtAOTXM7"
      }
    },
    {
      "cell_type": "code",
      "source": [
        "# Load the 'tips' dataset\n",
        "try:\n",
        "    tips = sns.load_dataset('tips')\n",
        "except Exception as e:\n",
        "    print(f\"Error loading the 'tips' dataset: {e}\")\n",
        "    tips = pd.DataFrame() # Create an empty DataFrame to avoid further errors\n",
        "\n",
        "if not tips.empty:\n",
        "    def calculate_skewness(series):\n",
        "        \"\"\"Calculates the skewness of a Pandas Series.\"\"\"\n",
        "        return series.skew()\n",
        "\n",
        "    total_bill_skewness = calculate_skewness(tips['total_bill'])\n",
        "    tip_skewness = calculate_skewness(tips['tip'])\n",
        "\n",
        "    print(\"\\nProblem 7 - (ii):\")\n",
        "    print(\"Skewness Interpretation - 'total_bill':\")\n",
        "    if total_bill_skewness > 0.5:\n",
        "        print(\"'total_bill' exhibits positive skewness (right-skewed).\")\n",
        "    elif total_bill_skewness < -0.5:\n",
        "        print(\"'total_bill' exhibits negative skewness (left-skewed).\")\n",
        "    else:\n",
        "        print(\"'total_bill' is approximately symmetric.\")\n",
        "\n",
        "    print(\"\\nSkewness Interpretation - 'tip':\")\n",
        "    if tip_skewness > 0.5:\n",
        "        print(\"'tip' exhibits positive skewness (right-skewed).\")\n",
        "    elif tip_skewness < -0.5:\n",
        "        print(\"'tip' exhibits negative skewness (left-skewed).\")\n",
        "    else:\n",
        "        print(\"'tip' is approximately symmetric.\")\n",
        "else:\n",
        "    print(\"Could not proceed with part (ii) as the 'tips' dataset was not loaded.\")"
      ],
      "metadata": {
        "colab": {
          "base_uri": "https://localhost:8080/"
        },
        "id": "g1CCvS_sVRBE",
        "outputId": "44933cc3-e939-4f8a-c283-87e7ffc8e17c"
      },
      "execution_count": 25,
      "outputs": [
        {
          "output_type": "stream",
          "name": "stdout",
          "text": [
            "\n",
            "Problem 7 - (ii):\n",
            "Skewness Interpretation - 'total_bill':\n",
            "'total_bill' exhibits positive skewness (right-skewed).\n",
            "\n",
            "Skewness Interpretation - 'tip':\n",
            "'tip' exhibits positive skewness (right-skewed).\n"
          ]
        }
      ]
    },
    {
      "cell_type": "markdown",
      "source": [
        " (iii) Write a function that calculates the covariance between two columns.\n",
        "\n",
        "\n"
      ],
      "metadata": {
        "id": "wMuzUcfGTXJT"
      }
    },
    {
      "cell_type": "code",
      "source": [
        "# Load the 'tips' dataset\n",
        "try:\n",
        "    tips = sns.load_dataset('tips')\n",
        "except Exception as e:\n",
        "    print(f\"Error loading the 'tips' dataset: {e}\")\n",
        "    tips = pd.DataFrame() # Create an empty DataFrame to avoid further errors\n",
        "\n",
        "if not tips.empty:\n",
        "    def calculate_covariance(series1, series2):\n",
        "        \"\"\"Calculates the covariance between two Pandas Series.\"\"\"\n",
        "        if len(series1) != len(series2):\n",
        "            raise ValueError(\"Series must have the same length.\")\n",
        "        return series1.cov(series2)\n",
        "\n",
        "    covariance_total_bill_tip = calculate_covariance(tips['total_bill'], tips['tip'])\n",
        "    print(f\"\\nProblem 7 - (iii):\")\n",
        "    print(f\"Covariance between 'total_bill' and 'tip': {covariance_total_bill_tip:.2f}\")\n",
        "else:\n",
        "    print(\"Could not proceed with part (iii) as the 'tips' dataset was not loaded.\")"
      ],
      "metadata": {
        "colab": {
          "base_uri": "https://localhost:8080/"
        },
        "id": "K-dybgS7VQes",
        "outputId": "f934049c-e84b-41e3-a71b-7e3e37c6dfdc"
      },
      "execution_count": 26,
      "outputs": [
        {
          "output_type": "stream",
          "name": "stdout",
          "text": [
            "\n",
            "Problem 7 - (iii):\n",
            "Covariance between 'total_bill' and 'tip': 8.32\n"
          ]
        }
      ]
    },
    {
      "cell_type": "markdown",
      "source": [
        "  (iv) Implement a Python program that calculates the Pearson correlation coefficient between two columns.\n",
        "\n",
        "\n"
      ],
      "metadata": {
        "id": "Qt_YZkarTXGA"
      }
    },
    {
      "cell_type": "code",
      "source": [
        "import seaborn as sns\n",
        "import pandas as pd\n",
        "\n",
        "# Load the 'tips' dataset\n",
        "try:\n",
        "    tips = sns.load_dataset('tips')\n",
        "except Exception as e:\n",
        "    print(f\"Error loading the 'tips' dataset: {e}\")\n",
        "    tips = pd.DataFrame() # Create an empty DataFrame to avoid further errors\n",
        "\n",
        "if not tips.empty:\n",
        "    correlation_total_bill_tip = tips['total_bill'].corr(tips['tip'], method='pearson')\n",
        "    print(f\"\\nProblem 7 - (iv):\")\n",
        "    print(f\"Pearson Correlation Coefficient between 'total_bill' and 'tip': {correlation_total_bill_tip:.2f}\")\n",
        "else:\n",
        "    print(\"Could not proceed with part (iv) as the 'tips' dataset was not loaded.\")"
      ],
      "metadata": {
        "colab": {
          "base_uri": "https://localhost:8080/"
        },
        "id": "VypcDKrVVP6w",
        "outputId": "7a0848b9-9ad9-42f4-fa90-973d4feadbe6"
      },
      "execution_count": 27,
      "outputs": [
        {
          "output_type": "stream",
          "name": "stdout",
          "text": [
            "\n",
            "Problem 7 - (iv):\n",
            "Pearson Correlation Coefficient between 'total_bill' and 'tip': 0.68\n"
          ]
        }
      ]
    },
    {
      "cell_type": "markdown",
      "source": [
        "  (v) Write a script to visualize the correlation between two specific columns in a Pandas DataFrame using\n",
        "scatter plots."
      ],
      "metadata": {
        "id": "ltCzZFvtTW_2"
      }
    },
    {
      "cell_type": "code",
      "source": [
        "import seaborn as sns\n",
        "import pandas as pd\n",
        "import matplotlib.pyplot as plt\n",
        "\n",
        "# Load the 'tips' dataset\n",
        "try:\n",
        "    tips = sns.load_dataset('tips')\n",
        "except Exception as e:\n",
        "    print(f\"Error loading the 'tips' dataset: {e}\")\n",
        "    tips = pd.DataFrame() # Create an empty DataFrame to avoid further errors\n",
        "\n",
        "if not tips.empty:\n",
        "    plt.figure(figsize=(8, 6))\n",
        "    sns.scatterplot(x='total_bill', y='tip', data=tips)\n",
        "    plt.title('Scatter Plot of Total Bill vs. Tip')\n",
        "    plt.xlabel('Total Bill ($)')\n",
        "    plt.ylabel('Tip ($)')\n",
        "    plt.show()\n",
        "else:\n",
        "    print(\"Could not proceed with part (v) as the 'tips' dataset was not loaded.\")"
      ],
      "metadata": {
        "colab": {
          "base_uri": "https://localhost:8080/",
          "height": 564
        },
        "id": "-hW61Qi2VPjE",
        "outputId": "3f57c178-89fe-423c-8a82-8e0537126a32"
      },
      "execution_count": 28,
      "outputs": [
        {
          "output_type": "display_data",
          "data": {
            "text/plain": [
              "<Figure size 800x600 with 1 Axes>"
            ],
            "image/png": "[encoded data removed]"
          },
          "metadata": {}
        }
      ]
    },
    {
      "cell_type": "markdown",
      "source": [
        "8. Write a Python function to calculate the probability density function (PDF) of a continuous random\n",
        "variable for a given normal distribution.\n",
        "\n"
      ],
      "metadata": {
        "id": "ebJ0KALmTW8k"
      }
    },
    {
      "cell_type": "code",
      "source": [
        "import numpy as np\n",
        "\n",
        "def normal_pdf(x, mean, std_dev):\n",
        "    \"\"\"\n",
        "    Calculates the probability density function (PDF) of a normal (Gaussian)\n",
        "    distribution at a given value x.\n",
        "\n",
        "    Args:\n",
        "        x (float): The value at which to evaluate the PDF.\n",
        "        mean (float): The mean (average) of the normal distribution.\n",
        "        std_dev (float): The standard deviation of the normal distribution.\n",
        "\n",
        "    Returns:\n",
        "        float: The probability density at the given value x.\n",
        "    \"\"\"\n",
        "    if std_dev <= 0:\n",
        "        raise ValueError(\"Standard deviation must be positive.\")\n",
        "    exponent = -((x - mean) * 2) / (2 * (std_dev * 2))\n",
        "    coefficient = 1 / (std_dev * np.sqrt(2 * np.pi))\n",
        "    pdf_value = coefficient * np.exp(exponent)\n",
        "    return pdf_value\n",
        "\n",
        "# Example usage:\n",
        "mean_value = 0\n",
        "std_dev_value = 1\n",
        "x_value = 0.5\n",
        "pdf_at_x = normal_pdf(x_value, mean_value, std_dev_value)\n",
        "\n",
        "print(\"Problem 8:\")\n",
        "print(f\"PDF of Normal Distribution (mean={mean_value}, std_dev={std_dev_value}) at x={x_value}: {pdf_at_x:.4f}\")"
      ],
      "metadata": {
        "colab": {
          "base_uri": "https://localhost:8080/"
        },
        "id": "Xh7mYGlwVPEU",
        "outputId": "9ae42be1-2a6b-41da-e77d-70308ed0dc4f"
      },
      "execution_count": 29,
      "outputs": [
        {
          "output_type": "stream",
          "name": "stdout",
          "text": [
            "Problem 8:\n",
            "PDF of Normal Distribution (mean=0, std_dev=1) at x=0.5: 0.3107\n"
          ]
        }
      ]
    },
    {
      "cell_type": "markdown",
      "source": [
        "9. Create a program to calculate the cumulative distribution function (CDF) of exponential distribution."
      ],
      "metadata": {
        "id": "C_Yrx56BTW5X"
      }
    },
    {
      "cell_type": "code",
      "source": [
        "import numpy as np\n",
        "\n",
        "def exponential_cdf(x, rate):\n",
        "    \"\"\"\n",
        "    Calculates the cumulative distribution function (CDF) of an exponential\n",
        "    distribution at a given value x.\n",
        "\n",
        "    Args:\n",
        "        x (float): The value at which to evaluate the CDF.\n",
        "        rate (float): The rate parameter (lambda) of the exponential distribution\n",
        "                      (must be positive).\n",
        "\n",
        "    Returns:\n",
        "        float: The cumulative probability up to the given value x.\n",
        "    \"\"\"\n",
        "    if rate <= 0:\n",
        "        raise ValueError(\"Rate parameter must be positive.\")\n",
        "    if x < 0:\n",
        "        return 0\n",
        "    else:\n",
        "        cdf_value = 1 - np.exp(-rate * x)\n",
        "        return cdf_value\n",
        "\n",
        "# Example usage:\n",
        "rate_value = 0.5\n",
        "x_value = 2\n",
        "cdf_at_x = exponential_cdf(x_value, rate_value)\n",
        "\n",
        "print(\"\\nProblem 9:\")\n",
        "print(f\"CDF of Exponential Distribution (rate={rate_value}) at x={x_value}: {cdf_at_x:.4f}\")"
      ],
      "metadata": {
        "colab": {
          "base_uri": "https://localhost:8080/"
        },
        "id": "qBwdQzphVOiu",
        "outputId": "63b06b56-3f8a-4184-8b58-038151975ce8"
      },
      "execution_count": 30,
      "outputs": [
        {
          "output_type": "stream",
          "name": "stdout",
          "text": [
            "\n",
            "Problem 9:\n",
            "CDF of Exponential Distribution (rate=0.5) at x=2: 0.6321\n"
          ]
        }
      ]
    },
    {
      "cell_type": "markdown",
      "source": [
        "10. Write a Python function to calculate the probability mass function (PMF) of Poisson distribution."
      ],
      "metadata": {
        "id": "P7uOSJNWTW2O"
      }
    },
    {
      "cell_type": "code",
      "source": [
        "import numpy as np\n",
        "import math\n",
        "\n",
        "def poisson_pmf(k, lam):\n",
        "    \"\"\"\n",
        "    Calculates the probability mass function (PMF) of a Poisson distribution\n",
        "    at a given value k (number of events).\n",
        "\n",
        "    Args:\n",
        "        k (int): The number of events (must be a non-negative integer).\n",
        "        lam (float): The average rate of events (must be non-negative).\n",
        "\n",
        "    Returns:\n",
        "        float: The probability of observing k events.\n",
        "    \"\"\"\n",
        "    if not isinstance(k, int) or k < 0:\n",
        "        raise ValueError(\"k must be a non-negative integer.\")\n",
        "    if lam < 0:\n",
        "        raise ValueError(\"Lambda (rate) must be non-negative.\")\n",
        "\n",
        "    pmf_value = (lam ** k * np.exp(-lam)) / math.factorial(k)\n",
        "    return pmf_value\n",
        "\n",
        "# Example usage:\n",
        "lambda_value = 3\n",
        "k_value = 2\n",
        "pmf_at_k = poisson_pmf(k_value, lambda_value)\n",
        "\n",
        "print(\"\\nProblem 10:\")\n",
        "print(f\"PMF of Poisson Distribution (lambda={lambda_value}) at k={k_value}: {pmf_at_k:.4f}\")"
      ],
      "metadata": {
        "colab": {
          "base_uri": "https://localhost:8080/"
        },
        "id": "jAae-BmdVOBZ",
        "outputId": "118a987e-4fdd-4ef0-e0e6-cfda2eb2de26"
      },
      "execution_count": 31,
      "outputs": [
        {
          "output_type": "stream",
          "name": "stdout",
          "text": [
            "\n",
            "Problem 10:\n",
            "PMF of Poisson Distribution (lambda=3) at k=2: 0.2240\n"
          ]
        }
      ]
    },
    {
      "cell_type": "markdown",
      "source": [
        "11. A company wants to test if a new website layout leads to a higher conversion rate (percentage of visitors\n",
        "who make a purchase). They collect data from the old and new layouts to compare.\n",
        "\n",
        "\n",
        "To generate the data use the following command:\n",
        "\n",
        "```python\n",
        "\n",
        "import numpy as np\n",
        "\n",
        "# 50 purchases out of 1000 visitors\n",
        "\n",
        "old_layout = np.array([1] * 50 + [0] * 950)\n",
        "\n",
        "# 70 purchases out of 1000 visitors  \n",
        "\n",
        "new_layout = np.array([1] * 70 + [0] * 930)\n",
        "\n",
        "  ```\n",
        "\n",
        "Apply z-test to find which layout is successful."
      ],
      "metadata": {
        "id": "XZEgWm47TWzH"
      }
    },
    {
      "cell_type": "code",
      "source": [
        "\n",
        "\n",
        "import numpy as np\n",
        "from statsmodels.stats.weightstats import ztest\n",
        "\n",
        "# Data for old and new website layouts\n",
        "old_layout = np.array([1] * 50 + [0] * 950)\n",
        "new_layout = np.array([1] * 70 + [0] * 930)\n",
        "\n",
        "# Perform the two-sample z-test\n",
        "z_statistic, p_value = ztest(old_layout, new_layout)\n",
        "\n",
        "print(f\"Z-statistic: {z_statistic:.3f}\")\n",
        "print(f\"P-value: {p_value:.3f}\")\n",
        "\n",
        "# Interpretation\n",
        "alpha = 0.05  # Significance level\n",
        "if p_value < alpha:\n",
        "    print(\"Reject the null hypothesis.\")\n",
        "    print(\"The new website layout leads to a statistically significant higher conversion rate.\")\n",
        "else:\n",
        "    print(\"Fail to reject the null hypothesis.\")\n",
        "    print(\"There is no statistically significant difference in conversion rates between the old and new layouts.\")\n"
      ],
      "metadata": {
        "colab": {
          "base_uri": "https://localhost:8080/"
        },
        "id": "amS869tqVND8",
        "outputId": "f3a043eb-8d26-42f7-ddb3-a5b31d3f3d1e"
      },
      "execution_count": 32,
      "outputs": [
        {
          "output_type": "stream",
          "name": "stdout",
          "text": [
            "Z-statistic: -1.884\n",
            "P-value: 0.060\n",
            "Fail to reject the null hypothesis.\n",
            "There is no statistically significant difference in conversion rates between the old and new layouts.\n"
          ]
        }
      ]
    },
    {
      "cell_type": "markdown",
      "source": [
        "12. A tutoring service claims that its program improves students' exam scores. A sample of students who\n",
        "participated in the program was taken, and their scores before and after the program were recorded.\n",
        "\n",
        "\n",
        "Use the below code to generate samples of respective arrays of marks:\n",
        "\n",
        "```python\n",
        "\n",
        "before_program = np.array([75, 80, 85, 70, 90, 78, 92, 88, 82, 87])\n",
        "\n",
        "after_program = np.array([80, 85, 90, 80, 92, 80, 95, 90, 85, 88])\n",
        "\n",
        "```\n",
        "\n",
        "Use z-test to find if the claims made by tutor are true or false."
      ],
      "metadata": {
        "id": "NMpFlJoyTWv3"
      }
    },
    {
      "cell_type": "code",
      "source": [
        "\n",
        "\n",
        "import random\n",
        "from collections import Counter\n",
        "import numpy as np\n",
        "from scipy.stats import trim_mean\n",
        "import matplotlib.pyplot as plt\n",
        "import seaborn as sns\n",
        "from scipy.stats import norm\n",
        "import pandas as pd\n",
        "from scipy.stats import skew\n",
        "import math\n",
        "from statsmodels.stats.weightstats import ztest\n",
        "\n",
        "\n",
        "before_program = np.array([75, 80, 85, 70, 90, 78, 92, 88, 82, 87])\n",
        "after_program = np.array([80, 85, 90, 80, 92, 80, 95, 90, 85, 88])\n",
        "\n",
        "# Perform the paired z-test\n",
        "z_statistic, p_value = ztest(before_program, after_program)\n",
        "\n",
        "print(f\"\\nZ-statistic: {z_statistic:.3f}\")\n",
        "print(f\"P-value: {p_value:.3f}\")\n",
        "\n",
        "\n",
        "alpha = 0.05 # Significance level\n",
        "if p_value < alpha:\n",
        "  print(\"Reject the null hypothesis.\")\n",
        "  print(\"The tutoring program leads to a statistically significant improvement in exam scores.\")\n",
        "else:\n",
        "  print(\"Fail to reject the null hypothesis.\")\n",
        "  print(\"There is no statistically significant difference in exam scores before and after the program.\")\n"
      ],
      "metadata": {
        "colab": {
          "base_uri": "https://localhost:8080/"
        },
        "id": "BmQB_kbnVMTP",
        "outputId": "d6783a95-51bb-4b05-8afd-3446f10abaf6"
      },
      "execution_count": 33,
      "outputs": [
        {
          "output_type": "stream",
          "name": "stdout",
          "text": [
            "\n",
            "Z-statistic: -1.360\n",
            "P-value: 0.174\n",
            "Fail to reject the null hypothesis.\n",
            "There is no statistically significant difference in exam scores before and after the program.\n"
          ]
        }
      ]
    },
    {
      "cell_type": "markdown",
      "source": [
        "13. A pharmaceutical company wants to determine if a new drug is effective in reducing blood pressure. They\n",
        "conduct a study and record blood pressure measurements before and after administering the drug.\n",
        "\n",
        "\n",
        "Use the below code to generate samples of respective arrays of blood pressure:\n",
        "\n",
        "\n",
        "```python\n",
        "\n",
        "before_drug = np.array([145, 150, 140, 135, 155, 160, 152, 148, 130, 138])\n",
        "\n",
        "after_drug = np.array([130, 140, 132, 128, 145, 148, 138, 136, 125, 130])\n",
        "\n",
        "  ```\n",
        "\n",
        "\n",
        "Implement z-test to find if the drug really works or not."
      ],
      "metadata": {
        "id": "381Yw_IKTWsj"
      }
    },
    {
      "cell_type": "code",
      "source": [
        "\n",
        "\n",
        "import random\n",
        "from collections import Counter\n",
        "import numpy as np\n",
        "from scipy.stats import trim_mean\n",
        "import matplotlib.pyplot as plt\n",
        "import seaborn as sns\n",
        "from scipy.stats import norm\n",
        "import pandas as pd\n",
        "from scipy.stats import skew\n",
        "import math\n",
        "from statsmodels.stats.weightstats import ztest\n",
        "\n",
        "# 13. A pharmaceutical company wants to determine if a new drug is effective in reducing blood pressure.\n",
        "before_drug = np.array([145, 150, 140, 135, 155, 160, 152, 148, 130, 138])\n",
        "after_drug = np.array([130, 140, 132, 128, 145, 148, 138, 136, 125, 130])\n",
        "\n",
        "# Perform the paired z-test\n",
        "z_statistic, p_value = ztest(before_drug, after_drug)\n",
        "\n",
        "print(f\"\\nZ-statistic: {z_statistic:.3f}\")\n",
        "print(f\"P-value: {p_value:.3f}\")\n",
        "\n",
        "alpha = 0.05  # Significance level\n",
        "if p_value < alpha:\n",
        "    print(\"Reject the null hypothesis.\")\n",
        "    print(\"The drug leads to a statistically significant reduction in blood pressure.\")\n",
        "else:\n",
        "    print(\"Fail to reject the null hypothesis.\")\n",
        "    print(\"There is no statistically significant difference in blood pressure before and after the drug.\")\n"
      ],
      "metadata": {
        "id": "xDK2Ko4FVLrq"
      },
      "execution_count": null,
      "outputs": []
    },
    {
      "cell_type": "markdown",
      "source": [
        "14. A customer service department claims that their average response time is less than 5 minutes. A sample\n",
        "of recent customer interactions was taken, and the response times were recorded.\n",
        "\n",
        "\n",
        "Implement the below code to generate the array of response time:\n",
        "\n",
        "```python\n",
        "\n",
        "response_times = np.array([4.3, 3.8, 5.1, 4.9, 4.7, 4.2, 5.2, 4.5, 4.6, 4.4])\n",
        "\n",
        "```\n",
        "\n",
        "Implement z-test to find the claims made by customer service department are tru or false."
      ],
      "metadata": {
        "id": "tAkcI1GHTWph"
      }
    },
    {
      "cell_type": "code",
      "source": [
        "\n",
        "\n",
        "import heapq as hq\n",
        "def heap_queue_largest(nums,n):\n",
        "  largest_nums = hq.nlargest(n, nums)\n",
        "  return largest_nums\n"
      ],
      "metadata": {
        "id": "y_oHTfq9VLBe"
      },
      "execution_count": 35,
      "outputs": []
    },
    {
      "cell_type": "markdown",
      "source": [
        "15. A company is testing two different website layouts to see which one leads to higher click-through rates.\n",
        "Write a Python function to perform an A/B test analysis, including calculating the t-statistic, degrees of\n",
        "freedom, and p-value.\n",
        "\n",
        "\n",
        "Use the following data:\n",
        "\n",
        "```python\n",
        "\n",
        "layout_a_clicks = [28, 32, 33, 29, 31, 34, 30, 35, 36, 37]\n",
        "\n",
        "layout_b_clicks = [40, 41, 38, 42, 39, 44, 43, 41, 45, 47]"
      ],
      "metadata": {
        "id": "mPkjrxKMTWmb"
      }
    },
    {
      "cell_type": "code",
      "source": [
        "\n",
        "\n",
        "from scipy.stats import ttest_ind\n",
        "\n",
        "def ab_test_analysis(layout_a_clicks, layout_b_clicks):\n",
        "    t_statistic, p_value = ttest_ind(layout_a_clicks, layout_b_clicks)\n",
        "    degrees_of_freedom = len(layout_a_clicks) + len(layout_b_clicks) - 2\n",
        "    return t_statistic, degrees_of_freedom, p_value\n",
        "\n",
        "layout_a_clicks = [28, 32, 33, 29, 31, 34, 30, 35, 36, 37]\n",
        "layout_b_clicks = [40, 41, 38, 42, 39, 44, 43, 41, 45, 47]\n",
        "\n",
        "t_statistic, df, p_value = ab_test_analysis(layout_a_clicks, layout_b_clicks)\n",
        "\n",
        "print(f\"T-statistic: {t_statistic:.3f}\")\n",
        "print(f\"Degrees of freedom: {df}\")\n",
        "print(f\"P-value: {p_value:.3f}\")\n",
        "\n",
        "alpha = 0.05\n",
        "if p_value < alpha:\n",
        "    print(\"Reject the null hypothesis\")\n",
        "    print(\"There is a statistically significant difference in click-through rates between the two layouts.\")\n",
        "else:\n",
        "    print(\"Fail to reject the null hypothesis\")\n",
        "    print(\"There is no statistically significant difference in click-through rates between the two layouts.\")\n"
      ],
      "metadata": {
        "colab": {
          "base_uri": "https://localhost:8080/"
        },
        "id": "F6pdSB4xVKUa",
        "outputId": "a5cf58dd-b24a-45cb-bd8d-785686b2920b"
      },
      "execution_count": 36,
      "outputs": [
        {
          "output_type": "stream",
          "name": "stdout",
          "text": [
            "T-statistic: -7.298\n",
            "Degrees of freedom: 18\n",
            "P-value: 0.000\n",
            "Reject the null hypothesis\n",
            "There is a statistically significant difference in click-through rates between the two layouts.\n"
          ]
        }
      ]
    },
    {
      "cell_type": "markdown",
      "source": [
        "16. A pharmaceutical company wants to determine if a new drug is more effective than an existing drug in\n",
        "reducing cholesterol levels. Create a program to analyze the clinical trial data and calculate the tstatistic and p-value for the treatment effect.\n",
        "\n",
        "\n",
        "Use the following data of cholestrol level:\n",
        "\n",
        "```python\n",
        "\n",
        "existing_drug_levels = [180, 182, 175, 185, 178, 176, 172, 184, 179, 183]\n",
        "\n",
        "new_drug_levels = [170, 172, 165, 168, 175, 173, 170, 178, 172, 176]\n",
        "\n",
        "```"
      ],
      "metadata": {
        "id": "pRuyxBbCTWic"
      }
    },
    {
      "cell_type": "code",
      "source": [
        "# prompt: solve above code\n",
        "\n",
        "def ab_test_analysis(layout_a_clicks, layout_b_clicks):\n",
        "    t_statistic, p_value = ttest_ind(layout_a_clicks, layout_b_clicks)\n",
        "    degrees_of_freedom = len(layout_a_clicks) + len(layout_b_clicks) - 2\n",
        "    return t_statistic, degrees_of_freedom, p_value\n",
        "\n",
        "existing_drug_levels = [180, 182, 175, 185, 178, 176, 172, 184, 179, 183]\n",
        "new_drug_levels = [170, 172, 165, 168, 175, 173, 170, 178, 172, 176]\n",
        "\n",
        "t_statistic, df, p_value = ab_test_analysis(existing_drug_levels, new_drug_levels)\n",
        "\n",
        "print(f\"T-statistic: {t_statistic:.3f}\")\n",
        "print(f\"Degrees of freedom: {df}\")\n",
        "print(f\"P-value: {p_value:.3f}\")\n",
        "\n",
        "alpha = 0.05\n",
        "if p_value < alpha:\n",
        "    print(\"Reject the null hypothesis\")\n",
        "    print(\"There is a statistically significant difference in cholestrol levels between the two drugs.\")\n",
        "else:\n",
        "    print(\"Fail to reject the null hypothesis\")\n",
        "    print(\"There is no statistically significant difference in cholestrol levels between the two drugs.\")\n"
      ],
      "metadata": {
        "colab": {
          "base_uri": "https://localhost:8080/"
        },
        "id": "P5llk9SjVJyC",
        "outputId": "d3c9f3f5-18f7-4943-d40d-d2e674a43489"
      },
      "execution_count": 37,
      "outputs": [
        {
          "output_type": "stream",
          "name": "stdout",
          "text": [
            "T-statistic: 4.140\n",
            "Degrees of freedom: 18\n",
            "P-value: 0.001\n",
            "Reject the null hypothesis\n",
            "There is a statistically significant difference in cholestrol levels between the two drugs.\n"
          ]
        }
      ]
    },
    {
      "cell_type": "markdown",
      "source": [
        "17. A school district introduces an educational intervention program to improve math scores. Write a Python\n",
        "function to analyze pre- and post-intervention test scores, calculating the t-statistic and p-value to\n",
        "determine if the intervention had a significant impact.\n",
        "\n",
        "\n",
        "Use the following data of test score:\n",
        "\n",
        "\n",
        "  ```python\n",
        "\n",
        "  pre_intervention_scores = [80, 85, 90, 75, 88, 82, 92, 78, 85, 87]\n",
        "\n",
        "  post_intervention_scores = [90, 92, 88, 92, 95, 91, 96, 93, 89, 93]\n",
        "\n",
        "  ```"
      ],
      "metadata": {
        "id": "6oXWGglPTWfB"
      }
    },
    {
      "cell_type": "code",
      "source": [
        "\n",
        "\n",
        "import numpy as np\n",
        "response_times = np.array([4.3, 3.8, 5.1, 4.9, 4.7, 4.2, 5.2, 4.5, 4.6, 4.4])\n",
        "\n",
        "# Perform the one-sample z-test\n",
        "z_statistic, p_value = ztest(response_times, value=5, alternative='smaller')\n",
        "\n",
        "print(f\"\\nZ-statistic: {z_statistic:.3f}\")\n",
        "print(f\"P-value: {p_value:.3f}\")\n",
        "\n",
        "alpha = 0.05  # Significance level\n",
        "if p_value < alpha:\n",
        "    print(\"Reject the null hypothesis.\")\n",
        "    print(\"The average response time is statistically significantly less than 5 minutes.\")\n",
        "else:\n",
        "    print(\"Fail to reject the null hypothesis.\")\n",
        "    print(\"There is no statistically significant evidence that the average response time is less than 5 minutes.\")\n"
      ],
      "metadata": {
        "colab": {
          "base_uri": "https://localhost:8080/"
        },
        "id": "5ikthWcPVJBm",
        "outputId": "35f471df-30db-45a4-ec2b-a6a88bec329d"
      },
      "execution_count": 38,
      "outputs": [
        {
          "output_type": "stream",
          "name": "stdout",
          "text": [
            "\n",
            "Z-statistic: -3.184\n",
            "P-value: 0.001\n",
            "Reject the null hypothesis.\n",
            "The average response time is statistically significantly less than 5 minutes.\n"
          ]
        }
      ]
    },
    {
      "cell_type": "markdown",
      "source": [
        "18. An HR department wants to investigate if there's a gender-based salary gap within the company. Develop\n",
        "a program to analyze salary data, calculate the t-statistic, and determine if there's a statistically\n",
        "significant difference between the average salaries of male and female employees.\n",
        "\n",
        "\n",
        "Use the below code to generate synthetic data:\n",
        "\n",
        "\n",
        "```python\n",
        "\n",
        "# Generate synthetic salary data for male and female employees\n",
        "\n",
        "np.random.seed(0)  # For reproducibility\n",
        "\n",
        "male_salaries = np.random.normal(loc=50000, scale=10000, size=20)\n",
        "\n",
        "female_salaries = np.random.normal(loc=55000, scale=9000, size=20)\n",
        "\n",
        "  ```"
      ],
      "metadata": {
        "id": "coYZmXACTWa3"
      }
    },
    {
      "cell_type": "code",
      "source": [
        "\n",
        "\n",
        "# Generate synthetic salary data for male and female employees\n",
        "import numpy as np\n",
        "from scipy.stats import ttest_ind\n",
        "\n",
        "np.random.seed(0)  # For reproducibility\n",
        "\n",
        "male_salaries = np.random.normal(loc=50000, scale=10000, size=20)\n",
        "female_salaries = np.random.normal(loc=55000, scale=9000, size=20)\n",
        "\n",
        "# Perform the independent two-sample t-test\n",
        "t_statistic, p_value = ttest_ind(male_salaries, female_salaries)\n",
        "\n",
        "print(f\"T-statistic: {t_statistic:.3f}\")\n",
        "print(f\"P-value: {p_value:.3f}\")\n",
        "\n",
        "alpha = 0.05\n",
        "if p_value < alpha:\n",
        "    print(\"Reject the null hypothesis\")\n",
        "    print(\"There is a statistically significant difference in average salaries between male and female employees.\")\n",
        "else:\n",
        "    print(\"Fail to reject the null hypothesis\")\n",
        "    print(\"There is no statistically significant difference in average salaries between male and female employees.\")\n"
      ],
      "metadata": {
        "colab": {
          "base_uri": "https://localhost:8080/"
        },
        "id": "h2znIobgVH9p",
        "outputId": "7510c8a2-39ad-4825-c177-9186496f3862"
      },
      "execution_count": 39,
      "outputs": [
        {
          "output_type": "stream",
          "name": "stdout",
          "text": [
            "T-statistic: 0.061\n",
            "P-value: 0.952\n",
            "Fail to reject the null hypothesis\n",
            "There is no statistically significant difference in average salaries between male and female employees.\n"
          ]
        }
      ]
    },
    {
      "cell_type": "markdown",
      "source": [
        "19. A manufacturer produces two different versions of a product and wants to compare their quality scores.\n",
        "Create a Python function to analyze quality assessment data, calculate the t-statistic, and decide\n",
        "whether there's a significant difference in quality between the two versions.\n",
        "\n",
        "\n",
        "Use the following data:\n",
        "\n",
        "\n",
        "```python\n",
        "\n",
        "version1_scores = [85, 88, 82, 89, 87, 84, 90, 88, 85, 86, 91, 83, 87, 84, 89, 86, 84, 88, 85, 86, 89, 90, 87, 88, 85]\n",
        "\n",
        "version2_scores = [80, 78, 83, 81, 79, 82, 76, 80, 78, 81, 77, 82, 80, 79, 82, 79, 80, 81, 79, 82, 79, 78, 80, 81, 82]\n",
        "\n",
        "```"
      ],
      "metadata": {
        "id": "CqM_JtbUTWXd"
      }
    },
    {
      "cell_type": "code",
      "source": [
        "\n",
        "\n",
        "def is_not_prime(n):\n",
        "    \"\"\"\n",
        "    Checks if a number is not prime.\n",
        "\n",
        "    Args:\n",
        "        n: An integer.\n",
        "\n",
        "    Returns:\n",
        "        True if n is not a prime number, False otherwise.\n",
        "    \"\"\"\n",
        "    if n <= 1:\n",
        "        return True  # 1 and numbers less than 1 are not prime\n",
        "    for i in range(2, int(n**0.5) + 1):\n",
        "        if n % i == 0:\n",
        "            return True\n",
        "    return False\n"
      ],
      "metadata": {
        "id": "cSPr08lIVHdl"
      },
      "execution_count": null,
      "outputs": []
    },
    {
      "cell_type": "markdown",
      "source": [
        " 20. A restaurant chain collects customer satisfaction scores for two different branches. Write a program to\n",
        "analyze the scores, calculate the t-statistic, and determine if there's a statistically significant difference in\n",
        "customer satisfaction between the branches.\n",
        "\n",
        "\n",
        "Use the below data of scores:\n",
        "\n",
        "  ```python\n",
        "\n",
        "branch_a_scores = [4, 5, 3, 4, 5, 4, 5, 3, 4, 4, 5, 4, 4, 3, 4, 5, 5, 4, 3, 4, 5, 4, 3, 5, 4, 4, 5, 3, 4, 5, 4]\n",
        "\n",
        "branch_b_scores = [3, 4, 2, 3, 4, 3, 4, 2, 3, 3, 4, 3, 3, 2, 3, 4, 4, 3, 2, 3, 4, 3, 2, 4, 3, 3, 4, 2, 3, 4, 3]"
      ],
      "metadata": {
        "id": "U-TgH3dyTWUE"
      }
    },
    {
      "cell_type": "code",
      "source": [
        "\n",
        "\n",
        "version1_scores = [85, 88, 82, 89, 87, 84, 90, 88, 85, 86, 91, 83, 87, 84, 89, 86, 84, 88, 85, 86, 89, 90, 87, 88, 85]\n",
        "version2_scores = [80, 78, 83, 81, 79, 82, 76, 80, 78, 81, 77, 82, 80, 79, 82, 79, 80, 81, 79, 82, 79, 78, 80, 81, 82]\n",
        "\n",
        "t_statistic, p_value = ttest_ind(version1_scores, version2_scores)\n",
        "\n",
        "print(f\"T-statistic: {t_statistic:.3f}\")\n",
        "print(f\"P-value: {p_value:.3f}\")\n",
        "\n",
        "alpha = 0.05\n",
        "if p_value < alpha:\n",
        "    print(\"Reject the null hypothesis\")\n",
        "    print(\"There is a statistically significant difference in quality scores between the two versions.\")\n",
        "else:\n",
        "    print(\"Fail to reject the null hypothesis\")\n",
        "    print(\"There is no statistically significant difference in quality scores between the two versions.\")\n",
        "\n",
        "\n",
        "branch_a_scores = [4, 5, 3, 4, 5, 4, 5, 3, 4, 4, 5, 4, 4, 3, 4, 5, 5, 4, 3, 4, 5, 4, 3, 5, 4, 4, 5, 3, 4, 5, 4]\n",
        "branch_b_scores = [3, 4, 2, 3, 4, 3, 4, 2, 3, 3, 4, 3, 3, 2, 3, 4, 4, 3, 2, 3, 4, 3, 2, 4, 3, 3, 4, 2, 3, 4, 3]\n",
        "\n",
        "t_statistic, p_value = ttest_ind(branch_a_scores, branch_b_scores)\n",
        "\n",
        "print(f\"T-statistic: {t_statistic:.3f}\")\n",
        "print(f\"P-value: {p_value:.3f}\")\n",
        "\n",
        "alpha = 0.05\n",
        "if p_value < alpha:\n",
        "    print(\"Reject the null hypothesis\")\n",
        "    print(\"There is a statistically significant difference in customer satisfaction scores between the two branches.\")\n",
        "else:\n",
        "    print(\"Fail to reject the null hypothesis\")\n",
        "    print(\"There is no statistically significant difference in customer satisfaction scores between the two branches.\")\n"
      ],
      "metadata": {
        "colab": {
          "base_uri": "https://localhost:8080/"
        },
        "id": "zcxBVy8LVG9T",
        "outputId": "5f671070-56dd-4508-e603-5b17252dfe1a"
      },
      "execution_count": 40,
      "outputs": [
        {
          "output_type": "stream",
          "name": "stdout",
          "text": [
            "T-statistic: 11.326\n",
            "P-value: 0.000\n",
            "Reject the null hypothesis\n",
            "There is a statistically significant difference in quality scores between the two versions.\n",
            "T-statistic: 5.480\n",
            "P-value: 0.000\n",
            "Reject the null hypothesis\n",
            "There is a statistically significant difference in customer satisfaction scores between the two branches.\n"
          ]
        }
      ]
    },
    {
      "cell_type": "markdown",
      "source": [
        "21. A political analyst wants to determine if there is a significant association between age groups and voter\n",
        "preferences (Candidate A or Candidate B). They collect data from a sample of 500 voters and classify\n",
        "them into different age groups and candidate preferences. Perform a Chi-Square test to determine if\n",
        "there is a significant association between age groups and voter preferences.\n",
        "\n",
        "\n",
        "Use the below code to generate data:\n",
        "\n",
        "```python\n",
        "\n",
        "np.random.seed(0)\n",
        "\n",
        "age_groups = np.random.choice([ 18 30 , 31 50 , 51+', 51+'], size=30)\n",
        "\n",
        "voter_preferences = np.random.choice(['Candidate A', 'Candidate B'], size=30)"
      ],
      "metadata": {
        "id": "cgCTk90tTWQ4"
      }
    },
    {
      "cell_type": "code",
      "source": [
        "\n",
        "import pandas as pd\n",
        "import numpy as np\n",
        "from scipy.stats import chi2_contingency\n",
        "\n",
        "# Generate synthetic data (replace with your actual data)\n",
        "np.random.seed(0)\n",
        "age_groups = np.random.choice(['18-30', '31-50', '51+'], size=500)  # Corrected age groups\n",
        "voter_preferences = np.random.choice(['Candidate A', 'Candidate B'], size=500)\n",
        "\n",
        "# Create a contingency table\n",
        "contingency_table = pd.crosstab(age_groups, voter_preferences)\n",
        "\n",
        "# Perform the Chi-Square test\n",
        "chi2, p_value, dof, expected = chi2_contingency(contingency_table)\n",
        "\n",
        "print(\"Chi-Square Test Results:\")\n",
        "print(f\"Chi-square statistic: {chi2:.3f}\")\n",
        "print(f\"P-value: {p_value:.3f}\")\n",
        "print(f\"Degrees of freedom: {dof}\")\n",
        "\n",
        "alpha = 0.05\n",
        "if p_value < alpha:\n",
        "    print(\"Reject the null hypothesis\")\n",
        "    print(\"There is a statistically significant association between age groups and voter preferences.\")\n",
        "else:\n",
        "    print(\"Fail to reject the null hypothesis\")\n",
        "    print(\"There is no statistically significant association between age groups and voter preferences.\")\n"
      ],
      "metadata": {
        "id": "BOFRcCxKVGP5"
      },
      "execution_count": null,
      "outputs": []
    },
    {
      "cell_type": "markdown",
      "source": [
        " 22. A company conducted a customer satisfaction survey to determine if there is a significant relationship\n",
        "between product satisfaction levels (Satisfied, Neutral, Dissatisfied) and the region where customers are\n",
        "located (East, West, North, South). The survey data is summarized in a contingency table. Conduct a ChiSquare test to determine if there is a significant relationship between product satisfaction levels and\n",
        "customer regions.\n",
        "\n",
        "\n",
        "Sample data:\n",
        "\n",
        "```python\n",
        "\n",
        "#Sample data: Product satisfaction levels (rows) vs. Customer regions (columns)\n",
        "\n",
        "data = np.array([[50, 30, 40, 20], [30, 40, 30, 50], [20, 30, 40, 30]])\n",
        "\n",
        "```"
      ],
      "metadata": {
        "id": "uWswzpMNTWNn"
      }
    },
    {
      "cell_type": "code",
      "source": [
        "\n",
        "\n",
        "import numpy as np\n",
        "# Sample data: Product satisfaction levels (rows) vs. Customer regions (columns)\n",
        "data = np.array([[50, 30, 40, 20], [30, 40, 30, 50], [20, 30, 40, 30]])\n",
        "\n",
        "# Perform the Chi-Square test\n",
        "chi2, p_value, dof, expected = chi2_contingency(data)\n",
        "\n",
        "print(\"Chi-Square Test Results:\")\n",
        "print(f\"Chi-square statistic: {chi2:.3f}\")\n",
        "print(f\"P-value: {p_value:.3f}\")\n",
        "print(f\"Degrees of freedom: {dof}\")\n",
        "\n",
        "alpha = 0.05\n",
        "if p_value < alpha:\n",
        "    print(\"Reject the null hypothesis\")\n",
        "    print(\"There is a statistically significant association between product satisfaction levels and customer regions.\")\n",
        "else:\n",
        "    print(\"Fail to reject the null hypothesis\")\n",
        "    print(\"There is no statistically significant association between product satisfaction levels and customer regions.\")\n"
      ],
      "metadata": {
        "colab": {
          "base_uri": "https://localhost:8080/",
          "height": 211
        },
        "id": "dfPry7ORVFpd",
        "outputId": "20cc3e9c-acd6-496d-a4a4-ef110c9ba416"
      },
      "execution_count": 41,
      "outputs": [
        {
          "output_type": "error",
          "ename": "NameError",
          "evalue": "name 'chi2_contingency' is not defined",
          "traceback": [
            "\u001b[0;31m---------------------------------------------------------------------------\u001b[0m",
            "\u001b[0;31mNameError\u001b[0m                                 Traceback (most recent call last)",
            "\u001b[0;32m<ipython-input-41-88a8bea8f481>\u001b[0m in \u001b[0;36m<cell line: 0>\u001b[0;34m()\u001b[0m\n\u001b[1;32m      4\u001b[0m \u001b[0;34m\u001b[0m\u001b[0m\n\u001b[1;32m      5\u001b[0m \u001b[0;31m# Perform the Chi-Square test\u001b[0m\u001b[0;34m\u001b[0m\u001b[0;34m\u001b[0m\u001b[0m\n\u001b[0;32m----> 6\u001b[0;31m \u001b[0mchi2\u001b[0m\u001b[0;34m,\u001b[0m \u001b[0mp_value\u001b[0m\u001b[0;34m,\u001b[0m \u001b[0mdof\u001b[0m\u001b[0;34m,\u001b[0m \u001b[0mexpected\u001b[0m \u001b[0;34m=\u001b[0m \u001b[0mchi2_contingency\u001b[0m\u001b[0;34m(\u001b[0m\u001b[0mdata\u001b[0m\u001b[0;34m)\u001b[0m\u001b[0;34m\u001b[0m\u001b[0;34m\u001b[0m\u001b[0m\n\u001b[0m\u001b[1;32m      7\u001b[0m \u001b[0;34m\u001b[0m\u001b[0m\n\u001b[1;32m      8\u001b[0m \u001b[0mprint\u001b[0m\u001b[0;34m(\u001b[0m\u001b[0;34m\"Chi-Square Test Results:\"\u001b[0m\u001b[0;34m)\u001b[0m\u001b[0;34m\u001b[0m\u001b[0;34m\u001b[0m\u001b[0m\n",
            "\u001b[0;31mNameError\u001b[0m: name 'chi2_contingency' is not defined"
          ]
        }
      ]
    },
    {
      "cell_type": "markdown",
      "source": [
        " 23. A company implemented an employee training program to improve job performance (Effective, Neutral,\n",
        "Ineffective). After the training, they collected data from a sample of employees and classified them based\n",
        "on their job performance before and after the training. Perform a Chi-Square test to determine if there is a\n",
        "significant difference between job performance levels before and after the training.\n",
        "\n",
        "\n",
        "Sample data:\n",
        "\n",
        "```python\n",
        "\n",
        "# Sample data: Job performance levels before (rows) and after (columns) training\n",
        "\n",
        "data = np.array([[50, 30, 20], [30, 40, 30], [20, 30, 40]])\n",
        "\n",
        "```"
      ],
      "metadata": {
        "id": "fMXRbanUTWJ4"
      }
    },
    {
      "cell_type": "code",
      "source": [
        "\n",
        "import numpy as np\n",
        "# Sample data: Job performance levels before (rows) and after (columns) training\n",
        "data = np.array([[50, 30, 20], [30, 40, 30], [20, 30, 40]])\n",
        "\n",
        "# Perform the Chi-Square test\n",
        "chi2, p_value, dof, expected = chi2_contingency(data)\n",
        "\n",
        "print(\"Chi-Square Test Results:\")\n",
        "print(f\"Chi-square statistic: {chi2:.3f}\")\n",
        "print(f\"P-value: {p_value:.3f}\")\n",
        "print(f\"Degrees of freedom: {dof}\")\n",
        "\n",
        "alpha = 0.05\n",
        "if p_value < alpha:\n",
        "    print(\"Reject the null hypothesis\")\n",
        "    print(\"There is a statistically significant difference in job performance levels before and after the training.\")\n",
        "else:\n",
        "    print(\"Fail to reject the null hypothesis\")\n",
        "    print(\"There is no statistically significant difference in job performance levels before and after the training.\")\n"
      ],
      "metadata": {
        "id": "yS775bc6VE86"
      },
      "execution_count": null,
      "outputs": []
    },
    {
      "cell_type": "markdown",
      "source": [
        " 24. A company produces three different versions of a product: Standard, Premium, and Deluxe. The\n",
        "company wants to determine if there is a significant difference in customer satisfaction scores among the\n",
        "three product versions. They conducted a survey and collected customer satisfaction scores for each\n",
        "version from a random sample of customers. Perform an ANOVA test to determine if there is a significant\n",
        "difference in customer satisfaction scores.\n",
        "\n",
        "\n",
        "  Use the following data:\n",
        "\n",
        "  ```python\n",
        "\n",
        "  # Sample data: Customer satisfaction scores for each product version\n",
        "\n",
        "  standard_scores = [80, 85, 90, 78, 88, 82, 92, 78, 85, 87]\n",
        "\n",
        "  premium_scores = [90, 92, 88, 92, 95, 91, 96, 93, 89, 93]\n",
        "\n",
        "  deluxe_scores = [95, 98, 92, 97, 96, 94, 98, 97, 92, 99]\n",
        "\n",
        "  ``"
      ],
      "metadata": {
        "id": "YiuTKF-bTWCB"
      }
    },
    {
      "cell_type": "code",
      "source": [
        "\n",
        "\n",
        "import random\n",
        "from collections import Counter\n",
        "import numpy as np\n",
        "from scipy.stats import trim_mean\n",
        "import matplotlib.pyplot as plt\n",
        "import seaborn as sns\n",
        "from scipy.stats import norm\n",
        "import pandas as pd\n",
        "from scipy.stats import skew\n",
        "import math\n",
        "from statsmodels.stats.weightstats import ztest\n",
        "import heapq as hq\n",
        "from scipy.stats import ttest_ind\n",
        "from scipy.stats import chi2_contingency\n",
        "from scipy.stats import f_oneway\n",
        "\n",
        "# ... (Previous code remains unchanged) ...\n",
        "\n",
        "# 24. ANOVA test for customer satisfaction scores\n",
        "standard_scores = [80, 85, 90, 78, 88, 82, 92, 78, 85, 87]\n",
        "premium_scores = [90, 92, 88, 92, 95, 91, 96, 93, 89, 93]\n",
        "deluxe_scores = [95, 98, 92, 97, 96, 94, 98, 97, 92, 99]\n",
        "\n",
        "f_statistic, p_value = f_oneway(standard_scores, premium_scores, deluxe_scores)\n",
        "\n",
        "print(\"\\nANOVA Test Results:\")\n",
        "print(f\"F-statistic: {f_statistic:.3f}\")\n",
        "print(f\"P-value: {p_value:.3f}\")\n",
        "\n",
        "alpha = 0.05\n",
        "if p_value < alpha:\n",
        "    print(\"Reject the null hypothesis\")\n",
        "    print(\"There is a statistically significant difference in customer satisfaction scores among the three product versions.\")\n",
        "else:\n",
        "    print(\"Fail to reject the null hypothesis\")\n",
        "    print(\"There is no statistically significant difference in customer satisfaction scores among the three product versions.\")\n"
      ],
      "metadata": {
        "colab": {
          "base_uri": "https://localhost:8080/"
        },
        "id": "aH7HvnDWS2Rh",
        "outputId": "045768c8-fa08-4dbe-9cad-8701bc1c672a"
      },
      "execution_count": 42,
      "outputs": [
        {
          "output_type": "stream",
          "name": "stdout",
          "text": [
            "\n",
            "ANOVA Test Results:\n",
            "F-statistic: 27.036\n",
            "P-value: 0.000\n",
            "Reject the null hypothesis\n",
            "There is a statistically significant difference in customer satisfaction scores among the three product versions.\n"
          ]
        }
      ]
    }
  ]
}