{
  "nbformat": 4,
  "nbformat_minor": 0,
  "metadata": {
    "colab": {
      "provenance": []
    },
    "kernelspec": {
      "name": "python3",
      "display_name": "Python 3"
    },
    "language_info": {
      "name": "python"
    }
  },
  "cells": [
    {
      "cell_type": "markdown",
      "source": [
        "#Topics\n",
        "\n",
        "\n",
        "\n",
        "## 1) For Loop\n",
        "## 2) If - Else\n",
        "## 3) Map\n",
        "## 4) Reduce\n",
        "## 5) Filter\n",
        "## 6) Recursion\n",
        "## 7) Functions\n",
        "## 8) Function Documentation and Best Practices:\n",
        "## 9) Built-in Functions:\n",
        "## 10)Lambda Functions and Higher-Order Functions:\n",
        "## 11)Return Values and Scoping:\n",
        "## 12)Function Parameters and Arguments"
      ],
      "metadata": {
        "id": "iTapihHHeefn"
      }
    },
    {
      "cell_type": "markdown",
      "source": [
        "## Prabhendra Singh\n",
        "####p786solot@gmail.com"
      ],
      "metadata": {
        "id": "yBnk0B0lPSnF"
      }
    },
    {
      "cell_type": "markdown",
      "source": [
        "1.\tWrite a Python program to print numbers from 1 to 10 using a for loop.\n",
        "\n"
      ],
      "metadata": {
        "id": "zWo587PDeiCJ"
      }
    },
    {
      "cell_type": "code",
      "source": [
        "for i in range(1,11):\n",
        "  print(i)"
      ],
      "metadata": {
        "colab": {
          "base_uri": "https://localhost:8080/"
        },
        "id": "N9KBFtke2ISE",
        "outputId": "fd4546f1-0194-413d-ad3a-09f91112a1f8"
      },
      "execution_count": null,
      "outputs": [
        {
          "output_type": "stream",
          "name": "stdout",
          "text": [
            "1\n",
            "2\n",
            "3\n",
            "4\n",
            "5\n",
            "6\n",
            "7\n",
            "8\n",
            "9\n",
            "10\n"
          ]
        }
      ]
    },
    {
      "cell_type": "markdown",
      "source": [
        "2.\tExplain the difference between a for loop and a while loop in Python.\n"
      ],
      "metadata": {
        "id": "xe7TrH-vp23k"
      }
    },
    {
      "cell_type": "markdown",
      "source": [
        "Key Differences:\n",
        "\n",
        "A) Iteration Control:\n",
        "\n",
        "- for: Iterates over a predefined sequence.\n",
        "\n",
        "- while: Continues until a specified condition becomes False.\n",
        "\n",
        "B) Use Cases:\n",
        "\n",
        "- for: Ideal for iterating over elements in a collection or a fixed range.\n",
        "\n",
        "- while: Ideal for scenarios where the number of iterations is not known in advance and depends on a condition.\n",
        "\n",
        "C) Common Patterns:\n",
        "\n",
        "- for: Often used in scenarios like iterating over lists, tuples, or strings.\n",
        "\n",
        "- while: Often used for looping until a user-defined condition is met."
      ],
      "metadata": {
        "id": "Jk-F6MuA4laA"
      }
    },
    {
      "cell_type": "markdown",
      "source": [
        "3.\tWrite a Python program to calculate the sum of all numbers from 1 to 100 using a for loop.\n"
      ],
      "metadata": {
        "id": "drQsq_rPqAnc"
      }
    },
    {
      "cell_type": "code",
      "source": [
        "\n",
        "total_sum = 0\n",
        "\n",
        "for number in range(1, 101):\n",
        "    total_sum += number\n",
        "\n",
        "\n",
        "print(f\"The sum of all numbers from 1 to 100 is: {total_sum}\")\n"
      ],
      "metadata": {
        "id": "MyzqIaq-5DNb",
        "colab": {
          "base_uri": "https://localhost:8080/"
        },
        "outputId": "8b48a690-96a7-4c2e-ffd2-da04bbc9b94c"
      },
      "execution_count": null,
      "outputs": [
        {
          "output_type": "stream",
          "name": "stdout",
          "text": [
            "The sum of all numbers from 1 to 100 is: 5050\n"
          ]
        }
      ]
    },
    {
      "cell_type": "markdown",
      "source": [
        "4.\tHow do you iterate through a list using a for loop in Python?\n"
      ],
      "metadata": {
        "id": "pZEvpu7bqRVP"
      }
    },
    {
      "cell_type": "markdown",
      "source": [
        "####ANSWER:\n",
        "In Python, a for loop is commonly used to iterate over items in a list. This allows you to perform operations on each element in the list. It start iterating from first element and goes upto end of list or Item."
      ],
      "metadata": {
        "id": "Hxjv_RY95xhO"
      }
    },
    {
      "cell_type": "markdown",
      "source": [
        "5.\tWrite a Python program to find the product of all elements in a list using a for loop.\n"
      ],
      "metadata": {
        "id": "d0Iqcpjiqrh8"
      }
    },
    {
      "cell_type": "code",
      "source": [
        "def calculate_product(numbers):\n",
        "  product = 1\n",
        "  for i in numbers:\n",
        "    product *= i\n",
        "  return product\n",
        "\n",
        "# Example usage:\n",
        "my_list = [1, 2, 3, 4, 5]\n",
        "result = calculate_product(my_list)\n",
        "print(f\"The product of all elements in the list is: {result}\")"
      ],
      "metadata": {
        "colab": {
          "base_uri": "https://localhost:8080/"
        },
        "id": "7Xs8LFgHaHec",
        "outputId": "327107e7-1891-44d1-93ad-63ea7fb4ebfd"
      },
      "execution_count": null,
      "outputs": [
        {
          "output_type": "stream",
          "name": "stdout",
          "text": [
            "The product of all elements in the list is: 120\n"
          ]
        }
      ]
    },
    {
      "cell_type": "markdown",
      "source": [
        "6.\tCreate a Python program that prints all even numbers from 1 to 20 using a for loop.\n"
      ],
      "metadata": {
        "id": "8zGvYym9quoQ"
      }
    },
    {
      "cell_type": "code",
      "source": [
        "for i in range(1,21):\n",
        "  if i%2 == 0:\n",
        "    print(i)"
      ],
      "metadata": {
        "colab": {
          "base_uri": "https://localhost:8080/"
        },
        "id": "Qhjj-0FFbO6x",
        "outputId": "4492d4d6-738e-4c46-f833-dc992aab4a30"
      },
      "execution_count": null,
      "outputs": [
        {
          "output_type": "stream",
          "name": "stdout",
          "text": [
            "2\n",
            "4\n",
            "6\n",
            "8\n",
            "10\n",
            "12\n",
            "14\n",
            "16\n",
            "18\n",
            "20\n"
          ]
        }
      ]
    },
    {
      "cell_type": "markdown",
      "source": [
        "\n",
        "\n",
        "\n",
        "7.\tWrite a Python program that calculates the factorial of a number using a for loop."
      ],
      "metadata": {
        "id": "4vi-4LOYr8iD"
      }
    },
    {
      "cell_type": "code",
      "source": [
        "def fact_find(n):\n",
        "  fact = 1\n",
        "  for i in range(1,n+1):\n",
        "    fact *= i\n",
        "  return fact"
      ],
      "metadata": {
        "id": "oMzt2ovXbod2"
      },
      "execution_count": null,
      "outputs": []
    },
    {
      "cell_type": "markdown",
      "source": [
        "\n",
        "8.\tHow can you iterate through the characters of a string using a for loop in Python?"
      ],
      "metadata": {
        "id": "s3IpCVdpr57Q"
      }
    },
    {
      "cell_type": "markdown",
      "source": [
        "####Answer:\n",
        "In Python, a for loop can be used to iterate through the characters of a string one by one. This allows you to perform operations on each character in the string.\n",
        "\n"
      ],
      "metadata": {
        "id": "Cw7_q71UccbU"
      }
    },
    {
      "cell_type": "markdown",
      "source": [
        "\n",
        "9.\tWrite a Python program to find the largest number in a list using a for loop."
      ],
      "metadata": {
        "id": "djG5e4JVr1qC"
      }
    },
    {
      "cell_type": "code",
      "source": [
        "def find_largest(numbers):\n",
        "  if not numbers:\n",
        "    return None\n",
        "\n",
        "  largest = numbers[0]\n",
        "  for i in numbers:\n",
        "    if i > largest:\n",
        "      largest = i\n",
        "  return largest"
      ],
      "metadata": {
        "id": "7y4ZrVbwaTjQ"
      },
      "execution_count": null,
      "outputs": []
    },
    {
      "cell_type": "markdown",
      "source": [
        "\n",
        "10.\tCreate a Python program that prints the Fibonacci sequence up to a specified limit using a for loop."
      ],
      "metadata": {
        "id": "2VLvtmnlryhK"
      }
    },
    {
      "cell_type": "code",
      "source": [
        "def generate_fibonacci(limit):\n",
        "  fib_sequence = [0, 1]\n",
        "\n",
        "  for i in range(2,limit):\n",
        "    next_number = fib_sequence[-1] + fib_sequence[-2]\n",
        "    fib_sequence.append(next_number)\n",
        "  return fib_sequence\n",
        "\n",
        "limit = int(input(\"Enter the limit for the Fibonacci sequence: \"))\n",
        "fibonacci_sequence = generate_fibonacci(limit)\n",
        "print(fibonacci_sequence)"
      ],
      "metadata": {
        "colab": {
          "base_uri": "https://localhost:8080/"
        },
        "id": "II8_v7HpGCYa",
        "outputId": "96a66025-3db2-42d9-bc9c-a580526f9448"
      },
      "execution_count": null,
      "outputs": [
        {
          "output_type": "stream",
          "name": "stdout",
          "text": [
            "Enter the limit for the Fibonacci sequence: 5\n",
            "[0, 1, 1, 2, 3]\n"
          ]
        }
      ]
    },
    {
      "cell_type": "markdown",
      "source": [
        "\n",
        "11.\tWrite a Python program to count the number of vowels in a given string using a for loop."
      ],
      "metadata": {
        "id": "N-tlfPhgrtso"
      }
    },
    {
      "cell_type": "code",
      "source": [
        "def count_vowels(string):\n",
        "  vowels = \"aeiouAEIOU\"\n",
        "  count = 0\n",
        "  for i in string:\n",
        "    if i in vowels:\n",
        "      count +=1\n",
        "  return count\n",
        "\n",
        "string = \"Hello, World!\"\n",
        "vowel_count = count_vowels(string)\n",
        "print(f\"The number of vowels in the string is: {vowel_count}\")"
      ],
      "metadata": {
        "colab": {
          "base_uri": "https://localhost:8080/"
        },
        "id": "Pgj5DasBH2Kw",
        "outputId": "e2c661ff-6850-4323-a0b5-7c203a5d29a9"
      },
      "execution_count": null,
      "outputs": [
        {
          "output_type": "stream",
          "name": "stdout",
          "text": [
            "The number of vowels in the string is: 3\n"
          ]
        }
      ]
    },
    {
      "cell_type": "markdown",
      "source": [
        "\n",
        "12.\tCreate a Python program that generates a multiplication table for a given number using a for loop."
      ],
      "metadata": {
        "id": "TlhlxR7prqfH"
      }
    },
    {
      "cell_type": "code",
      "source": [
        "def multiply_table(number,limit = 10):\n",
        "  print(f\"Multiplication Table for {number}: \")\n",
        "\n",
        "  for i in range(1,limit+1):\n",
        "    print(f\"{number} x {i} = {number*i}\")\n",
        "\n",
        "number = int(input(\"Enter the number for the multiplication table: \"))\n",
        "multiply_table(number)"
      ],
      "metadata": {
        "colab": {
          "base_uri": "https://localhost:8080/"
        },
        "id": "vT4tIxNFImpt",
        "outputId": "98d096bc-083c-4bbb-dffd-99c9b792309f"
      },
      "execution_count": null,
      "outputs": [
        {
          "output_type": "stream",
          "name": "stdout",
          "text": [
            "Enter the number for the multiplication table: 5\n",
            "Multiplication Table for 5: \n",
            "5 x 1 = 5\n",
            "5 x 2 = 10\n",
            "5 x 3 = 15\n",
            "5 x 4 = 20\n",
            "5 x 5 = 25\n",
            "5 x 6 = 30\n",
            "5 x 7 = 35\n",
            "5 x 8 = 40\n",
            "5 x 9 = 45\n",
            "5 x 10 = 50\n"
          ]
        }
      ]
    },
    {
      "cell_type": "markdown",
      "source": [
        "\n",
        "13.\tWrite a Python program to reverse a list using a for loop."
      ],
      "metadata": {
        "id": "CWo5rjwVroFl"
      }
    },
    {
      "cell_type": "code",
      "source": [
        "def reverse(my_list):\n",
        "  reversed_list = []\n",
        "  for i in range(len(my_list)-1,-1,-1):\n",
        "    reversed_list.append(my_list[i])\n",
        "  return reversed_list\n",
        "\n",
        "my_list = [1,2,3,4,5]\n",
        "reversed_list = reverse(my_list)\n",
        "print(reversed_list)\n"
      ],
      "metadata": {
        "colab": {
          "base_uri": "https://localhost:8080/"
        },
        "id": "H3YlYdZQmuFb",
        "outputId": "28c888cb-6cfc-4607-eeea-0b474edc1b5c"
      },
      "execution_count": null,
      "outputs": [
        {
          "output_type": "stream",
          "name": "stdout",
          "text": [
            "[5, 4, 3, 2, 1]\n"
          ]
        }
      ]
    },
    {
      "cell_type": "markdown",
      "source": [
        "\n",
        "14.\tWrite a Python program to find the common elements between two lists using a for loop."
      ],
      "metadata": {
        "id": "o96r55E1rlJ_"
      }
    },
    {
      "cell_type": "code",
      "source": [
        "def common_element(list1,list2):\n",
        "  common = []\n",
        "  for i in list1:\n",
        "    if i in list2:\n",
        "      common.append(i)\n",
        "  return common\n",
        "\n",
        "list1 = [1,2,3,4,5]\n",
        "list2 = [3,4,5,6,7]\n",
        "common = common_element(list1,list2)\n",
        "print(common)"
      ],
      "metadata": {
        "colab": {
          "base_uri": "https://localhost:8080/"
        },
        "id": "S6jPzqaWqCLy",
        "outputId": "3f165615-ccab-4a6a-a09c-521b0aabf665"
      },
      "execution_count": null,
      "outputs": [
        {
          "output_type": "stream",
          "name": "stdout",
          "text": [
            "[3, 4, 5]\n"
          ]
        }
      ]
    },
    {
      "cell_type": "markdown",
      "source": [
        "\n",
        "15.\tExplain how to use a for loop to iterate through the keys and values of a dictionary in Python."
      ],
      "metadata": {
        "id": "zeFQCmfLrime"
      }
    },
    {
      "cell_type": "markdown",
      "source": [
        "####Answer:-\n",
        "A) Iterating Through Keys: You can use keys() or directly iterate over the dictionary.\n",
        "\n",
        "B) Iterating Through Values: You can use the values() method.\n",
        "\n",
        "c) Iterating Through Key-Value Pairs: You can use the items() method to access both keys and values in each iteration."
      ],
      "metadata": {
        "id": "jUbiSajodV9r"
      }
    },
    {
      "cell_type": "markdown",
      "source": [
        "\n",
        "16.\tWrite a Python program to find the GCD (Greatest Common Divisor) of two numbers using a for loop."
      ],
      "metadata": {
        "id": "25T_x-DLrf21"
      }
    },
    {
      "cell_type": "code",
      "source": [
        "def find_gcd(num1,num2):\n",
        "  if num1>num2:\n",
        "    smaller = num2\n",
        "  else:\n",
        "    smaller = num1\n",
        "  gcd = 1\n",
        "\n",
        "  for i in range(1,smaller+1):\n",
        "    if (num1 % i == 0) and (num2 % i == 0):\n",
        "      gcd = i\n",
        "  return gcd\n",
        "\n",
        "num1 = int(input(\"Enter the first number: \"))\n",
        "num2 = int(input(\"Enter the second number: \"))\n",
        "\n",
        "gcd = find_gcd(num1,num2)\n",
        "\n",
        "print(f\"The GCD of {num1} and {num2} is: {gcd}\")"
      ],
      "metadata": {
        "colab": {
          "base_uri": "https://localhost:8080/"
        },
        "id": "GR5GefWOdvxj",
        "outputId": "d62c19b0-60a6-476b-b238-234feada6ead"
      },
      "execution_count": null,
      "outputs": [
        {
          "output_type": "stream",
          "name": "stdout",
          "text": [
            "Enter the first number: 10\n",
            "Enter the second number: 22\n",
            "The GCD of 10 and 22 is: 2\n"
          ]
        }
      ]
    },
    {
      "cell_type": "markdown",
      "source": [
        "\n",
        "17.\tCreate a Python program that checks if a string is a palindrome using a for loop."
      ],
      "metadata": {
        "id": "eQ3uB6kxrcND"
      }
    },
    {
      "cell_type": "code",
      "source": [
        "def check_palindrome(string):\n",
        "  string = string.replace(\" \", \"\").lower()\n",
        "\n",
        "  length = len(string)\n",
        "  for i in range(length//2):\n",
        "    if string[i] != string[length -i -1]:\n",
        "      return False\n",
        "  return True\n",
        "\n",
        "string = input(\"Enter a string: \")\n",
        "\n",
        "if check_palindrome(string):\n",
        "  print(f\"{string} is a palindrome.\")\n",
        "else:\n",
        "  print(f\"{string} is not a palindrome.\")"
      ],
      "metadata": {
        "colab": {
          "base_uri": "https://localhost:8080/"
        },
        "id": "JHUdYgg8iKsJ",
        "outputId": "797635ae-8703-433e-81b5-fa9f085ac348"
      },
      "execution_count": null,
      "outputs": [
        {
          "output_type": "stream",
          "name": "stdout",
          "text": [
            "Enter a string: ram\n",
            "ram is not a palindrome.\n"
          ]
        }
      ]
    },
    {
      "cell_type": "markdown",
      "source": [
        "\n",
        "18.\tWrite a Python program to remove duplicates from a list using a for loop."
      ],
      "metadata": {
        "id": "-bj7rGSArY5U"
      }
    },
    {
      "cell_type": "code",
      "source": [
        "def unique_find(list):\n",
        "  unique_element = []\n",
        "\n",
        "  for i in list:\n",
        "    if i not in unique_element:\n",
        "      unique_element.append(i)\n",
        "  return unique_element\n",
        "\n",
        "list = [1,2,3,4,9,6,3,2,6,8]\n",
        "unique_element = unique_find(list)\n",
        "print(unique_element)"
      ],
      "metadata": {
        "colab": {
          "base_uri": "https://localhost:8080/"
        },
        "id": "a13sSH4T2vsL",
        "outputId": "e876c8ec-ebbd-42b2-8d33-d70c0383f60f"
      },
      "execution_count": null,
      "outputs": [
        {
          "output_type": "stream",
          "name": "stdout",
          "text": [
            "[1, 2, 3, 4, 9, 6, 8]\n"
          ]
        }
      ]
    },
    {
      "cell_type": "markdown",
      "source": [
        "\n",
        "19.\tCreate a Python program that counts the number of words in a sentence using a for loop."
      ],
      "metadata": {
        "id": "Pb7eBGRyrQhy"
      }
    },
    {
      "cell_type": "code",
      "source": [
        "def words_count(sentence):\n",
        "  words = sentence.split()\n",
        "  count = 0\n",
        "  for i in words:\n",
        "    count += 1\n",
        "  return count\n",
        "\n",
        "sentence = input(\"Enter a sentence: \")\n",
        "\n",
        "word_count = words_count(sentence)\n",
        "\n",
        "print(f\"The number of words in the sentence is: {word_count}\")"
      ],
      "metadata": {
        "colab": {
          "base_uri": "https://localhost:8080/"
        },
        "id": "bpHGM0jl3_yq",
        "outputId": "cae6ab07-867e-42fa-f68d-d4e65e189530"
      },
      "execution_count": null,
      "outputs": [
        {
          "output_type": "stream",
          "name": "stdout",
          "text": [
            "Enter a sentence: ram siya ram\n",
            "The number of words in the sentence is: 3\n"
          ]
        }
      ]
    },
    {
      "cell_type": "markdown",
      "source": [
        "\n",
        "20.\tWrite a Python program to find the sum of all odd numbers from 1 to 50 using a for loop.\n"
      ],
      "metadata": {
        "id": "DlPzTRi6rFE9"
      }
    },
    {
      "cell_type": "code",
      "source": [
        "def sum_odd():\n",
        "  sum = 0\n",
        "  for i in range(1,51):\n",
        "    if i%2 ==0:\n",
        "      sum += i\n",
        "  return sum\n",
        "\n",
        "sum = sum_odd()\n",
        "print(sum)"
      ],
      "metadata": {
        "colab": {
          "base_uri": "https://localhost:8080/"
        },
        "id": "r2EJJPGf4Zxb",
        "outputId": "7edcd1f6-1ce6-4e0d-d8d2-cd1f8679b68a"
      },
      "execution_count": null,
      "outputs": [
        {
          "output_type": "stream",
          "name": "stdout",
          "text": [
            "650\n"
          ]
        }
      ]
    },
    {
      "cell_type": "markdown",
      "source": [
        "21.\tWrite a Python program that checks if a given year is a leap year using a for loop."
      ],
      "metadata": {
        "id": "mnn-AxXXrAIM"
      }
    },
    {
      "cell_type": "code",
      "source": [
        "def check_leap(year):\n",
        "  for i in [year]:\n",
        "    if (year%4 == 0) and (year % 100 != 0) or (year % 400 == 0):\n",
        "      return True\n",
        "  return False\n",
        "\n",
        "year = int(input(\"Enter a year to check if it is a leap year: \"))\n",
        "\n",
        "if check_leap(year):\n",
        "    print(f\"{year} is a leap year.\")\n",
        "else:\n",
        "    print(f\"{year} is not a leap year.\")"
      ],
      "metadata": {
        "colab": {
          "base_uri": "https://localhost:8080/"
        },
        "id": "zGq2ghcQ4zU8",
        "outputId": "06d788aa-5fbf-4beb-a906-2f2c666e0e38"
      },
      "execution_count": null,
      "outputs": [
        {
          "output_type": "stream",
          "name": "stdout",
          "text": [
            "Enter a year to check if it is a leap year: 2024\n",
            "2024 is a leap year.\n"
          ]
        }
      ]
    },
    {
      "cell_type": "markdown",
      "source": [
        "\n",
        "22.\tCreate a Python program that calculates the square root of a number using a for loop."
      ],
      "metadata": {
        "id": "RxLHaSunrFIT"
      }
    },
    {
      "cell_type": "code",
      "source": [
        "def square_root(num, iteration = 10 ):\n",
        "  guess = num / 2.0\n",
        "  for _ in range(iteration):\n",
        "    guess = 0.5 * (guess + num / guess)\n",
        "  return guess\n",
        "\n",
        "num = float(input(\"Enter a number to calculate its square root: \"))\n",
        "aprox_sqrt = square_root(num)\n",
        "print(f\"The square root of {num} is approximately: {aprox_sqrt}\")"
      ],
      "metadata": {
        "colab": {
          "base_uri": "https://localhost:8080/"
        },
        "id": "VWX_pNK368J2",
        "outputId": "431d6b1e-088c-4bad-eadd-987f2f0eabab"
      },
      "execution_count": null,
      "outputs": [
        {
          "output_type": "stream",
          "name": "stdout",
          "text": [
            "Enter a number to calculate its square root: 89\n",
            "The square root of 89.0 is approximately: 9.433981132056605\n"
          ]
        }
      ]
    },
    {
      "cell_type": "markdown",
      "source": [
        "\n",
        "23.\tWrite a Python program to find the LCM (Least Common Multiple) of two numbers using a for loop."
      ],
      "metadata": {
        "id": "9d7zPnACqxOO"
      }
    },
    {
      "cell_type": "code",
      "source": [
        "def find_lcm(num1,num2):\n",
        "  great = max(num1,num2)\n",
        "\n",
        "  for lcm in range(great,(num1 * num2) + 1):\n",
        "    if lcm % num1 == 0 and lcm % num2 == 0:\n",
        "      return lcm\n",
        "  return None\n",
        "\n",
        "\n",
        "num1 = int(input(\"Enter the first number: \"))\n",
        "num2 = int(input(\"Enter the second number: \"))\n",
        "\n",
        "lcm = find_lcm(num1,num2)\n",
        "print(f\"the lcm of {num1} and {num2} is {lcm}\")"
      ],
      "metadata": {
        "colab": {
          "base_uri": "https://localhost:8080/"
        },
        "id": "WlSq-wXC8xq-",
        "outputId": "eec2211e-036a-415a-baee-eddb68d419d4"
      },
      "execution_count": null,
      "outputs": [
        {
          "output_type": "stream",
          "name": "stdout",
          "text": [
            "Enter the first number: 10\n",
            "Enter the second number: 12\n",
            "the lcm of 10 and 12 is 60\n"
          ]
        }
      ]
    },
    {
      "cell_type": "markdown",
      "source": [
        "#If else :\n"
      ],
      "metadata": {
        "id": "n2IyXeF5eyNq"
      }
    },
    {
      "cell_type": "markdown",
      "source": [
        "1.\tWrite a Python program to check if a number is positive, negative, or zero using an if-else statement."
      ],
      "metadata": {
        "id": "o5TJ6sZ61Xbf"
      }
    },
    {
      "cell_type": "code",
      "source": [
        "def check_number(number):\n",
        "  if number > 0:\n",
        "    return \"Positive Number\"\n",
        "  elif number < 0:\n",
        "    return \"Negative Number\"\n",
        "  else:\n",
        "    return \"zero\"\n",
        "\n",
        "number = int(input(\"Enter a number: \"))\n",
        "result = check_number(number)\n",
        "print(result)"
      ],
      "metadata": {
        "colab": {
          "base_uri": "https://localhost:8080/"
        },
        "id": "_UubyFZyAAzH",
        "outputId": "35a44f3a-1bd8-4a4e-8770-fd0520ca98d6"
      },
      "execution_count": null,
      "outputs": [
        {
          "output_type": "stream",
          "name": "stdout",
          "text": [
            "Enter a number: 0\n",
            "zero\n"
          ]
        }
      ]
    },
    {
      "cell_type": "markdown",
      "source": [
        "\n",
        "2.\tCreate a Python program that checks if a given number is even or odd using an if-else statement."
      ],
      "metadata": {
        "id": "hsY0-m2M1VSL"
      }
    },
    {
      "cell_type": "code",
      "source": [
        "def check_odd_even(number):\n",
        "  if number % 2 == 0:\n",
        "    return \"Even Number\"\n",
        "  else:\n",
        "    return \"Odd Number\"\n",
        "\n",
        "number = int(input(\"Enter a number: \"))\n",
        "result = check_odd_even(number)\n",
        "print(result)"
      ],
      "metadata": {
        "colab": {
          "base_uri": "https://localhost:8080/"
        },
        "id": "FtekmdUGABjc",
        "outputId": "8e005ae4-6e52-4d62-d937-529df29c810b"
      },
      "execution_count": null,
      "outputs": [
        {
          "output_type": "stream",
          "name": "stdout",
          "text": [
            "Enter a number: 1\n",
            "Odd Number\n"
          ]
        }
      ]
    },
    {
      "cell_type": "markdown",
      "source": [
        "\n",
        "3.\tHow can you use nested if-else statements in Python, and provide an example?"
      ],
      "metadata": {
        "id": "iKY8oaUt1S6r"
      }
    },
    {
      "cell_type": "code",
      "source": [
        "'''Nested if-else statements allow you to add another layer of conditions within an existing if or else block.\n",
        "This can be helpful when you need to make multiple decisions based on different criteria.'''\n",
        "\n",
        "def categorize_age(age):\n",
        "    if age < 0:\n",
        "        print(\"Invalid age\")\n",
        "    else:\n",
        "        if age < 13:\n",
        "            print(\"Child\")\n",
        "        else:\n",
        "            if age < 20:\n",
        "                print(\"Teenager\")\n",
        "            else:\n",
        "                if age < 60:\n",
        "                    print(\"Adult\")\n",
        "                else:\n",
        "                    print(\"Senior\")\n",
        "\n",
        "age = int(input(\"Enter the age: \"))\n",
        "categorize_age(age)\n"
      ],
      "metadata": {
        "id": "LNCZh52ZADZF"
      },
      "execution_count": null,
      "outputs": []
    },
    {
      "cell_type": "markdown",
      "source": [
        "\n",
        "4.\tWrite a Python program to determine the largest of three numbers using if-else."
      ],
      "metadata": {
        "id": "oGodSpBw1PfL"
      }
    },
    {
      "cell_type": "code",
      "source": [
        "def check_largest(num1,num2,num3):\n",
        "  if num1 >= num2 and num1 >= num3:\n",
        "    return num1\n",
        "  elif num2 >= num1 and num2 >= num3:\n",
        "    return num2\n",
        "  else:\n",
        "    return num3\n",
        "\n",
        "num1 = float(input(\"Enter the first number: \"))\n",
        "num2 = float(input(\"Enter the second number: \"))\n",
        "num3 = float(input(\"Enter the third number: \"))\n",
        "\n",
        "largest = check_largest(num1, num2, num3)\n",
        "print(f\"The largest of the three numbers is: {largest}\")"
      ],
      "metadata": {
        "colab": {
          "base_uri": "https://localhost:8080/"
        },
        "id": "4GyhUXtqAD2k",
        "outputId": "d377fddf-9232-4ee2-e9ed-dabd16315277"
      },
      "execution_count": null,
      "outputs": [
        {
          "output_type": "stream",
          "name": "stdout",
          "text": [
            "Enter the first number: 2\n",
            "Enter the second number: 8\n",
            "Enter the third number: 5\n",
            "The largest of the three numbers is: 8.0\n"
          ]
        }
      ]
    },
    {
      "cell_type": "markdown",
      "source": [
        "\n",
        "5.\tWrite a Python program that calculates the absolute value of a number using if-else."
      ],
      "metadata": {
        "id": "BD_r9B_M1MRa"
      }
    },
    {
      "cell_type": "code",
      "source": [
        "def absolute_vale(number):\n",
        "  if number >= 0:\n",
        "    return number\n",
        "  else:\n",
        "    return -number\n",
        "\n",
        "num = float(input(\"Enter a number to calculate its absolute value: \"))\n",
        "abs_value = absolute_vale(num)\n",
        "print(f\"The absolute value of {num} is: {abs_value}\")"
      ],
      "metadata": {
        "colab": {
          "base_uri": "https://localhost:8080/"
        },
        "id": "xoyyvdt3AEom",
        "outputId": "458c6688-acb7-4075-86c5-ddbf9e8c8084"
      },
      "execution_count": null,
      "outputs": [
        {
          "output_type": "stream",
          "name": "stdout",
          "text": [
            "Enter a number to calculate its absolute value: 52\n",
            "The absolute value of 52.0 is: 52.0\n"
          ]
        }
      ]
    },
    {
      "cell_type": "markdown",
      "source": [
        "\n",
        "6.\tCreate a Python program that checks if a given character is a vowel or consonant using if-else."
      ],
      "metadata": {
        "id": "ULneaf4G1Jfi"
      }
    },
    {
      "cell_type": "code",
      "source": [
        "def check_vow_cons(string):\n",
        "  string = string.lower()\n",
        "\n",
        "  if string in \"aeiou\":\n",
        "    return f\"{string} is a vowel\"\n",
        "  elif string.isalpha():\n",
        "    return f\"{string} is a consonant\"\n",
        "  else:\n",
        "    return \"Input is not a character please enter only one letter\"\n",
        "\n",
        "char = input(\"Enter a character to check if it is a vowel or consonant: \")\n",
        "result = check_vow_cons(char)\n",
        "print(result)"
      ],
      "metadata": {
        "colab": {
          "base_uri": "https://localhost:8080/"
        },
        "id": "kbgtp1bPAFFn",
        "outputId": "bb3374c6-6203-4df8-bd30-aa3c16a012c3"
      },
      "execution_count": null,
      "outputs": [
        {
          "output_type": "stream",
          "name": "stdout",
          "text": [
            "Enter a character to check if it is a vowel or consonant: i\n",
            "i is a vowel\n"
          ]
        }
      ]
    },
    {
      "cell_type": "markdown",
      "source": [
        "\n",
        "7.\tWrite a Python program to determine if a user is eligible to vote based on their age using if-else."
      ],
      "metadata": {
        "id": "fNcG03ep1EB2"
      }
    },
    {
      "cell_type": "code",
      "source": [
        "def voting_eligibity(age):\n",
        "  if age >= 18:\n",
        "    return True\n",
        "  else:\n",
        "    return False\n",
        "\n",
        "age = int(input(\"Enter your age \"))\n",
        "if voting_eligibity(age):\n",
        "  print(\"\\nYou are eligible to vote. \")\n",
        "else:\n",
        "  print(\"\\nYou are not eligible to vote. \")"
      ],
      "metadata": {
        "id": "0w2hLCJ6AFj4",
        "colab": {
          "base_uri": "https://localhost:8080/"
        },
        "outputId": "40606d51-fa5e-43f9-a6fd-224096490f7e"
      },
      "execution_count": null,
      "outputs": [
        {
          "output_type": "stream",
          "name": "stdout",
          "text": [
            "Enter your age 22\n",
            "\n",
            "You are eligible to vote. \n"
          ]
        }
      ]
    },
    {
      "cell_type": "markdown",
      "source": [
        "\n",
        "8.\tCreate a Python program that calculates the discount amount based on the purchase amount using if-else."
      ],
      "metadata": {
        "id": "YBLIAzo-1CYq"
      }
    },
    {
      "cell_type": "code",
      "source": [
        "def calculate_discount(purchase_amount):\n",
        "  if purchase_amount >= 500:\n",
        "    discount_rate = 0.15\n",
        "  elif purchase_amount >= 100:\n",
        "    discount_rate = 0.10\n",
        "  elif purchase_amount >= 50:\n",
        "    discount_rate = 0.05\n",
        "  else:\n",
        "    discount_rate = 0\n",
        "\n",
        "  discount_amount = purchase_amount * discount_rate\n",
        "  return discount_amount\n",
        "\n",
        "\n",
        "purchase_amount = float(input(\"Enter the purchase amount: \"))\n",
        "\n",
        "discount_amount = calculate_discount(purchase_amount)\n",
        "\n",
        "print(f\"Discount amount: ${discount_amount:.2f}\")\n",
        "print(f\"Final price: ${purchase_amount - discount_amount:.2f}\")"
      ],
      "metadata": {
        "id": "UH6v0yyAAF6w"
      },
      "execution_count": null,
      "outputs": []
    },
    {
      "cell_type": "markdown",
      "source": [
        "\n",
        "9.\tWrite a Python program to check if a number is within a specified range using if-else."
      ],
      "metadata": {
        "id": "caSv_vPY0_3H"
      }
    },
    {
      "cell_type": "code",
      "source": [
        "def is_in_range(number, lower_bound, upper_bound):\n",
        "  if lower_bound <= number <= upper_bound:\n",
        "    return True\n",
        "  else:\n",
        "    return False\n",
        "\n",
        "\n",
        "number = float(input(\"Enter a number: \"))\n",
        "lower_bound = float(input(\"Enter the lower bound of the range: \"))\n",
        "upper_bound = float(input(\"Enter the upper bound of the range: \"))\n",
        "\n",
        "if is_in_range(number, lower_bound, upper_bound):\n",
        "  print(f\"{number} is within the range [{lower_bound}, {upper_bound}].\")\n",
        "else:\n",
        "  print(f\"{number} is not within the range [{lower_bound}, {upper_bound}].\")"
      ],
      "metadata": {
        "id": "aCQUaD9NAGjg",
        "colab": {
          "base_uri": "https://localhost:8080/"
        },
        "outputId": "4e142abc-3f7d-4559-e890-f7e60b84e60e"
      },
      "execution_count": null,
      "outputs": [
        {
          "output_type": "stream",
          "name": "stdout",
          "text": [
            "Enter a number: 52\n",
            "Enter the lower bound of the range: 10\n",
            "Enter the upper bound of the range: 20\n",
            "52.0 is not within the range [10.0, 20.0].\n"
          ]
        }
      ]
    },
    {
      "cell_type": "markdown",
      "source": [
        "\n",
        "10.\tCreate a Python program that determines the grade of a student based on their score using if-else."
      ],
      "metadata": {
        "id": "AC_wGlln099P"
      }
    },
    {
      "cell_type": "code",
      "source": [
        "def determine_grade(score):\n",
        "  if score >= 90:\n",
        "    grade = 'A'\n",
        "  elif score >= 80:\n",
        "    grade = 'B'\n",
        "  elif score >= 70:\n",
        "    grade = 'C'\n",
        "  elif score >= 60:\n",
        "    grade = 'D'\n",
        "  else:\n",
        "    grade = 'F'\n",
        "\n",
        "  return grade\n",
        "\n",
        "\n",
        "score = float(input(\"Enter the student's score: \"))\n",
        "\n",
        "grade = determine_grade(score)\n",
        "\n",
        "print(f\"The student's grade is: {grade}\")"
      ],
      "metadata": {
        "id": "417mU35MAHSe",
        "colab": {
          "base_uri": "https://localhost:8080/"
        },
        "outputId": "3d476aad-fe94-43a8-cdd7-a6d085b92025"
      },
      "execution_count": null,
      "outputs": [
        {
          "output_type": "stream",
          "name": "stdout",
          "text": [
            "Enter the student's score: 55\n",
            "The student's grade is: F\n"
          ]
        }
      ]
    },
    {
      "cell_type": "markdown",
      "source": [
        "\n",
        "11.\tWrite a Python program to check if a string is empty or not using if-else."
      ],
      "metadata": {
        "id": "g7ml4e1B07p8"
      }
    },
    {
      "cell_type": "code",
      "source": [
        "def check_empty(string):\n",
        "  if string == \"\":\n",
        "    return True\n",
        "    return False\n",
        "\n",
        "string = input(\"Enter a string: \")\n",
        "\n",
        "if check_empty(string):\n",
        "  print(\"The string is empty.\")\n",
        "else:\n",
        "  print(\"The string is not empty.\")"
      ],
      "metadata": {
        "id": "IuO_5XGUAIVr",
        "colab": {
          "base_uri": "https://localhost:8080/"
        },
        "outputId": "989c033d-c31f-4331-d80a-efcd3ad512a9"
      },
      "execution_count": null,
      "outputs": [
        {
          "output_type": "stream",
          "name": "stdout",
          "text": [
            "Enter a string: \n",
            "The string is empty.\n"
          ]
        }
      ]
    },
    {
      "cell_type": "markdown",
      "source": [
        "\n",
        "12.\tCreate a Python program that identifies the type of a triangle (e.g., equilateral, isosceles, or scalene) based on input values using if-else."
      ],
      "metadata": {
        "id": "HrS1EeG-05LP"
      }
    },
    {
      "cell_type": "code",
      "source": [
        "def identify_triangle(side1, side2, side3):\n",
        "\n",
        "\n",
        "  if side1 == side2 == side3:\n",
        "    return \"Equilateral\"\n",
        "  elif side1 == side2 or side1 == side3 or side2 == side3:\n",
        "    return \"Isosceles\"\n",
        "  else:\n",
        "    return \"Scalene\"\n",
        "\n",
        "side1 = float(input(\"Enter the length of the first side: \"))\n",
        "side2 = float(input(\"Enter the length of the second side: \"))\n",
        "side3 = float(input(\"Enter the length of the third side: \"))\n",
        "\n",
        "triangle_type = identify_triangle(side1, side2, side3)\n",
        "\n",
        "print(f\"The triangle is: {triangle_type}\")"
      ],
      "metadata": {
        "id": "xkeJep6IAI4K",
        "colab": {
          "base_uri": "https://localhost:8080/"
        },
        "outputId": "b7f7f212-0e92-49b0-ddbd-468269901e35"
      },
      "execution_count": null,
      "outputs": [
        {
          "output_type": "stream",
          "name": "stdout",
          "text": [
            "Enter the length of the first side: 20\n",
            "Enter the length of the second side: 30\n",
            "Enter the length of the third side: 50\n",
            "The triangle is: Scalene\n"
          ]
        }
      ]
    },
    {
      "cell_type": "markdown",
      "source": [
        "\n",
        "13.\tWrite a Python program to determine the day of the week based on a user-provided number using if-else."
      ],
      "metadata": {
        "id": "AcudV8gN0xrL"
      }
    },
    {
      "cell_type": "code",
      "source": [
        "def get_day_of_week(day_number):\n",
        "\n",
        "  if day_number == 1:\n",
        "    return \"Monday\"\n",
        "  elif day_number == 2:\n",
        "    return \"Tuesday\"\n",
        "  elif day_number == 3:\n",
        "    return \"Wednesday\"\n",
        "  elif day_number == 4:\n",
        "    return \"Thursday\"\n",
        "  elif day_number == 5:\n",
        "    return \"Friday\"\n",
        "  elif day_number == 6:\n",
        "    return \"Saturday\"\n",
        "  elif day_number == 7:\n",
        "    return \"Sunday\"\n",
        "  else:\n",
        "    return \"Invalid day number. Please enter a number between 1 and 7.\"\n",
        "\n",
        "\n",
        "day_number = int(input(\"Enter a day number (1-7): \"))\n",
        "\n",
        "day_of_week = get_day_of_week(day_number)\n",
        "\n",
        "print(day_of_week)"
      ],
      "metadata": {
        "id": "o6dzkqMsANO2"
      },
      "execution_count": null,
      "outputs": []
    },
    {
      "cell_type": "markdown",
      "source": [
        "\n",
        "14.\tCreate a Python program that checks if a given year is a leap year using both if-else and a function."
      ],
      "metadata": {
        "id": "uWvHH1nO0qqv"
      }
    },
    {
      "cell_type": "code",
      "source": [
        "def is_leap_year(year):\n",
        "\n",
        "  if (year % 4 == 0 and year % 100 != 0) or (year % 400 == 0):\n",
        "    return True\n",
        "  else:\n",
        "    return False\n",
        "\n",
        "\n",
        "\n",
        "year = int(input(\"Enter a year to check if it is a leap year: \"))\n",
        "\n",
        "\n",
        "if is_leap_year(year):\n",
        "  print(f\"{year} is a leap year.\")\n",
        "else:\n",
        "  print(f\"{year} is not a leap year.\")"
      ],
      "metadata": {
        "id": "8i1rcasvAM2J"
      },
      "execution_count": null,
      "outputs": []
    },
    {
      "cell_type": "markdown",
      "source": [
        "\n",
        "15.\tHow do you use the \"assert\" statement in Python to add debugging checks within if-else blocks?"
      ],
      "metadata": {
        "id": "hI-dxrOjxc0O"
      }
    },
    {
      "cell_type": "markdown",
      "source": [
        "#####Answer:\n",
        "The assert statement is used to check if a given condition is true. If the condition is false, it raises an AssertionError, which can help you identify bugs in your code during development.\n",
        "\n",
        "Using assert in if-else blocks\n",
        "\n",
        "You can place assert statements within if-else blocks to validate assumptions or expected conditions at various points in your logic. This allows you to catch errors early and pinpoint the source of issues."
      ],
      "metadata": {
        "id": "jiGTu7J-uJ4w"
      }
    },
    {
      "cell_type": "markdown",
      "source": [
        "\n",
        "16.\tCreate a Python program that determines the eligibility of a person for a senior citizen discount based on age using if-else."
      ],
      "metadata": {
        "id": "YpZf4OwdxOAU"
      }
    },
    {
      "cell_type": "code",
      "source": [
        "def is_eligible_for_senior_discount(age):\n",
        "\n",
        "  if age >= 60:\n",
        "    return True\n",
        "  else:\n",
        "    return False\n",
        "\n",
        "\n",
        "age = int(input(\"Enter your age: \"))\n",
        "\n",
        "if is_eligible_for_senior_discount(age):\n",
        "  print(\"You are eligible for a senior citizen discount.\")\n",
        "else:\n",
        "  print(\"You are not eligible for a senior citizen discount.\")"
      ],
      "metadata": {
        "id": "0HSuzk42AL_T"
      },
      "execution_count": null,
      "outputs": []
    },
    {
      "cell_type": "markdown",
      "source": [
        "\n",
        "17.\tWrite a Python program to categorize a given character as uppercase, lowercase, or neither using if-else."
      ],
      "metadata": {
        "id": "eqYzKqKWxLd6"
      }
    },
    {
      "cell_type": "code",
      "source": [
        "def categorize_character(char):\n",
        "\n",
        "  if 'a' <= char <= 'z':\n",
        "    return \"Lowercase\"\n",
        "  elif 'A' <= char <= 'Z':\n",
        "    return \"Uppercase\"\n",
        "  else:\n",
        "    return \"Neither\"\n",
        "\n",
        "\n",
        "char = input(\"Enter a character: \")\n",
        "\n",
        "\n",
        "category = categorize_character(char)\n",
        "\n",
        "\n",
        "print(f\"The character '{char}' is: {category}\")"
      ],
      "metadata": {
        "id": "nw_F71CXALhR",
        "colab": {
          "base_uri": "https://localhost:8080/"
        },
        "outputId": "a038e647-4f29-4586-af28-bd24c1698ce0"
      },
      "execution_count": null,
      "outputs": [
        {
          "output_type": "stream",
          "name": "stdout",
          "text": [
            "Enter a character: kk\n",
            "The character 'kk' is: Lowercase\n"
          ]
        }
      ]
    },
    {
      "cell_type": "markdown",
      "source": [
        "\n",
        "18.\tWrite a Python program to determine the roots of a quadratic equation using if-else."
      ],
      "metadata": {
        "id": "Sd1MF9wQxI2f"
      }
    },
    {
      "cell_type": "code",
      "source": [
        "import math\n",
        "\n",
        "def solve_quadratic_equation(a, b, c):\n",
        "\n",
        "  discriminant = b**2 - 4*a*c\n",
        "\n",
        "  if discriminant > 0:\n",
        "\n",
        "    root1 = (-b + math.sqrt(discriminant)) / (2*a)\n",
        "    root2 = (-b - math.sqrt(discriminant)) / (2*a)\n",
        "    return root1, root2\n",
        "  elif discriminant == 0:\n",
        "\n",
        "    root = -b / (2*a)\n",
        "    return root, root\n",
        "  else:\n",
        "\n",
        "    return None\n",
        "\n",
        "\n",
        "\n",
        "a = float(input(\"Enter the coefficient of x^2 (a): \"))\n",
        "b = float(input(\"Enter the coefficient of x (b): \"))\n",
        "c = float(input(\"Enter the constant term (c): \"))\n",
        "\n",
        "\n",
        "roots = solve_quadratic_equation(a, b, c)\n",
        "\n",
        "\n",
        "if roots:\n",
        "  print(\"The roots of the quadratic equation are:\", roots)\n",
        "else:\n",
        "  print(\"The quadratic equation has no real roots.\")"
      ],
      "metadata": {
        "id": "oQv9c5mOALBE"
      },
      "execution_count": null,
      "outputs": []
    },
    {
      "cell_type": "markdown",
      "source": [
        "\n",
        "19.\tCreate a Python program that checks if a given year is a century year or not using if-else."
      ],
      "metadata": {
        "id": "RzP2gU3CxExN"
      }
    },
    {
      "cell_type": "code",
      "source": [
        "def is_century_year(year):\n",
        "\n",
        "  if year % 100 == 0:\n",
        "    return True\n",
        "  else:\n",
        "    return False\n",
        "\n",
        "\n",
        "\n",
        "year = int(input(\"Enter a year: \"))\n",
        "\n",
        "\n",
        "if is_century_year(year):\n",
        "  print(f\"{year} is a century year.\")\n",
        "else:\n",
        "  print(f\"{year} is not a century year.\")"
      ],
      "metadata": {
        "id": "yITkrsUdAKqo"
      },
      "execution_count": null,
      "outputs": []
    },
    {
      "cell_type": "markdown",
      "source": [
        "\n",
        "21.\tExplain the purpose of the \"continue\" and \"break\" statements within if-else loops."
      ],
      "metadata": {
        "id": "cJWnuow3xAFl"
      }
    },
    {
      "cell_type": "code",
      "source": [
        "'''\n",
        "continue statement\n",
        "\n",
        "Purpose: To skip the rest of the current iteration of\n",
        " the loop and move to the next iteration.\n",
        "How it works: When continue is encountered inside a loop,\n",
        " the remaining code within that iteration is skipped.\n",
        " The loop then proceeds to the next iteration.\n",
        "Use case: It's useful when you want to skip certain\n",
        " elements or conditions within a loop without completely exiting the loop.\n",
        "'''\n",
        "for i in range(1, 6):\n",
        "  if i == 3:\n",
        "    continue\n",
        "  print(i)\n",
        "\n",
        "'''\n",
        "break statement:\n",
        "\n",
        "Purpose: To immediately exit the loop,\n",
        " regardless of whether there are more iterations to be performed.\n",
        "How it works: When break is encountered,\n",
        " the loop is terminated, and the program execution continues with\n",
        "  the code after the loop.\n",
        "Use case: It's often used when a specific condition is met,\n",
        " and you want to stop the loop's execution prematurely.\n",
        "'''\n",
        "for i in range(1, 6):\n",
        "  if i == 3:\n",
        "    break\n",
        "  print(i)\n",
        "\n"
      ],
      "metadata": {
        "id": "Sf03VHbGATP2",
        "colab": {
          "base_uri": "https://localhost:8080/"
        },
        "outputId": "d2f9f72c-25d2-4416-8cce-4a94a0e4f6e1"
      },
      "execution_count": null,
      "outputs": [
        {
          "output_type": "stream",
          "name": "stdout",
          "text": [
            "1\n",
            "2\n",
            "4\n",
            "5\n",
            "1\n",
            "2\n"
          ]
        }
      ]
    },
    {
      "cell_type": "markdown",
      "source": [
        "\n",
        "20.\tWrite a Python program to determine if a given number is a perfect square using if-else."
      ],
      "metadata": {
        "id": "Y8u7I04-xCps"
      }
    },
    {
      "cell_type": "code",
      "source": [
        "import math\n",
        "\n",
        "def is_perfect_square(number):\n",
        "\n",
        "  if number < 0:\n",
        "    return False\n",
        "\n",
        "  root = int(math.sqrt(number))\n",
        "  if root * root == number:\n",
        "    return True\n",
        "  else:\n",
        "    return False\n",
        "\n",
        "\n",
        "number = int(input(\"Enter a number: \"))\n",
        "\n",
        "if is_perfect_square(number):\n",
        "  print(f\"{number} is a perfect square.\")\n",
        "else:\n",
        "  print(f\"{number} is not a perfect square.\")"
      ],
      "metadata": {
        "id": "VC60-XjHASfZ",
        "colab": {
          "base_uri": "https://localhost:8080/"
        },
        "outputId": "9ba8173e-8fc2-443f-f326-68a862766ed7"
      },
      "execution_count": null,
      "outputs": [
        {
          "output_type": "stream",
          "name": "stdout",
          "text": [
            "Enter a number: 2\n",
            "2 is not a perfect square.\n"
          ]
        }
      ]
    },
    {
      "cell_type": "markdown",
      "source": [
        "\n",
        "22.\tCreate a Python program that calculates the BMI (Body Mass Index) of a person based on their weight and height using if-else."
      ],
      "metadata": {
        "id": "2ePAe3p5w8yu"
      }
    },
    {
      "cell_type": "code",
      "source": [
        "def calculate_bmi(weight, height):\n",
        "\n",
        "  bmi = weight / (height ** 2)\n",
        "  return bmi\n",
        "\n",
        "\n",
        "def interpret_bmi(bmi):\n",
        "\n",
        "  if bmi < 18.5:\n",
        "    return \"Underweight\"\n",
        "  elif 18.5 <= bmi < 25:\n",
        "    return \"Normal weight\"\n",
        "  elif 25 <= bmi < 30:\n",
        "    return \"Overweight\"\n",
        "  else:\n",
        "    return \"Obese\"\n",
        "\n",
        "\n",
        "weight = float(input(\"Enter your weight in kilograms: \"))\n",
        "height = float(input(\"Enter your height in meters: \"))\n",
        "\n",
        "bmi = calculate_bmi(weight, height)\n",
        "\n",
        "bmi_category = interpret_bmi(bmi)\n",
        "\n",
        "print(f\"Your BMI is: {bmi:.2f}\")\n",
        "print(f\"You are classified as: {bmi_category}\")"
      ],
      "metadata": {
        "id": "4Lt9t2cRARkn"
      },
      "execution_count": null,
      "outputs": []
    },
    {
      "cell_type": "markdown",
      "source": [
        "\n",
        "23.\tHow can you use the \"filter()\" function with if-else statements to filter elements from a list?"
      ],
      "metadata": {
        "id": "MxERIIh_w6PG"
      }
    },
    {
      "cell_type": "markdown",
      "source": [
        "#####Answer:\n",
        "- filter() uses a function (with if-else inside) to select elements from a list, creating a new filtered sequence.\n",
        "\n"
      ],
      "metadata": {
        "id": "3aocmdR2xMjz"
      }
    },
    {
      "cell_type": "markdown",
      "source": [
        "\n",
        "24.\tWrite a Python program to determine if a given number is prime or not using if-else."
      ],
      "metadata": {
        "id": "WPiXeoRJe1hw"
      }
    },
    {
      "cell_type": "code",
      "source": [
        "def is_prime(number):\n",
        "\n",
        "  if number <= 1:\n",
        "    return False\n",
        "\n",
        "  for i in range(2, int(number**0.5) + 1):\n",
        "    if number % i == 0:\n",
        "      return False\n",
        "\n",
        "  return True\n",
        "\n",
        "\n",
        "\n",
        "number = int(input(\"Enter a number: \"))\n",
        "\n",
        "\n",
        "if is_prime(number):\n",
        "  print(f\"{number} is a prime number.\")\n",
        "else:\n",
        "  print(f\"{number} is not a prime number.\")"
      ],
      "metadata": {
        "id": "4xenuLtJAREt"
      },
      "execution_count": null,
      "outputs": []
    },
    {
      "cell_type": "markdown",
      "source": [
        "#Map :-\n"
      ],
      "metadata": {
        "id": "8V5ZLcUOe8us"
      }
    },
    {
      "cell_type": "markdown",
      "source": [
        "1.\tExplain the purpose of the `map()` function in Python and provide an example of how it can be used to apply a function to each element of an iterable.\n",
        "\n"
      ],
      "metadata": {
        "id": "8F-kCN3SfB7O"
      }
    },
    {
      "cell_type": "code",
      "source": [
        "''' the purpose of map() is to provide a clean and functional way\n",
        "to apply a function to each element of an iterable, promoting code clarity,\n",
        "potential efficiency, and adherence to functional programming principles\n",
        "'''\n",
        "names = [\"alice\", \"bob\", \"charlie\"]\n",
        "uppercase_names = list(map(str.upper, names))\n",
        "print(uppercase_names)\n"
      ],
      "metadata": {
        "colab": {
          "base_uri": "https://localhost:8080/"
        },
        "id": "DHO4lS5aycdi",
        "outputId": "0607a4ca-7b9a-4106-a66d-463e1d0e9c04"
      },
      "execution_count": null,
      "outputs": [
        {
          "output_type": "stream",
          "name": "stdout",
          "text": [
            "['ALICE', 'BOB', 'CHARLIE']\n"
          ]
        }
      ]
    },
    {
      "cell_type": "markdown",
      "source": [
        "2.\tWrite a Python program that uses the `map()` function to square each element of a list of numbers.\n"
      ],
      "metadata": {
        "id": "OL4VG-WPLW_Z"
      }
    },
    {
      "cell_type": "code",
      "source": [
        "squre = [2,3,4,5]\n",
        "squred_list = list(map(lambda x: x*x, squre ))\n",
        "print(squred_list)"
      ],
      "metadata": {
        "colab": {
          "base_uri": "https://localhost:8080/"
        },
        "id": "18eraklK2R7V",
        "outputId": "1aeac868-5458-4d70-c63a-bdbbab92b224"
      },
      "execution_count": null,
      "outputs": [
        {
          "output_type": "stream",
          "name": "stdout",
          "text": [
            "[4, 9, 16, 25]\n"
          ]
        }
      ]
    },
    {
      "cell_type": "markdown",
      "source": [
        "3.\tHow does the `map()` function differ from a list comprehension in Python, and when would you choose one over the other?\n"
      ],
      "metadata": {
        "id": "dyttQs4ALZ1p"
      }
    },
    {
      "cell_type": "markdown",
      "source": [
        "map(): Applies a function to each item in an iterable, returning a new iterable . It's concise and often more efficient for complex logic or large datasets.\n",
        "\n",
        "List comprehension: Creates a new list by applying an expression to each item in an iterable. It's generally faster for simple operations and smaller datasets.\n",
        "\n",
        "When to choose:\n",
        "\n",
        "List comprehension = Simple operations, smaller data\n",
        "\n",
        "map() = Complex logic, larger data, or laziness"
      ],
      "metadata": {
        "id": "hNGdeLvD4STZ"
      }
    },
    {
      "cell_type": "markdown",
      "source": [
        "4.\tCreate a Python program that uses the `map()` function to convert a list of names to uppercase.\n"
      ],
      "metadata": {
        "id": "3SuomD8HLdlK"
      }
    },
    {
      "cell_type": "code",
      "source": [
        "names = [\"ram\",\"shreya\",\"prabhu\"]\n",
        "\n",
        "uppercase_names = list(map(str.upper,names))\n",
        "print(uppercase_names)"
      ],
      "metadata": {
        "colab": {
          "base_uri": "https://localhost:8080/"
        },
        "id": "y6C0XkTA4yFR",
        "outputId": "ac0ab075-0ba0-40cf-803b-4dcd3de53df2"
      },
      "execution_count": null,
      "outputs": [
        {
          "output_type": "stream",
          "name": "stdout",
          "text": [
            "['RAM', 'SHREYA', 'PRABHU']\n"
          ]
        }
      ]
    },
    {
      "cell_type": "markdown",
      "source": [
        "5.\tWrite a Python program that uses the `map()` function to calculate the length of each word in a list of strings.\n",
        "\n",
        "\n"
      ],
      "metadata": {
        "id": "kECwMSa6LdXD"
      }
    },
    {
      "cell_type": "code",
      "source": [
        "words = [\"Shreya\",\"prashant\"]\n",
        "\n",
        "length_words = list(map(len,words))\n",
        "print(length_words)"
      ],
      "metadata": {
        "colab": {
          "base_uri": "https://localhost:8080/"
        },
        "id": "VbYoWxNG5uDJ",
        "outputId": "2867dcea-c9d4-4112-e97a-7987d6544211"
      },
      "execution_count": null,
      "outputs": [
        {
          "output_type": "stream",
          "name": "stdout",
          "text": [
            "[6, 8]\n"
          ]
        }
      ]
    },
    {
      "cell_type": "markdown",
      "source": [
        "6.\tHow can you use the `map()` function to apply a custom function to elements of multiple lists simultaneously in Python?\n"
      ],
      "metadata": {
        "id": "xbtH3dMLLdBc"
      }
    },
    {
      "cell_type": "code",
      "source": [
        "group1 = [\"Alice\", \"Bob\", \"Charlie\"]\n",
        "group2 = [\"Eve\", \"John\", \"David\"]\n",
        "\n",
        "def create_team_name(name1, name2):\n",
        "  return name1 + \" and \" + name2\n",
        "\n",
        "team_names = list(map(create_team_name, group1, group2))\n",
        "print(team_names)"
      ],
      "metadata": {
        "id": "0H76jJQn6ptQ"
      },
      "execution_count": null,
      "outputs": []
    },
    {
      "cell_type": "markdown",
      "source": [
        "7.\tCreate a Python program that uses `map()` to convert a list of temperatures from Celsius to Fahrenheit.\n"
      ],
      "metadata": {
        "id": "5S8arDw1LoXP"
      }
    },
    {
      "cell_type": "code",
      "source": [
        "def celsius_to_fahrenheit(celsius):\n",
        "\n",
        "  return (celsius * 9/5) + 32\n",
        "\n",
        "celsius_temperatures = [0, 10, 20, 30, 40]\n",
        "\n",
        "\n",
        "fahrenheit_temperatures = list(map(celsius_to_fahrenheit, celsius_temperatures))\n",
        "\n",
        "\n",
        "print(fahrenheit_temperatures)"
      ],
      "metadata": {
        "colab": {
          "base_uri": "https://localhost:8080/"
        },
        "id": "4RWKkfCv61W9",
        "outputId": "29d40242-0d95-45c5-e34d-fdce2a372a0b"
      },
      "execution_count": null,
      "outputs": [
        {
          "output_type": "stream",
          "name": "stdout",
          "text": [
            "[32.0, 50.0, 68.0, 86.0, 104.0]\n"
          ]
        }
      ]
    },
    {
      "cell_type": "markdown",
      "source": [
        "8.\tWrite a Python program that uses the `map()` function to round each element of a list of floating-point numbers to the nearest integer."
      ],
      "metadata": {
        "id": "g3pi9xPyLrGL"
      }
    },
    {
      "cell_type": "code",
      "source": [
        "import math\n",
        "\n",
        "numbers = [1.2, 3.7, 5.5, 8.1, 9.9]\n",
        "\n",
        "rounded_numbers = list(map(round, numbers))\n",
        "\n",
        "print(rounded_numbers)"
      ],
      "metadata": {
        "colab": {
          "base_uri": "https://localhost:8080/"
        },
        "id": "14EFcqOS7F1z",
        "outputId": "6714b2e5-6f2a-4581-b918-0e695ac1e77e"
      },
      "execution_count": null,
      "outputs": [
        {
          "output_type": "stream",
          "name": "stdout",
          "text": [
            "[1, 4, 6, 8, 10]\n"
          ]
        }
      ]
    },
    {
      "cell_type": "markdown",
      "source": [
        "#Reduce :-\n"
      ],
      "metadata": {
        "id": "ILrcmPkufGuW"
      }
    },
    {
      "cell_type": "markdown",
      "source": [
        "1.\tWhat is the `reduce()` function in Python, and what module should you import to use it? Provide an example of its basic usage.\n"
      ],
      "metadata": {
        "id": "80d9amv5fMJu"
      }
    },
    {
      "cell_type": "code",
      "source": [
        "'''The reduce() function is used to apply a function to a sequence of elements\n",
        "and cumulatively reduce them to a single value.\n",
        "It works by applying the function to the first two elements, then to the result\n",
        "and the next element, and so on, until all elements have been processed.'''\n",
        "\n",
        " # import to use it =  from functools import reduce\n",
        "\n",
        "from functools import reduce\n",
        "\n",
        "def add (x,y):\n",
        "  return x + y\n",
        "\n",
        "sum_total = reduce(add,[1,2,3,4,5])\n",
        "print(sum_total)"
      ],
      "metadata": {
        "colab": {
          "base_uri": "https://localhost:8080/"
        },
        "id": "-cj7S8q8Y4_n",
        "outputId": "4db60e38-4832-444c-e274-5549e71b38d9"
      },
      "execution_count": null,
      "outputs": [
        {
          "output_type": "stream",
          "name": "stdout",
          "text": [
            "15\n"
          ]
        }
      ]
    },
    {
      "cell_type": "markdown",
      "source": [
        "2.\tWrite a Python program that uses the `reduce()` function to find the product of all elements in a list.\n"
      ],
      "metadata": {
        "id": "REAaYCUQL4rJ"
      }
    },
    {
      "cell_type": "code",
      "source": [
        "from functools import reduce\n",
        "\n",
        "l1 = [1,2,3,4,5,6,7,8,9]\n",
        "\n",
        "def addition(x,y):\n",
        "  return x + y\n",
        "\n",
        "product = reduce(addition,l1)\n",
        "print(product)"
      ],
      "metadata": {
        "colab": {
          "base_uri": "https://localhost:8080/"
        },
        "id": "tZSEZm1Lblbp",
        "outputId": "46bedac0-9080-4e76-debd-46ee16422e3a"
      },
      "execution_count": null,
      "outputs": [
        {
          "output_type": "stream",
          "name": "stdout",
          "text": [
            "45\n"
          ]
        }
      ]
    },
    {
      "cell_type": "markdown",
      "source": [
        "3.\tCreate a Python program that uses `reduce()` to find the maximum element in a list of numbers.\n"
      ],
      "metadata": {
        "id": "9K35CNG_L6qp"
      }
    },
    {
      "cell_type": "code",
      "source": [
        "l1 = [34,5,56,23,7,54]\n",
        "def finc_max(x,y):\n",
        "  if x > y:\n",
        "    return x\n",
        "  else:\n",
        "     return y\n",
        "\n",
        "print(reduce(finc_max,l1))\n",
        "\n"
      ],
      "metadata": {
        "colab": {
          "base_uri": "https://localhost:8080/"
        },
        "id": "BfJW2N0DcGd9",
        "outputId": "507dea3e-f544-4e78-9f31-881778db561b"
      },
      "execution_count": null,
      "outputs": [
        {
          "output_type": "stream",
          "name": "stdout",
          "text": [
            "56\n"
          ]
        }
      ]
    },
    {
      "cell_type": "markdown",
      "source": [
        "4.\tHow can you use the `reduce()` function to concatenate a list of strings into a single string?\n"
      ],
      "metadata": {
        "id": "ZMkSyZ4jL8RG"
      }
    },
    {
      "cell_type": "code",
      "source": [
        "from functools import reduce\n",
        "l1 = ['Ram']\n",
        "l2 = [' Shreya']\n",
        "\n",
        "def concat(x,y):\n",
        "  return x + y\n",
        "\n",
        "print(reduce(concat,l1+l2))"
      ],
      "metadata": {
        "colab": {
          "base_uri": "https://localhost:8080/"
        },
        "id": "5Em8zBVLAhRW",
        "outputId": "f462acc3-1a65-4dd6-b7af-bc13e0d6403a"
      },
      "execution_count": null,
      "outputs": [
        {
          "output_type": "stream",
          "name": "stdout",
          "text": [
            "Ram Shreya\n"
          ]
        }
      ]
    },
    {
      "cell_type": "markdown",
      "source": [
        "5.\tWrite a Python program that calculates the factorial of a number using the `reduce()` function.\n"
      ],
      "metadata": {
        "id": "h4YeP4jpL98A"
      }
    },
    {
      "cell_type": "code",
      "source": [
        "def factorial(n):\n",
        "  if n==0:\n",
        "    return 1\n",
        "  else:\n",
        "    return reduce(lambda x,y: x*y,range(1,n+1))\n",
        "\n",
        "number = int(input(\"Enter a number: \"))\n",
        "result = factorial(number)\n",
        "print(f\"The factorial of {number} is {result}\")"
      ],
      "metadata": {
        "colab": {
          "base_uri": "https://localhost:8080/"
        },
        "id": "YnYBOmtbBsed",
        "outputId": "cd4c4d1d-9574-4e47-d1f6-0e718c4bd7d2"
      },
      "execution_count": null,
      "outputs": [
        {
          "output_type": "stream",
          "name": "stdout",
          "text": [
            "Enter a number: 4\n",
            "The factorial of 4 is 24\n"
          ]
        }
      ]
    },
    {
      "cell_type": "markdown",
      "source": [
        "6.\tCreate a Python program that uses `reduce()` to find the GCD (Greatest Common Divisor) of a list of numbers.\n"
      ],
      "metadata": {
        "id": "wiusE568L_0d"
      }
    },
    {
      "cell_type": "code",
      "source": [
        "from functools import reduce\n",
        "import math\n",
        "def find_gcd(numbers):\n",
        "\n",
        "  return reduce(math.gcd, numbers)\n",
        "numbers = [12,18,25,8]\n",
        "gcd = find_gcd(numbers)\n",
        "print(f\"the GCD of {numbers} is {gcd}\")"
      ],
      "metadata": {
        "colab": {
          "base_uri": "https://localhost:8080/"
        },
        "id": "Lv_qNoNDGnD9",
        "outputId": "efc0f2a8-d8a5-4e19-c436-52ef8b6922f4"
      },
      "execution_count": null,
      "outputs": [
        {
          "output_type": "stream",
          "name": "stdout",
          "text": [
            "the GCD of [12, 18, 25, 8] is 1\n"
          ]
        }
      ]
    },
    {
      "cell_type": "markdown",
      "source": [
        "7.\tWrite a Python program that uses the `reduce()` function to find the sum of the digits of a given number."
      ],
      "metadata": {
        "id": "KTSZL1YEMBm6"
      }
    },
    {
      "cell_type": "code",
      "source": [
        "from functools import reduce\n",
        "\n",
        "def sum_digits(number):\n",
        "  digits = [int(d) for d in str(number)]\n",
        "  return reduce(lambda x, y: x + y, digits)\n",
        "\n",
        "\n",
        "number = 12345\n",
        "digit_sum = sum_digits(number)\n",
        "print(f\"The sum of the digits of {number} is: {digit_sum}\")"
      ],
      "metadata": {
        "colab": {
          "base_uri": "https://localhost:8080/"
        },
        "id": "HBlQF8QRIS8d",
        "outputId": "0b367a7e-5377-44a3-8c13-1c2ccae882ff"
      },
      "execution_count": null,
      "outputs": [
        {
          "output_type": "stream",
          "name": "stdout",
          "text": [
            "The sum of the digits of 12345 is: 15\n"
          ]
        }
      ]
    },
    {
      "cell_type": "markdown",
      "source": [
        "#Filter :-\n"
      ],
      "metadata": {
        "id": "Dbel3rlXfQOC"
      }
    },
    {
      "cell_type": "markdown",
      "source": [
        "1.\tExplain the purpose of the `filter()` function in Python and provide an example of how it can be used to filter elements from an iterable.\n",
        "\n"
      ],
      "metadata": {
        "id": "SL93NjR1fUfq"
      }
    },
    {
      "cell_type": "code",
      "source": [
        "'''\n",
        "How it works\n",
        "\n",
        "Arguments: The filter() function takes two arguments:\n",
        "function: A function that takes a single argument (an element from the iterable)\n",
        "and returns True if the element should be included in the filtered iterable,\n",
        "or False otherwise.\n",
        "iterable: The original iterable (e.g., a list, tuple, or string) that you want to filter.\n",
        "\n",
        "Filtering: The filter() function iterates through each element in the iterable.\n",
        "For each element, it calls the function with the element as an argument.\n",
        "If the function returns True, the element is included in the filtered iterable.\n",
        "If the function returns False, the element is skipped.\n",
        "\n",
        "Return Value: The filter() function returns a filter object, which is an iterator\n",
        "that yields the filtered elements. To get a list, you can convert the filter object\n",
        "to a list using the list() function.\n",
        "'''\n",
        "\n",
        "def find_even(num):\n",
        "  return num%2==0\n",
        "\n",
        "numbers = [1,2,3,4,5,6,7,8,9,10]\n",
        "even_numbers = list(filter(find_even,numbers))\n",
        "print(even_numbers)"
      ],
      "metadata": {
        "colab": {
          "base_uri": "https://localhost:8080/"
        },
        "id": "KT5nhkDk6-OK",
        "outputId": "0bae6931-548e-4205-d2a2-5e035e5d6add"
      },
      "execution_count": null,
      "outputs": [
        {
          "output_type": "stream",
          "name": "stdout",
          "text": [
            "[2, 4, 6, 8, 10]\n"
          ]
        }
      ]
    },
    {
      "cell_type": "markdown",
      "source": [
        "2.\tWrite a Python program that uses the `filter()` function to select even numbers from a list of integers."
      ],
      "metadata": {
        "id": "ZhVWzAABMHBR"
      }
    },
    {
      "cell_type": "code",
      "source": [
        "def find_even(num):\n",
        "  return num%2==0\n",
        "\n",
        "numbers = [1,2,3,4,5,6,7,8,9,10]\n",
        "even_numbers = list(filter(find_even,numbers))\n",
        "print(even_numbers)"
      ],
      "metadata": {
        "colab": {
          "base_uri": "https://localhost:8080/"
        },
        "id": "urBHimrc9Abw",
        "outputId": "3fc4b0fa-41f5-4f13-ed43-dd972190238d"
      },
      "execution_count": null,
      "outputs": [
        {
          "output_type": "stream",
          "name": "stdout",
          "text": [
            "[2, 4, 6, 8, 10]\n"
          ]
        }
      ]
    },
    {
      "cell_type": "markdown",
      "source": [
        "\n",
        "3.\tCreate a Python program that uses the `filter()` function to select names that start with a specific letter from a list of strings.\n"
      ],
      "metadata": {
        "id": "mEUSiws1MJa7"
      }
    },
    {
      "cell_type": "code",
      "source": [
        "def specific_letter(x):\n",
        "  return x.startswith(\"S\")\n",
        "\n",
        "names = [\"Shreya\",\"Prabhu\",\"Ram\"]\n",
        "\n",
        "s_names = list(filter(specific_letter,names))\n",
        "print(s_names)"
      ],
      "metadata": {
        "colab": {
          "base_uri": "https://localhost:8080/"
        },
        "id": "jPLcXPU59E9z",
        "outputId": "d53f7c79-fa3d-4d91-9be8-213fe54db99f"
      },
      "execution_count": null,
      "outputs": [
        {
          "output_type": "stream",
          "name": "stdout",
          "text": [
            "['Shreya']\n"
          ]
        }
      ]
    },
    {
      "cell_type": "markdown",
      "source": [
        "4.\tWrite a Python program that uses the `filter()` function to select prime numbers from a list of integers.\n"
      ],
      "metadata": {
        "id": "j7miY9wRML15"
      }
    },
    {
      "cell_type": "code",
      "source": [
        "def is_prime(n):\n",
        "  if n <= 1:\n",
        "    return False\n",
        "  for i in range(2, int(n**0.5) + 1):\n",
        "    if n % i == 0:\n",
        "      return False\n",
        "  return True\n",
        "\n",
        "numbers = [2, 3, 4, 5, 6, 7, 8, 9, 10]\n",
        "prime_numbers = list(filter(is_prime, numbers))\n",
        "print(prime_numbers)"
      ],
      "metadata": {
        "id": "9A36DshM9qU-",
        "colab": {
          "base_uri": "https://localhost:8080/"
        },
        "outputId": "d668d888-4858-4ed7-fd68-86164282d562"
      },
      "execution_count": null,
      "outputs": [
        {
          "output_type": "stream",
          "name": "stdout",
          "text": [
            "[2, 3, 5, 7]\n"
          ]
        }
      ]
    },
    {
      "cell_type": "markdown",
      "source": [
        "5.\tHow can you use the `filter()` function to remove None values from a list in Python?\n"
      ],
      "metadata": {
        "id": "gDPmIffCMOV7"
      }
    },
    {
      "cell_type": "code",
      "source": [
        "data = [1, 2, None, 4, 5, None, 7]\n",
        "filtered_data = list(filter(None, data))\n",
        "print(filtered_data)"
      ],
      "metadata": {
        "colab": {
          "base_uri": "https://localhost:8080/"
        },
        "id": "atsT122tAhyc",
        "outputId": "c811ab15-edcf-4487-ab72-5212cb1dcd57"
      },
      "execution_count": null,
      "outputs": [
        {
          "output_type": "stream",
          "name": "stdout",
          "text": [
            "[1, 2, 4, 5, 7]\n"
          ]
        }
      ]
    },
    {
      "cell_type": "markdown",
      "source": [
        "6.\tCreate a Python program that uses `filter()` to select words longer than a certain length from a list of strings.\n"
      ],
      "metadata": {
        "id": "y1GFnxzLMQTL"
      }
    },
    {
      "cell_type": "code",
      "source": [
        "def filter_long_words(words, length):\n",
        "  return list(filter(lambda word: len(word) > length, words))\n",
        "\n",
        "\n",
        "words = [\"hello\", \"world\", \"python\", \"programming\", \"is\", \"fun\"]\n",
        "long_words = filter_long_words(words, 4)\n",
        "print(long_words)"
      ],
      "metadata": {
        "colab": {
          "base_uri": "https://localhost:8080/"
        },
        "id": "2Y9vRVxMAz-M",
        "outputId": "3443ef95-e916-4b50-ba56-8bccc6864aef"
      },
      "execution_count": null,
      "outputs": [
        {
          "output_type": "stream",
          "name": "stdout",
          "text": [
            "['hello', 'world', 'python', 'programming']\n"
          ]
        }
      ]
    },
    {
      "cell_type": "markdown",
      "source": [
        "7.\tWrite a Python program that uses the `filter()` function to select elements greater than a specified threshold from a list of values."
      ],
      "metadata": {
        "id": "JHYL-06NMSu7"
      }
    },
    {
      "cell_type": "code",
      "source": [
        "def filter_greater_than_threshold(values, threshold):\n",
        "  return list(filter(lambda value: value > threshold, values))\n",
        "\n",
        "\n",
        "values = [10, 25, 5, 30, 15, 40, 20]\n",
        "threshold = 20\n",
        "filtered_values = filter_greater_than_threshold(values, threshold)\n",
        "print(filtered_values)"
      ],
      "metadata": {
        "colab": {
          "base_uri": "https://localhost:8080/"
        },
        "id": "ufuL_MKPBFS0",
        "outputId": "592396e3-068f-436d-a3cb-da39f9ea723b"
      },
      "execution_count": null,
      "outputs": [
        {
          "output_type": "stream",
          "name": "stdout",
          "text": [
            "[25, 30, 40]\n"
          ]
        }
      ]
    },
    {
      "cell_type": "markdown",
      "source": [
        "#Recursion:-\n"
      ],
      "metadata": {
        "id": "IV0E1yc4fZa1"
      }
    },
    {
      "cell_type": "markdown",
      "source": [
        "1.\tExplain the concept of recursion in Python. How does it differ from iteration?\n",
        "\n"
      ],
      "metadata": {
        "id": "khj34RrTfecZ"
      }
    },
    {
      "cell_type": "code",
      "source": [
        "'''\n",
        "Recursion solves a problem by breaking it down into smaller, self-similar subproblems,\n",
        "then combining the results. It uses function calls to itself to achieve this.\n",
        "\n",
        "Iteration solves a problem by repeatedly executing a set of instructions\n",
        "in a loop until a specific condition is met. It uses loops like for or while.\n",
        "\n",
        "'''"
      ],
      "metadata": {
        "id": "BzWwrRFQBWXX"
      },
      "execution_count": null,
      "outputs": []
    },
    {
      "cell_type": "markdown",
      "source": [
        "2.\tWrite a Python program to calculate the factorial of a number using recursion.\n"
      ],
      "metadata": {
        "id": "ya_Lm1MMMbR2"
      }
    },
    {
      "cell_type": "code",
      "source": [
        "def facto(n):\n",
        "  if n==0:\n",
        "    return 1\n",
        "  else:\n",
        "    return n*facto(n-1)\n",
        "\n",
        "number = int(input(\"Enter a number: \"))\n",
        "result = facto(number)\n",
        "print(f\"The factorial of {number} is {result}\")"
      ],
      "metadata": {
        "colab": {
          "base_uri": "https://localhost:8080/"
        },
        "id": "PZL_S9JmCIq2",
        "outputId": "bc809b5a-1f72-411f-ea2a-3fcd4eba542c"
      },
      "execution_count": null,
      "outputs": [
        {
          "output_type": "stream",
          "name": "stdout",
          "text": [
            "Enter a number: 5\n",
            "The factorial of 5 is 120\n"
          ]
        }
      ]
    },
    {
      "cell_type": "markdown",
      "source": [
        "3.\tCreate a recursive Python function to find the nth Fibonacci number.\n"
      ],
      "metadata": {
        "id": "Zaf3YyNpMexo"
      }
    },
    {
      "cell_type": "code",
      "source": [
        "def fibonacci(n):\n",
        "\n",
        "  if n < 2:\n",
        "    return n\n",
        "  else:\n",
        "    return fibonacci(n - 1) + fibonacci(n - 2)\n",
        "\n",
        "n = int(input(\"Enter the position of the Fibonacci number you want: \"))\n",
        "\n",
        "if n >= 0:\n",
        "  result = fibonacci(n)\n",
        "  print(f\"The {n}th Fibonacci number is {result}\")\n",
        "else:\n",
        "  print(\"Fibonacci sequence is not defined for negative positions.\")"
      ],
      "metadata": {
        "colab": {
          "base_uri": "https://localhost:8080/"
        },
        "id": "EHudMK5SCLeZ",
        "outputId": "1162fc3c-6232-4fa1-cd03-fdb5cf464fb3"
      },
      "execution_count": null,
      "outputs": [
        {
          "output_type": "stream",
          "name": "stdout",
          "text": [
            "Enter the position of the Fibonacci number you want: 4\n",
            "The 4th Fibonacci number is 3\n"
          ]
        }
      ]
    },
    {
      "cell_type": "markdown",
      "source": [
        "4.\tWrite a recursive Python function to calculate the sum of all elements in a list.\n"
      ],
      "metadata": {
        "id": "MvvNXzdDMlWr"
      }
    },
    {
      "cell_type": "code",
      "source": [
        "def recursive_sum(lst):\n",
        "  if not lst:\n",
        "    return 0\n",
        "  else:\n",
        "    return lst[0] + recursive_sum(lst[1:])\n",
        "\n",
        "\n",
        "numbers = [1, 2, 3, 4, 5]\n",
        "total_sum = recursive_sum(numbers)\n",
        "print(f\"The sum of the elements in the list is: {total_sum}\")"
      ],
      "metadata": {
        "colab": {
          "base_uri": "https://localhost:8080/"
        },
        "id": "raFSuMoqCL81",
        "outputId": "cc1cc390-3a2b-4bbc-b5b5-9640c6096909"
      },
      "execution_count": null,
      "outputs": [
        {
          "output_type": "stream",
          "name": "stdout",
          "text": [
            "The sum of the elements in the list is: 15\n"
          ]
        }
      ]
    },
    {
      "cell_type": "markdown",
      "source": [
        "5.\tHow can you prevent a recursive function from running indefinitely, causing a stack overflow error?\n"
      ],
      "metadata": {
        "id": "9NYOeagwMnY6"
      }
    },
    {
      "cell_type": "code",
      "source": [
        "'''\n",
        "To prevent a recursive function from running indefinitely and causing a stack overflow error,\n",
        "always ensure it has a well-defined base case that eventually stops the recursion.\n",
        "\n",
        "Base Case: A condition that tells the function when to stop calling itself.\n",
        "Without a base case, the function will keep calling itself,\n",
        "leading to an endless loop and stack overflow.\n",
        "'''"
      ],
      "metadata": {
        "colab": {
          "base_uri": "https://localhost:8080/",
          "height": 105
        },
        "id": "W5JMKFmACMfF",
        "outputId": "da6b640f-5106-4e8f-86b1-83368e2b7f84"
      },
      "execution_count": null,
      "outputs": [
        {
          "output_type": "execute_result",
          "data": {
            "text/plain": [
              "'\\nTo prevent a recursive function from running indefinitely and causing a stack overflow error,\\nalways ensure it has a well-defined base case that eventually stops the recursion.\\n\\nBase Case: A condition that tells the function when to stop calling itself. \\nWithout a base case, the function will keep calling itself, \\nleading to an endless loop and stack overflow.\\n'"
            ],
            "application/vnd.google.colaboratory.intrinsic+json": {
              "type": "string"
            }
          },
          "metadata": {},
          "execution_count": 11
        }
      ]
    },
    {
      "cell_type": "markdown",
      "source": [
        "6.\tCreate a recursive Python function to find the greatest common divisor (GCD) of two numbers using the Euclidean algorithm.\n"
      ],
      "metadata": {
        "id": "sJfaWz_cMqNn"
      }
    },
    {
      "cell_type": "code",
      "source": [
        "def gcd(a, b):\n",
        "\n",
        "  if b == 0:\n",
        "    return a\n",
        "  else:\n",
        "    return gcd(b, a % b)\n",
        "\n",
        "num1 = 48\n",
        "num2 = 18\n",
        "result = gcd(num1, num2)\n",
        "print(f\"The GCD of {num1} and {num2} is: {result}\")  # Output: 6"
      ],
      "metadata": {
        "colab": {
          "base_uri": "https://localhost:8080/"
        },
        "id": "fOVMPrAkCNEp",
        "outputId": "d227e5a5-464d-4dcc-b1db-44d9d585fb68"
      },
      "execution_count": null,
      "outputs": [
        {
          "output_type": "stream",
          "name": "stdout",
          "text": [
            "The GCD of 48 and 18 is: 6\n"
          ]
        }
      ]
    },
    {
      "cell_type": "markdown",
      "source": [
        "7.\tWrite a recursive Python function to reverse a string.\n"
      ],
      "metadata": {
        "id": "yNXbEkWaMuBm"
      }
    },
    {
      "cell_type": "code",
      "source": [
        "def reverse_string(text):\n",
        "\n",
        "  if len(text) == 0:\n",
        "    return text\n",
        "  else:\n",
        "    return reverse_string(text[1:]) + text[0]\n",
        "\n",
        "\n",
        "string = \"hello\"\n",
        "reversed_string = reverse_string(string)\n",
        "print(f\"The reversed string is: {reversed_string}\")"
      ],
      "metadata": {
        "colab": {
          "base_uri": "https://localhost:8080/"
        },
        "id": "RAKW99KvCNhc",
        "outputId": "a633bbc3-94b5-4c50-9d6b-62dd0862440a"
      },
      "execution_count": null,
      "outputs": [
        {
          "output_type": "stream",
          "name": "stdout",
          "text": [
            "The reversed string is: olleh\n"
          ]
        }
      ]
    },
    {
      "cell_type": "markdown",
      "source": [
        "8.\tCreate a recursive Python function to calculate the power of a number (x^n).\n"
      ],
      "metadata": {
        "id": "lBJXv-b7MwLd"
      }
    },
    {
      "cell_type": "code",
      "source": [
        "def power(x, n):\n",
        "\n",
        "  if n == 0:\n",
        "    return 1\n",
        "  elif n < 0:\n",
        "    return 1 / power(x, -n)\n",
        "  else:\n",
        "    return x * power(x, n - 1)\n",
        "\n",
        "\n",
        "base = 2\n",
        "exponent = 3\n",
        "result = power(base, exponent)\n",
        "print(f\"{base} raised to the power of {exponent} is: {result}\")"
      ],
      "metadata": {
        "colab": {
          "base_uri": "https://localhost:8080/"
        },
        "id": "Fb7fHuWxCN97",
        "outputId": "67005674-935b-40a5-b0f2-3d611b0d2dab"
      },
      "execution_count": null,
      "outputs": [
        {
          "output_type": "stream",
          "name": "stdout",
          "text": [
            "2 raised to the power of 3 is: 8\n"
          ]
        }
      ]
    },
    {
      "cell_type": "markdown",
      "source": [
        "9.\tWrite a recursive Python function to find all permutations of a given string.\n"
      ],
      "metadata": {
        "id": "hHC5neQ6MyX8"
      }
    },
    {
      "cell_type": "code",
      "source": [
        "def permutations(string):\n",
        "\n",
        "\n",
        "  if len(string) == 0:\n",
        "    return [\"\"]\n",
        "\n",
        "  if len(string) == 1:\n",
        "    return [string]\n",
        "\n",
        "  result = []\n",
        "\n",
        "  for i, char in enumerate(string):\n",
        "    remaining_chars = string[:i] + string[i+1:]\n",
        "\n",
        "    for perm in permutations(remaining_chars):\n",
        "      result.append(char + perm)\n",
        "\n",
        "  return result\n",
        "\n",
        "\n",
        "string = \"abc\"\n",
        "all_permutations = permutations(string)\n",
        "print(f\"All permutations of '{string}' are: {all_permutations}\")"
      ],
      "metadata": {
        "id": "6oKWQy8SCOZF"
      },
      "execution_count": null,
      "outputs": []
    },
    {
      "cell_type": "markdown",
      "source": [
        "10.\tWrite a recursive Python function to check if a string is a palindrome.\n"
      ],
      "metadata": {
        "id": "quTpVlaCM0Nz"
      }
    },
    {
      "cell_type": "code",
      "source": [
        "def is_palindrome(text):\n",
        "\n",
        "  text = text.lower()\n",
        "\n",
        "  if len(text) <= 1:\n",
        "    return True\n",
        "  elif text[0] == text[-1]:\n",
        "    return is_palindrome(text[1:-1])\n",
        "  else:\n",
        "    return False\n",
        "\n",
        "\n",
        "string = \"racecar\"\n",
        "if is_palindrome(string):\n",
        "  print(f\"'{string}' is a palindrome.\")\n",
        "else:\n",
        "  print(f\"'{string}' is not a palindrome.\")"
      ],
      "metadata": {
        "id": "fm5zUW9LCO2D"
      },
      "execution_count": null,
      "outputs": []
    },
    {
      "cell_type": "markdown",
      "source": [
        "11.\tCreate a recursive Python function to generate all possible combinations of a list of elements."
      ],
      "metadata": {
        "id": "-G3XRxM5M2Qi"
      }
    },
    {
      "cell_type": "code",
      "source": [
        "def combinations(elements):\n",
        "\n",
        "  if not elements:\n",
        "    return [[]]\n",
        "\n",
        "  element = elements[0]\n",
        "  rest = elements[1:]\n",
        "\n",
        "  combs_without_first = combinations(rest)\n",
        "\n",
        "  combs_with_first = []\n",
        "  for comb in combs_without_first:\n",
        "    comb_with_first = comb + [element]\n",
        "    combs_with_first.append(comb_with_first)\n",
        "\n",
        "  return combs_without_first + combs_with_first\n",
        "\n",
        "\n",
        "my_list = [1, 2, 3]\n",
        "all_combinations = combinations(my_list)\n",
        "print(f\"All combinations of {my_list} are: {all_combinations}\")"
      ],
      "metadata": {
        "id": "QvC4BUXJCPqj"
      },
      "execution_count": null,
      "outputs": []
    },
    {
      "cell_type": "markdown",
      "source": [
        "#Basics of Functions:\n"
      ],
      "metadata": {
        "id": "DRYQYO_AfjqZ"
      }
    },
    {
      "cell_type": "markdown",
      "source": [
        "1.\tWhat is a function in Python, and why is it used?\n"
      ],
      "metadata": {
        "id": "W26DApC2foFy"
      }
    },
    {
      "cell_type": "code",
      "source": [
        "'''\n",
        "- A function is like a mini-program or a block of code that does a specific task.\n",
        "\n",
        "- Organization: They help keep your code neat and tidy.\n",
        "- Reusability: Write the code once, use it many times.\n",
        "- Readability: Makes your code easier to understand.\n",
        "'''"
      ],
      "metadata": {
        "id": "qUhyZhDUGDnb"
      },
      "execution_count": null,
      "outputs": []
    },
    {
      "cell_type": "markdown",
      "source": [
        "2.\tHow do you define a function in Python? Provide an example.\n"
      ],
      "metadata": {
        "id": "UcILcXiYM7f9"
      }
    },
    {
      "cell_type": "code",
      "source": [
        "'''\n",
        "- def keyword: Signals the start of a function definition.\n",
        "- function_name: A descriptive name for your function (follow Python's naming conventions – lowercase with underscores).\n",
        "- parameters: Input values the function accepts (optional).\n",
        "- Docstring: A string within triple quotes (\"\"\"Docstring\"\"\") explaining what the function does (good practice for documentation).\n",
        "- Code block: The actual instructions the function executes.\n",
        "- return statement: Sends a value back to the caller (optional).\n",
        "'''\n",
        "\n",
        "def greet(name):\n",
        "  \"\"\"This function greets the person passed in as a parameter.\"\"\"\n",
        "  print(f\"Hello, {name}!\")\n",
        "\n",
        "\n",
        "greet(\"Alice\")\n"
      ],
      "metadata": {
        "id": "M4kr_gDkGEJi",
        "colab": {
          "base_uri": "https://localhost:8080/"
        },
        "outputId": "4fbdf0c3-9a33-4f87-853e-aff4d8a06897"
      },
      "execution_count": null,
      "outputs": [
        {
          "output_type": "stream",
          "name": "stdout",
          "text": [
            "Hello, Alice!\n"
          ]
        }
      ]
    },
    {
      "cell_type": "markdown",
      "source": [
        "3.\tExplain the difference between a function definition and a function call.\n"
      ],
      "metadata": {
        "id": "tOYZRYcPM9Zc"
      }
    },
    {
      "cell_type": "code",
      "source": [
        "'''\n",
        "Function Definition\n",
        "\n",
        "- What it is: This is where you create the function, giving it a name,\n",
        " specifying its parameters, and writing the code it will execute.\n",
        "- Purpose: To set up the blueprint for how the function works –\n",
        "what it does, what data it needs, and what it returns (if anything).\n",
        "- Syntax: Starts with the def keyword, followed by the function name,\n",
        "parameters in parentheses, and a code block.\n",
        "- When it happens: This is done only once when you write the function's code.\n",
        "\n",
        "Function Call\n",
        "\n",
        "- What it is: This is when you actually use the function to do its work.\n",
        "      You provide it with the necessary arguments (data), and it executes its code.\n",
        "- Purpose: To put the function into action and get the desired result.\n",
        "- Syntax: You write the function name followed by parentheses containing any arguments\n",
        "- When it happens: Every time you want the function to execute, you need to call it.\n",
        "\n",
        "'''"
      ],
      "metadata": {
        "id": "_M-6OSSMGFA6"
      },
      "execution_count": null,
      "outputs": []
    },
    {
      "cell_type": "markdown",
      "source": [
        "4.\tWrite a Python program that defines a function to calculate the sum of two numbers and then calls the function.\n"
      ],
      "metadata": {
        "id": "psK2rAbjM-3u"
      }
    },
    {
      "cell_type": "code",
      "source": [
        "def calculate_sum(num1, num2):\n",
        "  \"\"\"This function calculates the sum of two numbers.\"\"\"\n",
        "  sum = num1 + num2\n",
        "  return sum\n",
        "\n",
        "\n",
        "number1 = float(input(\"Enter the first number: \"))\n",
        "number2 = float(input(\"Enter the second number: \"))\n",
        "\n",
        "\n",
        "result = calculate_sum(number1, number2)\n",
        "print(f\"The sum of {number1} and {number2} is: {result}\")"
      ],
      "metadata": {
        "id": "RHPbNpDZGGEI"
      },
      "execution_count": null,
      "outputs": []
    },
    {
      "cell_type": "markdown",
      "source": [
        "5.\tWhat is a function signature, and what information does it typically include?\n"
      ],
      "metadata": {
        "id": "Lqn-Wgs4NAQq"
      }
    },
    {
      "cell_type": "markdown",
      "source": [
        "What is a Function Signature?\n",
        "\n",
        "A function signature is essentially the blueprint or declaration of a function. It provides essential information about how the function should be used, without including the actual implementation details of the function's code.\n",
        "\n",
        "Information Included\n",
        "\n",
        "A function signature typically includes:\n",
        "\n",
        "A) Function Name: The name you use to refer to the function when calling it.\n",
        "\n",
        "B) Parameters:\n",
        "\n",
        "The names of the input values (parameters) that the function accepts.\n",
        "The order in which these parameters should be provided.\n",
        "Optionally, data types of the parameters (in languages with strong typing).\n",
        "Default values (if any) for parameters.\n",
        "\n",
        "C) Return Type:\n",
        "\n",
        "The type of data (e.g., integer, float, string, or even a custom data type) that the function returns (if it returns anything).\n",
        "In dynamically typed languages like Python, this is often implicit, but it's still a useful concept to understand."
      ],
      "metadata": {
        "id": "Gx1YauxGI4l9"
      }
    },
    {
      "cell_type": "markdown",
      "source": [
        "6.\tCreate a Python function that takes two arguments and returns their product.\n"
      ],
      "metadata": {
        "id": "_P6j8CCTNBhY"
      }
    },
    {
      "cell_type": "code",
      "source": [
        "def multiply(x, y):\n",
        "  \"\"\"\n",
        "  This function takes two numbers as arguments and returns their product.\n",
        "  \"\"\"\n",
        "  product = x * y\n",
        "  return product\n",
        "\n",
        "\n",
        "result = multiply(5, 3)\n",
        "print(result)"
      ],
      "metadata": {
        "id": "o1zd3RgOGHJr"
      },
      "execution_count": null,
      "outputs": []
    },
    {
      "cell_type": "markdown",
      "source": [
        "#Function Parameters and Arguments:\n"
      ],
      "metadata": {
        "id": "uudZulbLftEW"
      }
    },
    {
      "cell_type": "markdown",
      "source": [
        "1.\tExplain the concepts of formal parameters and actual arguments in Python functions.\n"
      ],
      "metadata": {
        "id": "OMRvGHPZfxOk"
      }
    },
    {
      "cell_type": "markdown",
      "source": [
        "Formal Parameters\n",
        "\n",
        "- What they are: These are the variables listed in the function definition's parentheses. They act as placeholders for the values that will be passed to the function when it's called.\n",
        "\n",
        "- Purpose: To define what kind of input the function expects and how it will be used within the function's code.\n",
        "\n",
        "Actual Arguments\n",
        "\n",
        "- What they are: These are the actual values that you provide to a function when you call it. They are also sometimes referred to as \"arguments\" or simply \"parameters.\"\n",
        "\n",
        "- Purpose: To provide the specific data that the function should work with during that particular call."
      ],
      "metadata": {
        "id": "cOCGYbzEL0tL"
      }
    },
    {
      "cell_type": "markdown",
      "source": [
        "2.\tWrite a Python program that defines a function with default argument values.\n"
      ],
      "metadata": {
        "id": "9rjKMwBdNEmS"
      }
    },
    {
      "cell_type": "code",
      "source": [
        "def greet(name, greeting=\"Hello\"):\n",
        "\n",
        "  print(f\"{greeting}, {name}!\")\n",
        "\n",
        "greet(\"Alice\")\n",
        "greet(\"Bob\", \"Hey there\")"
      ],
      "metadata": {
        "id": "bEr83NKAGILw"
      },
      "execution_count": null,
      "outputs": []
    },
    {
      "cell_type": "markdown",
      "source": [
        "3.\tHow do you use keyword arguments in Python function calls? Provide an example.\n"
      ],
      "metadata": {
        "id": "5LrMwHEVNGFD"
      }
    },
    {
      "cell_type": "markdown",
      "source": [
        "What are Keyword Arguments?\n",
        "\n",
        "Keyword arguments (or kwargs) allow you to specify arguments by their parameter names when calling a function. This makes your code more readable and avoids confusion about the order of arguments, especially when a function has many parameters.\n",
        "\n",
        "How to Use Keyword Arguments\n",
        "\n",
        "During the Function Call:\n",
        "\n",
        "Use the syntax parameter_name=value when calling the function.\n",
        "You can use keyword arguments for some or all of the arguments.\n",
        "\n",
        "Order Doesn't Matter:\n",
        "\n",
        "When using keyword arguments, the order in which you provide them doesn't matter. Python will match the arguments to the correct parameters based on their names."
      ],
      "metadata": {
        "id": "-ibQnEn1NCrj"
      }
    },
    {
      "cell_type": "code",
      "source": [
        "def describe_pet(animal_type, pet_name):\n",
        "  \"\"\"Displays information about a pet.\"\"\"\n",
        "  print(f\"\\nI have a {animal_type}.\")\n",
        "  print(f\"My {animal_type}'s name is {pet_name.title()}.\")\n",
        "\n",
        "\n",
        "describe_pet(animal_type='hamster', pet_name='harry')\n",
        "describe_pet(pet_name='willie', animal_type='dog')"
      ],
      "metadata": {
        "id": "AIQBFHgxGIpc"
      },
      "execution_count": null,
      "outputs": []
    },
    {
      "cell_type": "markdown",
      "source": [
        "4.\tCreate a Python function that accepts a variable number of arguments and calculates their sum.\n"
      ],
      "metadata": {
        "id": "aAwxZcwGNHfb"
      }
    },
    {
      "cell_type": "code",
      "source": [
        "def calculate_sum(*args):\n",
        "  \"\"\"Calculates the sum of all the arguments passed.\"\"\"\n",
        "  total_sum = 0\n",
        "  for number in args:\n",
        "    total_sum += number\n",
        "  return total_sum\n",
        "\n",
        "\n",
        "result1 = calculate_sum(1, 2, 3)\n",
        "result2 = calculate_sum(10, 20, 30, 40, 50)\n",
        "print(result1)\n",
        "print(result2)"
      ],
      "metadata": {
        "id": "bFp8huiBGJHc"
      },
      "execution_count": null,
      "outputs": []
    },
    {
      "cell_type": "markdown",
      "source": [
        "5.\tWhat is the purpose of the `*args` and `**kwargs` syntax in function parameter lists?\n"
      ],
      "metadata": {
        "id": "Ce1RdpsWNI14"
      }
    },
    {
      "cell_type": "markdown",
      "source": [
        "*args\n",
        "\n",
        "Purpose: To allow a function to accept a variable number of positional arguments.\n",
        "\n",
        "How it works:\n",
        "When you define a function parameter with an asterisk (*) before it (like *args), it becomes a special parameter that collects all the remaining positional arguments into a tuple.\n",
        "Inside the function, you can access these arguments as elements of the args tuple.\n",
        "\n",
        "\n",
        "`kwargs`**\n",
        "\n",
        "Purpose: To allow a function to accept a variable number of keyword arguments (arguments passed with names, like key=value).\n",
        "\n",
        "How it works:\n",
        "When you define a function parameter with two asterisks (**) before it (like **kwargs), it becomes a special parameter that collects all the remaining keyword arguments into a dictionary.\n",
        "Inside the function, you can access these arguments as key-value pairs of the kwargs dictionary.\n",
        "\n",
        "Why Use *args and `kwargs`?**\n",
        "\n",
        "Flexibility:\n",
        "\n",
        "They allow your functions to handle different numbers of arguments without having to define separate parameters for each possible case. This makes your functions more versatile and adaptable.\n",
        "Forwarding Arguments:\n",
        "\n",
        "They are commonly used to pass arguments from one function to another, especially when working with decorators or higher-order functions. This can simplify code and improve reusability.\n",
        "Collecting Optional Arguments:\n",
        "\n",
        "You can use *args and **kwargs to collect optional arguments that a function might or might not receive. This can help avoid overly complex function signatures."
      ],
      "metadata": {
        "id": "DfbHlFkaOU3W"
      }
    },
    {
      "cell_type": "markdown",
      "source": [
        "#Return Values and Scoping:\n"
      ],
      "metadata": {
        "id": "DDaMMANBf1Sl"
      }
    },
    {
      "cell_type": "markdown",
      "source": [
        "1.\tDescribe the role of the `return` statement in Python functions and provide examples."
      ],
      "metadata": {
        "id": "pulD38jR19mi"
      }
    },
    {
      "cell_type": "code",
      "source": [
        "'''\n",
        "Role of the return Statement:\n",
        "\n",
        "- Exiting the Function: The return statement immediately terminates the execution of a function\n",
        "  and returns control back to the caller.\n",
        "- Returning a Value (Optional): The return statement can optionally send a value back to the caller.\n",
        "  If no value is specified or if the return statement is omitted, the function implicitly returns None.\n",
        "'''\n",
        "def add(x, y):\n",
        "       \"\"\"Returns the sum of two numbers.\"\"\"\n",
        "       result = x + y\n",
        "       return result\n",
        "\n",
        "sum_result = add(5, 3)\n",
        "print(sum_result)\n"
      ],
      "metadata": {
        "id": "uoDNhrivGKCC",
        "colab": {
          "base_uri": "https://localhost:8080/"
        },
        "outputId": "1ac7b319-20b7-4897-976f-58703e369b61"
      },
      "execution_count": null,
      "outputs": [
        {
          "output_type": "stream",
          "name": "stdout",
          "text": [
            "8\n"
          ]
        }
      ]
    },
    {
      "cell_type": "markdown",
      "source": [
        "\n",
        "2.\tExplain the concept of variable scope in Python, including local and global variables."
      ],
      "metadata": {
        "id": "NhPkRDq71_j1"
      }
    },
    {
      "cell_type": "code",
      "source": [
        "'''\n",
        "Variable Scope\n",
        "\n",
        "- Definition: Variable scope refers to the region of a program where a variable is accessible or can be used.\n",
        "It determines the \"visibility\" of a variable.\n",
        "\n",
        "Types of Scope in Python:\n",
        "\n",
        "- Global Scope: A variable declared outside of any function has global scope.\n",
        "It can be accessed from anywhere in the program.\n",
        "- Local Scope: A variable declared inside a function has local scope.\n",
        " It can only be accessed within that function.\n",
        "\n",
        "Why Scoping Matters:\n",
        "\n",
        "- Organization: It helps keep your code organized by preventing naming conflicts between\n",
        " variables in different parts of your program.\n",
        "- Modularity: It allows you to create reusable functions without worrying about accidental\n",
        " changes to variables outside the function.\n",
        "\n",
        "Local Variables\n",
        "\n",
        "- Definition: Variables declared inside a function.\n",
        "- Scope: Limited to the function in which they are defined.\n",
        "\n",
        "Global Variables\n",
        "\n",
        "- Definition: Variables declared outside of any function.\n",
        "- Scope: Accessible from anywhere in the program (including inside functions).\n",
        "'''"
      ],
      "metadata": {
        "id": "DNTYDMFxGKkU"
      },
      "execution_count": null,
      "outputs": []
    },
    {
      "cell_type": "markdown",
      "source": [
        "\n",
        "3.\tWrite a Python program that demonstrates the use of global variables within functions."
      ],
      "metadata": {
        "id": "ie46O-wy17HT"
      }
    },
    {
      "cell_type": "code",
      "source": [
        "global_counter = 0\n",
        "\n",
        "def increment_counter():\n",
        "  \"\"\"Increments the global counter by 1.\"\"\"\n",
        "  global global_counter\n",
        "  global_counter += 1\n",
        "\n",
        "def print_counter():\n",
        "  \"\"\"Prints the current value of the global counter.\"\"\"\n",
        "  print(\"Counter value:\", global_counter)\n",
        "\n",
        "\n",
        "print_counter()\n",
        "increment_counter()\n",
        "print_counter()\n",
        "increment_counter()\n",
        "print_counter()"
      ],
      "metadata": {
        "id": "Av-VHvnpGLFO"
      },
      "execution_count": null,
      "outputs": []
    },
    {
      "cell_type": "markdown",
      "source": [
        "\n",
        "4.\tCreate a Python function that calculates the factorial of a number and returns it."
      ],
      "metadata": {
        "id": "tHErpxM214cj"
      }
    },
    {
      "cell_type": "code",
      "source": [
        "def factorial(n):\n",
        "\n",
        "  if n == 0:\n",
        "    return 1\n",
        "  else:\n",
        "    result = 1\n",
        "    for i in range(1, n + 1):\n",
        "      result *= i\n",
        "    return result\n",
        "\n",
        "number = 5\n",
        "fact = factorial(number)\n",
        "print(f\"The factorial of {number} is {fact}\")"
      ],
      "metadata": {
        "id": "yrMPePGPGLpQ"
      },
      "execution_count": null,
      "outputs": []
    },
    {
      "cell_type": "markdown",
      "source": [
        "\n",
        "5.\tHow can you access variables defined outside a function from within the function?\n"
      ],
      "metadata": {
        "id": "E94CBwpPf5bW"
      }
    },
    {
      "cell_type": "markdown",
      "source": [
        "Accessing Global Variables\n",
        "\n",
        "Direct Access:\n",
        "\n",
        "If you only need to read the value of a global variable, you can access it directly by its name within the function.\n",
        "\n",
        "Modifying Global Variables (using global):\n",
        "\n",
        "If you need to modify a global variable within a function, you must use the global keyword to declare your intention. This tells Python that you're working with the global variable, not creating a new local variable with the same name."
      ],
      "metadata": {
        "id": "9fx2g45cRVIN"
      }
    },
    {
      "cell_type": "markdown",
      "source": [
        "#Lambda Functions and Higher-Order Functions:\n"
      ],
      "metadata": {
        "id": "n-3wBzqOf949"
      }
    },
    {
      "cell_type": "markdown",
      "source": [
        "1.\tWhat are lambda functions in Python, and when are they typically used?"
      ],
      "metadata": {
        "id": "uucnsoR911I4"
      }
    },
    {
      "cell_type": "markdown",
      "source": [
        "Definition: Lambda functions are small, anonymous (unnamed) functions defined using the lambda keyword. They are also sometimes called \"anonymous functions\" or \"lambda expressions.\"\n",
        "Syntax: lambda arguments: expression\n",
        "lambda: The keyword that introduces a lambda function.\n",
        "arguments: The input parameters (similar to parameters in a regular function).\n",
        "expression: A single expression that is evaluated and returned by the lambda function.\n",
        "Purpose: To create simple, one-line functions that you might only use once or within a specific context.\n",
        "When are Lambda Functions Typically Used?\n",
        "\n",
        "Higher-Order Functions:\n",
        "\n",
        "Lambda functions are often used as arguments to higher-order functions like map, filter, and reduce. These higher-order functions take other functions as input, and lambdas provide a concise way to define these input functions on the fly without needing to create separate named functions.\n",
        "Short, Simple Operations:\n",
        "\n",
        "When you need a small function for a simple task and don't want to define a full named function using def. Lambdas are ideal for such situations where the logic can be expressed in a single expression.\n",
        "Callbacks:\n",
        "\n",
        "In some scenarios, you might need to pass a function as an argument to another function to be called later. Lambdas can be used to create these callback functions without cluttering your code with named function definitions."
      ],
      "metadata": {
        "id": "V40uYgvCaR_Z"
      }
    },
    {
      "cell_type": "markdown",
      "source": [
        "\n",
        "2.\tWrite a Python program that uses lambda functions to sort a list of tuples based on the second element."
      ],
      "metadata": {
        "id": "O-Qeu4EB1yUe"
      }
    },
    {
      "cell_type": "code",
      "source": [
        "\n",
        "my_list = [('apple', 3), ('banana', 1), ('orange', 2)]\n",
        "\n",
        "\n",
        "sorted_list = sorted(my_list, key=lambda item: item[1])\n",
        "\n",
        "print(sorted_list)"
      ],
      "metadata": {
        "id": "nXXXLzhXGNTp"
      },
      "execution_count": null,
      "outputs": []
    },
    {
      "cell_type": "markdown",
      "source": [
        "\n",
        "3.\tExplain the concept of higher-order functions in Python, and provide an example."
      ],
      "metadata": {
        "id": "exsnTTQp1vTZ"
      }
    },
    {
      "cell_type": "code",
      "source": [
        "'''\n",
        "Concept of Higher-Order Functions\n",
        "\n",
        "In Python, a higher-order function is a function that does at least one of the following:\n",
        "\n",
        "Takes one or more functions as arguments.\n",
        "Returns a function as its result.\n",
        "Essentially, higher-order functions treat functions as first-class citizens, meaning they can be passed around and manipulated just like any other data type (like numbers or strings).\n",
        "\n",
        "Why are they useful?\n",
        "\n",
        "Abstraction: They help abstract away common patterns of code, making your programs more concise and easier to read.\n",
        "Flexibility: They allow you to create more dynamic and adaptable code.\n",
        "Code Reusability: You can write functions that operate on other functions, promoting code reuse.\n",
        "'''\n",
        "\n",
        "def square(x):\n",
        "  return x * x\n",
        "\n",
        "numbers = [1, 2, 3, 4, 5]\n",
        "\n",
        "\n",
        "squared_numbers = list(map(square, numbers))\n",
        "\n",
        "print(squared_numbers)"
      ],
      "metadata": {
        "id": "7yE9PCkeGNqG"
      },
      "execution_count": null,
      "outputs": []
    },
    {
      "cell_type": "markdown",
      "source": [
        "\n",
        "4.\tCreate a Python function that takes a list of numbers and a function as arguments, applying the function to each element in the list.\n"
      ],
      "metadata": {
        "id": "RgBvBerdgB2-"
      }
    },
    {
      "cell_type": "code",
      "source": [
        "def apply_function_to_list(numbers, func):\n",
        "\n",
        "    return [func(x) for x in numbers]\n",
        "\n",
        "\n",
        "def square(x):\n",
        "    return x * x\n",
        "\n",
        "numbers = [1, 2, 3, 4, 5]\n",
        "squared_numbers = apply_function_to_list(numbers, square)\n",
        "print(squared_numbers)"
      ],
      "metadata": {
        "id": "XPeSazWdGOi6"
      },
      "execution_count": null,
      "outputs": []
    },
    {
      "cell_type": "markdown",
      "source": [
        "#Built-in Functions:\n",
        "\n",
        "\n",
        "\n",
        "\n"
      ],
      "metadata": {
        "id": "eN8fa0mogGIl"
      }
    },
    {
      "cell_type": "markdown",
      "source": [
        "1.\tDescribe the role of built-in functions like `len()`, `max()`, and `min()` in Python."
      ],
      "metadata": {
        "id": "tyczyJG31rh2"
      }
    },
    {
      "cell_type": "code",
      "source": [
        "'''\n",
        "len()\n",
        "\n",
        "Role: Tells you how many items are in a sequence (like a list, tuple, or string).\n",
        "Example: len([1, 2, 3]) would give you 3 because there are 3 items in the list.\n",
        "\n",
        "max()\n",
        "\n",
        "Role: Finds the largest item in a sequence.\n",
        "Example: max([3, 1, 5]) would give you 5 because it's the largest number.\n",
        "\n",
        "min()\n",
        "\n",
        "Role: Finds the smallest item in a sequence.\n",
        "Example: min(5, 10, 2) would give you 2 because it's the smallest number\n",
        "'''"
      ],
      "metadata": {
        "id": "GcGgoGpVGPZr"
      },
      "execution_count": null,
      "outputs": []
    },
    {
      "cell_type": "markdown",
      "source": [
        "\n",
        "2.\tWrite a Python program that uses the `map()` function to apply a function to each element of a list."
      ],
      "metadata": {
        "id": "pGHTp3Vm1pS5"
      }
    },
    {
      "cell_type": "code",
      "source": [
        "def square(number):\n",
        "    \"\"\"Squares a number.\"\"\"\n",
        "    return number * number\n",
        "\n",
        "numbers = [1, 2, 3, 4, 5]\n",
        "\n",
        "squared_numbers = list(map(square, numbers))\n",
        "\n",
        "print(squared_numbers)"
      ],
      "metadata": {
        "id": "Dq2I0GA_GPzC"
      },
      "execution_count": null,
      "outputs": []
    },
    {
      "cell_type": "markdown",
      "source": [
        "\n",
        "3.\tHow does the `filter()` function work in Python, and when would you use it?"
      ],
      "metadata": {
        "id": "PawluIJa1nJL"
      }
    },
    {
      "cell_type": "code",
      "source": [
        "'''\n",
        "How filter() Works\n",
        "\n",
        "Purpose: The primary role of filter() is to select elements from an iterable (like a list, tuple, or string) based on a condition. It filters out the elements that don't meet the criteria.\n",
        "\n",
        "Arguments: filter() takes two main arguments:\n",
        "\n",
        "function: A function that takes one argument (an element from the iterable) and returns True if the element should be included in the filtered result, or False otherwise.\n",
        "iterable: The sequence of elements you want to filter.\n",
        "Process:\n",
        "\n",
        "filter() iterates through each element in the iterable.\n",
        "For each element, it calls the provided function with the element as input.\n",
        "If the function returns True for an element, that element is included in the filtered result.\n",
        "If the function returns False, the element is skipped.\n",
        "Return Value: filter() returns a filter object, which is an iterator. You usually convert this iterator into a list, tuple, or other data structure to work with the filtered elements.\n",
        "\n",
        "When to Use filter()\n",
        "\n",
        "Here are some common scenarios where filter() is particularly useful:\n",
        "\n",
        "Selecting specific data: When you need to extract elements from a collection based on a condition (e.g., getting all even numbers from a list).\n",
        "Removing unwanted data: When you want to filter out elements that don't meet certain criteria (e.g., removing None values from a list).\n",
        "Data cleansing: As part of data preparation, you might use filter() to remove invalid or irrelevant entries.\n",
        "Working with custom conditions: You can define your own filtering functions to handle more complex filtering logic.\n",
        "'''"
      ],
      "metadata": {
        "id": "I4QrUHAeGQVg"
      },
      "execution_count": null,
      "outputs": []
    },
    {
      "cell_type": "markdown",
      "source": [
        "\n",
        "4.\tCreate a Python program that uses the `reduce()` function to find the product of all elements in a list.\n"
      ],
      "metadata": {
        "id": "63kGWMdOgJrv"
      }
    },
    {
      "cell_type": "code",
      "source": [
        "from functools import reduce\n",
        "\n",
        "def multiply(x, y):\n",
        "    \"\"\"Multiplies two numbers.\"\"\"\n",
        "    return x * y\n",
        "\n",
        "numbers = [1, 2, 3, 4, 5]\n",
        "\n",
        "\n",
        "product = reduce(multiply, numbers)\n",
        "\n",
        "print(product)"
      ],
      "metadata": {
        "id": "SWAy5seDGQ5y"
      },
      "execution_count": null,
      "outputs": []
    },
    {
      "cell_type": "markdown",
      "source": [
        "#Function Documentation and Best Practices:\n",
        "\n",
        "\n",
        "\n",
        "\n",
        "\n",
        "\n"
      ],
      "metadata": {
        "id": "sqdr8SulgNdr"
      }
    },
    {
      "cell_type": "markdown",
      "source": [
        "1.\tExplain the purpose of docstrings in Python functions and how to write them."
      ],
      "metadata": {
        "id": "FSRHK7_u1jaE"
      }
    },
    {
      "cell_type": "markdown",
      "source": [
        "Purpose of Docstrings:\n",
        "\n",
        "Documentation: Provide a clear and concise description of what the function does.\n",
        "\n",
        "Usage Instructions: Explain how to use the function, including input parameters, return values, and any exceptions raised.\n",
        "\n",
        "Introspection: Enable tools like IDEs and documentation generators to automatically extract and display the documentation.\n",
        "\n",
        "How to Write Docstrings:\n",
        "\n",
        "Docstrings are written as the first statement inside a function, method, or module, enclosed in triple quotes (\"\"\" or '''), which allows for multi-line strings."
      ],
      "metadata": {
        "id": "Khz03je3GS2n"
      }
    },
    {
      "cell_type": "markdown",
      "source": [
        "\n",
        "2.\tDescribe some best practices for naming functions and variables in Python, including naming conventions and guidelines."
      ],
      "metadata": {
        "id": "WIbJGqJKgShi"
      }
    },
    {
      "cell_type": "markdown",
      "source": [
        "General Guidelines:\n",
        "Be Descriptive: Use meaningful names that clearly describe the purpose or value of the function or variable. Avoid using single-character names, except for loop variables (e.g., i, j, k).\n",
        "\n",
        "Use Lowercase with Underscores: For variable and function names, use lowercase letters with words separated by underscores (snake_case). This improves readability.\n",
        "\n",
        "Avoid Reserved Keywords: Do not use Python's reserved keywords (e.g., if, for, while, return, etc.) as names for functions or variables.\n",
        "\n",
        "Keep It Concise: While being descriptive, try to keep names concise and avoid overly long names.\n",
        "\n",
        "Consistency: Be consistent with your naming conventions throughout your codebase. This makes your code more readable and maintainable.\n",
        "\n",
        "Naming Conventions:\n",
        "Variables:\n",
        "\n",
        "Use nouns to name variables, as they represent data or objects.\n",
        "\n",
        "Example: user_name, total_count, is_valid\n",
        "\n",
        "Functions:\n",
        "\n",
        "Use verbs or verb phrases to name functions, as they represent actions or behaviors.\n",
        "\n",
        "Example: calculate_total(), send_email(), get_user_info()\n",
        "\n",
        "Constants:\n",
        "\n",
        "Use uppercase letters with words separated by underscores (SCREAMING_SNAKE_CASE) for constants.\n",
        "\n",
        "Example: PI, MAX_CONNECTIONS, DEFAULT_TIMEOUT\n",
        "\n",
        "Classes:\n",
        "\n",
        "Use CamelCase (PascalCase) for naming classes, with each word starting with an uppercase letter.\n",
        "\n",
        "Example: UserProfile, OrderProcessor, DataAnalyzer`"
      ],
      "metadata": {
        "id": "RMoeUDzsGTtt"
      }
    }
  ]
}