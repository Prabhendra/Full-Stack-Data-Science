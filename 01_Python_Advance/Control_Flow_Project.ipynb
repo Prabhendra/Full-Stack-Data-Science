{
  "nbformat": 4,
  "nbformat_minor": 0,
  "metadata": {
    "colab": {
      "provenance": []
    },
    "kernelspec": {
      "name": "python3",
      "display_name": "Python 3"
    },
    "language_info": {
      "name": "python"
    }
  },
  "cells": [
    {
      "cell_type": "markdown",
      "source": [
        "#Control Flow"
      ],
      "metadata": {
        "id": "G2Euo4rgLVZk"
      }
    },
    {
      "cell_type": "markdown",
      "source": [
        "Assignment Questions"
      ],
      "metadata": {
        "id": "VYe0JLDbLgFH"
      }
    },
    {
      "cell_type": "markdown",
      "source": [
        "#Basic If-Else Statements:"
      ],
      "metadata": {
        "id": "_T-TntxBLjfr"
      }
    },
    {
      "cell_type": "markdown",
      "source": [
        "1. Write a Python program to check if a given number is positive or negative."
      ],
      "metadata": {
        "id": "zVNVW2k7LoJr"
      }
    },
    {
      "cell_type": "code",
      "execution_count": null,
      "metadata": {
        "colab": {
          "base_uri": "https://localhost:8080/"
        },
        "id": "vSistMH5K6s-",
        "outputId": "b8a55570-82e7-4c71-c2e4-9b769cd5c0dd"
      },
      "outputs": [
        {
          "output_type": "stream",
          "name": "stdout",
          "text": [
            "Number U have entered: 56.2\n",
            "It is a Positive Number 56.2\n"
          ]
        }
      ],
      "source": [
        "def check_number (n):\n",
        "  if n<0:\n",
        "    print(f\"It is a negative Number {n}\")\n",
        "  else:\n",
        "    print(f\"It is a Positive Number {n}\")\n",
        "\n",
        "x = (float(input(\"Number U have entered: \")))\n",
        "check_number(x)"
      ]
    },
    {
      "cell_type": "markdown",
      "source": [
        "2. Create a program that determines if a person is eligible to vote based on their age."
      ],
      "metadata": {
        "id": "WB8C5tSBOOD1"
      }
    },
    {
      "cell_type": "code",
      "source": [
        "def vote_eleigible(age):\n",
        "  if age < 18:\n",
        "    print(\"Person is not eligible to vote\")\n",
        "  else:\n",
        "    print(\"Person is eligible to vote\")\n",
        "\n",
        "Shreya = (float(input(\"Enter your age : \")))\n",
        "vote_eleigible(Shreya)"
      ],
      "metadata": {
        "colab": {
          "base_uri": "https://localhost:8080/"
        },
        "id": "0OBkdP-HMyYL",
        "outputId": "f1869498-8270-4928-b75e-c17c0940cb3c"
      },
      "execution_count": null,
      "outputs": [
        {
          "output_type": "stream",
          "name": "stdout",
          "text": [
            "Enter your age : 5\n",
            "Person is not eligible to vote\n"
          ]
        }
      ]
    },
    {
      "cell_type": "markdown",
      "source": [
        "3. Develop a program to find the maximum of two numbers using if-else statements."
      ],
      "metadata": {
        "id": "8gkImtQDPCjW"
      }
    },
    {
      "cell_type": "code",
      "source": [
        "def find_maximum(a,b):\n",
        "  if a>b:\n",
        "    print(f\"First Number: {a} is maximum in both {a} and {b}\")\n",
        "  else:\n",
        "    print(f\"Second Number : {b} is maximum in both {b} and {a}\")\n",
        "\n",
        "x = (float(input(\"Enter First number : \")))\n",
        "y = (float(input(\"Enter Second number : \")))\n",
        "find_maximum(x,y)\n",
        "\n"
      ],
      "metadata": {
        "colab": {
          "base_uri": "https://localhost:8080/"
        },
        "id": "4KZgoLf5M4yu",
        "outputId": "4b80cb18-66ca-4054-8886-6ffc5252855e"
      },
      "execution_count": null,
      "outputs": [
        {
          "output_type": "stream",
          "name": "stdout",
          "text": [
            "Enter First number : 3\n",
            "Enter Second number : 2\n",
            "First Number: 3.0 is maximum in both 3.0 and 2.0\n"
          ]
        }
      ]
    },
    {
      "cell_type": "markdown",
      "source": [
        "4. Write a Python script to classify a given year as a leap year or not."
      ],
      "metadata": {
        "id": "HFrwEKZoQq99"
      }
    },
    {
      "cell_type": "code",
      "source": [
        "def is_leapear(year):\n",
        "  if (year % 4 == 0 and year % 100 != 0) or (year % 400 ==0):\n",
        "    return True\n",
        "  return False\n",
        "\n",
        "year = int(input(\"Enter a year:\"))\n",
        "if is_leapear(year):\n",
        "  print(f\"{year} is a Leap Year\")\n",
        "else:\n",
        "  print(f\"{year} is Not a Leap Year\")"
      ],
      "metadata": {
        "colab": {
          "base_uri": "https://localhost:8080/"
        },
        "id": "VnmckeKZPcYc",
        "outputId": "9a418d64-4336-4107-8709-9634573b4583"
      },
      "execution_count": null,
      "outputs": [
        {
          "output_type": "stream",
          "name": "stdout",
          "text": [
            "Enter a year:2000\n",
            "2000 is a Leap Year\n",
            "2000 is Not a Leap Year\n"
          ]
        }
      ]
    },
    {
      "cell_type": "markdown",
      "source": [
        "5. Create a program that checks whether a character is a vowel or a consonant.\n",
        "\n"
      ],
      "metadata": {
        "id": "USgeI3q6dd_1"
      }
    },
    {
      "cell_type": "code",
      "source": [
        "def check_vowels(char):\n",
        "  char = char.lower()\n",
        "  vowels = \"aeiou\"\n",
        "\n",
        "  if char in vowels:\n",
        "    return \"Vowels\"\n",
        "  elif char.isalpha():\n",
        "    return \"Consonant\"\n",
        "  else:\n",
        "    return \"Not an Alphabatic Character \"\n",
        "\n",
        "Character = input(\"Enter a Character: \")\n",
        "result = check_vowels(Character)\n",
        "print(result)"
      ],
      "metadata": {
        "id": "90KCnuDaQqQe",
        "colab": {
          "base_uri": "https://localhost:8080/"
        },
        "outputId": "2faa6ab0-082c-4028-9095-1a2645555e75"
      },
      "execution_count": null,
      "outputs": [
        {
          "output_type": "stream",
          "name": "stdout",
          "text": [
            "Enter a Character: Shreya\n",
            "Consonant\n"
          ]
        }
      ]
    },
    {
      "cell_type": "markdown",
      "source": [
        "6. Implement a program to determine whether a given number is even or odd.\n",
        "\n"
      ],
      "metadata": {
        "id": "EmGCdw_edgWs"
      }
    },
    {
      "cell_type": "code",
      "source": [
        "def check_even_odd(number):\n",
        "  if number % 2 == 0:\n",
        "    return \"Even\"\n",
        "  else:\n",
        "    return \"odd\"\n",
        "\n",
        "number = int(input(\"Enter a number:\"))\n",
        "result = check_even_odd(number)\n",
        "print(result)"
      ],
      "metadata": {
        "id": "WzNq1CDNdiij",
        "colab": {
          "base_uri": "https://localhost:8080/"
        },
        "outputId": "ff162409-36da-4d2e-a566-78401d68ccce"
      },
      "execution_count": null,
      "outputs": [
        {
          "output_type": "stream",
          "name": "stdout",
          "text": [
            "Enter a number:5\n",
            "odd\n"
          ]
        }
      ]
    },
    {
      "cell_type": "markdown",
      "source": [
        "7. Write a Python function to calculate the absolute value of a number without using the `abs()` function.\n",
        "\n"
      ],
      "metadata": {
        "id": "gffhCr2mdi57"
      }
    },
    {
      "cell_type": "code",
      "source": [
        "def custom_abs(number):\n",
        "  if number < 0:\n",
        "    return -number\n",
        "  elif number == 0:\n",
        "    return 0\n",
        "  else:\n",
        "    return number\n",
        "\n",
        "number = float(input(\"enter a number: \"))\n",
        "result = custom_abs(number)\n",
        "print(result)"
      ],
      "metadata": {
        "id": "CTdqzJ-Vdkrn",
        "colab": {
          "base_uri": "https://localhost:8080/"
        },
        "outputId": "4bb7bbd0-5978-444f-b352-7f03b0157a42"
      },
      "execution_count": null,
      "outputs": [
        {
          "output_type": "stream",
          "name": "stdout",
          "text": [
            "enter a number: -55\n",
            "55.0\n"
          ]
        }
      ]
    },
    {
      "cell_type": "markdown",
      "source": [
        "8. Develop a program that determines the largest of three given numbers using if-else statements.\n",
        "\n"
      ],
      "metadata": {
        "id": "5ky7sLHOdlTt"
      }
    },
    {
      "cell_type": "code",
      "source": [
        "def find_largest(a,b,c):\n",
        "  if a>=b and a>=c:\n",
        "    return a\n",
        "  elif b>=a and b>= c:\n",
        "    return b\n",
        "  else:\n",
        "    return c\n",
        "\n",
        "num1 = float(input(\"enter a number: \" ))\n",
        "num2 = float(input(\"enter a number: \" ))\n",
        "num3 = float(input(\"enter a number: \" ))\n",
        "\n",
        "print(find_largest(num1,num2,num3))"
      ],
      "metadata": {
        "id": "WhDkXwHjdnFl",
        "colab": {
          "base_uri": "https://localhost:8080/"
        },
        "outputId": "82ad19c4-707d-4a51-efd7-c9d9496e8eab"
      },
      "execution_count": null,
      "outputs": [
        {
          "output_type": "stream",
          "name": "stdout",
          "text": [
            "enter a number: 5\n",
            "enter a number: 5\n",
            "enter a number: 5\n",
            "5.0\n"
          ]
        }
      ]
    },
    {
      "cell_type": "markdown",
      "source": [
        "9. Create a program that checks if a given string is a palindrome.\n",
        "\n"
      ],
      "metadata": {
        "id": "ZKbgXhfIdnoG"
      }
    },
    {
      "cell_type": "code",
      "source": [
        "def is_palindrome(string):\n",
        "  if string == string[::-1]:\n",
        "    return \"Palindrome\"\n",
        "  else:\n",
        "    return \"Not a Palindrome\"\n",
        "\n",
        "string = input(\"Enter a String: \")\n",
        "result = is_palindrome(string)\n",
        "print(result)"
      ],
      "metadata": {
        "id": "rTth96cIdpK_",
        "colab": {
          "base_uri": "https://localhost:8080/"
        },
        "outputId": "a4568318-8cad-4a2f-fae9-1ddf70db2605"
      },
      "execution_count": null,
      "outputs": [
        {
          "output_type": "stream",
          "name": "stdout",
          "text": [
            "Enter a Stringrar\n",
            "Palindrome\n"
          ]
        }
      ]
    },
    {
      "cell_type": "markdown",
      "source": [
        "\n",
        "10. Write a Python program to calculate the grade based on a student's score."
      ],
      "metadata": {
        "id": "xSwlt4ufdpdr"
      }
    },
    {
      "cell_type": "code",
      "source": [
        "def calculate_grades(score):\n",
        "  if score >= 90:\n",
        "    return \"You got A Grade\"\n",
        "  elif score >= 80:\n",
        "    return \"You got B grade\"\n",
        "  elif score >= 70:\n",
        "    return \"You got C grade\"\n",
        "  elif score >= 60:\n",
        "    return \"You got D grade\"\n",
        "  else:\n",
        "    return \"You have Passed the exam\"\n",
        "\n",
        "score = float(input(\"Enter your score: \"))\n",
        "result = calculate_grades(score)\n",
        "print(result)"
      ],
      "metadata": {
        "id": "JVVrBKPndqh7",
        "colab": {
          "base_uri": "https://localhost:8080/"
        },
        "outputId": "f2eae5ee-64d8-49ce-98c6-dce2e4d259d4"
      },
      "execution_count": null,
      "outputs": [
        {
          "output_type": "stream",
          "name": "stdout",
          "text": [
            "Enter your score: 88\n",
            "You got B grade\n"
          ]
        }
      ]
    },
    {
      "cell_type": "markdown",
      "source": [
        "#Nested If-Else Statements:"
      ],
      "metadata": {
        "id": "_AucQ0Wids1L"
      }
    },
    {
      "cell_type": "markdown",
      "source": [
        "11. Write a program to find the largest among three numbers using nested if-else statements."
      ],
      "metadata": {
        "id": "bEIjCNPrIT0t"
      }
    },
    {
      "cell_type": "code",
      "source": [
        "def find_largest(a,b,c):\n",
        "  if a>=b:\n",
        "    if a>=c:\n",
        "      return b\n",
        "    else:\n",
        "      return c\n",
        "  else:\n",
        "    if b>=c:\n",
        "      return b\n",
        "    else:\n",
        "      return c\n",
        "\n",
        "num1 = float(input(\"enter a number: \" ))\n",
        "num2 = float(input(\"enter a number: \" ))\n",
        "num3 = float(input(\"enter a number: \" ))\n",
        "\n",
        "print(find_largest(num1,num2,num3))"
      ],
      "metadata": {
        "colab": {
          "base_uri": "https://localhost:8080/"
        },
        "id": "-e7lFTdbL3cp",
        "outputId": "a341ac38-b0e5-4656-c1a8-b9846057fa2f"
      },
      "execution_count": null,
      "outputs": [
        {
          "output_type": "stream",
          "name": "stdout",
          "text": [
            "enter a number: 5\n",
            "enter a number: 6\n",
            "enter a number: 8\n",
            "8.0\n"
          ]
        }
      ]
    },
    {
      "cell_type": "markdown",
      "source": [
        "12. Implement a program to determine if a triangle is equilateral, isosceles, or scalene.\n",
        "\n"
      ],
      "metadata": {
        "id": "xsYHalJSL4Qv"
      }
    },
    {
      "cell_type": "code",
      "source": [
        "def check_triangle(a,b,c):\n",
        "  if a ==b ==c :\n",
        "    return \"Equilateral\"\n",
        "  elif a ==b or b == c or c == a:\n",
        "    return \"Isosceles\"\n",
        "  else:\n",
        "    return \"Scalene\"\n",
        "\n",
        "side1 = float(input(\"enter a number: \" ))\n",
        "side2 = float(input(\"enter a number: \" ))\n",
        "side3 = float(input(\"enter a number: \" ))\n",
        "\n",
        "print(check_triangle(side1,side2,side3))"
      ],
      "metadata": {
        "colab": {
          "base_uri": "https://localhost:8080/"
        },
        "id": "zF9getPhL-YA",
        "outputId": "9cbf3a49-f56e-4016-ce6d-fd74b31baa40"
      },
      "execution_count": null,
      "outputs": [
        {
          "output_type": "stream",
          "name": "stdout",
          "text": [
            "enter a number: 55\n",
            "enter a number: 45\n",
            "enter a number: 45\n",
            "Isosceles\n"
          ]
        }
      ]
    },
    {
      "cell_type": "markdown",
      "source": [
        "\n",
        "\n",
        "13. Develop a program that checks if a year is a leap year and also if it is a century year.\n",
        "\n"
      ],
      "metadata": {
        "id": "o_JX-WtVd3wn"
      }
    },
    {
      "cell_type": "code",
      "source": [
        "def check_leap(year):\n",
        "  if (year % 4 == 0 and year % 100 != 0) or (year % 100 == 0):\n",
        "    return True\n",
        "  else:\n",
        "    return False\n",
        "\n",
        "def check_century(year):\n",
        "  if year % 100 == 0:\n",
        "    return True\n",
        "  else:\n",
        "    return False\n",
        "year = int(input(\"Enter a year: \"))\n",
        "\n",
        "is_check_leap = check_leap(year)\n",
        "\n",
        "is_century = check_century(year)\n",
        "\n",
        "if is_check_leap and is_century:\n",
        "  print(f\"{year} is a leap year and also a century year\")\n",
        "elif is_check_leap:\n",
        "  print(f\"{year} is a only leap year not a century year\")\n",
        "elif is_century:\n",
        "  print(f\"{year} is a century year but not a leap year\")\n",
        "else:\n",
        "  print(f\"{year} is neither leap year nor century year\")"
      ],
      "metadata": {
        "colab": {
          "base_uri": "https://localhost:8080/"
        },
        "id": "_B9gH2XJMRBD",
        "outputId": "a5769a12-3259-4d6d-bad8-e0b238e17167"
      },
      "execution_count": null,
      "outputs": [
        {
          "output_type": "stream",
          "name": "stdout",
          "text": [
            "Enter a year: 2024\n",
            "2024 is a only leap year not a century year\n"
          ]
        }
      ]
    },
    {
      "cell_type": "markdown",
      "source": [
        "14. Write a Python script to determine if a number is positive, negative, or zero.\n",
        "\n"
      ],
      "metadata": {
        "id": "95urp8X6MCAa"
      }
    },
    {
      "cell_type": "code",
      "source": [
        "def check_number(number):\n",
        "  if number < 0:\n",
        "    return \"negative\"\n",
        "  elif number > 0 :\n",
        "    return \"positive\"\n",
        "  else:\n",
        "    return \"zero\"\n",
        "\n",
        "number = float(input(\"Enter a number: \"))\n",
        "result = check_number(number)\n",
        "print(result)"
      ],
      "metadata": {
        "colab": {
          "base_uri": "https://localhost:8080/"
        },
        "id": "uN1M2cE2MQoI",
        "outputId": "78d8ff62-20f6-45de-a93b-64c81e2839ae"
      },
      "execution_count": null,
      "outputs": [
        {
          "output_type": "stream",
          "name": "stdout",
          "text": [
            "Enter a number: 5\n",
            "positive\n"
          ]
        }
      ]
    },
    {
      "cell_type": "markdown",
      "source": [
        "15. Create a program to check if a person is a teenager (between 13 and 19 years old).\n",
        "\n"
      ],
      "metadata": {
        "id": "LN9VceImMDkm"
      }
    },
    {
      "cell_type": "code",
      "source": [
        "def check_teenager(age):\n",
        "  if 13 <= age <= 19:\n",
        "    return \"Teenager\"\n",
        "  else:\n",
        "    return \"Not a teenager\"\n",
        "\n",
        "age = int(input(\"Enter a age:\"))\n",
        "result = check_teenager(age)\n",
        "print(result)"
      ],
      "metadata": {
        "colab": {
          "base_uri": "https://localhost:8080/"
        },
        "id": "DNEum86x9iC-",
        "outputId": "9aaec033-4ca5-4978-d1f0-ce9719150f79"
      },
      "execution_count": null,
      "outputs": [
        {
          "output_type": "stream",
          "name": "stdout",
          "text": [
            "Enter a age:15\n",
            "Teenager\n"
          ]
        }
      ]
    },
    {
      "cell_type": "markdown",
      "source": [
        "16. Develop a program that determines the type of angle based on its measure (acute, obtuse, or right).\n",
        "\n"
      ],
      "metadata": {
        "id": "k5_94UeLME6i"
      }
    },
    {
      "cell_type": "code",
      "source": [
        "def check_angle(angle):\n",
        "  if angle <= 90:\n",
        "    return  \"Acute Angle\"\n",
        "  elif angle == 90 :\n",
        "    return \"Right Angle\"\n",
        "  elif angle <=180:\n",
        "    return \"Obtuse Angle\"\n",
        "  else:\n",
        "    return \"Invalid Angle\"\n",
        "\n",
        "input_angle = float(input(\"Entetr a angle: \"))\n",
        "\n",
        "result = check_angle(input_angle)\n",
        "print(result)"
      ],
      "metadata": {
        "colab": {
          "base_uri": "https://localhost:8080/"
        },
        "id": "_ZkyBe8nMPip",
        "outputId": "98936d29-3e67-4425-dce9-061bf3f8d9c9"
      },
      "execution_count": null,
      "outputs": [
        {
          "output_type": "stream",
          "name": "stdout",
          "text": [
            "Entetr a angle: 99\n",
            "Obtuse Angle\n"
          ]
        }
      ]
    },
    {
      "cell_type": "markdown",
      "source": [
        "17. Write a Python program to calculate the roots of a quadratic equation.\n",
        "\n"
      ],
      "metadata": {
        "id": "Yo_Bn2e1MHTz"
      }
    },
    {
      "cell_type": "code",
      "source": [
        "import math\n",
        "def find_roots(a,b,c):\n",
        "\n",
        "  discriminant = b**2 - 4*a*c\n",
        "\n",
        "  if discriminant > 0 :\n",
        "    root1 = (-b + math.sqrt(discriminant)) / (2*a)\n",
        "    root2 = (-b - math.sqrt(discriminant)) / (2*a)\n",
        "  elif discriminant == 0 :\n",
        "    root = -b / (2*a)\n",
        "\n",
        "  else:\n",
        "    real_part = -b / (2*a)\n",
        "    imaginary_part = math.sqrt(-discriminant) / (2*a)\n",
        "    return (real_part, imaginary_part), (real_part, -imaginary_part)\n",
        "\n",
        "a = float(input(\"Enter the coeffecient a: \"))\n",
        "b = float(input(\"Enter the coeffecient b: \"))\n",
        "c = float(input(\"Enter the coeffecient c: \"))\n",
        "\n",
        "roots = find_roots(a,b,c)\n",
        "print(roots)"
      ],
      "metadata": {
        "colab": {
          "base_uri": "https://localhost:8080/"
        },
        "id": "XYpHEFZcMO1Q",
        "outputId": "8b7d1a35-1ace-4fbb-c233-ced522925090"
      },
      "execution_count": null,
      "outputs": [
        {
          "output_type": "stream",
          "name": "stdout",
          "text": [
            "Enter the coeffecient a: 2\n",
            "Enter the coeffecient b: 2\n",
            "Enter the coeffecient c: 2\n",
            "((-0.5, 0.8660254037844386), (-0.5, -0.8660254037844386))\n"
          ]
        }
      ]
    },
    {
      "cell_type": "markdown",
      "source": [
        "18. Implement a program to determine the day of the week based on a user-provided number (1 for Monday, 2\n",
        "for Tuesday, etc.).\n",
        "\n"
      ],
      "metadata": {
        "id": "gB6gE-psMIpK"
      }
    },
    {
      "cell_type": "code",
      "source": [
        "def days_of_week(numbers):\n",
        "  days = {\n",
        "      1: \"Monday\",\n",
        "      2: \"Tuesday\",\n",
        "      3: \"Wednesday\",\n",
        "      4: \"Thursday\",\n",
        "      5: \"Friday\",\n",
        "      6: \"Saturday\",\n",
        "      7: \"Sunday\"\n",
        "  }\n",
        "  return days.get(numbers, \"Invalid Input Please enter number between 1 to 7\")\n",
        "\n",
        "numbers = int(input(\"enter a number: \"))\n",
        "result = days_of_week(numbers)\n",
        "print(result)"
      ],
      "metadata": {
        "colab": {
          "base_uri": "https://localhost:8080/"
        },
        "id": "J68PVNVNMOP-",
        "outputId": "d6b78bed-4153-405c-ed5e-1cf4c8858153"
      },
      "execution_count": null,
      "outputs": [
        {
          "output_type": "stream",
          "name": "stdout",
          "text": [
            "enter a number: 5\n",
            "Friday\n"
          ]
        }
      ]
    },
    {
      "cell_type": "markdown",
      "source": [
        "19. Create a program that determines if a year is a leap year and also if it is evenly divisible by 400.\n",
        "\n"
      ],
      "metadata": {
        "id": "sGPhtAv0MKdM"
      }
    },
    {
      "cell_type": "code",
      "source": [
        "def leap_check(year):\n",
        "  if year % 400 == 0 :\n",
        "    return True, \"It is divisible by 400\"\n",
        "  elif year % 100 == 0 :\n",
        "    return False,\" It is not divisible by 400\"\n",
        "  elif year % 4 == 0:\n",
        "    return True, \"It is not divisible by 100\"\n",
        "  else:\n",
        "    return False, \"It is not divisible by 400\"\n",
        "\n",
        "year = int(input(\"Enter a year: \"))\n",
        "is_leap, divisible_info = leap_check(year)\n",
        "if is_leap:\n",
        "  print(f\"{year} is a leap year and {divisible_info}\")\n",
        "else:\n",
        "  print(f\"{year} is not a leap year) and {divisible_info}\")"
      ],
      "metadata": {
        "colab": {
          "base_uri": "https://localhost:8080/"
        },
        "id": "3vFSIf2MMNmE",
        "outputId": "961e9c3a-0636-4676-8b89-fd0a8389c452"
      },
      "execution_count": null,
      "outputs": [
        {
          "output_type": "stream",
          "name": "stdout",
          "text": [
            "Enter a year: 2000\n",
            "2000 is a leap year and It is divisible by 400\n"
          ]
        }
      ]
    },
    {
      "cell_type": "markdown",
      "source": [
        "20. Develop a program that checks if a given number is prime or not using nested if-else statements."
      ],
      "metadata": {
        "id": "2QQ5NAbZMMAo"
      }
    },
    {
      "cell_type": "code",
      "source": [
        "def check_prime(numbers):\n",
        "  if num <= 1:\n",
        "    return False\n",
        "  else:\n",
        "    for i in range(2,num):\n",
        "      if num % i == 0:\n",
        "        return False\n",
        "    return True\n",
        "\n",
        "num = int(input(\"Enter a number: \"))\n",
        "result = check_prime(num)\n",
        "if result:\n",
        "  print(f\"{num} is a prime number\")\n",
        "else:\n",
        "  print(f\"{num} is not a prime number\")\n"
      ],
      "metadata": {
        "colab": {
          "base_uri": "https://localhost:8080/"
        },
        "id": "6E9A65AbMMy8",
        "outputId": "7ddeb376-148a-439a-b10a-e69834f55299"
      },
      "execution_count": null,
      "outputs": [
        {
          "output_type": "stream",
          "name": "stdout",
          "text": [
            "Enter a number: 56\n",
            "56 is not a prime number\n"
          ]
        }
      ]
    },
    {
      "cell_type": "markdown",
      "source": [
        "#Elif Statements:"
      ],
      "metadata": {
        "id": "RuSy9B-reGzP"
      }
    },
    {
      "cell_type": "markdown",
      "source": [
        "21. Write a Python program to assign grades based on different ranges of scores using elif statements.\n",
        "\n"
      ],
      "metadata": {
        "id": "bET8Q9UoeJ6x"
      }
    },
    {
      "cell_type": "code",
      "source": [
        "def calculate_grades(score):\n",
        "    if score >= 90:\n",
        "        return \"A\"\n",
        "    elif score >= 75:\n",
        "        return \"B\"\n",
        "    elif score >= 65:\n",
        "        return \"C\"\n",
        "    elif score >= 55:\n",
        "        return \"D\"\n",
        "    else:\n",
        "        return \"F\"\n",
        "\n",
        "score = float(input(\"Enter your score: \"))\n",
        "result = calculate_grades(score)\n",
        "print(result)"
      ],
      "metadata": {
        "colab": {
          "base_uri": "https://localhost:8080/"
        },
        "id": "TJK3l9yfLmCH",
        "outputId": "c0a23188-a92f-435f-c684-b3d82d7d9cef"
      },
      "execution_count": null,
      "outputs": [
        {
          "output_type": "stream",
          "name": "stdout",
          "text": [
            "Enter your score: 55\n",
            "A\n"
          ]
        }
      ]
    },
    {
      "cell_type": "markdown",
      "source": [
        "\n",
        "22. Implement a program to determine the type of a triangle based on its angles.\n",
        "\n",
        "\n"
      ],
      "metadata": {
        "id": "q6jpo-hmzyUU"
      }
    },
    {
      "cell_type": "code",
      "source": [
        "def triangle_type(angle1, angle2, angle3):\n",
        "\n",
        "  if angle1 + angle2 + angle3 != 180 or angle1 <= 0 or angle2 <= 0 or angle3 <= 0:\n",
        "    return \"Invalid\"\n",
        "  elif angle1 == 90 or angle2 == 90 or angle3 == 90:\n",
        "    return \"Right\"\n",
        "  elif angle1 > 90 or angle2 > 90 or angle3 > 90:\n",
        "    return \"Obtuse\"\n",
        "  else:\n",
        "    return \"Acute\"\n",
        "\n",
        "\n",
        "angle1 = float(input(\"Enter the first angle: \"))\n",
        "angle2 = float(input(\"Enter the second angle: \"))\n",
        "angle3 = float(input(\"Enter the third angle: \"))\n",
        "\n",
        "\n",
        "triangle_type = triangle_type(angle1, angle2, angle3)\n",
        "\n",
        "\n",
        "print(f\"The triangle is {triangle_type}.\")"
      ],
      "metadata": {
        "colab": {
          "base_uri": "https://localhost:8080/"
        },
        "id": "BNgB30XK0Kja",
        "outputId": "ed2f8d80-6b75-4867-b23b-6e7971495654"
      },
      "execution_count": null,
      "outputs": [
        {
          "output_type": "stream",
          "name": "stdout",
          "text": [
            "Enter the first angle: 50\n",
            "Enter the second angle: 40\n",
            "Enter the third angle: 60\n",
            "Angles received: 50.0, 40.0, 60.0\n",
            "Sum of angles: 150.0\n",
            "The triangle with angles 50.0, 40.0, and 60.0 is: Invalid Triangle\n"
          ]
        }
      ]
    },
    {
      "cell_type": "markdown",
      "source": [
        "23. Develop a program to categorize a given person's BMI into underweight, normal, overweight, or obese using\n",
        "elif statements.\n",
        "\n"
      ],
      "metadata": {
        "id": "yRXJqRnEz0gs"
      }
    },
    {
      "cell_type": "code",
      "source": [
        "def person_bmi(weight,height):\n",
        "  bmi = weight/height**2\n",
        "  if bmi < 18.5:\n",
        "      return \"Underweight\"\n",
        "  elif 18.5 <= bmi < 24.9:\n",
        "      return \"Normal\"\n",
        "  elif 25 <= bmi <29.9:\n",
        "      return \"Overweight\"\n",
        "  else:\n",
        "      return \"obsese\"\n",
        "\n",
        "weight = float(input(\"Enter your weight in kg:\"))\n",
        "height = float(input(\"Enter your height in meters: \"))\n",
        "\n",
        "bmi_category = person_bmi(weight,height)\n",
        "print(bmi_category)"
      ],
      "metadata": {
        "colab": {
          "base_uri": "https://localhost:8080/"
        },
        "id": "qQkDr-sj0KMf",
        "outputId": "b2020bb4-4567-4520-aec8-811ad2e7c624"
      },
      "execution_count": null,
      "outputs": [
        {
          "output_type": "stream",
          "name": "stdout",
          "text": [
            "Enter your weight in kg:55\n",
            "Enter your height in meters: 2.5\n",
            "Underweight\n"
          ]
        }
      ]
    },
    {
      "cell_type": "markdown",
      "source": [
        "24. Create a program that determines whether a given number is positive, negative, or zero using elif\n",
        "statements.\n",
        "\n"
      ],
      "metadata": {
        "id": "j1FHistLz2tv"
      }
    },
    {
      "cell_type": "code",
      "source": [
        "def check_number(number):\n",
        "  if number < 0:\n",
        "    return \"Negative\"\n",
        "  elif number > 0:\n",
        "    return \"Positive\"\n",
        "  else:\n",
        "    return \"Zero\"\n",
        "\n",
        "number = float(input(\"Enter a Number\"))\n",
        "result = check_number(number)\n",
        "print(result)"
      ],
      "metadata": {
        "colab": {
          "base_uri": "https://localhost:8080/"
        },
        "id": "agQlVK3G0J3E",
        "outputId": "45e9f95c-46b9-474b-bc30-c67ab0c611a1"
      },
      "execution_count": null,
      "outputs": [
        {
          "output_type": "stream",
          "name": "stdout",
          "text": [
            "Enter a Number5\n",
            "Positive\n"
          ]
        }
      ]
    },
    {
      "cell_type": "markdown",
      "source": [
        "25. Write a Python script to determine the type of a character (uppercase, lowercase, or special) using elif\n",
        "statements.\n",
        "\n"
      ],
      "metadata": {
        "id": "IPJIvT1mz5FI"
      }
    },
    {
      "cell_type": "code",
      "source": [
        "def check_character(char):\n",
        "  if char.isupper():\n",
        "    return \"Uppercase\"\n",
        "  elif char.islower():\n",
        "    return \"Lowercase\"\n",
        "  else:\n",
        "    return \"Special character\"\n",
        "\n",
        "char = input(\"Enter a character\")\n",
        "result = check_character(char)\n",
        "print(result)"
      ],
      "metadata": {
        "colab": {
          "base_uri": "https://localhost:8080/"
        },
        "id": "ghrIGPfu0JQI",
        "outputId": "6d2b1810-2d80-4d87-eb1c-529cf55bb612"
      },
      "execution_count": null,
      "outputs": [
        {
          "output_type": "stream",
          "name": "stdout",
          "text": [
            "Enter a characterf\n",
            "Lowercase\n"
          ]
        }
      ]
    },
    {
      "cell_type": "markdown",
      "source": [
        "26. Implement a program to calculate the discounted price based on different purchase amounts using elif\n",
        "statements.\n",
        "\n"
      ],
      "metadata": {
        "id": "lyLIVm4Zz7gd"
      }
    },
    {
      "cell_type": "code",
      "source": [
        "def calculate_discount(purchase_amount):\n",
        "  if purchase_amount >= 2000:\n",
        "    discount = 0.5\n",
        "  elif purchase_amount >=1000:\n",
        "    discount = 0.2\n",
        "  elif purchase_amount >= 500:\n",
        "    discount = 0.1\n",
        "  else:\n",
        "    discount = 0\n",
        "  discounted_price = purchase_amount * (1-discount)\n",
        "  return discounted_price, discount\n",
        "\n",
        "purchase_amount = float(input(\"Enter a purchase amount: \"))\n",
        "discounted_price, discount = calculate_discount(purchase_amount)\n",
        "\n",
        "print(f\"Original Price: {purchase_amount} after Discounted Price is: {discounted_price:.2f}\")\n",
        "print(f\"Discount Applied: {discount * 100}%\")"
      ],
      "metadata": {
        "colab": {
          "base_uri": "https://localhost:8080/"
        },
        "id": "8kvpOqxd0Izb",
        "outputId": "f2982647-1e60-4f5e-9882-7a4d64abcf10"
      },
      "execution_count": null,
      "outputs": [
        {
          "output_type": "stream",
          "name": "stdout",
          "text": [
            "Enter a purchase amount: 1000\n",
            "Original Price: 1000.0 after Discounted Price is: 800.00\n",
            "Discount Applied: 20.0%\n"
          ]
        }
      ]
    },
    {
      "cell_type": "markdown",
      "source": [
        "27. Develop a program to calculate the electricity bill based on different consumption slabs using elif\n",
        "statements.\n",
        "\n"
      ],
      "metadata": {
        "id": "nReAYURyz9xa"
      }
    },
    {
      "cell_type": "code",
      "source": [
        "def calculate_electricity_bill(units):\n",
        "  if units <= 100:\n",
        "    bill = units * 10\n",
        "  elif units <= 200:\n",
        "    bill = (100*0.5) + (units-100) * 12\n",
        "  elif units <= 300:\n",
        "    bill = (100*10) + (units*12) + (units-200) * 13\n",
        "  return bill\n",
        "\n",
        "units = float(input(\"Enter the number of units consumed: \"))\n",
        "bill = calculate_electricity_bill(units)\n",
        "print(f\"Electricity Bill: {bill}\")"
      ],
      "metadata": {
        "colab": {
          "base_uri": "https://localhost:8080/"
        },
        "id": "hhD75ZGS0IV7",
        "outputId": "16e5e5ee-0f4f-435c-b121-83df36643bce"
      },
      "execution_count": null,
      "outputs": [
        {
          "output_type": "stream",
          "name": "stdout",
          "text": [
            "Enter the number of units consumed: 54\n",
            "Electricity Bill: 540.0\n"
          ]
        }
      ]
    },
    {
      "cell_type": "markdown",
      "source": [
        "28. Create a program to determine the type of quadrilateral based on its angles and sides using elif\n",
        "statements.\n",
        "\n"
      ],
      "metadata": {
        "id": "DfuebL-20AHN"
      }
    },
    {
      "cell_type": "code",
      "source": [
        "def quadrilateral_type(side1, side2, side3, side4, angle1, angle2, angle3, angle4):\n",
        "    if (side1 == side2 == side3 == side4) and (angle1 == angle2 == angle3 == angle4 == 90):\n",
        "        return \"Square\"\n",
        "    elif (side1 == side3 and side2 == side4) and (angle1 == angle2 == angle3 == angle4 == 90):\n",
        "        return \"Rectangle\"\n",
        "    elif (side1 == side2 == side3 == side4) and (angle1 == angle3 and angle2 == angle4):\n",
        "        return \"Rhombus\"\n",
        "    elif (side1 == side3 and side2 == side4) and (angle1 == angle3 and angle2 == angle4):\n",
        "        return \"Parallelogram\"\n",
        "    elif (angle1 + angle2 + angle3 + angle4 == 360) and (side1 == side3 or side2 == side4):\n",
        "        return \"Trapezoid\"\n",
        "    else:\n",
        "        return \"Irregular Quadrilateral\"\n",
        "\n",
        "\n",
        "side1 = float(input(\"Enter the first side length: \"))\n",
        "side2 = float(input(\"Enter the second side length: \"))\n",
        "side3 = float(input(\"Enter the third side length: \"))\n",
        "side4 = float(input(\"Enter the fourth side length: \"))\n",
        "angle1 = float(input(\"Enter the first angle: \"))\n",
        "angle2 = float(input(\"Enter the second angle: \"))\n",
        "angle3 = float(input(\"Enter the third angle: \"))\n",
        "angle4 = float(input(\"Enter the fourth angle: \"))\n",
        "\n",
        "\n",
        "quad_type = quadrilateral_type(side1, side2, side3, side4, angle1, angle2, angle3, angle4)\n",
        "print(f\"The quadrilateral with sides {side1}, {side2}, {side3}, {side4} and angles {angle1}, {angle2}, {angle3}, {angle4} is a {quad_type}.\")\n"
      ],
      "metadata": {
        "colab": {
          "base_uri": "https://localhost:8080/"
        },
        "id": "MxlVyhRI0HdN",
        "outputId": "c5e9f7a9-aee9-45c4-f9a2-c002f012d295"
      },
      "execution_count": null,
      "outputs": [
        {
          "output_type": "stream",
          "name": "stdout",
          "text": [
            "Enter the first side length: 90\n",
            "Enter the second side length: 90\n",
            "Enter the third side length: 90\n",
            "Enter the fourth side length: 90\n",
            "Enter the first angle: 80\n",
            "Enter the second angle: 40\n",
            "Enter the third angle: 70\n",
            "Enter the fourth angle: 60\n",
            "The quadrilateral with sides 90.0, 90.0, 90.0, 90.0 and angles 80.0, 40.0, 70.0, 60.0 is a Irregular Quadrilateral.\n"
          ]
        }
      ]
    },
    {
      "cell_type": "markdown",
      "source": [
        "29. Write a Python script to determine the season based on a user-provided month using elif statements.\n",
        "\n"
      ],
      "metadata": {
        "id": "iXQ70LzY0CBz"
      }
    },
    {
      "cell_type": "code",
      "source": [
        "def determine_season(month):\n",
        "    if month in [\"December\", \"January\", \"February\"]:\n",
        "        return \"Winter\"\n",
        "    elif month in [\"March\", \"April\", \"May\"]:\n",
        "        return \"Spring\"\n",
        "    elif month in [\"June\", \"July\", \"August\"]:\n",
        "        return \"Summer\"\n",
        "    elif month in [\"September\", \"October\", \"November\"]:\n",
        "        return \"Autumn\"\n",
        "    else:\n",
        "        return \"Invalid month\"\n",
        "\n",
        "month = input(\"Enter the month: \")\n",
        "\n",
        "season = determine_season(month)\n",
        "print(f\"The season for the month of {month} is {season}.\")\n"
      ],
      "metadata": {
        "id": "SWCTECVJ0G70"
      },
      "execution_count": null,
      "outputs": []
    },
    {
      "cell_type": "markdown",
      "source": [
        "30. Implement a program to determine the type of a year (leap or common) and month (30 or 31 days) using\n",
        "elif statements.\n",
        "\n"
      ],
      "metadata": {
        "id": "y4qjdTHW0EaW"
      }
    },
    {
      "cell_type": "code",
      "source": [
        "def is_leap_year(year):\n",
        "    if (year % 400 == 0):\n",
        "        return True\n",
        "    elif (year % 100 == 0):\n",
        "        return False\n",
        "    elif (year % 4 == 0):\n",
        "        return True\n",
        "    else:\n",
        "        return False\n",
        "\n",
        "def days_in_month(month, year):\n",
        "    if month in [\"January\", \"March\", \"May\", \"July\", \"August\", \"October\", \"December\"]:\n",
        "        return 31\n",
        "    elif month in [\"April\", \"June\", \"September\", \"November\"]:\n",
        "        return 30\n",
        "    elif month == \"February\":\n",
        "        return 29 if is_leap_year(year) else 28\n",
        "    else:\n",
        "        return \"Invalid month\"\n",
        "\n",
        "year = int(input(\"Enter the year: \"))\n",
        "month = input(\"Enter the Month Name: \")\n",
        "\n",
        "if is_leap_year(year):\n",
        "    year_type = \"Leap year\"\n",
        "else:\n",
        "    year_type = \"Common year\"\n",
        "\n",
        "days = days_in_month(month, year)\n",
        "\n",
        "print(f\"The year {year} is a {year_type}.\")\n",
        "print(f\"The month of {month} in the year {year} has {days} days.\")\n"
      ],
      "metadata": {
        "colab": {
          "base_uri": "https://localhost:8080/"
        },
        "id": "rQEDrjcE0GgB",
        "outputId": "e23375dc-0f05-473f-c41e-03e1594d4a0f"
      },
      "execution_count": null,
      "outputs": [
        {
          "output_type": "stream",
          "name": "stdout",
          "text": [
            "Enter the year: 2024\n",
            "Enter the Month Name: February\n",
            "The year 2024 is a Leap year.\n",
            "The month of February in the year 2024 has 29 days.\n"
          ]
        }
      ]
    },
    {
      "cell_type": "markdown",
      "source": [
        "#Basic Level:"
      ],
      "metadata": {
        "id": "u3KqiQqPeP14"
      }
    },
    {
      "cell_type": "markdown",
      "source": [
        "1. Write a Python program that checks if a given number is positive, negative, or zero.\n",
        "\n",
        "\n",
        "\n",
        "\n",
        "\n"
      ],
      "metadata": {
        "id": "VcSxGPbeeZID"
      }
    },
    {
      "cell_type": "code",
      "source": [
        "def check_number(num):\n",
        "    if num > 0:\n",
        "        return \"Positive\"\n",
        "    elif num < 0:\n",
        "        return \"Negative\"\n",
        "    else:\n",
        "        return \"Zero\"\n",
        "\n",
        "number = float(input(\"Enter a number: \"))\n",
        "\n",
        "result = check_number(number)\n",
        "print(f\"The number {number} is {result}.\")\n"
      ],
      "metadata": {
        "id": "UsikmI2dS6XL"
      },
      "execution_count": null,
      "outputs": []
    },
    {
      "cell_type": "markdown",
      "source": [
        "2. Create a program to determine if a person is eligible to vote based on their age.\n",
        "\n"
      ],
      "metadata": {
        "id": "FLb1Ou9sSkx7"
      }
    },
    {
      "cell_type": "code",
      "source": [
        "def check_eligiblity(age):\n",
        "  if age >= 18:\n",
        "    return \"Eligible to vote\"\n",
        "  else:\n",
        "    return \"Not Eligible to vote\"\n",
        "\n",
        "age = int(input(\"Enter a age: \"))\n",
        "result = check_eligiblity(age)\n",
        "print(result)"
      ],
      "metadata": {
        "colab": {
          "base_uri": "https://localhost:8080/"
        },
        "id": "rTq_T7C0S69p",
        "outputId": "9bded09d-0d53-4e79-902e-40492880846f"
      },
      "execution_count": null,
      "outputs": [
        {
          "output_type": "stream",
          "name": "stdout",
          "text": [
            "Enter a age: 24\n",
            "Eligible to vote\n"
          ]
        }
      ]
    },
    {
      "cell_type": "markdown",
      "source": [
        "3. Write a program to find the maximum of two given numbers using conditional statements.\n",
        "\n"
      ],
      "metadata": {
        "id": "ozWim4yhSoIs"
      }
    },
    {
      "cell_type": "code",
      "source": [
        "def find_maximum(num1,num2):\n",
        "  if num1>num2:\n",
        "    return num1\n",
        "  else:\n",
        "    return num2\n",
        "\n",
        "num1 = float(input(\"Enter a number: \"))\n",
        "num2 = float(input(\"Enter a number: \"))\n",
        "maximum = find_maximum(num1,num2)\n",
        "print(f\"The maximum number is {maximum}\")"
      ],
      "metadata": {
        "colab": {
          "base_uri": "https://localhost:8080/"
        },
        "id": "6SJFDJpPS7be",
        "outputId": "e2ddadda-0bda-4f10-c000-52398561103c"
      },
      "execution_count": null,
      "outputs": [
        {
          "output_type": "stream",
          "name": "stdout",
          "text": [
            "Enter a number: 52\n",
            "Enter a number: 45\n",
            "The maximum number is 52.0\n"
          ]
        }
      ]
    },
    {
      "cell_type": "markdown",
      "source": [
        "4. Develop a program that calculates the grade of a student based on their exam score.\n",
        "\n"
      ],
      "metadata": {
        "id": "_zmDW4W3SqeF"
      }
    },
    {
      "cell_type": "code",
      "source": [
        "def calculate_grade(score):\n",
        "    if score >= 90:\n",
        "        return \"A\"\n",
        "    elif score >= 80:\n",
        "        return \"B\"\n",
        "    elif score >= 70:\n",
        "        return \"C\"\n",
        "    elif score >= 60:\n",
        "        return \"D\"\n",
        "    else:\n",
        "        return \"F\"\n",
        "\n",
        "score = float(input(\"Enter the exam score: \"))\n",
        "\n",
        "grade = calculate_grade(score)\n",
        "print(f\"The grade for a score of {score} is {grade}.\")\n"
      ],
      "metadata": {
        "id": "irExquO3S8H_"
      },
      "execution_count": null,
      "outputs": []
    },
    {
      "cell_type": "markdown",
      "source": [
        "5. Create a program that checks if a year is a leap year or not.\n",
        "\n"
      ],
      "metadata": {
        "id": "9G98XTz0Stpe"
      }
    },
    {
      "cell_type": "code",
      "source": [
        "def is_leap_year(year):\n",
        "    if (year % 400 == 0):\n",
        "        return True\n",
        "    elif (year % 100 == 0):\n",
        "        return False\n",
        "    elif (year % 4 == 0):\n",
        "        return True\n",
        "    else:\n",
        "        return False\n",
        "\n",
        "year = int(input(\"Enter a year: \"))\n",
        "\n",
        "if is_leap_year(year):\n",
        "    print(f\"The year {year} is a leap year.\")\n",
        "else:\n",
        "    print(f\"The year {year} is not a leap year.\")\n"
      ],
      "metadata": {
        "id": "uPlZr9NLS8lB"
      },
      "execution_count": null,
      "outputs": []
    },
    {
      "cell_type": "markdown",
      "source": [
        "6. Write a program to classify a triangle based on its sides' lengths.\n",
        "\n"
      ],
      "metadata": {
        "id": "yACQGWwDSw76"
      }
    },
    {
      "cell_type": "code",
      "source": [
        "def classify_triangle(side1, side2, side3):\n",
        "    if side1 == side2 == side3:\n",
        "        return \"Equilateral triangle\"\n",
        "    elif side1 == side2 or side2 == side3 or side1 == side3:\n",
        "        return \"Isosceles triangle\"\n",
        "    else:\n",
        "        return \"Scalene triangle\"\n",
        "\n",
        "side1 = float(input(\"Enter the length of the first side: \"))\n",
        "side2 = float(input(\"Enter the length of the second side: \"))\n",
        "side3 = float(input(\"Enter the length of the third side: \"))\n",
        "\n",
        "triangle_type = classify_triangle(side1, side2, side3)\n",
        "print(f\"The triangle with sides {side1}, {side2}, and {side3} is a {triangle_type}.\")\n"
      ],
      "metadata": {
        "id": "lE8-yKVdS9Ff"
      },
      "execution_count": null,
      "outputs": []
    },
    {
      "cell_type": "markdown",
      "source": [
        "7. Build a program that determines the largest of three given numbers.\n",
        "\n"
      ],
      "metadata": {
        "id": "qiw_QftNSzJn"
      }
    },
    {
      "cell_type": "code",
      "source": [
        "def find_largest(num1, num2, num3):\n",
        "    if num1 >= num2 and num1 >= num3:\n",
        "        return num1\n",
        "    elif num2 >= num1 and num2 >= num3:\n",
        "        return num2\n",
        "    else:\n",
        "        return num3\n",
        "\n",
        "num1 = float(input(\"Enter the first number: \"))\n",
        "num2 = float(input(\"Enter the second number: \"))\n",
        "num3 = float(input(\"Enter the third number: \"))\n",
        "\n",
        "largest_number = find_largest(num1, num2, num3)\n",
        "print(f\"The largest number among {num1}, {num2}, and {num3} is {largest_number}.\")\n"
      ],
      "metadata": {
        "id": "IkjZlUkjS9lZ"
      },
      "execution_count": null,
      "outputs": []
    },
    {
      "cell_type": "markdown",
      "source": [
        "8. Develop a program that checks whether a character is a vowel or a consonant.\n",
        "\n"
      ],
      "metadata": {
        "id": "vXzHbjk-S03i"
      }
    },
    {
      "cell_type": "code",
      "source": [
        "def check_vowel_or_consonant(char):\n",
        "    vowels = 'AEIOUaeiou'\n",
        "    if char in vowels:\n",
        "        return \"Vowel\"\n",
        "    elif char.isalpha():\n",
        "        return \"Consonant\"\n",
        "    else:\n",
        "        return \"Not a valid letter\"\n",
        "\n",
        "char = input(\"Enter a character: \")\n",
        "\n",
        "if len(char) == 1:\n",
        "    result = check_vowel_or_consonant(char)\n",
        "    print(f\"The character '{char}' is a {result}.\")\n",
        "else:\n",
        "    print(\"Please enter a single character.\")\n"
      ],
      "metadata": {
        "id": "KsUjznhQS-C9"
      },
      "execution_count": null,
      "outputs": []
    },
    {
      "cell_type": "markdown",
      "source": [
        "9. Create a program to calculate the total cost of a shopping cart based on discounts.\n"
      ],
      "metadata": {
        "id": "VmInbFb8S2o4"
      }
    },
    {
      "cell_type": "code",
      "source": [
        "def calculate_total_cost(cart, discounts):\n",
        "\n",
        "\n",
        "    total_cost = 0\n",
        "    for item, quantity in cart.items():\n",
        "\n",
        "        item_cost = quantity * get_item_price(item)\n",
        "        total_cost += item_cost\n",
        "\n",
        "\n",
        "    for discount in discounts:\n",
        "        applicable_items = discount['items']\n",
        "        discount_type = discount['type']\n",
        "        discount_amount = discount['amount']\n",
        "\n",
        "        discount_applied = 0\n",
        "        for item in applicable_items:\n",
        "            if item in cart:\n",
        "                item_cost = cart[item] * get_item_price(item)\n",
        "                if discount_type == 'percentage':\n",
        "                    discount_applied += item_cost * (discount_amount / 100)\n",
        "                elif discount_type == 'fixed':\n",
        "                    discount_applied += discount_amount\n",
        "\n",
        "        total_cost -= discount_applied\n",
        "\n",
        "    return total_cost\n",
        "\n",
        "\n",
        "def get_item_price(item):\n",
        "\n",
        "    prices = {'apple': 1.0, 'banana': 0.5, 'orange': 0.75}\n",
        "    return prices.get(item, 0.0)\n",
        "\n",
        "cart = {'apple': 2, 'banana': 3, 'orange': 1}\n",
        "discounts = [\n",
        "    {'items': ['apple', 'banana'], 'type': 'percentage', 'amount': 10},\n",
        "    {'items': ['orange'], 'type': 'fixed', 'amount': 0.50}\n",
        "]\n",
        "\n",
        "total_cost = calculate_total_cost(cart, discounts)\n",
        "print(f\"Total cost: ${total_cost:.2f}\")"
      ],
      "metadata": {
        "colab": {
          "base_uri": "https://localhost:8080/"
        },
        "id": "tBYaT7K9S-jU",
        "outputId": "6730bf41-53b4-4151-b578-cefb7025759d"
      },
      "execution_count": null,
      "outputs": [
        {
          "output_type": "stream",
          "name": "stdout",
          "text": [
            "Enter the item price (or 'done' to finish): 550\n",
            "Enter the item price (or 'done' to finish): 300\n",
            "Enter the item price (or 'done' to finish): 600\n",
            "Enter the item price (or 'done' to finish): done\n",
            "The total cost of the shopping cart is: $1015.00\n",
            "A discount of 30.0% was applied.\n",
            "Items in the cart:\n",
            "Item 1: $550.00\n",
            "Item 2: $300.00\n",
            "Item 3: $600.00\n"
          ]
        }
      ]
    },
    {
      "cell_type": "markdown",
      "source": [
        "\n",
        "10. Write a program that checks if a given number is even or odd."
      ],
      "metadata": {
        "id": "POBjazdOS4BP"
      }
    },
    {
      "cell_type": "code",
      "source": [
        "def check_even_or_odd(number):\n",
        "    if number % 2 == 0:\n",
        "        return \"Even\"\n",
        "    else:\n",
        "        return \"Odd\"\n",
        "\n",
        "number = int(input(\"Enter a number: \"))\n",
        "\n",
        "result = check_even_or_odd(number)\n",
        "print(f\"The number {number} is {result}.\")\n"
      ],
      "metadata": {
        "id": "DNA02YL1S_Lv"
      },
      "execution_count": null,
      "outputs": []
    },
    {
      "cell_type": "markdown",
      "source": [
        "#Intermediate Level:"
      ],
      "metadata": {
        "id": "Iwy1PkUxebxd"
      }
    },
    {
      "cell_type": "markdown",
      "source": [
        "11. Write a program that calculates the roots of a quadratic equation .\n",
        "\n"
      ],
      "metadata": {
        "id": "0mFrsr2Vefk9"
      }
    },
    {
      "cell_type": "code",
      "source": [
        "import math\n",
        "a = float(input(\"Enter the value a: \"))\n",
        "b = float(input(\"Enter the value b: \"))\n",
        "c = float(input(\"Enter the value c: \"))\n",
        "\n",
        "discriminant = b**2-4*a*c\n",
        "\n",
        "if discriminant > 0:\n",
        "  root1 = (-b + math.sqrt(discriminant))/2*a\n",
        "  root2 = (-b - math.sqrt(discriminant))/2*a\n",
        "  print(f\"The equation has two real and distinct roots: {root1} and {root2}\")\n",
        "elif discriminant == 0:\n",
        "  root = -b/2*a\n",
        "  print(f\"The equation has one real root: {root}\")\n",
        "else:\n",
        "  real_part = -b/2*a\n",
        "  imaginary_part = math.sqrt(discriminant)/2*a\n",
        "  print(f\"The equation has two complex roots: {real_part} + {imaginary_part}i and {real_part} - {imaginary_part}i\")\n",
        "\n"
      ],
      "metadata": {
        "colab": {
          "base_uri": "https://localhost:8080/"
        },
        "id": "UGIrGE4GbvZV",
        "outputId": "b9b393b8-b9d7-4ee2-93a0-edcd13f50222"
      },
      "execution_count": null,
      "outputs": [
        {
          "output_type": "stream",
          "name": "stdout",
          "text": [
            "Enter the value: 2\n",
            "Enter the value: 6\n",
            "Enter the value: 2\n",
            "The roots are -1.5278640450004204 and -10.47213595499958\n"
          ]
        }
      ]
    },
    {
      "cell_type": "markdown",
      "source": [
        "12. Create a program that determines the day of the week based on the day number (1-7).\n",
        "\n"
      ],
      "metadata": {
        "id": "16EP6GUxXqUN"
      }
    },
    {
      "cell_type": "code",
      "source": [
        "def find_day(day_number):\n",
        "\n",
        "  days_of_week = [\"Monday\", \"Tuesday\", \"Wednesday\",\"Thrusday\", \"Friday\", \"Saturday\", \"Sunday\"]\n",
        "  if 1<=day_number<=7:\n",
        "    return days_of_week[day_number - 1]\n",
        "  else:\n",
        "    return \"Number is Invalid please Enter Number between 1 and 7\"\n",
        "\n",
        "day_number = int(input(\"Enter a number between 1 and 7: \"))\n",
        "day_name = find_day(day_number)\n",
        "print(day_name)"
      ],
      "metadata": {
        "colab": {
          "base_uri": "https://localhost:8080/"
        },
        "id": "hZOdihfCmNDa",
        "outputId": "4c060639-3d05-49e4-8902-20258931c618"
      },
      "execution_count": null,
      "outputs": [
        {
          "output_type": "stream",
          "name": "stdout",
          "text": [
            "Enter a number between 1 and 7: 5\n",
            "Friday\n"
          ]
        }
      ]
    },
    {
      "cell_type": "markdown",
      "source": [
        "13. Develop a program that calculates the factorial of a given number using recursion.\n",
        "\n"
      ],
      "metadata": {
        "id": "VGd5kStuXt2P"
      }
    },
    {
      "cell_type": "code",
      "source": [
        "def factorial(n):\n",
        "  if n ==  0 or n==1:\n",
        "    return 1\n",
        "  else:\n",
        "    return n * factorial(n-1)\n",
        "\n",
        "n = int(input(\"Enter a number to find its Factorial: \"))\n",
        "result = factorial(n)\n",
        "print(f\"Factorial of {n} is {result}\")"
      ],
      "metadata": {
        "colab": {
          "base_uri": "https://localhost:8080/"
        },
        "id": "YRfDAbfAmNcJ",
        "outputId": "e839ff4e-2e75-4fee-c140-5def4ec52949"
      },
      "execution_count": null,
      "outputs": [
        {
          "output_type": "stream",
          "name": "stdout",
          "text": [
            "Enter a number to find its Factorial: 4\n",
            "Factorial of 4 is 24\n"
          ]
        }
      ]
    },
    {
      "cell_type": "markdown",
      "source": [
        "14. Write a program to find the largest among three numbers without using the `max()` function.\n",
        "\n"
      ],
      "metadata": {
        "id": "pGnNK_dyXwUt"
      }
    },
    {
      "cell_type": "code",
      "source": [
        "def find_largest(a,b,c):\n",
        "  largest = 1\n",
        "  if b > largest:\n",
        "    largest = b\n",
        "  if c> largest:\n",
        "    largest = c\n",
        "  return largest\n",
        "\n",
        "a = int(input(\"Enter a number to compare: \"))\n",
        "b = int(input(\"Enter a number to compare: \"))\n",
        "c = int(input(\"Enter a number to compare: \"))\n",
        "largest=find_largest(a,b,c)\n",
        "print(f\"The largest in a : {a}, b : {b}, c : {c} is {largest}\")"
      ],
      "metadata": {
        "colab": {
          "base_uri": "https://localhost:8080/"
        },
        "id": "OM4zDAt_mN7Z",
        "outputId": "4d856ebe-c6fe-4df5-f34f-a77cf64c13a1"
      },
      "execution_count": null,
      "outputs": [
        {
          "output_type": "stream",
          "name": "stdout",
          "text": [
            "Enter a number to compare: 20\n",
            "Enter a number to compare: 50\n",
            "Enter a number to compare: 10\n",
            "The largest in 20, 50, 10 is 50\n"
          ]
        }
      ]
    },
    {
      "cell_type": "markdown",
      "source": [
        "15. Create a program that simulates a basic ATM transaction menu.\n",
        "\n"
      ],
      "metadata": {
        "id": "srMfgqbzXzIK"
      }
    },
    {
      "cell_type": "code",
      "source": [
        "def use_atm():\n",
        "  balance = 1000\n",
        "\n",
        "  while True:\n",
        "    print(\"\\nAtm Machine\")\n",
        "    print(\"1. Check Balance\")\n",
        "    print(\"2. Deposit\")\n",
        "    print(\"3. Withdraw\")\n",
        "    print(\"4. Exit\")\n",
        "\n",
        "    choice = input(\"Enter your choice: \")\n",
        "\n",
        "    if choice == '1':\n",
        "      print(f\"\\nYour balance is {balance}\")\n",
        "    elif choice == '2':\n",
        "      deposit = float(input(\"Enter the amount to deposit: \"))\n",
        "      balance += deposit\n",
        "      print(f\"\\nYour balance is {balance}\")\n",
        "    elif choice == '3':\n",
        "      withdraw = float(input(\"Enter the amount to withdraw: \"))\n",
        "      if withdraw <= balance:\n",
        "        balance -= withdraw\n",
        "        print(f\"\\nYour balance is {balance}\")\n",
        "    elif choice == '4':\n",
        "      print(\"\\nThank you for using ATM\")\n",
        "      break\n",
        "    else:\n",
        "      print(\"\\nInvalid choice. Please select a valid option.\")\n",
        "\n",
        "use_atm()"
      ],
      "metadata": {
        "colab": {
          "base_uri": "https://localhost:8080/"
        },
        "id": "cu4GT9vYmOaZ",
        "outputId": "2f986d02-89f6-4853-868e-3ae9c1c3da76"
      },
      "execution_count": null,
      "outputs": [
        {
          "output_type": "stream",
          "name": "stdout",
          "text": [
            "\n",
            "Atm Machine\n",
            "1. Check Balance\n",
            "2. Deposit\n",
            "3. Withdraw\n",
            "4. Exit\n",
            "Enter your choice: 2\n",
            "Enter the amount to deposit: 5000\n",
            "\n",
            "Your balance is 6000.0\n",
            "\n",
            "Atm Machine\n",
            "1. Check Balance\n",
            "2. Deposit\n",
            "3. Withdraw\n",
            "4. Exit\n",
            "Enter your choice: 4\n",
            "\n",
            "Thank you for using ATM\n"
          ]
        }
      ]
    },
    {
      "cell_type": "markdown",
      "source": [
        "16. Build a program that checks if a given string is a palindrome or not.\n",
        "\n"
      ],
      "metadata": {
        "id": "FmCQB_pIX1yW"
      }
    },
    {
      "cell_type": "code",
      "source": [
        "def is_palindrome(s):\n",
        "  s = s.lower()\n",
        "  s = \"\".join(char for char in s if char.isalnum())\n",
        "  return s == s[::-1]\n",
        "\n",
        "input_string = input(\"Enter a string to check the palindrome\")\n",
        "if is_palindrome(input_string):\n",
        "  print(f\"'{input_string}' is a palindrome\")\n",
        "else:\n",
        "  print(f\"'{input_string}' is not a palindrome\")"
      ],
      "metadata": {
        "id": "HK0QWopGMKBI"
      },
      "execution_count": null,
      "outputs": []
    },
    {
      "cell_type": "markdown",
      "source": [
        "17. Write a program that calculates the average of a list of numbers, excluding the smallest and largest values.\n",
        "\n"
      ],
      "metadata": {
        "id": "0VhR0IU1X34S"
      }
    },
    {
      "cell_type": "code",
      "source": [
        "def average_excluding(numbers):\n",
        "  if len(numbers) < 3 :\n",
        "    raise ValueError(\"List do not contain minimum 3 values \")\n",
        "\n",
        "  sorted_numbers = sorted(numbers)\n",
        "  trimmed_numbers = sorted_numbers[1:-1]\n",
        "  average = sum(trimmed_numbers)/len(trimmed_numbers)\n",
        "  return average\n",
        "\n",
        "numbers = [10,20,40,50,20,90,80]\n",
        "average = average_excluding(numbers)\n",
        "print(f\"The average of the list is {average}\")\n"
      ],
      "metadata": {
        "colab": {
          "base_uri": "https://localhost:8080/"
        },
        "id": "p8URqdvRmPaM",
        "outputId": "4bb0de31-0e25-492c-c924-7e60695af1b4"
      },
      "execution_count": null,
      "outputs": [
        {
          "output_type": "stream",
          "name": "stdout",
          "text": [
            "The average of the list is 42.0\n"
          ]
        }
      ]
    },
    {
      "cell_type": "markdown",
      "source": [
        "18. Develop a program that converts a given temperature from Celsius to Fahrenheit.\n",
        "\n"
      ],
      "metadata": {
        "id": "wTIWjifMX53s"
      }
    },
    {
      "cell_type": "code",
      "source": [
        "def celsius_to_fahrenheit(celsius):\n",
        "  fahrenheit = ((celsius*9/5) + 32 )\n",
        "  return fahrenheit\n",
        "\n",
        "celsius = float(input(\"enter the temperature in celsius: \"))\n",
        "fahrenheit = celsius_to_fahrenheit(celsius)\n",
        "print(f\" After converting from Celsius {celsius} to Fahrenheit {fahrenheit} \")"
      ],
      "metadata": {
        "colab": {
          "base_uri": "https://localhost:8080/"
        },
        "id": "eE1etLVimP7h",
        "outputId": "83f8ab54-9bb8-47e0-b546-1a445520e890"
      },
      "execution_count": null,
      "outputs": [
        {
          "output_type": "stream",
          "name": "stdout",
          "text": [
            "enter the temperature in celsius: 52\n",
            " After converting from Celsius 52.0 to Fahrenheit 125.6 \n"
          ]
        }
      ]
    },
    {
      "cell_type": "markdown",
      "source": [
        "19. Create a program that simulates a basic calculator for addition, subtraction, multiplication, and division.\n",
        "\n"
      ],
      "metadata": {
        "id": "Ed0rjC6XX7wa"
      }
    },
    {
      "cell_type": "code",
      "source": [
        "def use_calculator():\n",
        "  while True:\n",
        "    print(\"\\nCalculator Menu\")\n",
        "    print(\"1. Addition\")\n",
        "    print(\"2. Subtraction\")\n",
        "    print(\"3. Multiplication\")\n",
        "    print(\"4. Division\")\n",
        "    print(\"5. Exit\")\n",
        "\n",
        "    choice = int(input(\"Enter your Choice from 1 or 2 or 3 or 4 or 5: \"))\n",
        "    if choice == 1:\n",
        "      num1 = float(input(\"Enter the first number:\"))\n",
        "      num2 = float(input(\"Enter the first number:\"))\n",
        "      result = num1 + num2\n",
        "      print(f\"\\nThe sum of {num1} and {num2} is {result}\")\n",
        "\n",
        "    elif choice == 2:\n",
        "      num1 = float(input(\"Enter the first number:\"))\n",
        "      num2 = float(input(\"Enter the first number:\"))\n",
        "      result = num1 - num2\n",
        "      print(f\"\\nThe subtraction of {num1} and {num2} is {result}\")\n",
        "    elif choice == 3:\n",
        "      num1 = float(input(\"Enter the first number:\"))\n",
        "      num2 = float(input(\"Enter the first number:\"))\n",
        "      result = num1 * num2\n",
        "      print(f\"\\nThe multiplication of {num1} and {num2} is {result}\")\n",
        "    elif choice == 4:\n",
        "      num1 = float(input(\"Enter the first number:\"))\n",
        "      num2 = float(input(\"Enter the first number:\"))\n",
        "      result = num1/num2\n",
        "      print(f\"\\nThe division of {num1} and {num2} is {result}\")\n",
        "    elif choice == 5:\n",
        "      print(\"\\nThank you for using Calculator\")\n",
        "      break\n",
        "    else:\n",
        "      print(\"\\nInvalid Choice please enter a correct option\")\n",
        "\n",
        "\n",
        "use_calculator()"
      ],
      "metadata": {
        "colab": {
          "base_uri": "https://localhost:8080/"
        },
        "id": "h9uc3gaTmQYb",
        "outputId": "117ec8c0-ba15-43b3-a753-14c6b292e127"
      },
      "execution_count": null,
      "outputs": [
        {
          "output_type": "stream",
          "name": "stdout",
          "text": [
            "\n",
            "Calculator Menu\n",
            "1. Addition\n",
            "2. Subtraction\n",
            "3. Multiplication\n",
            "4. Division\n",
            "5. Exit\n",
            "Enter your Choice from 1 or 2 or 3 or 4 or 5: 1\n",
            "Enter the first number:5\n",
            "Enter the first number:5\n",
            "\n",
            "The sum of 5.0 and 5.0 is 10.0\n",
            "\n",
            "Calculator Menu\n",
            "1. Addition\n",
            "2. Subtraction\n",
            "3. Multiplication\n",
            "4. Division\n",
            "5. Exit\n",
            "Enter your Choice from 1 or 2 or 3 or 4 or 5: 5\n",
            "\n",
            "Thank you for using Calculator\n"
          ]
        }
      ]
    },
    {
      "cell_type": "markdown",
      "source": [
        "20. Write a program that determines the roots of a cubic equation using the Cardano formula."
      ],
      "metadata": {
        "id": "qNFboyC1X98n"
      }
    },
    {
      "cell_type": "code",
      "source": [
        "import cmath\n",
        "\n",
        "def solve_cubic(a, b, c, d):\n",
        "    if a != 1:\n",
        "        b /= a\n",
        "        c /= a\n",
        "        d /= a\n",
        "\n",
        "    p = c / 3 - b**2 / 9\n",
        "    q = b**3 / 27 - b * c / 6 + d / 2\n",
        "\n",
        "    discriminant = q**2 + p**3\n",
        "\n",
        "    if discriminant > 0:\n",
        "        u = cmath.exp(cmath.log(-q + cmath.sqrt(discriminant)) / 3)\n",
        "        v = cmath.exp(cmath.log(-q - cmath.sqrt(discriminant)) / 3)\n",
        "    else:\n",
        "        u = cmath.exp(cmath.log(-q + cmath.sqrt(discriminant + 0j)) / 3)\n",
        "        v = cmath.exp(cmath.log(-q - cmath.sqrt(discriminant + 0j)) / 3)\n",
        "\n",
        "    root1 = u + v\n",
        "    root2 = -(u + v) / 2 + cmath.sqrt(3) * (u - v) / 2j\n",
        "    root3 = -(u + v) / 2 - cmath.sqrt(3) * (u - v) / 2j\n",
        "\n",
        "    root1 -= b / 3\n",
        "    root2 -= b / 3\n",
        "    root3 -= b / 3\n",
        "\n",
        "    return root1, root2, root3\n",
        "\n",
        "a = float(input(\"Enter coefficient a: \"))\n",
        "b = float(input(\"Enter coefficient b: \"))\n",
        "c = float(input(\"Enter coefficient c: \"))\n",
        "d = float(input(\"Enter coefficient d: \"))\n",
        "\n",
        "roots = solve_cubic(a, b, c, d)\n",
        "print(f\"The roots of the cubic equation are: {roots[0]}, {roots[1]}, {roots[2]}\")"
      ],
      "metadata": {
        "colab": {
          "base_uri": "https://localhost:8080/"
        },
        "id": "hGCS9Ap5mQ8o",
        "outputId": "beed289f-4442-405c-9e9f-d9359b7ecc52"
      },
      "execution_count": null,
      "outputs": [
        {
          "output_type": "stream",
          "name": "stdout",
          "text": [
            "Enter coefficient a: 5\n",
            "Enter coefficient b: 1\n",
            "Enter coefficient c: 5\n",
            "Enter coefficient d: 2\n",
            "The roots of the cubic equation are: (0.7470060629177464+0.6479677817346152j), (-1.0346595912749004-0.38067736331941987j), (0.08765352835715388-0.26729041841519535j)\n"
          ]
        }
      ]
    },
    {
      "cell_type": "markdown",
      "source": [
        "#Advanced Level:"
      ],
      "metadata": {
        "id": "C7UwwLgueiEz"
      }
    },
    {
      "cell_type": "markdown",
      "source": [
        "21. Create a program that calculates the income tax based on the user's income and tax brackets.\n",
        "\n"
      ],
      "metadata": {
        "id": "Y1FlU9V8elOt"
      }
    },
    {
      "cell_type": "code",
      "source": [
        "def calculate_income_tax(income):\n",
        "\n",
        "    tax_brackets = [\n",
        "        (10000, 0.0),\n",
        "        (20000, 0.10),\n",
        "        (50000, 0.20),\n",
        "        (float('inf'), 0.30)\n",
        "    ]\n",
        "\n",
        "    total_tax = 0.0\n",
        "\n",
        "    lower_limit = 0.0\n",
        "\n",
        "    for upper_limit, rate in tax_brackets:\n",
        "        if income > lower_limit:\n",
        "            taxable_income = min(income, upper_limit) - lower_limit\n",
        "            tax = taxable_income * rate\n",
        "            total_tax += tax\n",
        "            lower_limit = upper_limit\n",
        "        else:\n",
        "            break\n",
        "\n",
        "    return total_tax\n",
        "\n",
        "income = float(input(\"Enter your annual income: $\"))\n",
        "tax = calculate_income_tax(income)\n",
        "print(f\"The total income tax for an income of ${income} is: ${tax:.2f}\")"
      ],
      "metadata": {
        "id": "6C7g1R1qmSz6"
      },
      "execution_count": null,
      "outputs": []
    },
    {
      "cell_type": "markdown",
      "source": [
        "22. Write a program that simulates a rock-paper-scissors game against the computer.\n",
        "\n"
      ],
      "metadata": {
        "id": "g2qSY1A6YEPv"
      }
    },
    {
      "cell_type": "code",
      "source": [
        "import random\n",
        "\n",
        "def play_rock_paper_scissors():\n",
        "    choices = {1: \"rock\", 2: \"paper\", 3: \"scissors\"}\n",
        "\n",
        "    while True:\n",
        "        while True:  # Inner loop for valid input\n",
        "            try:\n",
        "                user_input = int(input(\"Enter your choice (1: Rock, 2: Paper, 3: Scissors): \"))\n",
        "                if user_input in choices:\n",
        "                    break  # Valid input, exit inner loop\n",
        "                else:\n",
        "                    print(\"Invalid choice. Please enter 1, 2, or 3.\")\n",
        "            except ValueError:\n",
        "                print(\"Invalid input. Please enter a number.\")\n",
        "\n",
        "        computer_choice_num = random.choice(list(choices.keys()))  # Computer's choice (1, 2, or 3)\n",
        "        computer_choice = choices[computer_choice_num]  # Convert to \"rock\", \"paper\", or \"scissors\"\n",
        "\n",
        "        user_choice = choices[user_input]  # Convert user's input to choice string\n",
        "\n",
        "        print(f\"You chose: {user_choice}\")\n",
        "        print(f\"Computer chose: {computer_choice}\")\n",
        "\n",
        "        if user_input == computer_choice_num:\n",
        "            print(\"It's a tie!\")\n",
        "        elif (user_input == 1 and computer_choice_num == 3) or \\\n",
        "             (user_input == 2 and computer_choice_num == 1) or \\\n",
        "             (user_input == 3 and computer_choice_num == 2):\n",
        "            print(\"You win!\")\n",
        "        else:\n",
        "            print(\"You lose!\")\n",
        "\n",
        "        play_again = input(\"Play again? (y/n): \").lower()\n",
        "        if play_again != \"y\":\n",
        "            break\n",
        "\n",
        "print(\"Welcome to Rock-Paper-Scissors!\")\n",
        "play_rock_paper_scissors()\n",
        "print(\"Thanks for playing!\")"
      ],
      "metadata": {
        "colab": {
          "base_uri": "https://localhost:8080/"
        },
        "id": "mbRmlGjvbRQg",
        "outputId": "19229c70-eb4f-48da-b6f0-e97050a45a21"
      },
      "execution_count": 18,
      "outputs": [
        {
          "output_type": "stream",
          "name": "stdout",
          "text": [
            "Welcome to Rock-Paper-Scissors!\n",
            "Enter your choice (1: Rock, 2: Paper, 3: Scissors): 3\n",
            "You chose: scissors\n",
            "Computer chose: scissors\n",
            "It's a tie!\n",
            "Play again? (y/n): y\n",
            "Enter your choice (1: Rock, 2: Paper, 3: Scissors): 2\n",
            "You chose: paper\n",
            "Computer chose: paper\n",
            "It's a tie!\n",
            "Play again? (y/n): y\n",
            "Enter your choice (1: Rock, 2: Paper, 3: Scissors): 1\n",
            "You chose: rock\n",
            "Computer chose: scissors\n",
            "You win!\n",
            "Play again? (y/n): y\n",
            "Enter your choice (1: Rock, 2: Paper, 3: Scissors): 3\n",
            "You chose: scissors\n",
            "Computer chose: paper\n",
            "You win!\n",
            "Play again? (y/n): n\n",
            "Thanks for playing!\n"
          ]
        }
      ]
    },
    {
      "cell_type": "markdown",
      "source": [
        "23. Develop a program that generates a random password based on user preferences (length, complexity).\n",
        "\n"
      ],
      "metadata": {
        "id": "42bBaySyYG8x"
      }
    },
    {
      "cell_type": "code",
      "source": [
        "import random\n",
        "import string\n",
        "\n",
        "def generate_password(length,complexity):\n",
        "  if complexity == \"low\" :\n",
        "    characters = string.ascii_lowercase\n",
        "  elif complexity == \"medium\" :\n",
        "    characters == string.asicc_lowercase + string.digits\n",
        "  elif complexity == \"high\" :\n",
        "    characters = string.ascii_lowercase + string.digits + string.punctuation\n",
        "  else:\n",
        "    return \"Invalid complexity level. Choose 'low', 'medium', or 'high'. \"\n",
        "\n",
        "  pasword = ''.join(random.choice(characters) for i in range(length))\n",
        "  return pasword\n",
        "complexity = input(\"Enter complexity level (low, medium, high): \").lower()\n",
        "\n",
        "while True:\n",
        "  try:\n",
        "    length = int(input(\"Enter a password length (at least 8) in numbers more then 8 : \"))\n",
        "    if length >= 8:\n",
        "      break\n",
        "    else:\n",
        "      print(\"Password length must be at least 8.\")\n",
        "  except ValueError:\n",
        "    print(\"Invalid input please enter a number: \")\n",
        "\n",
        "password = generate_password(length, complexity)\n",
        "print(f\"Generated password: {password}\")"
      ],
      "metadata": {
        "colab": {
          "base_uri": "https://localhost:8080/"
        },
        "id": "wsQx-5ilg5Wm",
        "outputId": "818fa308-9ad7-40ae-eed9-be68464dbdb8"
      },
      "execution_count": 17,
      "outputs": [
        {
          "output_type": "stream",
          "name": "stdout",
          "text": [
            "Enter complexity level (low, medium, high): high\n",
            "Enter a password length (at least 8) in numbers more then 8 : 150\n",
            "Generated password: >$b[l~/^0e}a~6uoi;g*s^ww#p-v]?d1{[~-:7#e;,h!3_?j\\gh\\+66_z<,[>e6_wtcu:s.bnq:d/2>klnd*rmrt)3[|~9p}\"ix1<4!viz6j<(n}nor=.*{&=kl^j|\\[ap(~z=%%[|!=zv//o.}\"b]\n"
          ]
        }
      ]
    },
    {
      "cell_type": "markdown",
      "source": [
        "24. Create a program that implements a simple text-based adventure game with branching scenarios.\n",
        "\n"
      ],
      "metadata": {
        "id": "smrkglkuYJU6"
      }
    },
    {
      "cell_type": "code",
      "source": [
        "import random\n",
        "\n",
        "def start_adventure():\n",
        "    print(\"\\nWelcome, brave adventurer, to the mystical Forest of Eldoria!\")\n",
        "    print(\"\\nYour journey begins at a crossroads. Will you go left or right?\")\n",
        "\n",
        "    choice = input(\"> \").lower()\n",
        "\n",
        "    if choice in (\"left\", \"l\"):\n",
        "        encounter_goblin()\n",
        "    elif choice in (\"right\", \"r\"):\n",
        "        discover_treasure()\n",
        "    else:\n",
        "        print(\"Invalid choice. You stumble and fall into a pit. Game Over.\")\n",
        "\n",
        "def encounter_goblin():\n",
        "    print(\"\\nYou encounter a mischievous goblin blocking your path.\")\n",
        "    print(\"What will you do? (fight/flee/talk/t)\")\n",
        "\n",
        "    choice = input(\"> \").lower()\n",
        "\n",
        "    if choice in (\"fight\", \"f\"):\n",
        "        # Randomly determine the outcome of the fight\n",
        "        if random.random() < 0.5:\n",
        "            print(\"\\nYou bravely defeat the goblin and continue your adventure!\")\n",
        "            discover_treasure()  # Proceed to the next scenario\n",
        "        else:\n",
        "            print(\"\\nThe goblin overpowers you. Game Over.\")\n",
        "    elif choice in (\"flee\", \"run\"):\n",
        "        print(\"\\nYou wisely choose to flee and return to the crossroads.\")\n",
        "        start_adventure()  # Return to the initial scenario\n",
        "    elif choice in (\"talk\", \"t\"):\n",
        "        print(\"\\nYou engage the goblin in conversation and manage to trick it.\")\n",
        "        print(\"It allows you to pass and you continue your journey.\")\n",
        "        discover_treasure()  # Proceed to the next scenario\n",
        "    else:\n",
        "        print(\"\\nIndecision is your downfall. The goblin attacks while you ponder. Game Over.\")\n",
        "\n",
        "def discover_treasure():\n",
        "    print(\"\\nYou stumble upon a hidden clearing with a shimmering treasure chest.\")\n",
        "    print(\"Will you open it? (yes/y/no/n)\")\n",
        "\n",
        "    choice = input(\"> \").lower()\n",
        "\n",
        "    if choice in (\"yes\", \"y\"):\n",
        "        print(\"\\nYou open the chest and find a mountain of gold and jewels!\")\n",
        "        print(\"Congratulations! You have won the game!\")\n",
        "    elif choice in (\"no\", \"n\"):\n",
        "        print(\"\\nCautious and wise, you decide to leave the treasure untouched.\")\n",
        "        print(\"You return home with your life and your integrity intact.\")\n",
        "    else:\n",
        "        print(\"\\nAs you hesitate, a trapdoor opens beneath you. Game Over.\")\n",
        "\n",
        "# Start the game\n",
        "start_adventure()"
      ],
      "metadata": {
        "colab": {
          "base_uri": "https://localhost:8080/"
        },
        "id": "gwUFyimofyXQ",
        "outputId": "4bde8f23-08d8-4843-95c4-fc399fcd35db"
      },
      "execution_count": null,
      "outputs": [
        {
          "output_type": "stream",
          "name": "stdout",
          "text": [
            "\n",
            "Welcome, brave adventurer, to the mystical Forest of Eldoria!\n",
            "\n",
            "Your journey begins at a crossroads. Will you go left or right?\n",
            "> left\n",
            "\n",
            "You encounter a mischievous goblin blocking your path.\n",
            "What will you do? (fight/flee/talk/t)\n",
            "> flee\n",
            "\n",
            "You wisely choose to flee and return to the crossroads.\n",
            "\n",
            "Welcome, brave adventurer, to the mystical Forest of Eldoria!\n",
            "\n",
            "Your journey begins at a crossroads. Will you go left or right?\n",
            "> right\n",
            "\n",
            "You stumble upon a hidden clearing with a shimmering treasure chest.\n",
            "Will you open it? (yes/y/no/n)\n",
            "> no\n",
            "\n",
            "Cautious and wise, you decide to leave the treasure untouched.\n",
            "You return home with your life and your integrity intact.\n"
          ]
        }
      ]
    },
    {
      "cell_type": "markdown",
      "source": [
        "25. Build a program that solves a linear equation  for x, considering different cases.\n",
        "\n"
      ],
      "metadata": {
        "id": "9GyI3bn2YMVB"
      }
    },
    {
      "cell_type": "code",
      "source": [
        "def solve_linear(a,b):\n",
        "\n",
        "  if a == 0:\n",
        "    if b == 0:\n",
        "      return \"Infinite solutions\"\n",
        "    else:\n",
        "      return \"No Solution (equation is inconsistent)\"\n",
        "  else:\n",
        "    return -b/a\n",
        "a = float(input(\"Enter the cofficent of x: \"))\n",
        "b = float(input(\"Enter the constant term (b): \"))\n",
        "\n",
        "solve = solve_linear(a,b)\n",
        "print(f\"The solution of x: {solve}\")"
      ],
      "metadata": {
        "colab": {
          "base_uri": "https://localhost:8080/"
        },
        "id": "1ueg63-8p6sH",
        "outputId": "481107f1-55bf-44bf-d304-0be9c7e6616b"
      },
      "execution_count": null,
      "outputs": [
        {
          "output_type": "stream",
          "name": "stdout",
          "text": [
            "Enter the cofficent of x: 1\n",
            "Enter the constant term (b): 2\n",
            "The solution of x: -2.0\n"
          ]
        }
      ]
    },
    {
      "cell_type": "markdown",
      "source": [
        "26. Write a program that simulates a basic quiz game with multiple-choice questions and scoring.\n",
        "\n"
      ],
      "metadata": {
        "id": "wl6Ooqy8YOqq"
      }
    },
    {
      "cell_type": "code",
      "source": [
        "import random\n",
        "\n",
        "questions = {\n",
        "    \"What is the capital of France?\": [\"Paris\", \"London\", \"Berlin\", \"Rome\"],\n",
        "    \"What is the highest mountain in the world?\": [\"Mount Everest\", \"K2\", \"Kangchenjunga\", \"Lhotse\"],\n",
        "    \"What is the smallest country in the world?\": [\"Vatican City\", \"Monaco\", \"Nauru\", \"Tuvalu\"],\n",
        "}\n",
        "\n",
        "def run_quiz():\n",
        "    score = 0\n",
        "    num_questions = len(questions)\n",
        "\n",
        "    question_order = list(questions.keys())\n",
        "    random.shuffle(question_order)\n",
        "\n",
        "    for question in question_order:\n",
        "        print(question)\n",
        "        for i, option in enumerate(questions[question]):\n",
        "            print(f\"{i + 1}. {option}\")\n",
        "\n",
        "        while True:\n",
        "            try:\n",
        "                answer = int(input(\"Enter your answer (1-4): \"))\n",
        "                if 1 <= answer <= 4:\n",
        "                    break\n",
        "                else:\n",
        "                    print(\"Invalid choice. Please enter a number between 1 and 4.\")\n",
        "            except ValueError:\n",
        "                print(\"Invalid input. Please enter a number.\")\n",
        "\n",
        "        if questions[question][answer - 1] == questions[question][0]:\n",
        "            print(\"Correct!\")\n",
        "            score += 1\n",
        "        else:\n",
        "            print(\"Incorrect.\")\n",
        "\n",
        "    print(f\"\\nYou got {score} out of {num_questions} questions correct.\")\n",
        "    print(f\"Your score: {score / num_questions * 100:.2f}%\")\n",
        "\n",
        "run_quiz()"
      ],
      "metadata": {
        "colab": {
          "base_uri": "https://localhost:8080/"
        },
        "id": "ZhglBshV3NcI",
        "outputId": "6db9e4f7-3ac6-4cbc-b5c4-db821cc46ede"
      },
      "execution_count": null,
      "outputs": [
        {
          "output_type": "stream",
          "name": "stdout",
          "text": [
            "What is the smallest country in the world?\n",
            "1. Vatican City\n",
            "2. Monaco\n",
            "3. Nauru\n",
            "4. Tuvalu\n",
            "Enter your answer (1-4): 2\n",
            "Incorrect.\n",
            "What is the highest mountain in the world?\n",
            "1. Mount Everest\n",
            "2. K2\n",
            "3. Kangchenjunga\n",
            "4. Lhotse\n",
            "Enter your answer (1-4): 1\n",
            "Correct!\n",
            "What is the capital of France?\n",
            "1. Paris\n",
            "2. London\n",
            "3. Berlin\n",
            "4. Rome\n",
            "Enter your answer (1-4): 1\n",
            "Correct!\n",
            "\n",
            "You got 2 out of 3 questions correct.\n",
            "Your score: 66.67%\n"
          ]
        }
      ]
    },
    {
      "cell_type": "markdown",
      "source": [
        "27. Develop a program that determines whether a given year is a prime number or not.\n",
        "\n"
      ],
      "metadata": {
        "id": "RGdpssZyYRAH"
      }
    },
    {
      "cell_type": "code",
      "source": [
        "def check_prime_year(year):\n",
        "  if year <= 1:\n",
        "    return False\n",
        "\n",
        "  for i in range(2,int(year**0.5)+1):\n",
        "    if year % i ==0:\n",
        "      return False\n",
        "  return True\n",
        "\n",
        "year = int(input(\"Enter a year to check if it is a prime year: \"))\n",
        "if check_prime_year(year):\n",
        "  print(f\"{year} is a prime year\")\n",
        "else:\n",
        "  print(f\"{year} is not a prime year\")"
      ],
      "metadata": {
        "colab": {
          "base_uri": "https://localhost:8080/"
        },
        "id": "VxzrCWOn6ShO",
        "outputId": "7656b953-325c-4b60-88b1-924b2f6149f6"
      },
      "execution_count": null,
      "outputs": [
        {
          "output_type": "stream",
          "name": "stdout",
          "text": [
            "Enter a year to check if it is a prime year: 2055\n",
            "2055 is not a prime year\n"
          ]
        }
      ]
    },
    {
      "cell_type": "markdown",
      "source": [
        "28. Create a program that sorts three numbers in ascending order using conditional statements.\n",
        "\n"
      ],
      "metadata": {
        "id": "CVz3LyBJYTaV"
      }
    },
    {
      "cell_type": "code",
      "source": [
        "def sort_number(num1,num2,num3):\n",
        "  if num1<=num2 and num1<= num3:\n",
        "    if num2<=num3:\n",
        "      return num1,num2,num3\n",
        "    else:\n",
        "      return num1,num3,num2\n",
        "  elif num2<=num1 and num2<=num3:\n",
        "    if num1<=num3:\n",
        "      return num2,num1,num3\n",
        "    else:\n",
        "      return num2,num3,num1\n",
        "  else:\n",
        "    if num1<=num2:\n",
        "      return num3,num1,num2\n",
        "    else:\n",
        "      return num3,num2,num1\n",
        "\n",
        "num1 = float(input(\"Enter the first number: \"))\n",
        "num2 = float(input(\"Enter the second number: \"))\n",
        "num3 = float(input(\"Enter the third number:\"))\n",
        "\n",
        "sorted_numbers = sort_number(num1,num2,num3)\n",
        "print(f\"The sorted numbers are: {sorted_numbers[0]},{sorted_numbers[1]},{sorted_numbers[2]}\")"
      ],
      "metadata": {
        "colab": {
          "base_uri": "https://localhost:8080/"
        },
        "id": "ZacW4y_Q7d8L",
        "outputId": "0881d099-9ecf-4ce1-f75d-517ebd4ce9b5"
      },
      "execution_count": null,
      "outputs": [
        {
          "output_type": "stream",
          "name": "stdout",
          "text": [
            "Enter the first number: 1\n",
            "Enter the second number: 5\n",
            "Enter the third number:5\n",
            "The sorted numbers are: 1.0,5.0,5.0\n"
          ]
        }
      ]
    },
    {
      "cell_type": "markdown",
      "source": [
        "29. Build a program that determines the roots of a quartic equation using numerical methods.\n",
        "\n"
      ],
      "metadata": {
        "id": "vpwXojspYV9T"
      }
    },
    {
      "cell_type": "code",
      "source": [
        "import numpy as np\n",
        "\n",
        "def quartic_roots(a, b, c, d, e, initial_guess, tolerance=1e-6, max_iterations=100):\n",
        "\n",
        "\n",
        "    def f(x):\n",
        "\n",
        "        return a * x**4 + b * x**3 + c * x**2 + d * x + e\n",
        "\n",
        "    def df(x):\n",
        "\n",
        "        return 4 * a * x**3 + 3 * b * x**2 + 2 * c * x + d\n",
        "\n",
        "    roots = []\n",
        "    x = initial_guess\n",
        "\n",
        "    for _ in range(max_iterations):\n",
        "        x_next = x - f(x) / df(x)\n",
        "        if abs(x_next - x) < tolerance:\n",
        "            roots.append(x_next)\n",
        "            break\n",
        "        x = x_next\n",
        "\n",
        "    return roots\n",
        "\n",
        "\n",
        "a = 1\n",
        "b = -10\n",
        "c = 35\n",
        "d = -50\n",
        "e = 24\n",
        "initial_guess = 1.0\n",
        "\n",
        "roots = quartic_roots(a, b, c, d, e, initial_guess)\n",
        "\n",
        "if roots:\n",
        "    print(\"Roots:\", roots)\n",
        "else:\n",
        "    print(\"No roots found within the specified tolerance and iterations.\")"
      ],
      "metadata": {
        "id": "n0i0A9zbCcDm"
      },
      "execution_count": null,
      "outputs": []
    },
    {
      "cell_type": "markdown",
      "source": [
        "30. Write a program that calculates the BMI (Body Mass Index) and provides health recommendations based\n",
        "on the user's input."
      ],
      "metadata": {
        "id": "6GHnxnMJYYrK"
      }
    },
    {
      "cell_type": "code",
      "source": [
        "def calculate_bmi(weight,height):\n",
        "\n",
        "  bmi = weight / (height**2)\n",
        "  return bmi\n",
        "\n",
        "def bmi_category(bmi):\n",
        "   if bmi < 18.5:\n",
        "    return \"Underweight\"\n",
        "   elif 18.5 <= bmi < 24.9:\n",
        "    return \"Normal\"\n",
        "   elif 25 <= bmi < 29.9:\n",
        "    return \"Overweight\"\n",
        "   else:\n",
        "    return \"Obese\"\n",
        "\n",
        "def provide_recommendations(bmi_category):\n",
        "  if bmi_category == \"Underweight\":\n",
        "    return \"Consider consulting a doctor or nutritionist to gain weight safely.\"\n",
        "  elif bmi_category == \"Normal\":\n",
        "    return \"Maintain a healthy lifestyle with balanced diet and regular exercise.\"\n",
        "  elif bmi_category == \"Overweight\":\n",
        "    return \"Consider lifestyle changes, such as diet and exercise, to lose weight.\"\n",
        "  elif bmi_category == \"Obese\":\n",
        "    return \"Consult a doctor to discuss weight management and potential health risks.\"\n",
        "  else:\n",
        "    return \"Invalid BMI category.\"\n",
        "\n",
        "\n",
        "weight = float(input(\"Enter your weight in kilograms: \"))\n",
        "height = float(input(\"Enter your height in meters: \"))\n",
        "\n",
        "bmi = calculate_bmi(weight,height)\n",
        "bmi_category = bmi_category(bmi)\n",
        "recommendations = provide_recommendations(bmi_category)\n",
        "\n",
        "print(f\"Your BMI is: {bmi:.2f}\")\n",
        "print(f\"BMI Category: {bmi_category}\")\n",
        "print(f\"Health Recommendations: {recommendations}\")\n",
        "\n"
      ],
      "metadata": {
        "colab": {
          "base_uri": "https://localhost:8080/"
        },
        "id": "O26fdZLu-sPJ",
        "outputId": "aaa1972d-b714-4d72-84ad-e6fd5a168ec0"
      },
      "execution_count": null,
      "outputs": [
        {
          "output_type": "stream",
          "name": "stdout",
          "text": [
            "Enter your weight in kilograms: 78\n",
            "Enter your height in meters: 1.6\n",
            "Your BMI is: 30.47\n",
            "BMI Category: Obese\n",
            "Health Recommendations: Consult a doctor to discuss weight management and potential health risks.\n"
          ]
        }
      ]
    },
    {
      "cell_type": "markdown",
      "source": [
        "#Challenge Level:"
      ],
      "metadata": {
        "id": "xDyegLMFenk2"
      }
    },
    {
      "cell_type": "markdown",
      "source": [
        "\n",
        "31. Create a program that validates a password based on complexity rules (length, characters, etc.).\n",
        "\n"
      ],
      "metadata": {
        "id": "YyxyZiROeqtI"
      }
    },
    {
      "cell_type": "code",
      "source": [
        "import re\n",
        "\n",
        "def validate_password(password):\n",
        "  if len(password) < 8:\n",
        "    return False\n",
        "  if not re.search(\"[A-Z]\",password):\n",
        "    return False\n",
        "  if not re.search(\"[a-z]\", password):\n",
        "    return False\n",
        "  if not re.search(\"[0-9]\", password):\n",
        "    return False\n",
        "\n",
        "  if not re.search(\"[!@#$%^&*()_+=[\\]{};':\\\"\\\\|,.<>/?]\", password):\n",
        "    return False\n",
        "  return True\n",
        "\n",
        "password = input(\"Enter your password: \")\n",
        "\n",
        "if validate_password(password):\n",
        "  print(\"Password is valid.\")\n",
        "else:\n",
        "  print(\"Password is not valid. Please make sure it meets the following criteria:\")\n",
        "  print(\"- At least 8 characters long\")\n",
        "  print(\"- Contains at least one uppercase letter\")\n",
        "  print(\"- Contains at least one lowercase letter\")\n",
        "  print(\"- Contains at least one digit\")\n",
        "  print(\"- Contains at least one special character\")"
      ],
      "metadata": {
        "id": "SADUDzcf-tso"
      },
      "execution_count": null,
      "outputs": []
    },
    {
      "cell_type": "markdown",
      "source": [
        "32. Develop a program that performs matrix addition and subtraction based on user input.\n",
        "\n"
      ],
      "metadata": {
        "id": "pTWhMaE0YgiE"
      }
    },
    {
      "cell_type": "code",
      "source": [
        " import numpy as np\n",
        "\n",
        " def get_matrix(rows, cols):\n",
        "  matrix = []\n",
        "\n",
        "  print(f\"\\nEnter the elements of the {rows}x{cols} matrix row-wise\")\n",
        "\n",
        "  for i in range(rows):\n",
        "    row = list(map(int,input().split()))\n",
        "    if len(row) != cols:\n",
        "      raise ValueError(\"\\nincorrect number of elements in row\")\n",
        "    matrix.append(row)\n",
        "  return np.array(matrix)\n",
        "\n",
        "def add_mat(matrix1, matrix2):\n",
        "  if matrix1.shape != matrix2.shape:\n",
        "    raise ValueError(\"\\nMatrix dimensions do not match for addition \")\n",
        "  return matrix1 + matrix2\n",
        "\n",
        "def sub_mat(matrix1,matrix2):\n",
        "  if matrix1.shape != matrix2.shape:\n",
        "    raise ValueError(\"\\nMatrix dimensions do not match for subtraction \")\n",
        "  return matrix1 - matrix2\n",
        "\n",
        "rows = int(input(\"\\nEnter the number of rows for the matrix: \"))\n",
        "cols = int(input(\"\\nEnter the number of columns for the matrix: \"))\n",
        "\n",
        "matrix1 = get_matrix(rows, cols)\n",
        "matrix2 = get_matrix(rows, cols)\n",
        "\n",
        "operation = input(\"\\nChoose operation (+ for addition, - for substraction ): \")\n",
        "\n",
        "if operation == '+':\n",
        "  result = add_matrix(matrix1,matrix2)\n",
        "  print(\"\\nResult of addition: \")\n",
        "  print(result)\n",
        "elif operation == '-':\n",
        "  result = sub_matrix(matrix1,matrix2)\n",
        "  print(\"\\nResult of subtraction: \")\n",
        "  print(result)\n",
        "else:\n",
        "  print(\"\\nInvalid operation. Please choose either '+' or '-'.\")\n",
        "\n"
      ],
      "metadata": {
        "id": "L-SbhczD-uJR",
        "colab": {
          "base_uri": "https://localhost:8080/"
        },
        "outputId": "cea16526-f6f3-41cd-b9dc-9623e2cbf955"
      },
      "execution_count": 13,
      "outputs": [
        {
          "output_type": "stream",
          "name": "stdout",
          "text": [
            "\n",
            "Enter the number of rows for the matrix: 2\n",
            "\n",
            "Enter the number of columns for the matrix: 2\n",
            "\n",
            "Enter the elements of the 2x2 matrix row-wise\n",
            "2 4\n",
            "2 4\n",
            "\n",
            "Enter the elements of the 2x2 matrix row-wise\n",
            "2 2\n",
            "2 2\n",
            "\n",
            "Choose operation (+ for addition, - for substraction ): +\n",
            "\n",
            "Result of addition: \n",
            "[[4 6]\n",
            " [4 6]]\n"
          ]
        }
      ]
    },
    {
      "cell_type": "markdown",
      "source": [
        "33. Write a program that calculates the greatest common divisor (GCD) of two numbers using the Euclidean\n",
        "algorithm.\n",
        "\n"
      ],
      "metadata": {
        "id": "9FwE-SrbYjNc"
      }
    },
    {
      "cell_type": "code",
      "source": [
        "def gcd_euclidean(a,b):\n",
        "  while b:\n",
        "    a,b = b,a%b\n",
        "  return a\n",
        "\n",
        "num1 = int(input(\"\\nEnter the first number: \"))\n",
        "num2 = int(input(\"\\nEnter the second number: \"))\n",
        "\n",
        "result = gcd_euclidean(num1,num2)\n",
        "print(f\"\\nThe GCD of {num1} and {num2} is: {result}\")"
      ],
      "metadata": {
        "id": "dk4WpJl3-vMN",
        "colab": {
          "base_uri": "https://localhost:8080/"
        },
        "outputId": "bd281b7c-25bd-48d5-edd5-aea7df9d010c"
      },
      "execution_count": 14,
      "outputs": [
        {
          "output_type": "stream",
          "name": "stdout",
          "text": [
            "\n",
            "Enter the first number: 5\n",
            "\n",
            "Enter the second number: 8\n",
            "\n",
            "The GCD of 5 and 8 is: 1\n"
          ]
        }
      ]
    },
    {
      "cell_type": "markdown",
      "source": [
        "34. Build a program that performs matrix multiplication using nested loops and conditional statements.\n",
        "\n"
      ],
      "metadata": {
        "id": "tt11Q7V9YoT4"
      }
    },
    {
      "cell_type": "code",
      "source": [
        "def matrix_multiply(matrix1, matrix2):\n",
        "\n",
        "  rows1, cols1 = len(matrix1), len(matrix1[0])\n",
        "  rows2, cols2 = len(matrix2), len(matrix2[0])\n",
        "\n",
        "  if cols1 != rows2:\n",
        "    raise ValueError(\"\\nMatrix dimensions are not compatible for multiplication.\")\n",
        "\n",
        "  result = [[0 for _ in range(cols2)] for _ in range(rows1)]\n",
        "\n",
        "  for i in range(rows1):\n",
        "    for j in range(cols2):\n",
        "      for k in range(cols1):\n",
        "        result[i][j] += matrix1[i][k] * matrix2[k][j]\n",
        "  return result\n",
        "\n",
        "matrix1 = [[1, 2, 3], [4, 5, 6]]\n",
        "matrix2 = [[7, 8], [9, 10], [11, 12]]\n",
        "\n",
        "result = matrix_multiply(matrix1, matrix2)\n",
        "\n",
        "print(\"Resultant matrix:\")\n",
        "for row in result:\n",
        "    print(row)"
      ],
      "metadata": {
        "id": "XQ5ybr_v-vpZ",
        "colab": {
          "base_uri": "https://localhost:8080/"
        },
        "outputId": "eac08bb0-f76d-4036-b38d-82c8b1e02361"
      },
      "execution_count": 15,
      "outputs": [
        {
          "output_type": "stream",
          "name": "stdout",
          "text": [
            "Resultant matrix:\n",
            "[58, 64]\n",
            "[139, 154]\n"
          ]
        }
      ]
    },
    {
      "cell_type": "markdown",
      "source": [
        "35. Create a program that simulates a basic text-based tic-tac-toe game against the computer.\n",
        "\n"
      ],
      "metadata": {
        "id": "AXJYvdWqYr0F"
      }
    },
    {
      "cell_type": "code",
      "source": [
        "import random\n",
        "\n",
        "def print_board(board):\n",
        "    print(\"\\n\")\n",
        "    print(\" \" + board[0] + \" | \" + board[1] + \" | \" + board[2])\n",
        "    print(\"---+---+---\")\n",
        "    print(\" \" + board[3] + \" | \" + board[4] + \" | \" + board[5])\n",
        "    print(\"---+---+---\")\n",
        "    print(\" \" + board[6] + \" | \" + board[7] + \" | \" + board[8])\n",
        "    print(\"\\n\")\n",
        "\n",
        "def check_win(board, player):\n",
        "\n",
        "    win_conditions = [\n",
        "        [0, 1, 2], [3, 4, 5], [6, 7, 8],\n",
        "        [0, 3, 6], [1, 4, 7], [2, 5, 8],\n",
        "        [0, 4, 8], [2, 4, 6]\n",
        "    ]\n",
        "    for condition in win_conditions:\n",
        "        if all(board[i] == player for i in condition):\n",
        "            return True\n",
        "    return False\n",
        "\n",
        "def is_board_full(board):\n",
        "\n",
        "    return all(space != \" \" for space in board)\n",
        "\n",
        "def get_computer_move(board):\n",
        "\n",
        "\n",
        "    for i in range(9):\n",
        "        if board[i] == \" \":\n",
        "            board[i] = \"O\"\n",
        "            if check_win(board, \"O\"):\n",
        "                return i\n",
        "            board[i] = \" \"\n",
        "\n",
        "\n",
        "    for i in range(9):\n",
        "        if board[i] == \" \":\n",
        "            board[i] = \"X\"\n",
        "            if check_win(board, \"X\"):\n",
        "                board[i] = \"O\"\n",
        "                return i\n",
        "            board[i] = \" \"\n",
        "\n",
        "\n",
        "    while True:\n",
        "        move = random.randint(0, 8)\n",
        "        if board[move] == \" \":\n",
        "            return move\n",
        "\n",
        "def play_tic_tac_toe():\n",
        "\n",
        "    board = [\" \"] * 9\n",
        "    print_board(board)\n",
        "\n",
        "    while True:\n",
        "\n",
        "        while True:\n",
        "            try:\n",
        "                player_move = int(input(\"Enter your move (1-9): \")) - 1\n",
        "                if 0 <= player_move <= 8 and board[player_move] == \" \":\n",
        "                    board[player_move] = \"X\"\n",
        "                    break\n",
        "                else:\n",
        "                    print(\"Invalid move. Please try again.\")\n",
        "            except ValueError:\n",
        "                print(\"Invalid input. Please enter a number between 1 and 9.\")\n",
        "\n",
        "        print_board(board)\n",
        "\n",
        "        if check_win(board, \"X\"):\n",
        "            print(\"Congratulations! You won!\")\n",
        "            break\n",
        "        elif is_board_full(board):\n",
        "            print(\"It's a tie!\")\n",
        "            break\n",
        "\n",
        "\n",
        "        computer_move = get_computer_move(board)\n",
        "        board[computer_move] = \"O\"\n",
        "        print(f\"Computer chose: {computer_move + 1}\")\n",
        "        print_board(board)\n",
        "\n",
        "        if check_win(board, \"O\"):\n",
        "            print(\"Computer won!\")\n",
        "            break\n",
        "        elif is_board_full(board):\n",
        "            print(\"It's a tie!\")\n",
        "            break\n",
        "\n",
        "\n",
        "play_tic_tac_toe()"
      ],
      "metadata": {
        "id": "RfEXmcx4-wmD",
        "colab": {
          "base_uri": "https://localhost:8080/"
        },
        "outputId": "49d01836-81fb-4cb3-efbe-d9cfd2a1e30d"
      },
      "execution_count": 19,
      "outputs": [
        {
          "output_type": "stream",
          "name": "stdout",
          "text": [
            "\n",
            "\n",
            "   |   |  \n",
            "---+---+---\n",
            "   |   |  \n",
            "---+---+---\n",
            "   |   |  \n",
            "\n",
            "\n",
            "Enter your move (1-9): 3\n",
            "\n",
            "\n",
            "   |   | X\n",
            "---+---+---\n",
            "   |   |  \n",
            "---+---+---\n",
            "   |   |  \n",
            "\n",
            "\n",
            "Computer chose: 6\n",
            "\n",
            "\n",
            "   |   | X\n",
            "---+---+---\n",
            "   |   | O\n",
            "---+---+---\n",
            "   |   |  \n",
            "\n",
            "\n",
            "Enter your move (1-9): 5\n",
            "\n",
            "\n",
            "   |   | X\n",
            "---+---+---\n",
            "   | X | O\n",
            "---+---+---\n",
            "   |   |  \n",
            "\n",
            "\n",
            "Computer chose: 7\n",
            "\n",
            "\n",
            "   |   | X\n",
            "---+---+---\n",
            "   | X | O\n",
            "---+---+---\n",
            " O |   |  \n",
            "\n",
            "\n",
            "Enter your move (1-9): 2\n",
            "\n",
            "\n",
            "   | X | X\n",
            "---+---+---\n",
            "   | X | O\n",
            "---+---+---\n",
            " O |   |  \n",
            "\n",
            "\n",
            "Computer chose: 1\n",
            "\n",
            "\n",
            " O | X | X\n",
            "---+---+---\n",
            "   | X | O\n",
            "---+---+---\n",
            " O |   |  \n",
            "\n",
            "\n",
            "Enter your move (1-9): 8\n",
            "\n",
            "\n",
            " O | X | X\n",
            "---+---+---\n",
            "   | X | O\n",
            "---+---+---\n",
            " O | X |  \n",
            "\n",
            "\n",
            "Congratulations! You won!\n"
          ]
        }
      ]
    },
    {
      "cell_type": "markdown",
      "source": [
        "36. Write a program that generates Fibonacci numbers up to a specified term using iterative methods.\n",
        "\n"
      ],
      "metadata": {
        "id": "POhwD0DcYt3c"
      }
    },
    {
      "cell_type": "code",
      "source": [
        "def fibonacci_iterative(n):\n",
        "\n",
        "    fib_sequence = [0, 1]\n",
        "\n",
        "    if n <= 2:\n",
        "        return fib_sequence[:n]\n",
        "\n",
        "    for i in range(2, n):\n",
        "        next_fib = fib_sequence[i - 1] + fib_sequence[i - 2]\n",
        "        fib_sequence.append(next_fib)\n",
        "\n",
        "    return fib_sequence\n",
        "\n",
        "\n",
        "num_terms = int(input(\"Enter the number of Fibonacci terms to generate: \"))\n",
        "\n",
        "\n",
        "fib_numbers = fibonacci_iterative(num_terms)\n",
        "print(f\"The Fibonacci sequence up to term {num_terms} is: {fib_numbers}\")"
      ],
      "metadata": {
        "id": "Mg3iUy0J-xVM",
        "colab": {
          "base_uri": "https://localhost:8080/"
        },
        "outputId": "0397796a-9cc0-4fad-ec7b-123b1cf32858"
      },
      "execution_count": 20,
      "outputs": [
        {
          "output_type": "stream",
          "name": "stdout",
          "text": [
            "Enter the number of Fibonacci terms to generate: 12\n",
            "The Fibonacci sequence up to term 12 is: [0, 1, 1, 2, 3, 5, 8, 13, 21, 34, 55, 89]\n"
          ]
        }
      ]
    },
    {
      "cell_type": "markdown",
      "source": [
        "37. Develop a program that calculates the nth term of the Fibonacci sequence using memoization.\n",
        "\n"
      ],
      "metadata": {
        "id": "ke2RKCviYv0g"
      }
    },
    {
      "cell_type": "code",
      "source": [
        "def fibonacci_memoization(n, memo={}):\n",
        "\n",
        "    if n in memo:\n",
        "        return memo[n]\n",
        "    if n <= 2:\n",
        "        return 1\n",
        "    memo[n] = fibonacci_memoization(n - 1, memo) + fibonacci_memoization(n - 2, memo)  # Store in cache\n",
        "    return memo[n]\n",
        "\n",
        "\n",
        "num_terms = int(input(\"Enter the term number for Fibonacci calculation: \"))\n",
        "\n",
        "\n",
        "fib_number = fibonacci_memoization(num_terms)\n",
        "print(f\"The {num_terms}th Fibonacci number is: {fib_number}\")"
      ],
      "metadata": {
        "id": "nSK7B84f-xwB"
      },
      "execution_count": null,
      "outputs": []
    },
    {
      "cell_type": "markdown",
      "source": [
        "38. Create a program that generates a calendar for a given month and year using conditional statements.\n",
        "\n"
      ],
      "metadata": {
        "id": "UroTw3jbYxlh"
      }
    },
    {
      "cell_type": "code",
      "source": [
        "import calendar\n",
        "\n",
        "def generate_calendar(year, month):\n",
        "\n",
        "\n",
        "    print(calendar.month_name[month], year)\n",
        "    print(\"Mo Tu We Th Fr Sa Su\")\n",
        "\n",
        "\n",
        "    cal = calendar.monthcalendar(year, month)\n",
        "\n",
        "\n",
        "    for week in cal:\n",
        "        week_str = \"\"\n",
        "        for day in week:\n",
        "            if day == 0:\n",
        "                week_str += \"   \"\n",
        "            else:\n",
        "                week_str += f\"{day:2d} \"\n",
        "        print(week_str)\n",
        "\n",
        "\n",
        "year = int(input(\"Enter the year: \"))\n",
        "month = int(input(\"Enter the month (1-12): \"))\n",
        "\n",
        "\n",
        "generate_calendar(year, month)"
      ],
      "metadata": {
        "id": "P3gHaGtn-yPB",
        "colab": {
          "base_uri": "https://localhost:8080/"
        },
        "outputId": "aa106c25-33f9-4502-b67e-5eb5ba7474a5"
      },
      "execution_count": 21,
      "outputs": [
        {
          "output_type": "stream",
          "name": "stdout",
          "text": [
            "Enter the year: 2025\n",
            "Enter the month (1-12): 1\n",
            "January 2025\n",
            "Mo Tu We Th Fr Sa Su\n",
            "       1  2  3  4  5 \n",
            " 6  7  8  9 10 11 12 \n",
            "13 14 15 16 17 18 19 \n",
            "20 21 22 23 24 25 26 \n",
            "27 28 29 30 31       \n"
          ]
        }
      ]
    },
    {
      "cell_type": "markdown",
      "source": [
        "39. Build a program that simulates a basic text-based blackjack game against the computer.\n",
        "\n"
      ],
      "metadata": {
        "id": "7KQi5mX0Yzfs"
      }
    },
    {
      "cell_type": "code",
      "source": [
        "import random\n",
        "\n",
        "def calculate_hand_value(hand):\n",
        "\n",
        "    ace_count = hand.count('A')\n",
        "    total = 0\n",
        "    for card in hand:\n",
        "        if card.isdigit():\n",
        "            total += int(card)\n",
        "        elif card in ('J', 'Q', 'K'):\n",
        "            total += 10\n",
        "        elif card == 'A':\n",
        "            total += 11\n",
        "    while total > 21 and ace_count > 0:\n",
        "        total -= 10\n",
        "        ace_count -= 1\n",
        "    return total\n",
        "\n",
        "def deal_card(deck):\n",
        "\n",
        "    return deck.pop()\n",
        "\n",
        "def play_blackjack():\n",
        "\n",
        "    deck = [str(i) for i in range(2, 11)] * 4 + ['J'] * 4 + ['Q'] * 4 + ['K'] * 4 + ['A'] * 4\n",
        "    random.shuffle(deck)\n",
        "\n",
        "    player_hand = []\n",
        "    dealer_hand = []\n",
        "\n",
        "\n",
        "\n",
        "    for _ in range(2):\n",
        "        player_hand.append(deal_card(deck))\n",
        "        dealer_hand.append(deal_card(deck))\n",
        "\n",
        "\n",
        "    while True:\n",
        "        print(\"\\nYour hand:\", player_hand, \"Value:\", calculate_hand_value(player_hand))\n",
        "        print(\"Dealer's showing:\", [dealer_hand[0], '?'])\n",
        "\n",
        "        if calculate_hand_value(player_hand) == 21:\n",
        "            print(\"\\nBlackjack!\")\n",
        "            break\n",
        "        elif calculate_hand_value(player_hand) > 21:\n",
        "            print(\"\\nBust! You lose.\")\n",
        "            return\n",
        "\n",
        "        action = input(\"Hit or Stand? (h/s): \").lower()\n",
        "        if action == 'h':\n",
        "            player_hand.append(deal_card(deck))\n",
        "        else:\n",
        "            break\n",
        "\n",
        "\n",
        "    print(\"\\nDealer's hand:\", dealer_hand, \"Value:\", calculate_hand_value(dealer_hand))\n",
        "    while calculate_hand_value(dealer_hand) < 17:\n",
        "        dealer_hand.append(deal_card(deck))\n",
        "        print(\"\\nDealer hits\")\n",
        "        print(\"\\nDealer's hand:\", dealer_hand, \"Value:\", calculate_hand_value(dealer_hand))\n",
        "        if calculate_hand_value(dealer_hand) > 21:\n",
        "            print(\"\\nDealer busts! You win!\")\n",
        "            return\n",
        "\n",
        "\n",
        "    player_value = calculate_hand_value(player_hand)\n",
        "    dealer_value = calculate_hand_value(dealer_hand)\n",
        "\n",
        "    if player_value > dealer_value or dealer_value > 21:\n",
        "        print(\"\\nYou win!\")\n",
        "    elif player_value == dealer_value:\n",
        "        print(\"\\nIt's a push!\")\n",
        "    else:\n",
        "        print(\"\\nYou lose.\")\n",
        "\n",
        "\n",
        "play_blackjack()"
      ],
      "metadata": {
        "id": "JpXl0P_E-yzu"
      },
      "execution_count": null,
      "outputs": []
    },
    {
      "cell_type": "markdown",
      "source": [
        "40. Write a program that generates the prime factors of a given number using trial division."
      ],
      "metadata": {
        "id": "94-c3PkHY1Vb"
      }
    },
    {
      "cell_type": "code",
      "source": [
        "def prime_factors(n):\n",
        "\n",
        "    factors = []\n",
        "    d = 2\n",
        "    while d * d <= n:\n",
        "        while n % d == 0:\n",
        "            factors.append(d)\n",
        "            n //= d\n",
        "        d += 1\n",
        "    if n > 1:\n",
        "        factors.append(n)\n",
        "    return factors\n",
        "\n",
        "\n",
        "number = int(input(\"Enter a number to find its prime factors: \"))\n",
        "\n",
        "\n",
        "factors = prime_factors(number)\n",
        "print(f\"The prime factors of {number} are: {factors}\")\n"
      ],
      "metadata": {
        "id": "E2vThjxJ-zOz"
      },
      "execution_count": null,
      "outputs": []
    },
    {
      "cell_type": "markdown",
      "source": [
        "PRABHENDRA SINGH\n",
        "- p786solot@gmail.com\n",
        "- Full Stack Data Science Pro"
      ],
      "metadata": {
        "id": "Yon61qYReu5t"
      }
    }
  ]
}