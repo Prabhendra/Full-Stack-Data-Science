{
  "nbformat": 4,
  "nbformat_minor": 0,
  "metadata": {
    "colab": {
      "provenance": []
    },
    "kernelspec": {
      "name": "python3",
      "display_name": "Python 3"
    },
    "language_info": {
      "name": "python"
    }
  },
  "cells": [
    {
      "cell_type": "markdown",
      "source": [
        "#Assignment Questions\n",
        "#For Loop\n"
      ],
      "metadata": {
        "id": "Spw8y_3TYxip"
      }
    },
    {
      "cell_type": "markdown",
      "source": [
        "#Basic Level:\n",
        "\n",
        "1. Write a Python program to print the numbers from 1 to 10 using a `for` loop."
      ],
      "metadata": {
        "id": "5uSlg3dHZEtQ"
      }
    },
    {
      "cell_type": "code",
      "source": [
        "for i in range(1, 11):\n",
        "    print(i)"
      ],
      "metadata": {
        "colab": {
          "base_uri": "https://localhost:8080/"
        },
        "id": "fIii73ZuYu1-",
        "outputId": "76e60d86-a059-42fe-93d7-b227b14a4499"
      },
      "execution_count": null,
      "outputs": [
        {
          "output_type": "stream",
          "name": "stdout",
          "text": [
            "1\n",
            "2\n",
            "3\n",
            "4\n",
            "5\n",
            "6\n",
            "7\n",
            "8\n",
            "9\n",
            "10\n"
          ]
        }
      ]
    },
    {
      "cell_type": "markdown",
      "source": [
        "2. Create a program that calculates the sum of all numbers in a list using a `for` loop."
      ],
      "metadata": {
        "id": "YwErfUI5ZM_i"
      }
    },
    {
      "cell_type": "code",
      "source": [
        "l1 = [1,2,3,4,5,6,7,8,9]\n",
        "total_sum = 0\n",
        "for i in l1:\n",
        "  total_sum += i\n",
        "print(f\"The total sum of list l1 is \",total_sum)\n"
      ],
      "metadata": {
        "colab": {
          "base_uri": "https://localhost:8080/"
        },
        "id": "Cb2qFglPZQUB",
        "outputId": "89173b40-b37b-4fd8-fb38-4cf0648ee9ca"
      },
      "execution_count": null,
      "outputs": [
        {
          "output_type": "stream",
          "name": "stdout",
          "text": [
            "The total sum of list l1 is  45\n"
          ]
        }
      ]
    },
    {
      "cell_type": "markdown",
      "source": [
        "3. Write a program to print the characters of a string in reverse order using a `for` loop."
      ],
      "metadata": {
        "id": "9hsTzr0Ta4Sc"
      }
    },
    {
      "cell_type": "code",
      "source": [
        "s1 = \"WabiSabi\"\n",
        "for i in s1:\n",
        "  i = s1[::-1]\n",
        "print(i)"
      ],
      "metadata": {
        "colab": {
          "base_uri": "https://localhost:8080/"
        },
        "id": "atcQuiUWa58V",
        "outputId": "bff262f7-5803-4722-c954-fbfa2ccac40f"
      },
      "execution_count": null,
      "outputs": [
        {
          "output_type": "stream",
          "name": "stdout",
          "text": [
            "ibaSibaW\n"
          ]
        }
      ]
    },
    {
      "cell_type": "code",
      "source": [
        "\n",
        "for i in range(1,1):\n",
        "  print(i)"
      ],
      "metadata": {
        "id": "HPomV0ejr7SQ"
      },
      "execution_count": null,
      "outputs": []
    },
    {
      "cell_type": "markdown",
      "source": [
        "4. Develop a program that finds the factorial of a given number using a `for` loop."
      ],
      "metadata": {
        "id": "vb5IzO5Jbe4c"
      }
    },
    {
      "cell_type": "code",
      "source": [
        "FactoInput = int(input(\"Enter a number to find it's Factorial \"))\n",
        "\n",
        "if FactoInput < 0:\n",
        "  print(\"Facotial is not defined for negative intigers\")\n",
        "facto = 1\n",
        "for i in range(1,FactoInput + 1):\n",
        "  facto *= i\n",
        "print(F\"The Factorial of the {FactoInput} is {facto}\")"
      ],
      "metadata": {
        "colab": {
          "base_uri": "https://localhost:8080/"
        },
        "id": "nBxPzO8LdUo6",
        "outputId": "34b14286-c9ec-4328-d3f6-868754648273"
      },
      "execution_count": null,
      "outputs": [
        {
          "output_type": "stream",
          "name": "stdout",
          "text": [
            "Enter a number to find it's Factorial 1\n",
            "The Factorial of the 1 is 1\n"
          ]
        }
      ]
    },
    {
      "cell_type": "markdown",
      "source": [
        "5. Create a program to print the multiplication table of a given number using a `for` loop."
      ],
      "metadata": {
        "id": "3Op9TpAEgrV2"
      }
    },
    {
      "cell_type": "code",
      "source": [
        "Multipilcation_Input = int(input(\"Enter a number to print its multipilcation table \"))\n",
        "\n",
        "for i in range(1,11):\n",
        "  i = Multipilcation_Input * i\n",
        "  print(i)"
      ],
      "metadata": {
        "colab": {
          "base_uri": "https://localhost:8080/"
        },
        "id": "plvpQhpJgXiR",
        "outputId": "b917bffc-d889-409c-fa7c-6cea301525e8"
      },
      "execution_count": null,
      "outputs": [
        {
          "output_type": "stream",
          "name": "stdout",
          "text": [
            "Enter a number to print its multipilcation table 7\n",
            "7\n",
            "14\n",
            "21\n",
            "28\n",
            "35\n",
            "42\n",
            "49\n",
            "56\n",
            "63\n",
            "70\n"
          ]
        }
      ]
    },
    {
      "cell_type": "markdown",
      "source": [
        "6. Write a program that counts the number of even and odd numbers in a list using a `for` loop."
      ],
      "metadata": {
        "id": "_x7ufpO1h81J"
      }
    },
    {
      "cell_type": "code",
      "source": [
        "l1 = [2,3,4,5,6,7,8]\n",
        "\n",
        "even_count = 0\n",
        "odd_count = 0\n",
        "\n",
        "\n",
        "for i in l1:\n",
        "  if i%2 == 0:\n",
        "    even_count += 1\n",
        "  else:\n",
        "    odd_count += 1\n",
        "\n",
        "print(\"Even numbers in the list: \", even_count)\n",
        "print(\"Odd numbers in the list: \", odd_count)"
      ],
      "metadata": {
        "colab": {
          "base_uri": "https://localhost:8080/"
        },
        "id": "Ch9G-1VfhJb1",
        "outputId": "42f1e0be-13ca-48c2-b75b-67856b89b622"
      },
      "execution_count": null,
      "outputs": [
        {
          "output_type": "stream",
          "name": "stdout",
          "text": [
            "Even numbers in the list:  4\n",
            "Odd numbers in the list:  3\n"
          ]
        }
      ]
    },
    {
      "cell_type": "markdown",
      "source": [
        "7. Develop a program that prints the squares of numbers from 1 to 5 using a `for` loop."
      ],
      "metadata": {
        "id": "wdvxpD8EjG1W"
      }
    },
    {
      "cell_type": "code",
      "source": [
        "for i in range(1,6):\n",
        "  i = i**2\n",
        "  print(i)"
      ],
      "metadata": {
        "colab": {
          "base_uri": "https://localhost:8080/"
        },
        "id": "j0yjmDUkig9a",
        "outputId": "b3a9550f-5315-41fb-c93e-4060681fc8eb"
      },
      "execution_count": null,
      "outputs": [
        {
          "output_type": "stream",
          "name": "stdout",
          "text": [
            "1\n",
            "4\n",
            "9\n",
            "16\n",
            "25\n"
          ]
        }
      ]
    },
    {
      "cell_type": "markdown",
      "source": [
        "8. Create a program to find the length of a string without using the `len()` function."
      ],
      "metadata": {
        "id": "x_jUbQnLjMda"
      }
    },
    {
      "cell_type": "code",
      "source": [
        "s1 = \"WabiSabi\"\n",
        "\n",
        "count = 0\n",
        "\n",
        "for i in s1:\n",
        "  count += 1\n",
        "print(count)"
      ],
      "metadata": {
        "colab": {
          "base_uri": "https://localhost:8080/"
        },
        "id": "SNMsPLrdjAL1",
        "outputId": "81b9d8a2-2dda-4a41-c360-1fa0678d487a"
      },
      "execution_count": null,
      "outputs": [
        {
          "output_type": "stream",
          "name": "stdout",
          "text": [
            "8\n"
          ]
        }
      ]
    },
    {
      "cell_type": "markdown",
      "source": [
        "9. Write a program that calculates the average of a list of numbers using a `for` loop."
      ],
      "metadata": {
        "id": "PM7gogVOjiRk"
      }
    },
    {
      "cell_type": "code",
      "source": [
        "l1 = [1,3]\n",
        "\n",
        "total_sum = 0\n",
        "count = 0\n",
        "\n",
        "for i in l1:\n",
        "  total_sum += i\n",
        "  count += 1\n",
        "  avg = total_sum/count\n",
        "print(avg)"
      ],
      "metadata": {
        "colab": {
          "base_uri": "https://localhost:8080/"
        },
        "id": "QMXSmULXjU_E",
        "outputId": "6e470143-643c-47f5-9e22-25f8b406ecca"
      },
      "execution_count": null,
      "outputs": [
        {
          "output_type": "stream",
          "name": "stdout",
          "text": [
            "2.0\n"
          ]
        }
      ]
    },
    {
      "cell_type": "markdown",
      "source": [
        "10. Develop a program that prints the first `n` Fibonacci numbers using\n",
        "\n",
        "a `for` loop.\n",
        "\n",
        "---\n",
        "\n",
        "\n",
        "\n",
        "\n"
      ],
      "metadata": {
        "id": "5rM_-muflZFb"
      }
    },
    {
      "cell_type": "code",
      "source": [
        "FabInput = int(input(\"Enter a Positive intiger to get the Fibonacci Series \"))\n",
        "\n",
        "a = 0\n",
        "b = 1\n",
        "\n",
        "if FabInput <= 0:\n",
        "  print(\"Please Enter a Positive number\")\n",
        "\n",
        "elif FabInput == 1:\n",
        "  print(0)\n",
        "else:\n",
        "  print(a)\n",
        "  print(b)\n",
        "\n",
        "  for i in range(2,FabInput):\n",
        "    c= a+b\n",
        "    a = b\n",
        "    b = c\n",
        "    print(c)\n"
      ],
      "metadata": {
        "id": "54RuuVqVkTzk",
        "colab": {
          "base_uri": "https://localhost:8080/"
        },
        "outputId": "c3049a15-c5d2-419f-8276-9a88b49a1580"
      },
      "execution_count": null,
      "outputs": [
        {
          "output_type": "stream",
          "name": "stdout",
          "text": [
            "Enter a Positive intiger to get the Fibonacci Series 2\n",
            "0\n",
            "1\n"
          ]
        }
      ]
    },
    {
      "cell_type": "markdown",
      "source": [
        "#Intermediate Level:"
      ],
      "metadata": {
        "id": "LxfYUkmAB0PA"
      }
    },
    {
      "cell_type": "markdown",
      "source": [
        "\\11. Write a program to check if a given list contains any duplicates using a `for` loop."
      ],
      "metadata": {
        "id": "7vCUeNP-B2Mc"
      }
    },
    {
      "cell_type": "code",
      "source": [
        "l1 =[1,2,3,4,5]\n",
        "l2 = []\n",
        "\n",
        "show = False\n",
        "\n",
        "for i in l1:\n",
        "  if i in l2:\n",
        "    show =True\n",
        "    break\n",
        "  l2.append(i)\n",
        "\n",
        "if show:\n",
        "  print(\"List contains duplicates\")\n",
        "else:\n",
        "  print(\"List does not contain duplicates\")"
      ],
      "metadata": {
        "id": "v8SEg5OpBavJ",
        "colab": {
          "base_uri": "https://localhost:8080/"
        },
        "outputId": "cd57cd57-d9f0-40df-8b82-ba04e284c29b"
      },
      "execution_count": null,
      "outputs": [
        {
          "output_type": "stream",
          "name": "stdout",
          "text": [
            "List does not contain duplicates\n"
          ]
        }
      ]
    },
    {
      "cell_type": "markdown",
      "source": [
        "12. Create a program that prints the prime numbers in a given range using a `for` loop."
      ],
      "metadata": {
        "id": "gUxK9HjsSii2"
      }
    },
    {
      "cell_type": "code",
      "source": [
        "start = 9\n",
        "end =52\n",
        "\n",
        "for num in range(start,end + 1):\n",
        "  is_prime = True\n",
        "  for i in range(2,int(num**0.5)+1):\n",
        "    if num%i==0:\n",
        "      is_prime = False\n",
        "      break\n",
        "  if is_prime and num>1:\n",
        "    print(num)"
      ],
      "metadata": {
        "id": "MSfVU1JUQeEE"
      },
      "execution_count": null,
      "outputs": []
    },
    {
      "cell_type": "markdown",
      "source": [
        "13. Develop a program that counts the number of vowels in a string using a `for` loop."
      ],
      "metadata": {
        "id": "3IFbNQpJsjEI"
      }
    },
    {
      "cell_type": "code",
      "source": [
        "input_string = input(\"enter a string: \")\n",
        "\n",
        "vowels_count = 0\n",
        "vowels_data = \"\"\n",
        "vowels = \"aeiouAEIOU\"\n",
        "\n",
        "for i in input_string:\n",
        "  if i in vowels:\n",
        "    vowels_count +=1\n",
        "    vowels_data += i\n",
        "print(f\"Vowel count in input string is: {vowels_count} i.e {vowels_data}\")"
      ],
      "metadata": {
        "colab": {
          "base_uri": "https://localhost:8080/"
        },
        "id": "WfmUZtRusjfq",
        "outputId": "bfecf268-7899-40a2-9fad-bb4c1b71c538"
      },
      "execution_count": null,
      "outputs": [
        {
          "output_type": "stream",
          "name": "stdout",
          "text": [
            "enter a string: Shreya i Love u\n",
            "Vowel count in input string is: 6 i.e eaioeu\n"
          ]
        }
      ]
    },
    {
      "cell_type": "markdown",
      "source": [
        "14. Write a program to find the maximum element in a 2D list using a nested `for` loop."
      ],
      "metadata": {
        "id": "eIl_CjQTuVgw"
      }
    },
    {
      "cell_type": "code",
      "source": [
        "\n",
        "two_d_list = [\n",
        "    [1, 2, 3],\n",
        "    [4, 5, 6],\n",
        "    [7, 8, 9]\n",
        "]\n",
        "\n",
        "max_value = float('-inf')\n",
        "\n",
        "for i in two_d_list:\n",
        "  for element in i:\n",
        "    if element > max_value:\n",
        "      max_value = element\n",
        "\n",
        "print(f\"The maximum element in the 2D list is: {max_value}\")"
      ],
      "metadata": {
        "colab": {
          "base_uri": "https://localhost:8080/"
        },
        "id": "ROfmbKautWDN",
        "outputId": "591d5e09-c00e-4715-cf63-8f3fe786d765"
      },
      "execution_count": null,
      "outputs": [
        {
          "output_type": "stream",
          "name": "stdout",
          "text": [
            "The maximum element in the 2D list is: 9\n"
          ]
        }
      ]
    },
    {
      "cell_type": "markdown",
      "source": [
        "15. Create a program that removes all occurrences of a specific element from a list using a `for` loop."
      ],
      "metadata": {
        "id": "ixZXZ2wIxStV"
      }
    },
    {
      "cell_type": "code",
      "source": [
        "my_lst = [1,2,5,2,3,7,8,3,2]\n",
        "remove_elements = 2\n",
        "new_lst = []\n",
        "for i in my_lst:\n",
        "  if i != remove_elements:\n",
        "    new_lst.append(i)\n",
        "print(f\"The new list after removing elements {remove_elements} list is {new_lst}\")"
      ],
      "metadata": {
        "colab": {
          "base_uri": "https://localhost:8080/"
        },
        "id": "UfPxD5ZavRsD",
        "outputId": "0d8754ae-b664-4631-ee6a-60e84833c33a"
      },
      "execution_count": null,
      "outputs": [
        {
          "output_type": "stream",
          "name": "stdout",
          "text": [
            "The new list after removing elements 2 list is [1, 5, 3, 7, 8, 3]\n"
          ]
        }
      ]
    },
    {
      "cell_type": "markdown",
      "source": [
        "16. Develop a program that generates a multiplication table for numbers from 1 to 5 using a nested `for` loop."
      ],
      "metadata": {
        "id": "syKXh9qWzV8n"
      }
    },
    {
      "cell_type": "code",
      "source": [
        "for i in range(1,6):\n",
        "  for j in range(1,6):\n",
        "    product = i*j\n",
        "    print(f\"{i} * {j} = {product}\")\n",
        "  print()"
      ],
      "metadata": {
        "colab": {
          "base_uri": "https://localhost:8080/"
        },
        "id": "zp6s86TTy4ml",
        "outputId": "29eeeaef-f608-4153-f824-8320fd0a7764"
      },
      "execution_count": null,
      "outputs": [
        {
          "output_type": "stream",
          "name": "stdout",
          "text": [
            "1 * 1 = 1\n",
            "1 * 2 = 2\n",
            "1 * 3 = 3\n",
            "1 * 4 = 4\n",
            "1 * 5 = 5\n",
            "\n",
            "2 * 1 = 2\n",
            "2 * 2 = 4\n",
            "2 * 3 = 6\n",
            "2 * 4 = 8\n",
            "2 * 5 = 10\n",
            "\n",
            "3 * 1 = 3\n",
            "3 * 2 = 6\n",
            "3 * 3 = 9\n",
            "3 * 4 = 12\n",
            "3 * 5 = 15\n",
            "\n",
            "4 * 1 = 4\n",
            "4 * 2 = 8\n",
            "4 * 3 = 12\n",
            "4 * 4 = 16\n",
            "4 * 5 = 20\n",
            "\n",
            "5 * 1 = 5\n",
            "5 * 2 = 10\n",
            "5 * 3 = 15\n",
            "5 * 4 = 20\n",
            "5 * 5 = 25\n",
            "\n"
          ]
        }
      ]
    },
    {
      "cell_type": "markdown",
      "source": [
        "Write a program that converts a list of Fahrenheit temperatures to Celsius using a `for` loop.\\"
      ],
      "metadata": {
        "id": "Y-DIKQ4_4RAk"
      }
    },
    {
      "cell_type": "code",
      "source": [
        "Fahrenheit_temp =  [2,53,78,105]\n",
        "celsius_temp = []\n",
        "\n",
        "for i in Fahrenheit_temp:\n",
        "  celsius = (i - 32) * 5/9\n",
        "  celsius_temp.append(celsius)\n",
        "print(f\"The temperature in celsius is {celsius_temp}\")"
      ],
      "metadata": {
        "id": "Z2G3NUL_zrGD",
        "colab": {
          "base_uri": "https://localhost:8080/"
        },
        "outputId": "57cf5204-de88-4240-acd9-afe27c4c1327"
      },
      "execution_count": null,
      "outputs": [
        {
          "output_type": "stream",
          "name": "stdout",
          "text": [
            "The temperature in celsius is [-16.666666666666668, 11.666666666666666, 25.555555555555557, 40.55555555555556]\n"
          ]
        }
      ]
    },
    {
      "cell_type": "markdown",
      "source": [
        "18. Create a program to print the common elements from two lists using a `for` loop."
      ],
      "metadata": {
        "id": "aaiC0ndi47mG"
      }
    },
    {
      "cell_type": "code",
      "source": [
        "l1 = [2,4,6,9,8,5]\n",
        "l2 = [1,4,3,6,2,8]\n",
        "l3=[]\n",
        "for i in l1:\n",
        "  if i in l2:\n",
        "    l3.append(i)\n",
        "print(l3)"
      ],
      "metadata": {
        "colab": {
          "base_uri": "https://localhost:8080/"
        },
        "id": "w855POhP47Cc",
        "outputId": "0af42800-5f68-4a4c-ff2b-858bd7353e60"
      },
      "execution_count": null,
      "outputs": [
        {
          "output_type": "stream",
          "name": "stdout",
          "text": [
            "[2, 4, 6, 8]\n"
          ]
        }
      ]
    },
    {
      "cell_type": "markdown",
      "source": [
        "19. Develop a program that prints the pattern of right-angled triangles using a `for` loop. Use ‘*’ to draw the\n",
        "pattern"
      ],
      "metadata": {
        "id": "nvoDxrgS6rAI"
      }
    },
    {
      "cell_type": "code",
      "source": [
        "for i in range(1,6):\n",
        "  for j in range(i):\n",
        "    print(\"*\",end=\"  \")\n",
        "  print()"
      ],
      "metadata": {
        "colab": {
          "base_uri": "https://localhost:8080/"
        },
        "id": "GDpBHe9c4kLh",
        "outputId": "fc75a9fd-9e99-4e00-9437-5b9617ddc96e"
      },
      "execution_count": null,
      "outputs": [
        {
          "output_type": "stream",
          "name": "stdout",
          "text": [
            "*  \n",
            "*  *  \n",
            "*  *  *  \n",
            "*  *  *  *  \n",
            "*  *  *  *  *  \n"
          ]
        }
      ]
    },
    {
      "cell_type": "markdown",
      "source": [
        "20. Write a program to find the greatest common divisor (GCD) of two numbers using a `for` loop."
      ],
      "metadata": {
        "id": "H2d8Y2Ui7fOs"
      }
    },
    {
      "cell_type": "code",
      "source": [
        "num1 = int(input(\"Enter a number \"))\n",
        "num2 = int(input(\"Enter second number \"))\n",
        "\n",
        "gcd = 1\n",
        "min_num = min(num1,num2)\n",
        "for i in range(1,min_num+1):\n",
        "  if num1%i==0 and num2 %i==0:\n",
        "   gcd =i\n",
        "print(\"The GCD of\", num1, \"and\", num2, \"is:\", gcd)"
      ],
      "metadata": {
        "colab": {
          "base_uri": "https://localhost:8080/"
        },
        "id": "EvjBGZdV68VG",
        "outputId": "232f22d8-2d33-4684-a6d3-d73426b854a4"
      },
      "execution_count": null,
      "outputs": [
        {
          "output_type": "stream",
          "name": "stdout",
          "text": [
            "Enter a number 8\n",
            "Enter second number 9\n",
            "The GCD of 8 and 9 is: 1\n"
          ]
        }
      ]
    },
    {
      "cell_type": "markdown",
      "source": [
        "#Advanced Level:"
      ],
      "metadata": {
        "id": "pB7A71OonHYS"
      }
    },
    {
      "cell_type": "markdown",
      "source": [
        "21. Create a program that calculates the sum of the digits of numbers in a list using a list comprehension."
      ],
      "metadata": {
        "id": "JOLM8HSInNNp"
      }
    },
    {
      "cell_type": "code",
      "source": [
        "numbers = [123, 45, 678, 9]\n",
        "digit_sum = [sum(int(digit) for digit in str(i) )for i in numbers]\n",
        "print(digit_sum)"
      ],
      "metadata": {
        "colab": {
          "base_uri": "https://localhost:8080/"
        },
        "id": "gZIzpZ_lnMXT",
        "outputId": "cf2cd389-85d8-4eef-a2d6-5f7413dc5d51"
      },
      "execution_count": null,
      "outputs": [
        {
          "output_type": "stream",
          "name": "stdout",
          "text": [
            "[6, 9, 21, 9]\n"
          ]
        }
      ]
    },
    {
      "cell_type": "markdown",
      "source": [
        "22. Write a program to find the prime factors of a given number using a `for` loop and list comprehension."
      ],
      "metadata": {
        "id": "XF-tT37jo_-W"
      }
    },
    {
      "cell_type": "code",
      "source": [
        "def is_prime(n):\n",
        "  return all(n % i != 0 for i in range(2,int(n**0.5) + 1))\n",
        "\n",
        "def prime_factors(n):\n",
        "  return [i for i in range(2,n+1) if n % i == 0 and is_prime(i)]\n",
        "\n",
        "n= 60\n",
        "print(is_prime(n))\n",
        "print(prime_factors(n))"
      ],
      "metadata": {
        "id": "dwS9uVMA8MK1",
        "colab": {
          "base_uri": "https://localhost:8080/"
        },
        "outputId": "c905da90-8a10-419c-f274-25d5ed470bec"
      },
      "execution_count": null,
      "outputs": [
        {
          "output_type": "stream",
          "name": "stdout",
          "text": [
            "False\n",
            "[2, 3, 5]\n"
          ]
        }
      ]
    },
    {
      "cell_type": "markdown",
      "source": [
        "23. Develop a program that extracts unique elements from a list and stores them\n",
        "in a new list using a list\n",
        "comprehension."
      ],
      "metadata": {
        "id": "3L8XwRV3tPEO"
      }
    },
    {
      "cell_type": "code",
      "source": [
        "non_unique_number = [2,3,4,5,6,7,3,4,5]\n",
        "unique_number = []\n",
        "\n",
        "[unique_number.append(i) for i in non_unique_number if i not in unique_number]\n",
        "\n",
        "print(\"Orignal list\",non_unique_number)\n",
        "print(\"Unique list\",unique_number)"
      ],
      "metadata": {
        "colab": {
          "base_uri": "https://localhost:8080/"
        },
        "id": "NPxmmQIHszUY",
        "outputId": "d34d26f3-354b-4ef2-cc3f-51c09ea3baf0"
      },
      "execution_count": null,
      "outputs": [
        {
          "output_type": "stream",
          "name": "stdout",
          "text": [
            "Orignal list [2, 3, 4, 5, 6, 7, 3, 4, 5]\n",
            "Unique list [2, 3, 4, 5, 6, 7]\n"
          ]
        }
      ]
    },
    {
      "cell_type": "markdown",
      "source": [
        "24. Create a program that generates a list of all palindromic numbers up to a specified limit using a list\n",
        "comprehension."
      ],
      "metadata": {
        "id": "OCVSu7KZa66S"
      }
    },
    {
      "cell_type": "code",
      "source": [
        "def is_palindrome(n):\n",
        "  return str(n) == str(n)[::-1]\n",
        "\n",
        "limit = 100\n",
        "palindromic_numbers = [i for i in range(limit+1) if is_palindrome(i)]\n",
        "\n",
        "print(palindromic_numbers)"
      ],
      "metadata": {
        "id": "7ZG1sV6ftN2u",
        "colab": {
          "base_uri": "https://localhost:8080/"
        },
        "outputId": "70dc3d83-b7b4-43aa-96e7-2b4a2b72aecb"
      },
      "execution_count": null,
      "outputs": [
        {
          "output_type": "stream",
          "name": "stdout",
          "text": [
            "[0, 1, 2, 3, 4, 5, 6, 7, 8, 9, 11, 22, 33, 44, 55, 66, 77, 88, 99]\n"
          ]
        }
      ]
    },
    {
      "cell_type": "markdown",
      "source": [
        "25. Write a program to flatten a nested list using list comprehension."
      ],
      "metadata": {
        "id": "LwKknpWDa-Z-"
      }
    },
    {
      "cell_type": "code",
      "source": [
        "nested_list = [[1,2,3],[4,5,6],[7,8,9]]\n",
        "flattened_list = [item for sublist  in nested_list for item in sublist]\n",
        "\n",
        "print('Previous list', nested_list)\n",
        "print('new_list', flattened_list)"
      ],
      "metadata": {
        "id": "uBsw50dRbDL1",
        "colab": {
          "base_uri": "https://localhost:8080/"
        },
        "outputId": "0dcbbb94-3716-4092-8c82-8bfa1c5a7143"
      },
      "execution_count": null,
      "outputs": [
        {
          "output_type": "stream",
          "name": "stdout",
          "text": [
            "Previous list [[1, 2, 3], [4, 5, 6], [7, 8, 9]]\n",
            "new_list [1, 2, 3, 4, 5, 6, 7, 8, 9]\n"
          ]
        }
      ]
    },
    {
      "cell_type": "markdown",
      "source": [
        "26. Develop a program that computes the sum of even and odd numbers in a list separately using list\n",
        "comprehension."
      ],
      "metadata": {
        "id": "VWAG2qNybD0w"
      }
    },
    {
      "cell_type": "code",
      "source": [
        "numbers = [1,2,3,4,5,6,7,8,9]\n",
        "\n",
        "even_numbers = [i for i in numbers if i % 2 == 0]\n",
        "\n",
        "odd_numbers = [i for i in numbers if i % 2 != 0]\n",
        "\n",
        "sum_odd = sum(odd_numbers)\n",
        "sum_even = sum(even_numbers)\n",
        "\n",
        "print(sum_even)\n",
        "print(sum_odd)"
      ],
      "metadata": {
        "id": "sElRPbTLbGnY",
        "colab": {
          "base_uri": "https://localhost:8080/"
        },
        "outputId": "7e9683de-ba71-4b97-e650-4526f6385b49"
      },
      "execution_count": null,
      "outputs": [
        {
          "output_type": "stream",
          "name": "stdout",
          "text": [
            "20\n",
            "25\n"
          ]
        }
      ]
    },
    {
      "cell_type": "markdown",
      "source": [
        "27. Create a program that generates a list of squares of odd numbers between 1 and 10 using list\n",
        "comprehension."
      ],
      "metadata": {
        "id": "Oq5fZWsLbHaS"
      }
    },
    {
      "cell_type": "code",
      "source": [
        "numbers = [1,2,3,4,5,6,7,8,9,10]\n",
        "\n",
        "odd_numbers = [i for i in numbers if i % 2 != 0]\n",
        "\n",
        "squares = [i**2 for i in odd_numbers]\n",
        "\n",
        "print(squares)"
      ],
      "metadata": {
        "id": "KTx4C6xUbJgW",
        "colab": {
          "base_uri": "https://localhost:8080/"
        },
        "outputId": "0f965cd5-2a2e-4acc-e8ae-aad8edbd6a4f"
      },
      "execution_count": null,
      "outputs": [
        {
          "output_type": "stream",
          "name": "stdout",
          "text": [
            "[1, 9, 25, 49, 81]\n"
          ]
        }
      ]
    },
    {
      "cell_type": "markdown",
      "source": [
        "28. Write a program that combines two lists into a dictionary using list comprehension."
      ],
      "metadata": {
        "id": "uIGLpuWlbJ0W"
      }
    },
    {
      "cell_type": "code",
      "source": [
        "keys = ['Name', 'age', 'city','Sex',\"Love\"]\n",
        "values = ['Shreya', 25, 'Banglore',\"Female\",\"Radha\"]\n",
        "\n",
        "combined_dict = {keys[i] : values[i] for i in range(len(keys))}\n",
        "\n",
        "print(combined_dict)"
      ],
      "metadata": {
        "id": "okYUJWZGbMiz",
        "colab": {
          "base_uri": "https://localhost:8080/"
        },
        "outputId": "94e36a75-bfad-441e-f11d-9669ae21d0df"
      },
      "execution_count": null,
      "outputs": [
        {
          "output_type": "stream",
          "name": "stdout",
          "text": [
            "{'Name': 'Shreya', 'age': 25, 'city': 'Banglore', 'Sex': 'Female', 'Love': 'Radha'}\n"
          ]
        }
      ]
    },
    {
      "cell_type": "markdown",
      "source": [
        "29. Develop a program that extracts the vowels from a string and stores them in a list using list comprehension."
      ],
      "metadata": {
        "id": "df0MxZo5bM3a"
      }
    },
    {
      "cell_type": "code",
      "source": [
        "string = \"Shreya Prabhendra\"\n",
        "\n",
        "vowels = [i for i in string if i in \"aeiouAEIOU\"]\n",
        "\n",
        "print(vowels)"
      ],
      "metadata": {
        "id": "Pt3XwrKObOve",
        "colab": {
          "base_uri": "https://localhost:8080/"
        },
        "outputId": "60beedbb-a6f4-4039-a587-6908df1afa00"
      },
      "execution_count": null,
      "outputs": [
        {
          "output_type": "stream",
          "name": "stdout",
          "text": [
            "['e', 'a', 'a', 'e', 'a']\n"
          ]
        }
      ]
    },
    {
      "cell_type": "markdown",
      "source": [
        "30. Create a program that removes all non-numeric characters from a list of strings using list comprehension"
      ],
      "metadata": {
        "id": "zQzqdRQbbPBy"
      }
    },
    {
      "cell_type": "code",
      "source": [
        "example = \"a2df4\",\"fm8f038\"\n",
        "\n",
        "extracting_numbers = [\"\".join([char for char in i if char.isdigit()]) for i in example]\n",
        "\n",
        "print(extracting_numbers)"
      ],
      "metadata": {
        "id": "4CLGzAQ2bR8S",
        "colab": {
          "base_uri": "https://localhost:8080/"
        },
        "outputId": "bdb7903b-1466-4e32-f388-cd536cb1c212"
      },
      "execution_count": null,
      "outputs": [
        {
          "output_type": "stream",
          "name": "stdout",
          "text": [
            "['24', '8038']\n"
          ]
        }
      ]
    },
    {
      "cell_type": "markdown",
      "source": [
        "#Challenge Level:"
      ],
      "metadata": {
        "id": "eyLhHYo-bSa3"
      }
    },
    {
      "cell_type": "markdown",
      "source": [
        "31. Write a program to generate a list of prime numbers using the Sieve of Eratosthenes algorithm and list\n",
        "comprehension."
      ],
      "metadata": {
        "id": "QmQRo7Kobdw0"
      }
    },
    {
      "cell_type": "code",
      "source": [
        "def Sieve_Eratosthenes(limit):\n",
        "  is_prime = [True] * (limit + 1)\n",
        "\n",
        "  p =2\n",
        "\n",
        "  while (p*p <= limit):\n",
        "    if is_prime[p]:\n",
        "      for i in range(p*p,limit+1,p):\n",
        "        is_prime[i] = False\n",
        "    p += 1\n",
        "  prime_numbers = [p for p in range(2,limit+1) if is_prime[p]]\n",
        "  return prime_numbers\n",
        "\n",
        "limit = 50\n",
        "print(Sieve_Eratosthenes(limit))"
      ],
      "metadata": {
        "id": "6yQvn7PDbYSk",
        "colab": {
          "base_uri": "https://localhost:8080/"
        },
        "outputId": "e31de19c-0be4-490d-9efe-afe7a561467a"
      },
      "execution_count": null,
      "outputs": [
        {
          "output_type": "stream",
          "name": "stdout",
          "text": [
            "[2, 3, 5, 7, 11, 13, 17, 19, 23, 29, 31, 37, 41, 43, 47]\n"
          ]
        }
      ]
    },
    {
      "cell_type": "markdown",
      "source": [
        "32. Create a program that generates a list of all Pythagorean triplets up to a specified limit using list\n",
        "comprehension"
      ],
      "metadata": {
        "id": "git26XKLbi5Y"
      }
    },
    {
      "cell_type": "code",
      "source": [
        "def Pythagorean_triplets(limit):\n",
        "  return [(a,b,c) for a in range(1,limit+1) for b in range(a,limit+1) for c in range(b,limit+1) if a*a + b*b == c*c]\n",
        "\n",
        "limit =30\n",
        "print(Pythagorean_triplets(limit))"
      ],
      "metadata": {
        "id": "RIR3WTV6blqF",
        "colab": {
          "base_uri": "https://localhost:8080/"
        },
        "outputId": "d6b3c438-8804-462e-c674-830f42463f26"
      },
      "execution_count": null,
      "outputs": [
        {
          "output_type": "stream",
          "name": "stdout",
          "text": [
            "[(3, 4, 5), (5, 12, 13), (6, 8, 10), (7, 24, 25), (8, 15, 17), (9, 12, 15), (10, 24, 26), (12, 16, 20), (15, 20, 25), (18, 24, 30), (20, 21, 29)]\n"
          ]
        }
      ]
    },
    {
      "cell_type": "markdown",
      "source": [
        "33. Develop a program that generates a list of all possible combinations of two lists using list comprehension."
      ],
      "metadata": {
        "id": "TvxJq0-dbmFU"
      }
    },
    {
      "cell_type": "code",
      "source": [
        "list1 = [1,2,3]\n",
        "list2 = [\"a\",\"b\",\"c\"]\n",
        "\n",
        "combinations = [(x,y) for x in list1 for y in list2 ]\n",
        "\n",
        "print(combinations)"
      ],
      "metadata": {
        "id": "Ao7sVLKgbqma",
        "colab": {
          "base_uri": "https://localhost:8080/"
        },
        "outputId": "e346c292-6260-4921-8a61-9759f2b67bf1"
      },
      "execution_count": null,
      "outputs": [
        {
          "output_type": "stream",
          "name": "stdout",
          "text": [
            "[(1, 'a'), (1, 'b'), (1, 'c'), (2, 'a'), (2, 'b'), (2, 'c'), (3, 'a'), (3, 'b'), (3, 'c')]\n"
          ]
        }
      ]
    },
    {
      "cell_type": "markdown",
      "source": [
        "34. Write a program that calculates the mean, median, and mode of a list of numbers using list\n",
        "comprehension."
      ],
      "metadata": {
        "id": "qhheLeX4brCw"
      }
    },
    {
      "cell_type": "code",
      "source": [
        "from collections import Counter\n",
        "\n",
        "numbers = [1,2,3,3,4,5,5,8,9,8,6]\n",
        "\n",
        "mean = sum(numbers)/len(numbers)\n",
        "\n",
        "sorted_numbers = sorted(numbers)\n",
        "midpoint = len(sorted_numbers) // 2\n",
        "median = (sorted_numbers[midpoint-1] + sorted_numbers[midpoint]) / 2 if len(numbers) % 2 ==0 else sorted_numbers[midpoint]\n",
        "\n",
        "\n",
        "frequency = Counter(numbers)\n",
        "max_count = max(frequency.values())\n",
        "mode = [num for num, count in frequency.items() if count == max_count]\n",
        "\n",
        "print(f\"Mean: {mean}\")\n",
        "print(f\"Median: {median}\")\n",
        "print(f\"Mode: {mode}\")"
      ],
      "metadata": {
        "id": "Rm64_0VfbtBA",
        "colab": {
          "base_uri": "https://localhost:8080/"
        },
        "outputId": "73677795-9286-4348-c917-6d4fdaf7bf56"
      },
      "execution_count": null,
      "outputs": [
        {
          "output_type": "stream",
          "name": "stdout",
          "text": [
            "Mean: 4.909090909090909\n",
            "Median: 5\n",
            "Mode: [3, 5, 8]\n"
          ]
        }
      ]
    },
    {
      "cell_type": "markdown",
      "source": [
        "35. Create a program that generates Pascal's triangle up to a specified number of rows using list\n",
        "comprehension."
      ],
      "metadata": {
        "id": "gUSSUdlDbtYE"
      }
    },
    {
      "cell_type": "code",
      "source": [
        "def pascal_triangle(num_rows):\n",
        "  triangle = [[1]]\n",
        "  for i in range(1,num_rows):\n",
        "    row = [1] + [triangle[i-1][j-1] + triangle[i-1][j] for j in range(1,i)] + [1]\n",
        "    triangle.append(row)\n",
        "  return triangle\n",
        "\n",
        "num_rows = 6\n",
        "for row in pascal_triangle(num_rows):\n",
        "  print(row)"
      ],
      "metadata": {
        "id": "A2YPVwWbbwKk",
        "colab": {
          "base_uri": "https://localhost:8080/"
        },
        "outputId": "52ea6c9f-ed96-447d-a5a8-aa98ca707bd7"
      },
      "execution_count": null,
      "outputs": [
        {
          "output_type": "stream",
          "name": "stdout",
          "text": [
            "[1]\n",
            "[1, 1]\n",
            "[1, 2, 1]\n",
            "[1, 3, 3, 1]\n",
            "[1, 4, 6, 4, 1]\n",
            "[1, 5, 10, 10, 5, 1]\n"
          ]
        }
      ]
    },
    {
      "cell_type": "markdown",
      "source": [
        "36. Develop a program that calculates the sum of the digits of a factorial of numbers from 1 to 5 using list\n",
        "comprehension."
      ],
      "metadata": {
        "id": "OmFRUP4Pbwuq"
      }
    },
    {
      "cell_type": "code",
      "source": [
        "import math\n",
        "\n",
        "def factorials(n):\n",
        "  return sum(int(digit) for digit in str(n))\n",
        "\n",
        "factorial_sum = [factorials(math.factorial(i)) for i in range(1,6)]\n",
        "\n",
        "print(factorial_sum)"
      ],
      "metadata": {
        "id": "wOUNmEd5bzLv",
        "colab": {
          "base_uri": "https://localhost:8080/"
        },
        "outputId": "bc32b52a-9ffa-4251-beb8-f5811f112457"
      },
      "execution_count": null,
      "outputs": [
        {
          "output_type": "stream",
          "name": "stdout",
          "text": [
            "[1, 2, 6, 6, 3]\n"
          ]
        }
      ]
    },
    {
      "cell_type": "markdown",
      "source": [
        "37. Write a program that finds the longest word in a sentence using list comprehension."
      ],
      "metadata": {
        "id": "lsbOCiVJbzki"
      }
    },
    {
      "cell_type": "code",
      "source": [
        "def longesgt_word(sentence):\n",
        "  words = sentence.split()\n",
        "  longest = max(words,key=len)\n",
        "  return longest\n",
        "\n",
        "sentence = \" no love if you not love \"\n",
        "longest = longesgt_word(sentence)\n",
        "print(longest)"
      ],
      "metadata": {
        "id": "8NSh-Ye3b4B-",
        "colab": {
          "base_uri": "https://localhost:8080/"
        },
        "outputId": "5377c7b7-acb8-4d32-d392-66cb94ff2ebf"
      },
      "execution_count": null,
      "outputs": [
        {
          "output_type": "stream",
          "name": "stdout",
          "text": [
            "love\n"
          ]
        }
      ]
    },
    {
      "cell_type": "markdown",
      "source": [
        "38. Create a program that filters a list of strings to include only those with more than three vowels using list\n",
        "comprehension."
      ],
      "metadata": {
        "id": "8FzXoft4b4ZD"
      }
    },
    {
      "cell_type": "code",
      "source": [],
      "metadata": {
        "id": "xHPNr8OMb604"
      },
      "execution_count": null,
      "outputs": []
    },
    {
      "cell_type": "markdown",
      "source": [
        "39. Develop a program that calculates the sum of the digits of numbers from 1 to 1000 using list\n",
        "comprehension."
      ],
      "metadata": {
        "id": "WEoBkHKAb7NX"
      }
    },
    {
      "cell_type": "code",
      "source": [
        "def sum_of_digit(number):\n",
        "  return sum(int(digit) for digit in str(number))\n",
        "\n",
        "digit_sum = [sum_of_digit(i) for i in range(1,1000)]\n",
        "\n",
        "total_sum = sum(digit_sum)\n",
        "print(total_sum)"
      ],
      "metadata": {
        "id": "HVhPuviFb9ix",
        "colab": {
          "base_uri": "https://localhost:8080/"
        },
        "outputId": "c2e69d78-8d51-422b-bccd-5211c2ea2e6d"
      },
      "execution_count": null,
      "outputs": [
        {
          "output_type": "stream",
          "name": "stdout",
          "text": [
            "13500\n"
          ]
        }
      ]
    },
    {
      "cell_type": "markdown",
      "source": [
        "40. Write a program that generates a list of prime palindromic numbers using list comprehension."
      ],
      "metadata": {
        "id": "cpxVqc2Ob-AA"
      }
    },
    {
      "cell_type": "code",
      "source": [
        "def is_prime(n):\n",
        "  if n<= 1:\n",
        "    return False\n",
        "  for i in range(2,int(n**0.5)+1):\n",
        "    if n % i == 0:\n",
        "      return False\n",
        "    return True\n",
        "\n",
        "def is_palindrome(n):\n",
        "  return str(n) == str(n)[::-1]\n",
        "\n",
        "limit = 500\n",
        "prime_palindromic_numbers =  [n for n in range(11,limit) if is_prime(n) and is_palindrome(n)]\n",
        "\n",
        "print(prime_palindromic_numbers)"
      ],
      "metadata": {
        "id": "j45dZ7JOcAnA",
        "colab": {
          "base_uri": "https://localhost:8080/"
        },
        "outputId": "20dc5c5c-d35a-40fe-c78a-2e58bc4547ba"
      },
      "execution_count": 14,
      "outputs": [
        {
          "output_type": "stream",
          "name": "stdout",
          "text": [
            "[11, 33, 55, 77, 99, 101, 111, 121, 131, 141, 151, 161, 171, 181, 191, 303, 313, 323, 333, 343, 353, 363, 373, 383, 393]\n"
          ]
        }
      ]
    },
    {
      "cell_type": "markdown",
      "source": [
        "\n",
        "\n",
        "Prabhendra Singh\n",
        "- p786solot@gmail.com\n",
        "- Full Stack Data Science Pro\n",
        "# The End"
      ],
      "metadata": {
        "id": "wnc8VNmLcBA_"
      }
    }
  ]
}