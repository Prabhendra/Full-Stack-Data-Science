{
 "cells": [
  {
   "cell_type": "raw",
   "id": "5e494911-a6ec-4c2b-b2be-3ed53121f2d6",
   "metadata": {},
   "source": [
    "#Pyton Basics (19th Aug. 2023)"
   ]
  },
  {
   "cell_type": "raw",
   "id": "fa9e5daa-ea26-447c-bfd8-3ba6d4cfeda0",
   "metadata": {},
   "source": [
    "## TOPIC: Python Basics Variable"
   ]
  },
  {
   "cell_type": "markdown",
   "id": "6ca4573e-c487-4323-b7f0-76c663fab919",
   "metadata": {},
   "source": [
    "1. Declare two variables, `x` and `y`, and assign them integer values. Swap the\n",
    "values of these variables without using any temporary variable."
   ]
  },
  {
   "cell_type": "code",
   "execution_count": 10,
   "id": "f5bdd2db-f845-47fc-9a21-8e99cc8883a9",
   "metadata": {},
   "outputs": [
    {
     "name": "stdout",
     "output_type": "stream",
     "text": [
      "After swap x:Var2 and y:Var1\n"
     ]
    }
   ],
   "source": [
    "#Solution:\n",
    "\n",
    "x = 'Var1'\n",
    "y = 'Var2'\n",
    "\n",
    "def swap_variable(x,y):\n",
    "    print(f'Before swap x:{x} and y:{y}')\n",
    "    \n",
    "x,y = y,x\n",
    "\n",
    "print(f'After swap x:{x} and y:{y}')"
   ]
  },
  {
   "cell_type": "code",
   "execution_count": 11,
   "id": "19f2be20-e294-42b4-aa7e-124128e98f1d",
   "metadata": {},
   "outputs": [
    {
     "name": "stdout",
     "output_type": "stream",
     "text": [
      "Before swap x:Var1 and y:Var2\n",
      "After swap x:Var2 and y:Var1\n"
     ]
    }
   ],
   "source": [
    "#Solution:\n",
    "\n",
    "x = 'Var1'\n",
    "y = 'Var2'\n",
    "\n",
    "print(f'Before swap x:{x} and y:{y}')\n",
    "    \n",
    "x,y = y,x\n",
    "\n",
    "print(f'After swap x:{x} and y:{y}')"
   ]
  },
  {
   "cell_type": "markdown",
   "id": "9826fff9-5753-4b6a-b85c-d61cc8c463e7",
   "metadata": {},
   "source": [
    "2. Create a program that calculates the area of a rectangle. Take the length and\n",
    "width as inputs from the user and store them in variables. Calculate and\n",
    "display the area."
   ]
  },
  {
   "cell_type": "code",
   "execution_count": 23,
   "id": "38bc17ac-b1a0-4dac-b346-d996b8fedded",
   "metadata": {},
   "outputs": [
    {
     "name": "stdin",
     "output_type": "stream",
     "text": [
      "Enter the Length of rectangle: 452\n",
      "Enter the Width of rectangle: 5955\n"
     ]
    },
    {
     "name": "stdout",
     "output_type": "stream",
     "text": [
      "Area of the rectangle is: {2691660.0}\n"
     ]
    }
   ],
   "source": [
    "#Solution:\n",
    "\n",
    "Length = float(input(\"Enter the Length of rectangle:\"))\n",
    "Width = float(input(\"Enter the Width of rectangle:\"))\n",
    "\n",
    "area = (Length)*(Width)\n",
    "\n",
    "print(f'Area of the rectangle is:',{area})\n"
   ]
  },
  {
   "cell_type": "markdown",
   "id": "8ec78db0-ace7-4e6b-abf3-62ef31a596a0",
   "metadata": {},
   "source": [
    "3. Write a Python program that converts temperatures from Celsius to\n",
    "Fahrenheit. Take the temperature in Celsius as input, store it in a variable,\n",
    "convert it to Fahrenheit, and display the result."
   ]
  },
  {
   "cell_type": "code",
   "execution_count": 31,
   "id": "f5f54d34-756b-4521-bdc8-a5b64905846f",
   "metadata": {},
   "outputs": [
    {
     "name": "stdin",
     "output_type": "stream",
     "text": [
      "Enter the Temperature in Celsius: 29\n"
     ]
    },
    {
     "name": "stdout",
     "output_type": "stream",
     "text": [
      "Temperature in Fahrenheit is:  84.2 F\n"
     ]
    }
   ],
   "source": [
    "#Solution:\n",
    "\n",
    "Celsius = float(input(\"Enter the Temperature in Celsius:\"))\n",
    "\n",
    "Fahrenheit = (9/5) * Celsius + 32\n",
    "\n",
    "print(f'Temperature in Fahrenheit is:  {Fahrenheit} F') "
   ]
  },
  {
   "cell_type": "raw",
   "id": "16cf3689-6116-447f-9fc6-26f7589fc96d",
   "metadata": {},
   "source": [
    "##TOPIC: String Based Questions"
   ]
  },
  {
   "cell_type": "markdown",
   "id": "16229724-36d6-4b09-933c-f8cd5e2d2483",
   "metadata": {},
   "source": [
    "1. Write a Python program that takes a string as input and prints the length of\n",
    "the string."
   ]
  },
  {
   "cell_type": "code",
   "execution_count": 34,
   "id": "7e7f7ea6-531d-4afa-9184-6fdb4af21b56",
   "metadata": {},
   "outputs": [
    {
     "name": "stdin",
     "output_type": "stream",
     "text": [
      "Enter a String for Calculate it's Length: hello\n"
     ]
    },
    {
     "name": "stdout",
     "output_type": "stream",
     "text": [
      "Length of the string is: 5\n"
     ]
    }
   ],
   "source": [
    "String = input(\"Enter a String for Calculate it's Length:\")\n",
    "\n",
    "Length_of_string = len(String)\n",
    "\n",
    "print(f\"Length of the string is:\", Length_of_string)"
   ]
  },
  {
   "cell_type": "markdown",
   "id": "63f024d6-7358-4c64-82af-cb54c2536c69",
   "metadata": {},
   "source": [
    "2. Create a program that takes a sentence from the user and counts the number\n",
    "of vowels (a, e, i, o, u) in the string.\n"
   ]
  },
  {
   "cell_type": "code",
   "execution_count": 2,
   "id": "87571c68-4022-48e6-b266-4f2bb7fe8250",
   "metadata": {},
   "outputs": [
    {
     "name": "stdin",
     "output_type": "stream",
     "text": [
      "Enter a sentance to count vowels nawab saheb\n"
     ]
    },
    {
     "name": "stdout",
     "output_type": "stream",
     "text": [
      "Total number of vowels are: 4\n"
     ]
    }
   ],
   "source": [
    "#Solution:\n",
    "sentance = input(\"Enter a sentance to count vowels\")\n",
    "\n",
    "#conversion \n",
    "\n",
    "sentance_lower = sentance.lower()\n",
    "\n",
    "count = 0\n",
    "\n",
    "list1 = 'a','e','i','o','u'\n",
    "\n",
    "for char in sentance_lower:\n",
    "    if char in list1:\n",
    "        count = count + 1\n",
    "        \n",
    "print(\"Total number of vowels are:\",count)"
   ]
  },
  {
   "cell_type": "markdown",
   "id": "3a490b78-48e5-40e2-9ffc-9c754eca4053",
   "metadata": {},
   "source": [
    "3. Given a string, reverse the order of characters using string slicing and print the reversed string.\n"
   ]
  },
  {
   "cell_type": "code",
   "execution_count": 6,
   "id": "9e01efb4-3d0a-494b-b1e7-dd60e58dd905",
   "metadata": {},
   "outputs": [
    {
     "name": "stdin",
     "output_type": "stream",
     "text": [
      "Enter a string for reverse: hello boss\n"
     ]
    },
    {
     "name": "stdout",
     "output_type": "stream",
     "text": [
      "ssob olleh\n"
     ]
    }
   ],
   "source": [
    "#solution\n",
    "string = input(\"Enter a string for reverse:\")\n",
    "\n",
    "string_reverse = string[::-1]\n",
    "\n",
    "\n",
    "print(string_reverse)"
   ]
  },
  {
   "cell_type": "markdown",
   "id": "e23196b9-9bde-4b1f-84d3-ee03e40130bf",
   "metadata": {},
   "source": [
    "4. Write a program that takes a string as input and checks if it is a palindrome (reads the same forwards and backwards)."
   ]
  },
  {
   "cell_type": "code",
   "execution_count": 10,
   "id": "53b70382-ee33-41e6-bb13-4250f54b879a",
   "metadata": {},
   "outputs": [
    {
     "name": "stdin",
     "output_type": "stream",
     "text": [
      "Enter a text: OYO\n"
     ]
    },
    {
     "name": "stdout",
     "output_type": "stream",
     "text": [
      "It is a Palindrome:\n"
     ]
    }
   ],
   "source": [
    "#Solution\n",
    "string = input(\"Enter a text:\")\n",
    "\n",
    "reverse_slicing = string[::-1]\n",
    "\n",
    "if reverse_slicing == string:\n",
    "    print(\"It is a Palindrome:\")\n",
    "else:\n",
    "    print(\"It is not a Palindrome:\")"
   ]
  },
  {
   "cell_type": "markdown",
   "id": "47028a88-3f49-4714-b441-815460405d8a",
   "metadata": {},
   "source": [
    "5. Create a program that takes a string as input and removes all the spaces from it. Print the modified string without spaces."
   ]
  },
  {
   "cell_type": "code",
   "execution_count": 13,
   "id": "982bc915-d7fc-44b0-89be-65630d4f435d",
   "metadata": {},
   "outputs": [
    {
     "name": "stdin",
     "output_type": "stream",
     "text": [
      "Enter a text: hello worlf\n"
     ]
    },
    {
     "name": "stdout",
     "output_type": "stream",
     "text": [
      "Text after removing the space is: helloworlf\n"
     ]
    }
   ],
   "source": [
    "#Solutiom\n",
    "\n",
    "string = input(\"Enter a text:\")\n",
    "\n",
    "space_remove = string.replace(' ','')\n",
    "\n",
    "print(\"Text after removing the space is:\",space_remove)"
   ]
  },
  {
   "cell_type": "code",
   "execution_count": 14,
   "id": "7fc4d4d6-55c1-4e8b-83e0-e2db6c667462",
   "metadata": {},
   "outputs": [],
   "source": [
    "#Prabhendra\n",
    "##Data Science Pro\n",
    "###p786solot@gmail.com"
   ]
  },
  {
   "cell_type": "code",
   "execution_count": null,
   "id": "adf87e80-1555-472c-b435-6c62a98d6ddc",
   "metadata": {},
   "outputs": [],
   "source": []
  }
 ],
 "metadata": {
  "kernelspec": {
   "display_name": "Python 3 (ipykernel)",
   "language": "python",
   "name": "python3"
  },
  "language_info": {
   "codemirror_mode": {
    "name": "ipython",
    "version": 3
   },
   "file_extension": ".py",
   "mimetype": "text/x-python",
   "name": "python",
   "nbconvert_exporter": "python",
   "pygments_lexer": "ipython3",
   "version": "3.10.8"
  }
 },
 "nbformat": 4,
 "nbformat_minor": 5
}
