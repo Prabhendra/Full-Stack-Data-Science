{
 "cells": [
  {
   "cell_type": "raw",
   "id": "743f935f-6b37-43b3-a4c6-c2188c2dba63",
   "metadata": {},
   "source": [
    "Prabhendra Singh\n",
    "Chapter: 20th Aug 2023\n",
    "Assignment - 2"
   ]
  },
  {
   "cell_type": "raw",
   "id": "bdde7dba-f6db-4202-8ba9-e47dfdd1fea6",
   "metadata": {},
   "source": [
    "#TOPIC: String Based Assignment Problem"
   ]
  },
  {
   "cell_type": "markdown",
   "id": "042068c3-59f3-4afb-a2f9-ad95e6a6bf20",
   "metadata": {},
   "source": [
    "1. Write a program to reverse a string"
   ]
  },
  {
   "cell_type": "code",
   "execution_count": 1,
   "id": "2dab3920-2b4d-45a4-99aa-eca418754e1a",
   "metadata": {},
   "outputs": [
    {
     "name": "stdin",
     "output_type": "stream",
     "text": [
      "Enter a Text to reverse: Jitendar\n"
     ]
    },
    {
     "name": "stdout",
     "output_type": "stream",
     "text": [
      "Reverse of your text is radnetiJ\n"
     ]
    }
   ],
   "source": [
    "#Solution\n",
    "\n",
    "string = input(\"Enter a Text to reverse:\")\n",
    "\n",
    "string_reverse = string[::-1]\n",
    "\n",
    "print(\"Reverse of your text is\",string_reverse)"
   ]
  },
  {
   "cell_type": "markdown",
   "id": "291ffe3a-b055-48c9-9182-8ae44af016a7",
   "metadata": {},
   "source": [
    "2. Check if a string is a palindrome.\n"
   ]
  },
  {
   "cell_type": "code",
   "execution_count": 3,
   "id": "8e7f30a7-09f7-4fe0-ae8a-a963453e8dbf",
   "metadata": {},
   "outputs": [
    {
     "name": "stdin",
     "output_type": "stream",
     "text": [
      "Enter the text to check palindrome hello\n"
     ]
    },
    {
     "name": "stdout",
     "output_type": "stream",
     "text": [
      "It is not a Palindrome\n"
     ]
    }
   ],
   "source": [
    "#Solution\n",
    "\n",
    "text = input('Enter the text to check palindrome')\n",
    "\n",
    "reverse_slicing = text[::-1]\n",
    "\n",
    "if text == reverse_slicing:\n",
    "           print(\"It is Palindrome\")\n",
    "else:\n",
    "           print(\"It is not a Palindrome\")\n"
   ]
  },
  {
   "cell_type": "markdown",
   "id": "62bf0fdd-4a93-49d2-8465-4b5f9bb427b4",
   "metadata": {},
   "source": [
    "3. Convert a string to uppercase.\n"
   ]
  },
  {
   "cell_type": "code",
   "execution_count": 1,
   "id": "1dc3da36-5758-471f-8ec6-bc465ebf9298",
   "metadata": {},
   "outputs": [
    {
     "name": "stdin",
     "output_type": "stream",
     "text": [
      "Enter a text to convert it into Uppercase pwskills\n"
     ]
    },
    {
     "name": "stdout",
     "output_type": "stream",
     "text": [
      "Conversion after Uppercase PWSKILLS\n"
     ]
    }
   ],
   "source": [
    "#Solution\n",
    "\n",
    "text = input(\"Enter a text to convert it into Uppercase\")\n",
    "\n",
    "uppercase = text.upper()\n",
    "\n",
    "print(f\"Conversion after Uppercase\",uppercase)"
   ]
  },
  {
   "cell_type": "markdown",
   "id": "fcfe23f7-c857-42fb-aaf7-4fc1549a5f71",
   "metadata": {},
   "source": [
    "4. Convert a string to lowercase."
   ]
  },
  {
   "cell_type": "code",
   "execution_count": 3,
   "id": "7536e975-ca0e-49ee-82a3-d10873e3eaeb",
   "metadata": {},
   "outputs": [
    {
     "name": "stdin",
     "output_type": "stream",
     "text": [
      "Enter a text to convert it lowercase POOL IS BETTER\n"
     ]
    },
    {
     "name": "stdout",
     "output_type": "stream",
     "text": [
      "Text after conversion pool is better\n"
     ]
    }
   ],
   "source": [
    "#Solution\n",
    "\n",
    "text = input(\"Enter a text to convert it lowercase\")\n",
    "\n",
    "lowercase = text.lower()\n",
    "\n",
    "print(\"Text after conversion\", lowercase)\n"
   ]
  },
  {
   "cell_type": "markdown",
   "id": "0d68b868-9f8b-48f5-bc01-31b1ddcfcae0",
   "metadata": {},
   "source": [
    "5. Count the number of vowels in a string.\n"
   ]
  },
  {
   "cell_type": "code",
   "execution_count": 12,
   "id": "953fa789-f935-4a4c-9939-e9c55693e853",
   "metadata": {},
   "outputs": [
    {
     "name": "stdin",
     "output_type": "stream",
     "text": [
      "enter a text to count vowels hello world  welcome me\n"
     ]
    },
    {
     "name": "stdout",
     "output_type": "stream",
     "text": [
      "Total number of vowels are: 7\n"
     ]
    }
   ],
   "source": [
    "#Solution\n",
    "\n",
    "text = input(\"enter a text to count vowels:\")\n",
    "\n",
    "input_lower = text.lower()\n",
    "\n",
    "vowel = 'a','e','i','o','u'\n",
    "\n",
    "count = 0\n",
    "\n",
    "for char in input_lower:\n",
    "    if char in vowel:\n",
    "        count = count + 1\n",
    "print(\"Total number of vowels are:\",count)"
   ]
  },
  {
   "cell_type": "markdown",
   "id": "b6dd5f84-1709-47e9-8a9e-cf228007d27e",
   "metadata": {},
   "source": [
    "6. Count the number of consonants in a string"
   ]
  },
  {
   "cell_type": "code",
   "execution_count": 19,
   "id": "45f43ad8-2e3f-4b03-8b54-118281d4e3c8",
   "metadata": {},
   "outputs": [
    {
     "name": "stdin",
     "output_type": "stream",
     "text": [
      "enter a text to count vowels: I am coming world \n"
     ]
    },
    {
     "name": "stdout",
     "output_type": "stream",
     "text": [
      "Total vowel count is: 9\n"
     ]
    }
   ],
   "source": [
    "text = input(\"enter a text to count vowels:\")\n",
    "\n",
    "input_lower = text.lower()\n",
    "\n",
    "consonant = 'b','c','d','f','g','h','j','k','l','m','n','p','q','r','s','t','v','w','x','y','z'\n",
    "\n",
    "count = 0\n",
    "\n",
    "for char in input_lower:\n",
    "    if char in consonant:\n",
    "        count = count + 1\n",
    "print('Total vowel count is:',count)"
   ]
  },
  {
   "cell_type": "markdown",
   "id": "6ff5d9d3-c8ac-4529-b2b2-cda0cfdb08d8",
   "metadata": {},
   "source": [
    "7. Remove all whitespaces from a string."
   ]
  },
  {
   "cell_type": "code",
   "execution_count": 1,
   "id": "9070d5eb-c9f0-4ecf-83ea-f702946c06bb",
   "metadata": {},
   "outputs": [
    {
     "data": {
      "text/plain": [
       "'helloworldispooraspw'"
      ]
     },
     "execution_count": 1,
     "metadata": {},
     "output_type": "execute_result"
    }
   ],
   "source": [
    "def white(string):\n",
    "    return string.replace(\" \",\"\")\n",
    "\n",
    "white(\"hello world is poor as pw\")\n"
   ]
  },
  {
   "cell_type": "markdown",
   "id": "343d96aa-5d01-4686-b50e-70d1124c9238",
   "metadata": {},
   "source": [
    "8. Find the length of a string without using the `len()` function."
   ]
  },
  {
   "cell_type": "code",
   "execution_count": 44,
   "id": "89f9723a-b246-488f-b16e-314efbd7a414",
   "metadata": {},
   "outputs": [
    {
     "name": "stdin",
     "output_type": "stream",
     "text": [
      "enter a text to  count length: length and width both matters\n"
     ]
    },
    {
     "name": "stdout",
     "output_type": "stream",
     "text": [
      "Total length of string 29\n"
     ]
    }
   ],
   "source": [
    "text = input(\"enter a text to  count length:\")\n",
    "\n",
    "count = 0\n",
    "\n",
    "for char in text:\n",
    "    count = count + 1\n",
    "print(\"Total length of string\",count)"
   ]
  },
  {
   "cell_type": "markdown",
   "id": "5b77dc0b-a111-4a27-9eac-a7351fa5a824",
   "metadata": {},
   "source": [
    "9. Check if a string contains a specific word."
   ]
  },
  {
   "cell_type": "code",
   "execution_count": 48,
   "id": "a7f96db0-8948-4a7f-b23e-0fa40a684405",
   "metadata": {},
   "outputs": [
    {
     "name": "stdin",
     "output_type": "stream",
     "text": [
      "enter a text: good is better then best\n",
      "enter the word you are looking for: best\n"
     ]
    },
    {
     "name": "stdout",
     "output_type": "stream",
     "text": [
      "It contains specific word best\n"
     ]
    }
   ],
   "source": [
    "input_str = input('enter a text:')\n",
    "input_check = input('enter the word you are looking for:')\n",
    "\n",
    "if input_check in input_str:\n",
    "    print('It contains specific word',(input_check))\n",
    "else:\n",
    "    print('It not contains specific word')"
   ]
  },
  {
   "cell_type": "markdown",
   "id": "6c54b7a7-ef88-48d7-bd4d-ee4e0e74b43c",
   "metadata": {},
   "source": [
    "10. Replace a word in a string with another word.\n"
   ]
  },
  {
   "cell_type": "code",
   "execution_count": 2,
   "id": "fea67316-c639-497e-99c9-6dfa0070961c",
   "metadata": {},
   "outputs": [
    {
     "name": "stdin",
     "output_type": "stream",
     "text": [
      "Enter a sentance  hello world\n",
      "enter the old word  world\n",
      "enter the new word to replace  India\n"
     ]
    },
    {
     "name": "stdout",
     "output_type": "stream",
     "text": [
      "Sentance after modification hello India\n"
     ]
    }
   ],
   "source": [
    "#Solution:\n",
    "\n",
    "sentance = input(\"Enter a sentance \")\n",
    "\n",
    "old_word = input(\"enter the old word \")\n",
    "new_word = input(\"enter the new word to replace \")\n",
    "\n",
    "\n",
    "new_sentance = sentance.replace(old_word,new_word)\n",
    "\n",
    "print(\"Sentance after modification\",new_sentance)"
   ]
  },
  {
   "cell_type": "markdown",
   "id": "af3062a7-8e30-4731-a6e9-82757521e1de",
   "metadata": {},
   "source": [
    "11. Count the occurrences of a word in a string.\n"
   ]
  },
  {
   "cell_type": "code",
   "execution_count": 19,
   "id": "3cdb5ab5-7679-4eec-a7d2-ea6701051c81",
   "metadata": {},
   "outputs": [
    {
     "name": "stdout",
     "output_type": "stream",
     "text": [
      "2\n"
     ]
    }
   ],
   "source": [
    "def occurance(a,b):\n",
    "    count = 0\n",
    "    words = a.split()\n",
    "    \n",
    "    for i in words:\n",
    "        if i == b:\n",
    "            count = count + 1\n",
    "    return count\n",
    "\n",
    "a = \"hello world hello India\"\n",
    "b = \"hello\"\n",
    "\n",
    "r = occurance(a,b)\n",
    "\n",
    "print(r)\n",
    "            "
   ]
  },
  {
   "cell_type": "markdown",
   "id": "dc460b29-9c25-423e-bede-e5ae315b4c7e",
   "metadata": {},
   "source": [
    "12. Find the first occurrence of a word in a string."
   ]
  },
  {
   "cell_type": "code",
   "execution_count": 12,
   "id": "b79e7926-923b-43fb-9633-698c5c8dd456",
   "metadata": {},
   "outputs": [],
   "source": [
    "def occurance(text,word):\n",
    "    words = text.find(word)\n",
    "    if words == -1:\n",
    "        return None\n",
    "    return words\n",
    "\n",
    "\n"
   ]
  },
  {
   "cell_type": "code",
   "execution_count": 14,
   "id": "f8c913a0-4360-4980-a8c7-209758e2a6db",
   "metadata": {},
   "outputs": [
    {
     "name": "stdin",
     "output_type": "stream",
     "text": [
      "Enter a sentance to know its first occurance how is my world \n",
      "Word too Count occurance is\n"
     ]
    },
    {
     "name": "stdout",
     "output_type": "stream",
     "text": [
      "4\n"
     ]
    }
   ],
   "source": [
    "text = input(\"Enter a sentance to know its first occurance\")\n",
    "word=input(\"Word too Count occurance\")\n",
    "result = occurance(text,word)\n",
    "print(result)"
   ]
  },
  {
   "cell_type": "markdown",
   "id": "460cb4a0-d56e-40e3-90da-dd47cbc5e3cb",
   "metadata": {},
   "source": [
    "13. Find the last occurrence of a word in a string."
   ]
  },
  {
   "cell_type": "code",
   "execution_count": 15,
   "id": "8cc0562f-b523-42fd-a394-d38c269114f1",
   "metadata": {},
   "outputs": [],
   "source": [
    "def occurance(text,word):\n",
    "    words = text.rfind(word)\n",
    "    if words == -1:\n",
    "        return None\n",
    "    return words"
   ]
  },
  {
   "cell_type": "code",
   "execution_count": 24,
   "id": "61d0c592-6b02-4f6c-aa37-2ae87c7aea67",
   "metadata": {},
   "outputs": [
    {
     "name": "stdin",
     "output_type": "stream",
     "text": [
      "Enter a sentance to know its first occurance hello is heloo\n",
      "Word too Count occurance is\n"
     ]
    },
    {
     "name": "stdout",
     "output_type": "stream",
     "text": [
      "your result 6\n"
     ]
    }
   ],
   "source": [
    "text = input(\"Enter a sentance to know its first occurance\")\n",
    "word=input(\"Word too Count occurance\")\n",
    "result = occurance(text,word)\n",
    "print(\"your result\",result)"
   ]
  },
  {
   "cell_type": "markdown",
   "id": "897dbc0e-7be3-4498-a008-2396a077f64e",
   "metadata": {},
   "source": [
    "14. Split a string into a list of words."
   ]
  },
  {
   "cell_type": "code",
   "execution_count": 20,
   "id": "711c5908-8acd-4878-95dc-425c135dbdfc",
   "metadata": {},
   "outputs": [],
   "source": [
    "def spliting(text):\n",
    "    words = text.split()\n",
    "    return words"
   ]
  },
  {
   "cell_type": "code",
   "execution_count": 23,
   "id": "d4dd1ea7-e337-4126-9a3b-9c6612327c63",
   "metadata": {},
   "outputs": [
    {
     "name": "stdin",
     "output_type": "stream",
     "text": [
      "input a string to split hello how is your day\n"
     ]
    },
    {
     "name": "stdout",
     "output_type": "stream",
     "text": [
      "your result after split ['hello', 'how', 'is', 'your', 'day']\n"
     ]
    }
   ],
   "source": [
    "text = input(\"input a string to split\")\n",
    "result = spliting(text)\n",
    "print(\"your result after split\",result)"
   ]
  },
  {
   "cell_type": "markdown",
   "id": "07b4ce8f-e872-49f7-a7c5-a33ef7456b2d",
   "metadata": {},
   "source": [
    "15. Join a list of words into a string.\n"
   ]
  },
  {
   "cell_type": "code",
   "execution_count": 25,
   "id": "c128f89e-8526-4cbf-bfb7-a25bf2142077",
   "metadata": {},
   "outputs": [],
   "source": [
    "def joiner(text):\n",
    "    li_word = \" \".join(text)\n",
    "    return li_word"
   ]
  },
  {
   "cell_type": "code",
   "execution_count": 28,
   "id": "65c27f88-a6e6-4883-8e3a-305880835711",
   "metadata": {},
   "outputs": [
    {
     "name": "stdout",
     "output_type": "stream",
     "text": [
      "your result after join:  how is weather today\n"
     ]
    }
   ],
   "source": [
    "text = [\"how\",\"is\",\"weather\",\"today\"]\n",
    "result = joiner(text)\n",
    "print(\"your result after join: \",result)"
   ]
  },
  {
   "cell_type": "markdown",
   "id": "8e3aa15b-f09b-4e7d-93de-1ea8dc7ab625",
   "metadata": {},
   "source": [
    "16. Convert a string where words are separated by spaces to one where words\n",
    "are separated by underscores.\n"
   ]
  },
  {
   "cell_type": "code",
   "execution_count": 1,
   "id": "29536b14-a34a-4adb-bb60-240ed3ddec8d",
   "metadata": {},
   "outputs": [],
   "source": [
    "def unders(text):\n",
    "    word = text.replace(\" \",\"_\")\n",
    "    return word"
   ]
  },
  {
   "cell_type": "code",
   "execution_count": 2,
   "id": "05ab6631-0d67-48c8-a21b-82aeb58319f3",
   "metadata": {},
   "outputs": [
    {
     "name": "stdin",
     "output_type": "stream",
     "text": [
      "enter a text using space:  hello dear \n"
     ]
    },
    {
     "name": "stdout",
     "output_type": "stream",
     "text": [
      "hello_dear_\n"
     ]
    }
   ],
   "source": [
    "text = input(\"enter a text using space: \")\n",
    "result = unders(text)\n",
    "print(result)"
   ]
  },
  {
   "cell_type": "markdown",
   "id": "6f588106-3cc0-4789-93be-61d559c037b1",
   "metadata": {},
   "source": [
    "17. Check if a string starts with a specific word or phrase.\n"
   ]
  },
  {
   "cell_type": "code",
   "execution_count": 10,
   "id": "e2c443eb-e4a8-43a2-ac57-36c38605c9fb",
   "metadata": {},
   "outputs": [],
   "source": [
    "def starting(text,prefix):\n",
    "    word = text.startswith(prefix)\n",
    "    return word"
   ]
  },
  {
   "cell_type": "code",
   "execution_count": 19,
   "id": "a08dadea-7854-4615-be0e-405ca7873ebb",
   "metadata": {},
   "outputs": [
    {
     "name": "stdin",
     "output_type": "stream",
     "text": [
      "enter a sentance:  how waas your day dear\n",
      "Enter prefix to check:  how\n"
     ]
    },
    {
     "name": "stdout",
     "output_type": "stream",
     "text": [
      "it starts with prefix\n"
     ]
    }
   ],
   "source": [
    "text = input(\"enter a sentance: \")\n",
    "prefix = input(\"Enter prefix to check: \") \n",
    "result = starting(text,prefix)\n",
    "if result:\n",
    "    print('it starts with prefix')\n",
    "else:\n",
    "    print('it not stat with prefix')"
   ]
  },
  {
   "cell_type": "markdown",
   "id": "05a0686c-d8a3-4291-98b3-86e06ada9faf",
   "metadata": {},
   "source": [
    "18. Check if a string ends with a specific word or phrase.\n"
   ]
  },
  {
   "cell_type": "code",
   "execution_count": 20,
   "id": "0e50f81d-2bb4-4cf9-9abf-0fa95dd7f7fa",
   "metadata": {},
   "outputs": [],
   "source": [
    "def starting(text,sufix):\n",
    "    word = text.endswith(sufix)\n",
    "    return word"
   ]
  },
  {
   "cell_type": "code",
   "execution_count": 21,
   "id": "3d214e8d-5cf1-40a5-ab5e-b430194121d3",
   "metadata": {},
   "outputs": [
    {
     "name": "stdin",
     "output_type": "stream",
     "text": [
      "enter a sentance:  how long you use to code\n",
      "Enter prefix to check:  code\n"
     ]
    },
    {
     "name": "stdout",
     "output_type": "stream",
     "text": [
      "it starts with sufix\n"
     ]
    }
   ],
   "source": [
    "text = input(\"enter a sentance: \")\n",
    "sufix = input(\"Enter prefix to check: \") \n",
    "result = starting(text,sufix)\n",
    "if result:\n",
    "    print('it starts with sufix')\n",
    "else:\n",
    "    print('it not stat with sufix')"
   ]
  },
  {
   "cell_type": "markdown",
   "id": "ed417c54-a0b8-4d07-ae6e-d2d594923c3a",
   "metadata": {},
   "source": [
    "19. Convert a string to title case (e.g., \"hello world\" to \"Hello World\")."
   ]
  },
  {
   "cell_type": "code",
   "execution_count": 27,
   "id": "eb859b4c-5942-4785-893f-52ba689577ab",
   "metadata": {},
   "outputs": [],
   "source": [
    "def tit(wor):\n",
    "    return wor.title()"
   ]
  },
  {
   "cell_type": "code",
   "execution_count": 29,
   "id": "c68176dd-ce54-4cdf-b284-fe5515adcf47",
   "metadata": {},
   "outputs": [
    {
     "name": "stdout",
     "output_type": "stream",
     "text": [
      "After title case:  Money Is Love\n"
     ]
    }
   ],
   "source": [
    "wor = \"money is love\"\n",
    "result = tit(wor)\n",
    "print(\"After title case: \",result)"
   ]
  },
  {
   "cell_type": "markdown",
   "id": "d7236eb3-c0be-42b2-84e6-192c01102f63",
   "metadata": {},
   "source": [
    "20. Find the longest word in a string.\n"
   ]
  },
  {
   "cell_type": "code",
   "execution_count": 36,
   "id": "60eb38dd-cf92-467b-97ef-f230a935ce64",
   "metadata": {},
   "outputs": [],
   "source": [
    "def longer(long):\n",
    "    word = long.split()\n",
    "    \n",
    "    longest_word = None\n",
    "    max_length = 0\n",
    "    \n",
    "    for char in word: #AFTER SPLITING INTO word Component\n",
    "        if len(char) > max_length: \n",
    "            max_length = len(char)\n",
    "            longest_word = char\n",
    "    return longest_word"
   ]
  },
  {
   "cell_type": "code",
   "execution_count": 39,
   "id": "e38ad644-d7c9-4f10-84d5-76198932a41b",
   "metadata": {},
   "outputs": [
    {
     "name": "stdin",
     "output_type": "stream",
     "text": [
      "enter a sentance to check longest word in it hello abrakadabra\n"
     ]
    },
    {
     "name": "stdout",
     "output_type": "stream",
     "text": [
      "abrakadabra\n"
     ]
    }
   ],
   "source": [
    "long = input(\"enter a sentance to check longest word in it\")\n",
    "result = longer(long)\n",
    "print(result)"
   ]
  },
  {
   "cell_type": "markdown",
   "id": "08168d29-a537-4896-998e-7e7f3a866ed5",
   "metadata": {},
   "source": [
    "21. Find the shortest word in a string.\n"
   ]
  },
  {
   "cell_type": "code",
   "execution_count": 2,
   "id": "b0b44410-ac44-4366-bf0b-886ba80aa0a2",
   "metadata": {},
   "outputs": [],
   "source": [
    "def shortest(text):\n",
    "    words = text.split()\n",
    "    min_length = float('inf')\n",
    "    small_word = None\n",
    "    \n",
    "    for char in words:\n",
    "        if len(char) < min_length:\n",
    "            \n",
    "            min_length = len(char)\n",
    "            shortest_word = char\n",
    "    \n",
    "    return shortest_word"
   ]
  },
  {
   "cell_type": "code",
   "execution_count": 3,
   "id": "e1374e1f-581c-47ad-ae88-b95b737a5225",
   "metadata": {},
   "outputs": [
    {
     "name": "stdin",
     "output_type": "stream",
     "text": [
      "Enter a sentance to check smallest word:  hello, he is a good man\n"
     ]
    },
    {
     "name": "stdout",
     "output_type": "stream",
     "text": [
      "Shortest word is :  a\n"
     ]
    }
   ],
   "source": [
    "text = input(\"Enter a sentance to check smallest word: \")\n",
    "result = shortest(text)\n",
    "print(\"Shortest word is : \",result)"
   ]
  },
  {
   "cell_type": "markdown",
   "id": "d5747a0a-1db1-4c2f-a06b-55079cd8e624",
   "metadata": {},
   "source": [
    "22. Reverse the order of words in a string.\n"
   ]
  },
  {
   "cell_type": "code",
   "execution_count": 5,
   "id": "b1fd269e-ed10-49b2-b554-293e465f53d1",
   "metadata": {},
   "outputs": [],
   "source": [
    "def reverse(text):\n",
    "    return text[::-1]"
   ]
  },
  {
   "cell_type": "code",
   "execution_count": 9,
   "id": "528fe2e5-b3b2-4bee-a01b-b3dacd79ec48",
   "metadata": {},
   "outputs": [
    {
     "name": "stdin",
     "output_type": "stream",
     "text": [
      "enter a sentance to make it reverse order:  hello milky way\n"
     ]
    },
    {
     "data": {
      "text/plain": [
       "'yaw yklim olleh'"
      ]
     },
     "execution_count": 9,
     "metadata": {},
     "output_type": "execute_result"
    }
   ],
   "source": [
    "text = input(\"enter a sentance to make it reverse order: \")\n",
    "reverse(text)"
   ]
  },
  {
   "cell_type": "markdown",
   "id": "be026b37-7efd-4e5b-af71-5dd9182c1d6a",
   "metadata": {},
   "source": [
    "23. Check if a string is alphanumeric."
   ]
  },
  {
   "cell_type": "code",
   "execution_count": 25,
   "id": "15d6c856-c84d-42fd-8dc6-8c4163840b05",
   "metadata": {},
   "outputs": [],
   "source": [
    "def alpha(text):\n",
    "    return text.isalnum()\n"
   ]
  },
  {
   "cell_type": "code",
   "execution_count": 32,
   "id": "f985ffc3-c098-4cdd-8b40-ae0825a86ccf",
   "metadata": {},
   "outputs": [
    {
     "name": "stdout",
     "output_type": "stream",
     "text": [
      "it is a alphanumeric\n"
     ]
    }
   ],
   "source": [
    "text = \"How999\"\n",
    "result = alpha(text)\n",
    "if result:\n",
    "    print('it is a alphanumeric')\n",
    "else:\n",
    "    print('it is not a alphanumeric')"
   ]
  },
  {
   "cell_type": "markdown",
   "id": "0be9ac8e-6d83-405c-9020-164c70ca0887",
   "metadata": {},
   "source": [
    "24. Extract all digits from a string."
   ]
  },
  {
   "cell_type": "code",
   "execution_count": 16,
   "id": "3b342bb4-a725-416e-99e8-2a79ecfc0447",
   "metadata": {},
   "outputs": [],
   "source": [
    "def exdigi(text):\n",
    "    digit = ''\n",
    "    \n",
    "    for char in text:\n",
    "        if char.isdigit():\n",
    "            digit += char\n",
    "            \n",
    "    return digit\n",
    "    "
   ]
  },
  {
   "cell_type": "code",
   "execution_count": 18,
   "id": "9c43ff7d-c3e2-419d-bf73-a5baf702ef3a",
   "metadata": {},
   "outputs": [
    {
     "name": "stdout",
     "output_type": "stream",
     "text": [
      "3434409\n"
     ]
    }
   ],
   "source": [
    "text = \"heis 34 jsk3l4n nfk40dc9n\"\n",
    "result = exdigi(text)\n",
    "print(result)\n"
   ]
  },
  {
   "cell_type": "markdown",
   "id": "cfab5920-9563-4124-8274-aaf7a294e2fc",
   "metadata": {},
   "source": [
    "25. Extract all alphabets from a string."
   ]
  },
  {
   "cell_type": "code",
   "execution_count": 33,
   "id": "aa89d0de-ac48-4807-8b84-f9fdbda00dce",
   "metadata": {},
   "outputs": [],
   "source": [
    "def exalpha(text):\n",
    "    alpha = ''\n",
    "    \n",
    "    for char in text:\n",
    "        if char.isalpha():\n",
    "            alpha += cha r\n",
    "    return alpha"
   ]
  },
  {
   "cell_type": "code",
   "execution_count": 34,
   "id": "51cec8e7-8808-413e-9c82-4c1925d9cc53",
   "metadata": {},
   "outputs": [
    {
     "name": "stdout",
     "output_type": "stream",
     "text": [
      "helloplanetearth\n"
     ]
    }
   ],
   "source": [
    "text = \"hello919planet00earth\"\n",
    "result = exalpha(text)\n",
    "print(result)"
   ]
  },
  {
   "cell_type": "markdown",
   "id": "bdbffd21-6da6-4c71-ae54-0357f486039c",
   "metadata": {},
   "source": [
    "26. Count the number of uppercase letters in a string.\n"
   ]
  },
  {
   "cell_type": "code",
   "execution_count": 1,
   "id": "d013804f-ea95-428c-a338-083717549b66",
   "metadata": {},
   "outputs": [],
   "source": [
    "def uppercase(text):\n",
    "    count = 0\n",
    "    for char in text:\n",
    "        if char.isupper():\n",
    "            count += 1\n",
    "    return count"
   ]
  },
  {
   "cell_type": "code",
   "execution_count": 2,
   "id": "5cccc148-5419-42e4-a9f0-ec38a46963e0",
   "metadata": {},
   "outputs": [
    {
     "data": {
      "text/plain": [
       "4"
      ]
     },
     "execution_count": 2,
     "metadata": {},
     "output_type": "execute_result"
    }
   ],
   "source": [
    "text = \"hello I am Your Boss Daddy\"\n",
    "uppercase(text)"
   ]
  },
  {
   "cell_type": "markdown",
   "id": "0386c815-7e08-4291-9e8e-800234f958aa",
   "metadata": {},
   "source": [
    "27. Count the number of lowercase letters in a string.\n"
   ]
  },
  {
   "cell_type": "code",
   "execution_count": 3,
   "id": "f49fea32-d3ae-4978-a98b-62eea2a6a490",
   "metadata": {},
   "outputs": [],
   "source": [
    "def lower(text):\n",
    "    count = 0\n",
    "    \n",
    "    for char in text:\n",
    "        if char.islower():\n",
    "            count = count + 1\n",
    "    return count"
   ]
  },
  {
   "cell_type": "code",
   "execution_count": 5,
   "id": "06004ff8-3302-4af5-92bc-a5da60af128d",
   "metadata": {},
   "outputs": [
    {
     "data": {
      "text/plain": [
       "19"
      ]
     },
     "execution_count": 5,
     "metadata": {},
     "output_type": "execute_result"
    }
   ],
   "source": [
    "text = \"how was your Day in Office\"\n",
    "lower(text)"
   ]
  },
  {
   "cell_type": "markdown",
   "id": "2d5516c5-cc61-4ff1-8c2d-ce580f614f17",
   "metadata": {},
   "source": [
    "28. Swap the case of each character in a string.\n"
   ]
  },
  {
   "cell_type": "code",
   "execution_count": 6,
   "id": "3eba4c5e-9420-4c6a-a08f-1c624f339a20",
   "metadata": {},
   "outputs": [],
   "source": [
    "def sawaping(text):\n",
    "    index = text.swapcase()\n",
    "    return index"
   ]
  },
  {
   "cell_type": "code",
   "execution_count": 8,
   "id": "fbe217ca-accf-45ca-8747-86fe72b90b23",
   "metadata": {},
   "outputs": [
    {
     "data": {
      "text/plain": [
       "'hELLOgAlAxy'"
      ]
     },
     "execution_count": 8,
     "metadata": {},
     "output_type": "execute_result"
    }
   ],
   "source": [
    "text = \"HelloGaLaXY\"\n",
    "sawaping(text)"
   ]
  },
  {
   "cell_type": "markdown",
   "id": "d63dbc38-4316-4174-a4b6-33f83d68a5ac",
   "metadata": {},
   "source": [
    "29. Remove a specific word from a string.\n"
   ]
  },
  {
   "cell_type": "code",
   "execution_count": 43,
   "id": "ab292c9d-278d-48b9-8d2a-36a391e7adb5",
   "metadata": {},
   "outputs": [],
   "source": [
    "def removal(instr,remstr):\n",
    "    word = instr.split()\n",
    "    filtered = []\n",
    "    modified = []\n",
    "    \n",
    "    for char in word:\n",
    "        if char != remstr:\n",
    "            filtered.append(char)\n",
    "            modified = ' '.join(filtered)\n",
    "    return modified\n",
    "            \n",
    "    "
   ]
  },
  {
   "cell_type": "code",
   "execution_count": 44,
   "id": "1ed4cb42-e869-43c3-a07a-a3a8f05071f4",
   "metadata": {},
   "outputs": [
    {
     "data": {
      "text/plain": [
       "'hello helo'"
      ]
     },
     "execution_count": 44,
     "metadata": {},
     "output_type": "execute_result"
    }
   ],
   "source": [
    "instr = \"hello ji helo\"\n",
    "remstr = \"ji\"\n",
    "removal(instr,remstr)"
   ]
  },
  {
   "cell_type": "markdown",
   "id": "bd04f885-7ac9-458d-a819-36df8123fa07",
   "metadata": {},
   "source": [
    "30. Check if a string is a valid email address"
   ]
  },
  {
   "cell_type": "code",
   "execution_count": 2,
   "id": "a682b21c-5985-494b-858e-3415b11974ad",
   "metadata": {},
   "outputs": [],
   "source": [
    "from urllib.parse import urlparse\n",
    "\n",
    "def vaild_url(url):\n",
    "    try:\n",
    "        urlparse(url)\n",
    "        return all([urlparse(url).scheme,urlparse(url).netloc])\n",
    "    except ValueError:\n",
    "        return False\n",
    "    \n"
   ]
  },
  {
   "cell_type": "code",
   "execution_count": 3,
   "id": "02fc1e46-e135-4cf8-ab44-7143b14fd085",
   "metadata": {},
   "outputs": [
    {
     "name": "stdout",
     "output_type": "stream",
     "text": [
      "True\n",
      "False\n"
     ]
    }
   ],
   "source": [
    "url1 = 'https://www.google.com/maps'\n",
    "url2 = 'inalid_vv'\n",
    "\n",
    "res1 =  vaild_url(url1)\n",
    "re2 =  vaild_url(url2)\n",
    "\n",
    "print(res1)\n",
    "print(re2)\n"
   ]
  },
  {
   "cell_type": "markdown",
   "id": "41f5c745-193e-4c3e-bbf6-15cfe97ec810",
   "metadata": {},
   "source": [
    "31. Extract the username from an email address string.\n"
   ]
  },
  {
   "cell_type": "code",
   "execution_count": 54,
   "id": "c765c81e-fc0c-4114-bdb7-a62d6dc0304c",
   "metadata": {},
   "outputs": [],
   "source": [
    "def extrac(username):\n",
    "    email = username.split('@')[0]  ###giving indexing also what to exract\n",
    "    return email"
   ]
  },
  {
   "cell_type": "code",
   "execution_count": 55,
   "id": "002ca20e-18e1-4a7a-ac6f-8e5376ed3296",
   "metadata": {},
   "outputs": [
    {
     "data": {
      "text/plain": [
       "'p786solot'"
      ]
     },
     "execution_count": 55,
     "metadata": {},
     "output_type": "execute_result"
    }
   ],
   "source": [
    "username = \"p786solot@gmail.com\"\n",
    "extrac(username)"
   ]
  },
  {
   "cell_type": "markdown",
   "id": "fca94f05-081a-4261-afff-805ba4c750d1",
   "metadata": {},
   "source": [
    "32. Extract the domain name from an email address string."
   ]
  },
  {
   "cell_type": "code",
   "execution_count": 56,
   "id": "a3f4219d-35b3-4e10-90f4-edaf2ff11b1b",
   "metadata": {},
   "outputs": [],
   "source": [
    "def extract(domain):\n",
    "    email = domain.split(\"@\")[1]\n",
    "    return email"
   ]
  },
  {
   "cell_type": "code",
   "execution_count": 57,
   "id": "d1c85d2c-48c3-40c7-844e-4f5caa438e04",
   "metadata": {},
   "outputs": [
    {
     "data": {
      "text/plain": [
       "'gmail.com'"
      ]
     },
     "execution_count": 57,
     "metadata": {},
     "output_type": "execute_result"
    }
   ],
   "source": [
    "domain = \"p786solot@gmail.com\"\n",
    "extract(domain)"
   ]
  },
  {
   "cell_type": "markdown",
   "id": "dfa4c2d6-5432-430f-9343-4bade1d7c9bb",
   "metadata": {},
   "source": [
    "33. Replace multiple spaces in a string with a single space.\n"
   ]
  },
  {
   "cell_type": "code",
   "execution_count": 58,
   "id": "9387a27f-acec-4872-a77c-82222605b940",
   "metadata": {},
   "outputs": [],
   "source": [
    "def multi(space):\n",
    "    clean = space.split()\n",
    "    joiner = \" \".join(clean)\n",
    "    return joiner"
   ]
  },
  {
   "cell_type": "code",
   "execution_count": 59,
   "id": "981386e7-f07b-4398-9846-c0560820c3cf",
   "metadata": {},
   "outputs": [
    {
     "data": {
      "text/plain": [
       "'hi how is your mommy'"
      ]
     },
     "execution_count": 59,
     "metadata": {},
     "output_type": "execute_result"
    }
   ],
   "source": [
    "space = \"hi  how is  your    mommy\"\n",
    "multi(space)"
   ]
  },
  {
   "cell_type": "markdown",
   "id": "52e2ab50-6d4f-4d11-aff8-cf17a1c09d05",
   "metadata": {},
   "source": [
    "34. Check if a string is a valid URL.\n"
   ]
  },
  {
   "cell_type": "code",
   "execution_count": 1,
   "id": "b7fc7f98-8c95-45e1-b70e-98369d2ff1a7",
   "metadata": {},
   "outputs": [
    {
     "name": "stdout",
     "output_type": "stream",
     "text": [
      "It is valid url True\n",
      "False\n"
     ]
    }
   ],
   "source": [
    "from urllib.parse import urlparse\n",
    "\n",
    "def is_valid_url(url):\n",
    "    try:  \n",
    "        result = urlparse(url)\n",
    "        return all([result.scheme, result.netloc])  # Check if both scheme and netloc are present\n",
    "    except ValueError:\n",
    "        return False\n",
    "\n",
    "# Example URLs\n",
    "url1 = \"https://www.example.com\"\n",
    "url2 = \"invalid-url\"\n",
    "result1 = is_valid_url(url1)\n",
    "result2 = is_valid_url(url2)\n",
    "print(f'It is valid url',result1)  # Should print True\n",
    "print(result2)  # Should print False"
   ]
  },
  {
   "cell_type": "markdown",
   "id": "510b5cdb-8cb7-4840-9659-a549d727c75d",
   "metadata": {},
   "source": [
    "35. Extract the protocol (http or https) from a URL string.\n"
   ]
  },
  {
   "cell_type": "code",
   "execution_count": 8,
   "id": "d55c126d-03f1-4f1d-9a2f-b97df762432a",
   "metadata": {},
   "outputs": [],
   "source": [
    "from urllib.parse import urlparse\n",
    "\n",
    "def extract_protocol(url):\n",
    "        return urlparse(url).scheme\n",
    "\n",
    "    "
   ]
  },
  {
   "cell_type": "code",
   "execution_count": 9,
   "id": "447fb280-0727-412e-9a67-480061574abd",
   "metadata": {},
   "outputs": [
    {
     "name": "stdout",
     "output_type": "stream",
     "text": [
      "https\n"
     ]
    }
   ],
   "source": [
    "example_url = \"https://www.example.com/path/to/resource\"\n",
    "protocol = extract_protocol(example_url)\n",
    "print(protocol)  # Output: 'https"
   ]
  },
  {
   "cell_type": "markdown",
   "id": "ff874778-9608-4a5b-a3ca-fb4e5961296d",
   "metadata": {},
   "source": [
    "36. Find the frequency of each character in a string.\n"
   ]
  },
  {
   "cell_type": "code",
   "execution_count": 24,
   "id": "404ee02c-e1e4-463a-8cfc-01a6ef6bd789",
   "metadata": {},
   "outputs": [],
   "source": [
    "def frequency_char(string):\n",
    "    freq_dict = {}\n",
    "    \n",
    "    for char in string:\n",
    "        if char in freq_dict:\n",
    "            freq_dict[char] += 1\n",
    "        else:\n",
    "            freq_dict[char] = 1\n",
    "    return freq_dict"
   ]
  },
  {
   "cell_type": "code",
   "execution_count": 25,
   "id": "47155815-f27a-4d2a-baef-5320e85d268b",
   "metadata": {},
   "outputs": [
    {
     "name": "stdout",
     "output_type": "stream",
     "text": [
      "{'h': 1, 'e': 1, 'l': 3, 'o': 2, ' ': 1, 'w': 1, 'r': 1, 'd': 1}\n"
     ]
    }
   ],
   "source": [
    "test = \"hello world\"\n",
    "fre = frequency_char(test)\n",
    "print(fre)"
   ]
  },
  {
   "cell_type": "markdown",
   "id": "bf832165-1f68-4be8-9381-adf3809beb71",
   "metadata": {},
   "source": [
    "37. Remove all punctuation from a string.\n"
   ]
  },
  {
   "cell_type": "code",
   "execution_count": 36,
   "id": "6f3f84df-fc51-41ab-8fac-b464d143ae8d",
   "metadata": {},
   "outputs": [],
   "source": [
    "def remove_punch(string):\n",
    "    \n",
    "    panch = ', : ; . > <  ? / \" '\n",
    "    clean = ''\n",
    "    \n",
    "    for char in string:\n",
    "        if char not in panch:\n",
    "            clean += char\n",
    "    return clean"
   ]
  },
  {
   "cell_type": "code",
   "execution_count": 37,
   "id": "63827604-c2a6-4ef1-bd1c-e7d3ba93b300",
   "metadata": {},
   "outputs": [
    {
     "name": "stdout",
     "output_type": "stream",
     "text": [
      "HIHowareYou\n"
     ]
    }
   ],
   "source": [
    "c = \"HI, How are You?\"\n",
    "re = remove_punch(c)\n",
    "print(re)"
   ]
  },
  {
   "cell_type": "markdown",
   "id": "f7c8ba6b-9987-47d9-b34f-62899944ef08",
   "metadata": {},
   "source": [
    "38. Check if a string contains only digits.\n"
   ]
  },
  {
   "cell_type": "code",
   "execution_count": 41,
   "id": "53d1c59c-41fc-4dfe-b033-d8a3919c94b5",
   "metadata": {},
   "outputs": [],
   "source": [
    "def only_digit(string):\n",
    "    return string.isdigit()"
   ]
  },
  {
   "cell_type": "code",
   "execution_count": 44,
   "id": "9beb17dc-c18a-4bf9-9418-7da5818ef901",
   "metadata": {},
   "outputs": [
    {
     "name": "stdout",
     "output_type": "stream",
     "text": [
      "False\n",
      "True\n"
     ]
    }
   ],
   "source": [
    "str1 = 'hello7877'\n",
    "str2 = '9999'\n",
    "\n",
    "re1 = only_digit(str1)\n",
    "re2 =only_digit(str2)\n",
    "\n",
    "print(re1)\n",
    "print(re2)"
   ]
  },
  {
   "cell_type": "markdown",
   "id": "4cbaa3c4-2094-4688-92f5-01102d1b5d9f",
   "metadata": {},
   "source": [
    "39. Check if a string contains only alphabets.\n"
   ]
  },
  {
   "cell_type": "code",
   "execution_count": 45,
   "id": "ac814f6f-ab79-4a96-bac9-4e46dcacef0a",
   "metadata": {},
   "outputs": [],
   "source": [
    "def only_alpha(string):\n",
    "    return string.isalpha()\n"
   ]
  },
  {
   "cell_type": "code",
   "execution_count": 46,
   "id": "83849265-fa82-4594-930f-653ff18ba42d",
   "metadata": {},
   "outputs": [
    {
     "name": "stdout",
     "output_type": "stream",
     "text": [
      "False\n",
      "True\n"
     ]
    }
   ],
   "source": [
    "str1 = 'hello7877'\n",
    "str2 = 'RamRam'\n",
    "\n",
    "re1 = only_alpha(str1)\n",
    "re2 =only_alpha(str2)\n",
    "\n",
    "print(re1)\n",
    "print(re2)"
   ]
  },
  {
   "cell_type": "markdown",
   "id": "0ba42ef8-9548-4ae7-af96-c5fa60a023fd",
   "metadata": {},
   "source": [
    "40. Convert a string to a list of characters.\n"
   ]
  },
  {
   "cell_type": "code",
   "execution_count": 47,
   "id": "3d56e8b9-b24b-46a5-8dc6-2154ca918b2e",
   "metadata": {},
   "outputs": [
    {
     "data": {
      "text/plain": [
       "['H', 'e', 'l', 'l', 'o', ' ', 'w', 'o', 'r', 'l', 'd']"
      ]
     },
     "execution_count": 47,
     "metadata": {},
     "output_type": "execute_result"
    }
   ],
   "source": [
    "s = \"Hello world\"\n",
    "\n",
    "list(s)"
   ]
  },
  {
   "cell_type": "markdown",
   "id": "c8a7d867-ca07-4165-8e0e-b2afee2afce8",
   "metadata": {},
   "source": [
    "41. Check if two strings are anagrams.\n"
   ]
  },
  {
   "cell_type": "code",
   "execution_count": 7,
   "id": "13af3c3a-f73e-4874-97b3-fbbade7219f7",
   "metadata": {},
   "outputs": [],
   "source": [
    "## we need to create 2 string so that we can \n",
    "# check or compare btwn them\n",
    "\n",
    "def anagrams(str1,str2):\n",
    "    \n",
    "    hel1 = str1.replace(\" \",\"\").lower() #remove spcae and lowering text\n",
    "    hel2 = str2.replace(\" \",\"\").lower()\n",
    "    \n",
    "    return sorted(str1) == sorted(str2) #sorting both compare"
   ]
  },
  {
   "cell_type": "code",
   "execution_count": 8,
   "id": "022ce589-90b5-46a9-9a21-07aa1b73b3dd",
   "metadata": {},
   "outputs": [
    {
     "name": "stdout",
     "output_type": "stream",
     "text": [
      "Silent and listen It is a anagrams:  True\n",
      "prabhu and ram It is a anagrams:  False\n"
     ]
    }
   ],
   "source": [
    "ex1 = \"silent\"\n",
    "ex2 = \"listen\"\n",
    "ex4 = \"prabhu\"\n",
    "ex5 = \"ram\"\n",
    "\n",
    "re1 = anagrams(ex1, ex2)\n",
    "re2 = anagrams(ex4,ex5)\n",
    "\n",
    "print(f\"Silent and listen It is a anagrams: \",re1)\n",
    "print(f\"prabhu and ram It is a anagrams: \",re2)"
   ]
  },
  {
   "cell_type": "markdown",
   "id": "f68f1ac7-6a95-4242-a5f5-ddc2e7f27cea",
   "metadata": {},
   "source": [
    "42. Encode a string using a Caesar cipher.\n"
   ]
  },
  {
   "cell_type": "code",
   "execution_count": 25,
   "id": "91b55157-620f-48f2-9179-233b8456aaef",
   "metadata": {},
   "outputs": [
    {
     "name": "stdin",
     "output_type": "stream",
     "text": [
      "enter 'caesar' for changing it to caesar cipher: caesar\n",
      "Enter the word xy\n",
      "Enter number to shift 3\n"
     ]
    },
    {
     "name": "stdout",
     "output_type": "stream",
     "text": [
      "ab\n"
     ]
    }
   ],
   "source": [
    "alphabet = ['a', 'b', 'c', 'd', 'e', 'f', 'g', 'h', 'i', 'j', 'k', 'l', 'm', 'n', 'o', 'p', 'q', 'r', 's', 't', 'u', 'v', 'w', 'x', 'y', 'z']\n",
    "\n",
    "def cipher(plain_text,value_shift):\n",
    "    caesar_cipher = \"\"\n",
    "    for char in plain_text:\n",
    "        position = alphabet.index(char)\n",
    "        new_position = (position + value_shift)%26\n",
    "        caesar_cipher+= alphabet[ new_position]\n",
    "    print(caesar_cipher)\n",
    "        \n",
    "    \n",
    "\n",
    "what_to_do = input(\"enter 'caesar' for changing it to caesar cipher:\")\n",
    "text = input(\"Enter the word\")\n",
    "shift = int(input(\"Enter number to shift\"))\n",
    "\n",
    "if what_to_do == \"caesar\":\n",
    "\n",
    "    cipher(plain_text = text, value_shift = shift)\n"
   ]
  },
  {
   "cell_type": "markdown",
   "id": "4254af2b-2933-4d8b-8358-d475f6be3309",
   "metadata": {},
   "source": [
    "43. Decode a Caesar cipher encoded string."
   ]
  },
  {
   "cell_type": "code",
   "execution_count": 27,
   "id": "867572a0-707c-4a26-b640-279c5ad9f984",
   "metadata": {},
   "outputs": [
    {
     "name": "stdin",
     "output_type": "stream",
     "text": [
      "enter 'caesar' for changing it to caesar cipher: caesar\n",
      "Enter the word a\n",
      "Enter number to shift 1\n"
     ]
    },
    {
     "name": "stdout",
     "output_type": "stream",
     "text": [
      "z\n"
     ]
    }
   ],
   "source": [
    "alphabet = ['a', 'b', 'c', 'd', 'e', 'f', 'g', 'h', 'i', 'j', 'k', 'l', 'm', 'n', 'o', 'p', 'q', 'r', 's', 't', 'u', 'v', 'w', 'x', 'y', 'z']\n",
    "\n",
    "def cipher(plain_text,value_shift):\n",
    "    caesar_cipher = \"\"\n",
    "    for char in plain_text:\n",
    "        position = alphabet.index(char)\n",
    "        new_position = (position - value_shift)%26\n",
    "        caesar_cipher+= alphabet[ new_position]\n",
    "    print(caesar_cipher)\n",
    "        \n",
    "    \n",
    "\n",
    "what_to_do = input(\"enter 'caesar' for changing it to caesar cipher:\")\n",
    "text = input(\"Enter the word\")\n",
    "shift = int(input(\"Enter number to shift\"))\n",
    "\n",
    "if what_to_do == \"caesar\":\n",
    "\n",
    "    cipher(plain_text = text, value_shift = shift)\n"
   ]
  },
  {
   "cell_type": "markdown",
   "id": "c1cae846-2bc2-4a8f-a10e-ba23c00df178",
   "metadata": {},
   "source": [
    "44. Find the most frequent word in a string.\n"
   ]
  },
  {
   "cell_type": "code",
   "execution_count": 4,
   "id": "d264dcba-0e6f-4451-ad51-1b797be88306",
   "metadata": {},
   "outputs": [],
   "source": [
    "def find_most_frequent_word(text):\n",
    "    words = text.split()\n",
    "    count_store = {}\n",
    "    \n",
    "    for word in words:\n",
    "        if word in count_store:\n",
    "            count_store[word] = count_store[word] + 1\n",
    "        else:\n",
    "            count_store[word] = 1\n",
    "    most_freq_word = max(count_store, key = count_store.get)\n",
    "    return most_freq_word    "
   ]
  },
  {
   "cell_type": "code",
   "execution_count": 5,
   "id": "1f7520f4-485f-494b-bce2-d49d67eb7144",
   "metadata": {},
   "outputs": [
    {
     "name": "stdout",
     "output_type": "stream",
     "text": [
      "The\n"
     ]
    }
   ],
   "source": [
    "text = \"The quick brown fox jumps over the lazy dog. The dog is very lazy.\"\n",
    "s = find_most_frequent_word(text)\n",
    "print(s)"
   ]
  },
  {
   "cell_type": "markdown",
   "id": "d7bb364d-de4a-4438-9d37-cff5ecd75273",
   "metadata": {},
   "source": [
    "45. Find all unique words in a string.\n"
   ]
  },
  {
   "cell_type": "code",
   "execution_count": 40,
   "id": "c6de7e16-e066-4e2a-a798-da392175f77f",
   "metadata": {},
   "outputs": [
    {
     "name": "stdout",
     "output_type": "stream",
     "text": [
      "{'again', 'is', 'this', 'world', 'hello', 'me'}\n"
     ]
    }
   ],
   "source": [
    "def unique_words(n):\n",
    "    words= n.lower()\n",
    "    split = words.split()\n",
    "    uq =set(split)\n",
    "    \n",
    "    return uq\n",
    "\n",
    "#Example\n",
    "\n",
    "n = \"hello world this is me hello again world\"\n",
    "\n",
    "a = unique_words(n)\n",
    "print(a)"
   ]
  },
  {
   "cell_type": "markdown",
   "id": "08b4b192-c9e5-4381-83f4-2bf913e003a9",
   "metadata": {},
   "source": [
    "\n",
    "46. Count the number of syllables in a string."
   ]
  },
  {
   "cell_type": "code",
   "execution_count": 11,
   "id": "3cccb3ac-b98d-4fcb-bc37-cabd06812608",
   "metadata": {},
   "outputs": [
    {
     "name": "stdout",
     "output_type": "stream",
     "text": [
      "2\n"
     ]
    }
   ],
   "source": [
    "import re\n",
    "def count_syllables(word):\n",
    "    \n",
    "    vowel_grp = re.findall(r'[aeioiuy]+',word,re.IGNORECASE)\n",
    "    return len(vowel_grp)\n",
    "\n",
    "#example\n",
    "\n",
    "word1 = \"helloy\"\n",
    "s = count_syllables(word1)\n",
    "print(s)\n",
    "    "
   ]
  },
  {
   "cell_type": "markdown",
   "id": "6e61d422-94a6-4425-8d57-ecd159d166fa",
   "metadata": {},
   "source": [
    "47. Check if a string contains any special characters\n"
   ]
  },
  {
   "cell_type": "code",
   "execution_count": 17,
   "id": "c488a48e-2c3f-448e-bcde-4d4e855aa2f5",
   "metadata": {},
   "outputs": [
    {
     "name": "stdout",
     "output_type": "stream",
     "text": [
      "hello! : False\n",
      "I am a god's kid : False\n",
      "i am good : True\n"
     ]
    }
   ],
   "source": [
    "import re\n",
    "\n",
    "def check_special(text):\n",
    "    if re.search(r'[!@#$%^&*(),.?\":{}|<>]',text):\n",
    "        return True\n",
    "    else:\n",
    "        return False\n",
    "\n",
    "    \n",
    "text1 = \"hello!\"\n",
    "text2 = \"I am a god's kid\"\n",
    "text3 = \"i am good\"\n",
    "\n",
    "c = check_special(text1)\n",
    "b = check_special(text2)\n",
    "a = check_special(text3)\n",
    "\n",
    "print(text1,':',a)\n",
    "print(text2,':',b)\n",
    "print(text3,':',c)"
   ]
  },
  {
   "cell_type": "markdown",
   "id": "7898d4c4-ffe4-413b-83d9-7fdb1b916cce",
   "metadata": {},
   "source": [
    "48. Remove the nth word from a string."
   ]
  },
  {
   "cell_type": "code",
   "execution_count": 15,
   "id": "6b75260f-b2c0-4239-8d9a-fa7748e69a08",
   "metadata": {},
   "outputs": [
    {
     "name": "stdout",
     "output_type": "stream",
     "text": [
      "('This is an sentence to test the function.', 'example')\n"
     ]
    }
   ],
   "source": [
    "def removal_n(text,n):\n",
    "    word = text.split()\n",
    "    if n>=1 and n <= len(word):\n",
    "        \n",
    "        remove_word = word.pop(n-1)\n",
    "    \n",
    "        modified_string = ' '.join(word)\n",
    "    \n",
    "        return modified_string, remove_word\n",
    "    else:\n",
    "        return None, None\n",
    "\n",
    "# Example\n",
    "    \n",
    "n=4    \n",
    "s = removal_n(\"This is an example sentence to test the function.\",4)\n",
    "print(s)    \n",
    "\n"
   ]
  },
  {
   "cell_type": "markdown",
   "id": "ad17a5c8-9c50-424c-8598-32232633ac2f",
   "metadata": {},
   "source": [
    "49. Insert a word at the nth position in a string.\n"
   ]
  },
  {
   "cell_type": "code",
   "execution_count": 27,
   "id": "d20e154d-af78-4ade-aba3-e4a258bd1e35",
   "metadata": {},
   "outputs": [
    {
     "name": "stdout",
     "output_type": "stream",
     "text": [
      "hello fucking  world i am fucking codder\n"
     ]
    }
   ],
   "source": [
    "def postion_word_n(string,word,n):\n",
    "    \n",
    "    return string[:n] + word + string[n:]\n",
    "\n",
    "\n",
    "string = \"hello world i am codder\"\n",
    "word = \" loving \"\n",
    "n = 5\n",
    "\n",
    "s = postion_word_n(string,word,n)\n",
    "\n",
    "\n",
    "\n",
    "print(s)\n"
   ]
  },
  {
   "cell_type": "markdown",
   "id": "dc2f8e25-c488-4e67-8ece-a19a0356a76a",
   "metadata": {},
   "source": [
    "50. Convert a CSV string to a list of lists.\n"
   ]
  },
  {
   "cell_type": "code",
   "execution_count": 3,
   "id": "d66db915-8566-4116-a378-1daa3caec213",
   "metadata": {},
   "outputs": [
    {
     "name": "stdout",
     "output_type": "stream",
     "text": [
      "['Name', 'Place', 'Age', '']\n",
      "['Ram', 'Rajasthan', '24']\n",
      "['Sita', 'Ayodhya', '23']\n",
      "['Hari', '72', 'Vrindavan']\n"
     ]
    }
   ],
   "source": [
    "def csv_list_to_list(csv_string):\n",
    "    lines = csv_string.split('/n')\n",
    "    result = []\n",
    "    \n",
    "    for line in lines:\n",
    "        field = line.split(',')\n",
    "        result.append(field)\n",
    "    return result\n",
    "\n",
    "# Example\n",
    "\n",
    "csv_example = \"Name,Place,Age,/nRam,Rajasthan,24/nSita,Ayodhya,23/nHari,72,Vrindavan\"\n",
    "\n",
    "csv =  csv_list_to_list(csv_example)\n",
    "\n",
    "for i in csv:\n",
    "    print(i)"
   ]
  },
  {
   "cell_type": "markdown",
   "id": "7f42f4cc-0436-420f-82f3-68236ca3398b",
   "metadata": {},
   "source": [
    "##List Based Practice Problem :"
   ]
  },
  {
   "cell_type": "markdown",
   "id": "a05e24a5-e7c2-42b7-b818-732e45c00651",
   "metadata": {},
   "source": [
    "1. Create a list with integers from 1 to 10."
   ]
  },
  {
   "cell_type": "code",
   "execution_count": 9,
   "id": "96113e36-9cd9-4abd-8619-61f53c33ad0f",
   "metadata": {},
   "outputs": [
    {
     "name": "stdout",
     "output_type": "stream",
     "text": [
      "[1, 2, 3, 4, 5, 6, 7, 8, 9, 10]\n"
     ]
    }
   ],
   "source": [
    "listing = [i for i in range(1,11)]\n",
    "\n",
    "print(listing)"
   ]
  },
  {
   "cell_type": "markdown",
   "id": "df187a4b-b895-44b3-bafb-74c6b825e256",
   "metadata": {},
   "source": [
    "2. Find the length of a list without using the `len()` function.\n"
   ]
  },
  {
   "cell_type": "code",
   "execution_count": 15,
   "id": "f28502a6-e2b2-4d9a-8a42-aa0ed53d7711",
   "metadata": {},
   "outputs": [
    {
     "name": "stdout",
     "output_type": "stream",
     "text": [
      "Length of the list is :  6\n"
     ]
    }
   ],
   "source": [
    "def length_of_list(variable):\n",
    "    count = 0\n",
    "    \n",
    "    for i in variable:\n",
    "        count += 1\n",
    "    return count\n",
    "\n",
    "# example\n",
    "\n",
    "example_vari = [1,2,3,4,4,5]\n",
    "\n",
    "length_of_list(example_vari)\n",
    "\n",
    "print(\"Length of the list is : \",length_of_list(example_vari))"
   ]
  },
  {
   "cell_type": "markdown",
   "id": "9d7548f7-4a6a-4f7e-a745-4408371590bd",
   "metadata": {},
   "source": [
    "3. Append an element to the end of a list.\n"
   ]
  },
  {
   "cell_type": "code",
   "execution_count": 3,
   "id": "5619f911-8361-44f0-ae88-ca027057e772",
   "metadata": {},
   "outputs": [
    {
     "name": "stdout",
     "output_type": "stream",
     "text": [
      "Updated list is:  [1, 2, 3, 4, 5, 6, 8, 40]\n"
     ]
    }
   ],
   "source": [
    "pre_list = [1,2,3,4,5,6,8]\n",
    "\n",
    "new_value = 40\n",
    "\n",
    "pre_list.append(new_value)\n",
    "\n",
    "print(\"Updated list is: \", pre_list)"
   ]
  },
  {
   "cell_type": "markdown",
   "id": "28501725-50ec-4b8a-bfc8-cd5f02f42709",
   "metadata": {},
   "source": [
    "4. Insert an element at a specific index in a list.\n"
   ]
  },
  {
   "cell_type": "code",
   "execution_count": 4,
   "id": "c8fd1518-69b1-443c-9dde-2f1cb06d97a5",
   "metadata": {},
   "outputs": [
    {
     "name": "stdout",
     "output_type": "stream",
     "text": [
      "new specific index list is [1, 2, 3, 40, 4, 5, 6, 8]\n"
     ]
    }
   ],
   "source": [
    "pre_list = [1,2,3,4,5,6,8]\n",
    "\n",
    "new_value = 40\n",
    "\n",
    "position = 3 \n",
    "\n",
    "pre_list.insert(position,new_value)\n",
    "\n",
    "print('new specific index list is', pre_list)\n"
   ]
  },
  {
   "cell_type": "markdown",
   "id": "1485224f-49dc-429d-927f-b60d8561499b",
   "metadata": {},
   "source": [
    "5. Remove an element from a list by its value.\n"
   ]
  },
  {
   "cell_type": "code",
   "execution_count": 11,
   "id": "db14ce1b-c8b4-48fc-94e3-89f126ef38a1",
   "metadata": {},
   "outputs": [
    {
     "name": "stdout",
     "output_type": "stream",
     "text": [
      "New updated list is : [1, 2, 3, 4, 6, 8]\n"
     ]
    }
   ],
   "source": [
    "pre_list = [1,2,3,4,5,6,8]\n",
    "\n",
    "remove_element = 5\n",
    "\n",
    "r = pre_list.remove(remove_element)\n",
    "\n",
    "print(\"New updated list is :\", pre_list)\n"
   ]
  },
  {
   "cell_type": "markdown",
   "id": "00397a64-68a4-4bb8-b597-b445919763b9",
   "metadata": {},
   "source": [
    "6. Remove an element from a list by its index.\n"
   ]
  },
  {
   "cell_type": "code",
   "execution_count": 12,
   "id": "3b336ce6-430c-4e61-9a5f-1594ba9bd70b",
   "metadata": {},
   "outputs": [
    {
     "name": "stdout",
     "output_type": "stream",
     "text": [
      "New updated list is : [10, 20, 40, 50, 60, 80]\n",
      "Removed element is: 30\n"
     ]
    }
   ],
   "source": [
    "pre_list = [10,20,30,40,50,60,80]\n",
    "\n",
    "remove_by_index = 2\n",
    "\n",
    "r = pre_list.pop(remove_by_index)\n",
    "\n",
    "print(\"New updated list is :\",pre_list)\n",
    "print('Removed element is:', r)"
   ]
  },
  {
   "cell_type": "markdown",
   "id": "243402af-173a-4665-b5c8-ee731f34d6e9",
   "metadata": {},
   "source": [
    "7. Check if an element exists in a list.\n"
   ]
  },
  {
   "cell_type": "code",
   "execution_count": 14,
   "id": "1ceb8a35-fcfb-4292-8e9a-c50e0b0bf2f8",
   "metadata": {},
   "outputs": [
    {
     "name": "stdout",
     "output_type": "stream",
     "text": [
      "Yes element exist in list :  20\n"
     ]
    }
   ],
   "source": [
    "pre_list = [10,20,30,40,50,60,80]\n",
    "\n",
    "check_element = 20\n",
    "\n",
    "if check_element in pre_list:\n",
    "    print(\"Yes element exist in list : \",check_element)\n",
    "else:\n",
    "    print(\"No element no exist in list\",check_element)\n"
   ]
  },
  {
   "cell_type": "markdown",
   "id": "ed042c2c-c54f-4a61-afbb-1ccb14bbafc8",
   "metadata": {},
   "source": [
    "8. Find the index of the first occurrence of an element in a list.\n"
   ]
  },
  {
   "cell_type": "code",
   "execution_count": 16,
   "id": "118f183d-1942-492a-a1df-e4f3780023af",
   "metadata": {},
   "outputs": [
    {
     "name": "stdout",
     "output_type": "stream",
     "text": [
      "The index of 50 is 4\n"
     ]
    }
   ],
   "source": [
    "pre_list = [10,20,30,40,50,60,80]\n",
    "\n",
    "element_occurance = 50\n",
    "\n",
    "r = pre_list.index(element_occurance)\n",
    "\n",
    "print(f\"The index of {element_occurance} is {r}\")"
   ]
  },
  {
   "cell_type": "markdown",
   "id": "c069e3cf-933e-43da-ae7a-619aba817696",
   "metadata": {},
   "source": [
    "9. Count the occurrences of an element in a list.\n"
   ]
  },
  {
   "cell_type": "code",
   "execution_count": 25,
   "id": "53d71c9f-3511-4cb6-b179-8d8d197241e4",
   "metadata": {},
   "outputs": [
    {
     "name": "stdout",
     "output_type": "stream",
     "text": [
      "The element 50 occurance in list is 3 \n"
     ]
    }
   ],
   "source": [
    "pre_list = [10,20,30,40,50,60,80,40,50,80,90,20,50]\n",
    "\n",
    "occurance = 50\n",
    "\n",
    "counting = pre_list.count(occurance)\n",
    "\n",
    "\n",
    "print(f\"The element {occurance} occurance in list is {counting} \")"
   ]
  },
  {
   "cell_type": "markdown",
   "id": "71dc144a-75fc-4ed6-ba68-a21d0b5c12be",
   "metadata": {},
   "source": [
    "10. Reverse the order of elements in a list."
   ]
  },
  {
   "cell_type": "code",
   "execution_count": 26,
   "id": "88070fce-2f0e-4e35-8a66-aa3f445517a1",
   "metadata": {},
   "outputs": [
    {
     "data": {
      "text/plain": [
       "[50, 20, 90, 80, 50, 40, 80, 60, 50, 40, 30, 20, 10]"
      ]
     },
     "execution_count": 26,
     "metadata": {},
     "output_type": "execute_result"
    }
   ],
   "source": [
    "pre_list = [10,20,30,40,50,60,80,40,50,80,90,20,50]\n",
    "\n",
    "pre_list[::-1]"
   ]
  },
  {
   "cell_type": "markdown",
   "id": "83b89d5a-fbf8-46eb-a07f-2fd8948ad997",
   "metadata": {},
   "source": [
    "11. Sort a list in ascending order.\n",
    "\n"
   ]
  },
  {
   "cell_type": "code",
   "execution_count": 30,
   "id": "551cfe6d-5af7-40fc-9639-e1058abefe7a",
   "metadata": {},
   "outputs": [
    {
     "name": "stdout",
     "output_type": "stream",
     "text": [
      "The sorted list in ascending order is : [10, 20, 20, 30, 40, 40, 50, 50, 50, 60, 80, 80, 90]\n"
     ]
    }
   ],
   "source": [
    "pre_list = [10,20,30,40,50,60,80,40,50,80,90,20,50]\n",
    "\n",
    "pre_list.sort()\n",
    "\n",
    "print(\"The sorted list in ascending order is :\", pre_list )"
   ]
  },
  {
   "cell_type": "markdown",
   "id": "abd04883-a3e2-4b60-bf38-e8f12e0a5afc",
   "metadata": {},
   "source": [
    "12. Sort a list in descending order.\n"
   ]
  },
  {
   "cell_type": "code",
   "execution_count": 34,
   "id": "38fcba2d-e68a-4cd0-9dfb-3ad8aa6e260d",
   "metadata": {},
   "outputs": [
    {
     "name": "stdout",
     "output_type": "stream",
     "text": [
      "The list after descending order is  [90, 80, 80, 60, 50, 50, 50, 40, 40, 30, 20, 20, 10]\n"
     ]
    }
   ],
   "source": [
    "pre_list = [10,20,30,40,50,60,80,40,50,80,90,20,50]\n",
    "\n",
    "pre_list.sort(reverse=True)\n",
    "\n",
    "print(\"The list after descending order is \", pre_list)"
   ]
  },
  {
   "cell_type": "markdown",
   "id": "9cedbcfd-eb2b-45a7-90d0-67d1e81bd81a",
   "metadata": {},
   "source": [
    "13. Create a list of even numbers from 1 to 20.\n"
   ]
  },
  {
   "cell_type": "code",
   "execution_count": 51,
   "id": "1f34e09f-5d73-49e7-9c44-7d2f7fd9c57a",
   "metadata": {},
   "outputs": [
    {
     "name": "stdout",
     "output_type": "stream",
     "text": [
      "[2, 4, 6, 8, 10, 12, 14, 16, 18, 20]\n"
     ]
    }
   ],
   "source": [
    "x = [i for i in range(2,21,2)]\n",
    "\n",
    "print(x)\n"
   ]
  },
  {
   "cell_type": "markdown",
   "id": "950cfb2f-6510-4607-83ac-766b02c3e327",
   "metadata": {},
   "source": [
    "14. Create a list of odd numbers from 1 to 20.\n"
   ]
  },
  {
   "cell_type": "code",
   "execution_count": 57,
   "id": "013e7d29-5663-4469-ad1b-52abc5a5fa50",
   "metadata": {},
   "outputs": [
    {
     "name": "stdout",
     "output_type": "stream",
     "text": [
      "[1, 3, 5, 7, 9, 11, 13, 15, 17, 19]\n"
     ]
    }
   ],
   "source": [
    "x = [i for i in range(1,21,2)]\n",
    "print(x)"
   ]
  },
  {
   "cell_type": "markdown",
   "id": "3a618da5-8a3e-4576-a61a-4237ec5a8214",
   "metadata": {},
   "source": [
    "15. Find the sum of all elements in a list.\n"
   ]
  },
  {
   "cell_type": "code",
   "execution_count": 61,
   "id": "49bdd5d7-d3c0-46fc-b0f7-045c3678b671",
   "metadata": {},
   "outputs": [
    {
     "name": "stdout",
     "output_type": "stream",
     "text": [
      "Total sum of list is :  620\n"
     ]
    }
   ],
   "source": [
    "listing = [10,20,30,40,50,60,80,40,50,80,90,20,50]\n",
    "\n",
    "r = sum(listing)\n",
    "\n",
    "print(\"Total sum of list is : \",r)"
   ]
  },
  {
   "cell_type": "markdown",
   "id": "a570bd03-0b3c-42a4-b3da-0f1c03406e01",
   "metadata": {},
   "source": [
    "16. Find the maximum value in a list.\n"
   ]
  },
  {
   "cell_type": "code",
   "execution_count": 62,
   "id": "74933153-29d6-4a85-b123-312fa32cc6f2",
   "metadata": {},
   "outputs": [
    {
     "name": "stdout",
     "output_type": "stream",
     "text": [
      "Maxium value in the list is : 90\n"
     ]
    }
   ],
   "source": [
    "listing = [10,20,30,40,50,60,80,40,50,80,90,20,50]\n",
    "\n",
    "r = max(listing)\n",
    "\n",
    "print(\"Maxium value in the list is :\", r)"
   ]
  },
  {
   "cell_type": "markdown",
   "id": "017de876-d098-4be2-b89d-17d99f3f7be7",
   "metadata": {},
   "source": [
    "17. Find the minimum value in a list.\n"
   ]
  },
  {
   "cell_type": "code",
   "execution_count": 63,
   "id": "1b754e20-01ee-4e03-a2d5-68a397c80d03",
   "metadata": {},
   "outputs": [
    {
     "name": "stdout",
     "output_type": "stream",
     "text": [
      "Minimum value in the list is : 10\n"
     ]
    }
   ],
   "source": [
    "listing = [10,20,30,40,50,60,80,40,50,80,90,20,50]\n",
    "\n",
    "r = min(listing)\n",
    "\n",
    "print(\"Minimum value in the list is :\",r)"
   ]
  },
  {
   "cell_type": "markdown",
   "id": "3ea28472-2e0f-4f54-a5b6-2965d9422ac9",
   "metadata": {},
   "source": [
    "18. Create a list of squares of numbers from 1 to 10.\n",
    "\n"
   ]
  },
  {
   "cell_type": "code",
   "execution_count": 71,
   "id": "d3d9e5b8-e1b2-4aa0-95a8-43375ee2eea5",
   "metadata": {},
   "outputs": [
    {
     "name": "stdout",
     "output_type": "stream",
     "text": [
      "[1, 4, 9, 16, 25, 36, 49, 64, 81, 100]\n"
     ]
    }
   ],
   "source": [
    "s = [i**2for i in range(1,11)]\n",
    "\n",
    "print(s)\n",
    "\n"
   ]
  },
  {
   "cell_type": "markdown",
   "id": "9f826a7a-3960-4cfa-85fc-1685dfe8d99a",
   "metadata": {},
   "source": [
    "19. Create a list of random numbers.\n"
   ]
  },
  {
   "cell_type": "code",
   "execution_count": 78,
   "id": "2e7f3ee4-e494-413c-b766-e9ae389d47ae",
   "metadata": {},
   "outputs": [
    {
     "name": "stdout",
     "output_type": "stream",
     "text": [
      "[21, 17, 33, 29, 25, 33, 47, 8, 28, 20]\n"
     ]
    }
   ],
   "source": [
    "import random\n",
    "\n",
    "random_num = [random.randint(1,50) for i in range(10)]\n",
    "\n",
    "print(random_num)"
   ]
  },
  {
   "cell_type": "markdown",
   "id": "5a3da195-408d-4176-9b44-96fec3a9a086",
   "metadata": {},
   "source": [
    "20. Remove duplicates from a list.\n"
   ]
  },
  {
   "cell_type": "code",
   "execution_count": 80,
   "id": "82343515-9536-443f-9743-45ad017f32d5",
   "metadata": {},
   "outputs": [
    {
     "name": "stdout",
     "output_type": "stream",
     "text": [
      "The List after removing duplicates is :  [40, 10, 80, 50, 20, 90, 60, 30]\n"
     ]
    }
   ],
   "source": [
    "listing = [10,20,30,40,50,60,80,40,50,80,90,20,50]\n",
    "\n",
    "\n",
    "unique_list = list(set(listing))\n",
    "\n",
    "print(\"The List after removing duplicates is : \", unique_list)"
   ]
  },
  {
   "cell_type": "markdown",
   "id": "4fb4ad14-e38f-42e5-944c-79dc94ed7db6",
   "metadata": {},
   "source": [
    "21. Find the common elements between two lists.\n"
   ]
  },
  {
   "cell_type": "code",
   "execution_count": 10,
   "id": "a6b028b7-058a-412a-99c1-9d187489d50f",
   "metadata": {},
   "outputs": [
    {
     "name": "stdout",
     "output_type": "stream",
     "text": [
      "common elements in list1 and list2 is : [2, 3, 5, 7, 8]\n"
     ]
    }
   ],
   "source": [
    "def common_elements(list1,list2):\n",
    "    \n",
    "    set1 = set(list1)\n",
    "    set2 = set(list2)\n",
    "    \n",
    "    common = set1.intersection(set2)\n",
    "    \n",
    "    return list(common)\n",
    "\n",
    "#example\n",
    "\n",
    "l1 = [2,4,7,3,8,0,3,5]\n",
    "l2 = [2,5,7,2,3,8,9,5]\n",
    "\n",
    "s = common_elements(l1,l2)\n",
    "print(\"common elements in list1 and list2 is :\",s)"
   ]
  },
  {
   "cell_type": "markdown",
   "id": "0bc85d3f-52ee-49b4-98c5-f102e7aa370d",
   "metadata": {},
   "source": [
    "22. Find the difference between two lists.\n"
   ]
  },
  {
   "cell_type": "code",
   "execution_count": 11,
   "id": "d94c4969-d270-450b-bc33-25faf67c5040",
   "metadata": {},
   "outputs": [
    {
     "name": "stdout",
     "output_type": "stream",
     "text": [
      "Diffrence elements in list1 and list2 is : [0, 4]\n"
     ]
    }
   ],
   "source": [
    "def diffrence_elements(list1,list2):\n",
    "    \n",
    "    set1 = set(list1)\n",
    "    set2 = set(list2)\n",
    "    \n",
    "    diffrence = set1.difference(set2)\n",
    "    \n",
    "    return list(diffrence)\n",
    "\n",
    "l1 = [2,4,7,3,8,0,3,5]\n",
    "l2 = [2,5,7,2,3,8,9,5]\n",
    "\n",
    "s = diffrence_elements(l1,l2)\n",
    "print(\"Diffrence elements in list1 and list2 is :\",s)"
   ]
  },
  {
   "cell_type": "markdown",
   "id": "16fbb3ea-bb4d-4a64-9966-71cafc694f4d",
   "metadata": {},
   "source": [
    "23. Merge two lists.\n"
   ]
  },
  {
   "cell_type": "code",
   "execution_count": 14,
   "id": "09e87926-d233-4be7-ad6c-6b4fabf8f2aa",
   "metadata": {},
   "outputs": [
    {
     "name": "stdout",
     "output_type": "stream",
     "text": [
      "After merge elements in list1 and list2 is : [2, 4, 7, 3, 8, 0, 3, 5, 2, 5, 7, 2, 3, 8, 9, 5]\n"
     ]
    }
   ],
   "source": [
    "def merge_list(list1,list2):\n",
    "   \n",
    "    merge = list1 + list2\n",
    "    \n",
    "    return list(merge)\n",
    "\n",
    "l1 = [2,4,7,3,8,0,3,5]\n",
    "l2 = [2,5,7,2,3,8,9,5]\n",
    "\n",
    "s = merge_list(l1,l2)\n",
    "print(\"After merge elements in list1 and list2 is :\",s)\n"
   ]
  },
  {
   "cell_type": "markdown",
   "id": "ca389f7d-b60e-40fe-85f3-2221e83a62f9",
   "metadata": {},
   "source": [
    "24. Multiply all elements in a list by 2.\n"
   ]
  },
  {
   "cell_type": "code",
   "execution_count": 1,
   "id": "c73c0d3d-0bf5-4e14-b83e-1a3b18788ecc",
   "metadata": {},
   "outputs": [
    {
     "name": "stdout",
     "output_type": "stream",
     "text": [
      "Elements of list after multiplication [4, 8, 14, 16, 18]\n"
     ]
    }
   ],
   "source": [
    "my_list = [2,4,7,8,9]\n",
    "\n",
    "multiply = [i*2 for i in my_list]\n",
    "\n",
    "print(\"Elements of list after multiplication\",multiply)"
   ]
  },
  {
   "cell_type": "markdown",
   "id": "4063a18d-fe84-44b7-b88e-80e4aaf4476f",
   "metadata": {},
   "source": [
    "25. Filter out all even numbers from a list."
   ]
  },
  {
   "cell_type": "code",
   "execution_count": 12,
   "id": "620f81e7-35c1-45cf-93cd-3e2907ea1c3f",
   "metadata": {},
   "outputs": [
    {
     "name": "stdout",
     "output_type": "stream",
     "text": [
      "Filtered number of even number [2, 4, 2, 534, 42, 32]\n"
     ]
    }
   ],
   "source": [
    "def filter_even_num(number):\n",
    "    \n",
    "    \n",
    "    return [i for i in number if i %2 ==0]\n",
    "\n",
    "#Examples\n",
    "l1 = [2,4,5,2,534,5,42,3,32]\n",
    "s = filter_even_num(l1)\n",
    "\n",
    "print(\"Filtered number of even number\",s)"
   ]
  },
  {
   "cell_type": "markdown",
   "id": "af930c6a-4829-4546-8680-f3a67ec646c4",
   "metadata": {},
   "source": [
    "26. Convert a list of strings to a list of integers.\n",
    "\n"
   ]
  },
  {
   "cell_type": "code",
   "execution_count": 1,
   "id": "b77de2dc-0d59-40cd-823c-4ce2acd8ad5f",
   "metadata": {},
   "outputs": [
    {
     "name": "stdout",
     "output_type": "stream",
     "text": [
      "String list after conversion is: [12, 43, 5, 4, 4]\n"
     ]
    }
   ],
   "source": [
    "string_list = ['12','43','5','4','4']\n",
    "\n",
    "convert = [int(i) for i in string_list ]\n",
    "\n",
    "print(\"String list after conversion is:\",convert)"
   ]
  },
  {
   "cell_type": "markdown",
   "id": "a2ba3c10-8924-4e8d-9e44-5d0f6794ffc8",
   "metadata": {},
   "source": [
    "27. Convert a list of integers to a list of strings.\n"
   ]
  },
  {
   "cell_type": "code",
   "execution_count": 2,
   "id": "3e497b31-c003-4415-ab71-7c3837ddc4ec",
   "metadata": {},
   "outputs": [
    {
     "name": "stdout",
     "output_type": "stream",
     "text": [
      "List of integer after conversion to string is : ['23', '335', '544', '5', '3', '32']\n"
     ]
    }
   ],
   "source": [
    "list_intiger = [23,335,544,5,3,32]\n",
    "\n",
    "convert = [str(i) for i in list_intiger]\n",
    "\n",
    "print(\"List of integer after conversion to string is :\", convert)"
   ]
  },
  {
   "cell_type": "markdown",
   "id": "e0a00ef0-295d-4ca4-b16f-026f36ee2ff3",
   "metadata": {},
   "source": [
    "28. Flatten a nested list.\n"
   ]
  },
  {
   "cell_type": "code",
   "execution_count": 5,
   "id": "b2e5377b-cf6d-49cc-bb98-06c5ba977482",
   "metadata": {},
   "outputs": [
    {
     "name": "stdout",
     "output_type": "stream",
     "text": [
      "New flattened list is :  [1, 2, 3, 7, 8, 5, 4, 7, 9, 7]\n"
     ]
    }
   ],
   "source": [
    "## Refrence\n",
    "#nested_list=[[1,2,3],[4,5,6],[7,8,9]]\n",
    "#flattened_list=[1,2,3,4,5,6,7,8,9\n",
    "\n",
    "def flatten_list(nested):\n",
    "    flatten = []\n",
    "    for sublist in nested:\n",
    "        if isinstance(sublist,list):\n",
    "            flatten.extend(flatten_list(sublist))\n",
    "        else:\n",
    "            flatten.append(sublist)\n",
    "    return flatten\n",
    "\n",
    "#example:\n",
    "\n",
    "l1 = [[1,2,3],[7,8],[5,4,7,9,7]]\n",
    "\n",
    "x=flatten_list(l1)\n",
    "\n",
    "print(\"New flattened list is : \",x)\n",
    "\n"
   ]
  },
  {
   "cell_type": "markdown",
   "id": "aca871f4-6478-4335-ba18-09ce93d009c5",
   "metadata": {},
   "source": [
    "29. Create a list of the first 10 Fibonacci numbers.\n"
   ]
  },
  {
   "cell_type": "code",
   "execution_count": 8,
   "id": "1b1c8aca-ce7c-4c03-842a-60b58163468b",
   "metadata": {},
   "outputs": [
    {
     "name": "stdout",
     "output_type": "stream",
     "text": [
      "The first 10 Fibnoacci numbers are : [0, 1, 1, 2, 3, 5, 8, 13, 21, 34]\n"
     ]
    }
   ],
   "source": [
    "def fibonacci(n):\n",
    "    fibna = [0,1]\n",
    "    for i in range (2,n):\n",
    "        next_fibna = fibna[i-1]+fibna[i-2]\n",
    "        fibna.append(next_fibna)\n",
    "    return fibna\n",
    "\n",
    "#example\n",
    "x = fibonacci(10)        \n",
    "\n",
    "print(\"The first 10 Fibnoacci numbers are :\",x)"
   ]
  },
  {
   "cell_type": "markdown",
   "id": "d8aaef24-62ad-46a8-8e8f-789528f04b42",
   "metadata": {},
   "source": [
    "30. Check if a list is sorted.\n"
   ]
  },
  {
   "cell_type": "code",
   "execution_count": 6,
   "id": "984a4193-4c4c-4bd4-b3df-16909554aa69",
   "metadata": {},
   "outputs": [
    {
     "name": "stdout",
     "output_type": "stream",
     "text": [
      "list is not sorted\n"
     ]
    }
   ],
   "source": [
    "def sorted_list(lst):\n",
    "    for i in range(1 , len(lst)):\n",
    "        if lst[i]<lst[i-1]:\n",
    "            return False\n",
    "    return True\n",
    "\n",
    "#Example:\n",
    "ls = [4,3,6,2,6]\n",
    "if sorted_list(ls):\n",
    "    print(\"list is sorted\")\n",
    "else:\n",
    "    print(\"list is not sorted\")"
   ]
  },
  {
   "cell_type": "markdown",
   "id": "417b9427-c750-4c12-b84d-2256dbcfa15a",
   "metadata": {},
   "source": [
    "31. Rotate a list to the left by `n` positions.\n"
   ]
  },
  {
   "cell_type": "code",
   "execution_count": 3,
   "id": "17de2a49-933c-4c9d-98ca-2238cdcc6d2a",
   "metadata": {},
   "outputs": [
    {
     "name": "stdout",
     "output_type": "stream",
     "text": [
      "[5, 6, 2, 3, 4]\n"
     ]
    }
   ],
   "source": [
    "def roatate_left(lst,n):\n",
    "    n = n % len(lst)\n",
    "    rotated = lst[n:] + lst[:n]\n",
    "    return rotated\n",
    "#exmaple\n",
    "\n",
    "l1 = [2,3,4,5,6]\n",
    "n = 3\n",
    "\n",
    "rotatedlist = roatate_left(l1,n)\n",
    "print(rotatedlist)"
   ]
  },
  {
   "cell_type": "markdown",
   "id": "b829818f-92d8-43f7-a272-c92810904230",
   "metadata": {},
   "source": [
    "32. Rotate a list to the right by `n` positions.\n"
   ]
  },
  {
   "cell_type": "code",
   "execution_count": 4,
   "id": "f5954e1c-9dbd-43e8-b87e-298949916a33",
   "metadata": {},
   "outputs": [
    {
     "name": "stdout",
     "output_type": "stream",
     "text": [
      "[4, 5, 6, 2, 3]\n"
     ]
    }
   ],
   "source": [
    "def roatate_right(lst,n):\n",
    "    n = n % len(lst)\n",
    "    rotated = lst[-n:] + lst[:-n]\n",
    "    return rotated\n",
    "#exmaple\n",
    "\n",
    "l1 = [2,3,4,5,6]\n",
    "n = 3\n",
    "\n",
    "rotatedlist = roatate_right(l1,n)\n",
    "print(rotatedlist)"
   ]
  },
  {
   "cell_type": "markdown",
   "id": "42bb5602-0ae8-4d0f-bbae-2eaefd07f852",
   "metadata": {},
   "source": [
    "33. Create a list of prime numbers up to 50.\n"
   ]
  },
  {
   "cell_type": "code",
   "execution_count": 3,
   "id": "7ba9460b-6dea-48c3-a231-a7fe8ff680cb",
   "metadata": {},
   "outputs": [
    {
     "name": "stdout",
     "output_type": "stream",
     "text": [
      "[2, 3, 5, 7, 11, 13, 17, 19, 23, 29, 31, 37, 41, 43, 47]\n"
     ]
    }
   ],
   "source": [
    "def check_prime(n):\n",
    "    if n < 2 :\n",
    "        return False\n",
    "    for i in range(2 , int((n**0.5) + 1)):\n",
    "        if n % i == 0:\n",
    "            return False\n",
    "    return True\n",
    "prime_number  =  [i for i in range(2,51) if check_prime(i)]\n",
    "print(prime_number)"
   ]
  },
  {
   "cell_type": "markdown",
   "id": "51136729-6d28-402a-92af-e0bff425fb90",
   "metadata": {},
   "source": [
    "34. Split a list into chunks of size `n`.\n"
   ]
  },
  {
   "cell_type": "code",
   "execution_count": 9,
   "id": "42da3d4c-1542-457a-9101-7d7b18ec9e53",
   "metadata": {},
   "outputs": [
    {
     "name": "stdout",
     "output_type": "stream",
     "text": [
      "[[1, 2, 3], [4, 5, 6], [7, 8, 9]]\n"
     ]
    }
   ],
   "source": [
    "def chunk_list(lst,n):\n",
    "    free_list = []\n",
    "    for i in range(0,len(lst),n):\n",
    "        free_list.append(lst[i:i+n])\n",
    "    return free_list\n",
    "#example:\n",
    "\n",
    "l1 = [1,2,3,4,5,6,7,8,9]\n",
    "cpl  = 3\n",
    "output  = chunk_list(l1,cpl)\n",
    "print(output)\n"
   ]
  },
  {
   "cell_type": "markdown",
   "id": "3d938b47-4222-47f8-9c4c-e02f22661546",
   "metadata": {},
   "source": [
    "35. Find the second largest number in a list.\n"
   ]
  },
  {
   "cell_type": "code",
   "execution_count": 3,
   "id": "26cbb604-1c4e-4236-8c9e-7bbcdba52ae7",
   "metadata": {},
   "outputs": [
    {
     "name": "stdout",
     "output_type": "stream",
     "text": [
      "the second largest number is 44\n"
     ]
    }
   ],
   "source": [
    "my_list = [2,4,62,44,38,35]\n",
    "\n",
    "second_list = sorted(set(my_list))\n",
    "if len(second_list) >= 2:\n",
    "    second_number = second_list[-2]\n",
    "    print(\"the second largest number is\",second_number)\n",
    "else:\n",
    "    print(\"There is no second largest number\")"
   ]
  },
  {
   "cell_type": "markdown",
   "id": "3cac03d8-cbac-4e87-81b4-3c5cf4702648",
   "metadata": {},
   "source": [
    "36. Replace every element in a list with its square.\n"
   ]
  },
  {
   "cell_type": "code",
   "execution_count": 3,
   "id": "e3b9e8af-1eb2-430f-b97c-372ab3c7159f",
   "metadata": {},
   "outputs": [
    {
     "name": "stdout",
     "output_type": "stream",
     "text": [
      "Squared List is: [4, 16, 25, 36, 49, 64, 81]\n"
     ]
    }
   ],
   "source": [
    "my_list = [2,4,5,6,7,8,9]\n",
    "\n",
    "Squre_list = [x**2 for x in  my_list] \n",
    "\n",
    "print(\"Squared List is:\",Squre_list)"
   ]
  },
  {
   "cell_type": "markdown",
   "id": "2e5b1462-1632-43c6-8e35-e883abcfa6a5",
   "metadata": {},
   "source": [
    "37. Convert a list to a dictionary where list elements become keys and their\n",
    "indices become values.\n"
   ]
  },
  {
   "cell_type": "code",
   "execution_count": 10,
   "id": "7932ae12-f294-438e-b1cd-99d95cbbec6e",
   "metadata": {},
   "outputs": [
    {
     "name": "stdout",
     "output_type": "stream",
     "text": [
      "{'Ram': 0, 'Sita': 1, 'Rahul': 2, 'Sunny': 3}\n"
     ]
    }
   ],
   "source": [
    "my_list = [\"Ram\",\"Sita\",\"Rahul\",\"Sunny\"]\n",
    "dict_list = {element: index for index , element in enumerate(my_list)}\n",
    "print(dict_list)"
   ]
  },
  {
   "cell_type": "markdown",
   "id": "229cee7e-25fe-4063-b295-818c4794623d",
   "metadata": {},
   "source": [
    "38. Shuffle the elements of a list randomly.\n"
   ]
  },
  {
   "cell_type": "code",
   "execution_count": 13,
   "id": "6f1f074f-1a38-4fe5-85c8-3170d59fa77f",
   "metadata": {},
   "outputs": [
    {
     "name": "stdout",
     "output_type": "stream",
     "text": [
      "[45, 23, 67, 445, 98, 13, 52]\n"
     ]
    }
   ],
   "source": [
    "import random\n",
    "\n",
    "my_list = [23,45,67,98,445,52,13]\n",
    "\n",
    "random.shuffle(my_list)\n",
    "\n",
    "print(my_list)"
   ]
  },
  {
   "cell_type": "markdown",
   "id": "78bb2c55-2bdd-49b9-8d9a-a1cc5e2f7bfb",
   "metadata": {},
   "source": [
    "39. Create a list of the first 10 factorial numbers."
   ]
  },
  {
   "cell_type": "code",
   "execution_count": 14,
   "id": "408446e2-6de7-4b14-909d-14791b854374",
   "metadata": {},
   "outputs": [
    {
     "name": "stdout",
     "output_type": "stream",
     "text": [
      "First 10 Factorial Numbers are: [1, 1, 2, 6, 24, 120, 720, 5040, 40320, 362880]\n"
     ]
    }
   ],
   "source": [
    "def factorial(n):\n",
    "    if n == 0 or n == 1:\n",
    "        return 1\n",
    "    else:\n",
    "        return n*factorial(n-1)\n",
    "    \n",
    "#EX\n",
    "\n",
    "factorial_numbers = [factorial (i) for i in range (10)]\n",
    "print(\"First 10 Factorial Numbers are:\",factorial_numbers)"
   ]
  },
  {
   "cell_type": "markdown",
   "id": "220c9769-3a7c-4813-9522-035e0f1d5fae",
   "metadata": {},
   "source": [
    "40. Check if two lists have at least one element in common.\n"
   ]
  },
  {
   "cell_type": "code",
   "execution_count": 3,
   "id": "88ac94da-d03f-40c4-acea-b8e81b981eab",
   "metadata": {},
   "outputs": [
    {
     "name": "stdout",
     "output_type": "stream",
     "text": [
      "nothing is common\n"
     ]
    }
   ],
   "source": [
    "def check_commomn(l1,l2):\n",
    "    for i in l1:\n",
    "        if i in l2:\n",
    "            return True\n",
    "    return False\n",
    "\n",
    "#EX\n",
    "l1 = [2,4,5,6,8,7,9]\n",
    "l2 = [0,1]\n",
    "if check_commomn(l1,l2):\n",
    "    print(\"there is common value\")\n",
    "else:\n",
    "    print(\"nothing is common\")"
   ]
  },
  {
   "cell_type": "markdown",
   "id": "4cd41643-44f1-48a9-94c0-532ddf23a252",
   "metadata": {},
   "source": [
    "41. Remove all elements from a list.\n"
   ]
  },
  {
   "cell_type": "code",
   "execution_count": 4,
   "id": "bbf67f4f-b69f-43f8-8915-6f5a008a7868",
   "metadata": {},
   "outputs": [
    {
     "name": "stdout",
     "output_type": "stream",
     "text": [
      "list after clearance is: []\n"
     ]
    }
   ],
   "source": [
    "my_list = [2,3,4,5,6,7]\n",
    "my_list.clear()\n",
    "print('list after clearance is:', my_list)"
   ]
  },
  {
   "cell_type": "markdown",
   "id": "75cae628-496a-407c-9676-48f5d7944476",
   "metadata": {},
   "source": [
    "42. Replace negative numbers in a list with 0.\n"
   ]
  },
  {
   "cell_type": "code",
   "execution_count": 9,
   "id": "0adf51ba-88c3-4a3e-9a3b-9218d278144b",
   "metadata": {},
   "outputs": [
    {
     "name": "stdout",
     "output_type": "stream",
     "text": [
      "[0, 0, 56, 76, 88]\n"
     ]
    }
   ],
   "source": [
    "my_list = [-23,-45-98,56,76,88]\n",
    "\n",
    "for i in range (len(my_list)):\n",
    "    if my_list[i] < 0:\n",
    "        my_list[i] = 0\n",
    "print(my_list)"
   ]
  },
  {
   "cell_type": "markdown",
   "id": "7420df51-84b8-4dfd-a1b8-52eb1a2756a0",
   "metadata": {},
   "source": [
    "43. Convert a string into a list of words.\n"
   ]
  },
  {
   "cell_type": "code",
   "execution_count": 10,
   "id": "8ce10c93-5892-4e3e-9b0b-4028bbfec090",
   "metadata": {},
   "outputs": [
    {
     "name": "stdout",
     "output_type": "stream",
     "text": [
      "String after converted into a list of words: ['hello', 'world', 'i', 'am', 'coming', 'wait', 'to', 'see', 'the', 'future']\n"
     ]
    }
   ],
   "source": [
    "string_sentance = \"hello world i am coming wait to see the future\"\n",
    "my_list = string_sentance.split()\n",
    "\n",
    "print(\"String after converted into a list of words:\",my_list)"
   ]
  },
  {
   "cell_type": "markdown",
   "id": "e9a8a13b-89e9-4589-8e8c-30c4f0d81434",
   "metadata": {},
   "source": [
    "44. Convert a list of words into a string.\n"
   ]
  },
  {
   "cell_type": "code",
   "execution_count": 11,
   "id": "ae5f8d72-3cbc-4f56-be01-b492be834759",
   "metadata": {},
   "outputs": [
    {
     "name": "stdout",
     "output_type": "stream",
     "text": [
      "List of words into a string will be: hello world i am coming wait to see the future\n"
     ]
    }
   ],
   "source": [
    "my_list = ['hello', 'world', 'i', 'am', 'coming', 'wait', 'to', 'see', 'the', 'future']\n",
    "string_sentance = \" \".join(my_list)\n",
    "\n",
    "print(\"List of words into a string will be:\",string_sentance)"
   ]
  },
  {
   "cell_type": "markdown",
   "id": "3b727946-52d5-4ef1-b9fc-13d3253beb68",
   "metadata": {},
   "source": [
    "45. Create a list of the first `n` powers of 2.\n"
   ]
  },
  {
   "cell_type": "code",
   "execution_count": 15,
   "id": "1ab22646-b750-471f-9510-576431755ada",
   "metadata": {},
   "outputs": [
    {
     "name": "stdout",
     "output_type": "stream",
     "text": [
      "power list is: [0, 1, 4, 9, 16, 25, 36, 49, 64, 81]\n"
     ]
    }
   ],
   "source": [
    "n = 10\n",
    "power_list = []\n",
    "for i in range(n):\n",
    "    power_list.append(i**2)\n",
    "\n",
    "print(\"power list is:\",power_list)\n"
   ]
  },
  {
   "cell_type": "markdown",
   "id": "2e1fa1f8-b79b-490e-a7fa-04bc1026fa7d",
   "metadata": {},
   "source": [
    "46. Find the longest string in a list of strings.\n"
   ]
  },
  {
   "cell_type": "code",
   "execution_count": 19,
   "id": "061c4dd6-0bf1-4e88-969c-9c299edcf5c9",
   "metadata": {},
   "outputs": [
    {
     "name": "stdout",
     "output_type": "stream",
     "text": [
      "remmember always longest string is: Krishna\n"
     ]
    }
   ],
   "source": [
    "my_list = [\"Ram\",\"Sita\",\"Rahul\",\"Sunny\",\"Krishna\",\"Radhey\"]\n",
    "longest_str = \"\"\n",
    "for i in my_list:\n",
    "    if len(i)>len(longest_str):\n",
    "        longest_str = i\n",
    "        \n",
    "print(\"remmember always longest string is:\",longest_str)"
   ]
  },
  {
   "cell_type": "markdown",
   "id": "ccddb2ca-23cf-450f-8e39-189b2a704122",
   "metadata": {},
   "source": [
    "47. Find the shortest string in a list of strings.\n"
   ]
  },
  {
   "cell_type": "code",
   "execution_count": 23,
   "id": "4a1e51dc-94b0-45ff-a8c8-bca79b6ee8aa",
   "metadata": {},
   "outputs": [
    {
     "name": "stdout",
     "output_type": "stream",
     "text": [
      "remmember always shortest string is: Ram\n"
     ]
    }
   ],
   "source": [
    "my_list = [\"Ram\",\"Sita\",\"Rahul\",\"Sunny\",\"Krishna\",\"Radhey\"]\n",
    "longest_str = my_list[0]\n",
    "for i in my_list:\n",
    "    if len(i)<len(longest_str):\n",
    "        longest_str = i\n",
    "        \n",
    "print(\"remmember always shortest string is:\",longest_str)"
   ]
  },
  {
   "cell_type": "markdown",
   "id": "c56a0e09-8cfc-4b35-b136-0f6f50c5f6aa",
   "metadata": {},
   "source": [
    "48. Create a list of the first `n` triangular numbers.\n"
   ]
  },
  {
   "cell_type": "code",
   "execution_count": 28,
   "id": "e85d75e4-cf82-449d-b632-ee2bb828408d",
   "metadata": {},
   "outputs": [
    {
     "name": "stdout",
     "output_type": "stream",
     "text": [
      "[1, 3, 6, 10, 15, 21]\n"
     ]
    }
   ],
   "source": [
    "def triangular_list(n):\n",
    "    return [i * (i + 1) // 2 for i in range(1,n+1)]\n",
    "#ex:\n",
    "n = 6\n",
    "tri = triangular_list(n)\n",
    "print(tri)"
   ]
  },
  {
   "cell_type": "markdown",
   "id": "6ab668b7-5626-45d9-9434-7fe3e9ec2214",
   "metadata": {},
   "source": [
    "49. Check if a list contains another list as a subsequence.\n"
   ]
  },
  {
   "cell_type": "code",
   "execution_count": 34,
   "id": "59b377e9-c1b5-4694-b94c-352b31eaf50b",
   "metadata": {},
   "outputs": [
    {
     "name": "stdout",
     "output_type": "stream",
     "text": [
      "List contains another list\n"
     ]
    }
   ],
   "source": [
    "def subsequence(subsequence_list,main_list):\n",
    "    free_list = 0\n",
    "    for i in main_list:\n",
    "        if i == subsequence_list[free_list]:\n",
    "            free_list += 1\n",
    "            if free_list  == len(subsequence_list):\n",
    "                return True\n",
    "    return False\n",
    "\n",
    "main_list = [1, 2, 3, 4, 5, 6, 7, 8, 9, 10]\n",
    "subsequence_list = [3, 5, 8]\n",
    "\n",
    "if subsequence(subsequence_list,main_list):\n",
    "    print(\"List contains another list\")\n",
    "    \n",
    "else:\n",
    "    print(\"list is diffrent\")"
   ]
  },
  {
   "cell_type": "markdown",
   "id": "cee81830-bead-4f1b-b166-90e5771a184d",
   "metadata": {},
   "source": [
    "50. Swap two elements in a list by their indices."
   ]
  },
  {
   "cell_type": "code",
   "execution_count": 41,
   "id": "d256651c-c370-4357-bdc9-2ef140e3015d",
   "metadata": {},
   "outputs": [
    {
     "name": "stdout",
     "output_type": "stream",
     "text": [
      "my list after swap two elemnts [1, 5, 3, 4, 2, 6, 7]\n"
     ]
    }
   ],
   "source": [
    "my_list = [1,2,3,4,5,6,7]\n",
    "index1 = 1\n",
    "index2 = 4\n",
    "temp = my_list[index1]\n",
    "my_list[index1] = my_list[index2]\n",
    "my_list[index2] = temp\n",
    "\n",
    "print(\"my list after swap two elemnts\",my_list)\n",
    "           \n",
    "                        \n",
    "                    "
   ]
  },
  {
   "cell_type": "raw",
   "id": "3bed2192-a91e-4759-8a18-0f72b9b07151",
   "metadata": {},
   "source": [
    "##Tuple Based Practice Problem :"
   ]
  },
  {
   "cell_type": "markdown",
   "id": "0b4ddf69-3222-4c99-adcf-cb7f53c5a733",
   "metadata": {},
   "source": [
    "1. Create a tuple with integers from 1 to 5.\n"
   ]
  },
  {
   "cell_type": "code",
   "execution_count": 1,
   "id": "ef3b74a1-ef1d-4b8d-8012-e669c5ba6203",
   "metadata": {},
   "outputs": [
    {
     "name": "stdout",
     "output_type": "stream",
     "text": [
      "(1, 2, 3, 4, 5)\n"
     ]
    }
   ],
   "source": [
    "tuple_int = (1,2,3,4,5)\n",
    "print(tuple_int)"
   ]
  },
  {
   "cell_type": "markdown",
   "id": "56d9af87-af27-4bac-b572-0994911ee96f",
   "metadata": {},
   "source": [
    "2. Access the third element of a tuple.\n"
   ]
  },
  {
   "cell_type": "code",
   "execution_count": 4,
   "id": "98ae4a5c-1f91-49be-bf3e-850039a10517",
   "metadata": {},
   "outputs": [
    {
     "name": "stdout",
     "output_type": "stream",
     "text": [
      "Third elemnt in tuple is: 3\n"
     ]
    }
   ],
   "source": [
    "tuple_int = (1,2,3,4,5)\n",
    "\n",
    "third_element = tuple_int[2]\n",
    "print(\"Third elemnt in tuple is:\",third_element)"
   ]
  },
  {
   "cell_type": "markdown",
   "id": "ba46e6f8-5c50-43c4-b0aa-bca54facdff1",
   "metadata": {},
   "source": [
    "3. Find the length of a tuple without using the `len()` function.\n"
   ]
  },
  {
   "cell_type": "code",
   "execution_count": 6,
   "id": "d8004733-5875-43de-bee1-45db04fd9b20",
   "metadata": {},
   "outputs": [
    {
     "name": "stdout",
     "output_type": "stream",
     "text": [
      "the lengeth of tuple is 5\n"
     ]
    }
   ],
   "source": [
    "tuple_int = (1,2,3,4,5)\n",
    "\n",
    "count = 0 \n",
    "\n",
    "for _ in tuple_int:\n",
    "    count+=1\n",
    "print(\"the lengeth of tuple is\",count)"
   ]
  },
  {
   "cell_type": "markdown",
   "id": "3c2f65e9-945a-41e6-ba11-9d39debda509",
   "metadata": {},
   "source": [
    "4. Count the occurrences of an element in a tuple."
   ]
  },
  {
   "cell_type": "code",
   "execution_count": 4,
   "id": "ede7a7a0-a6ec-40d6-a9db-7bb001533292",
   "metadata": {},
   "outputs": [
    {
     "name": "stdout",
     "output_type": "stream",
     "text": [
      "the occurnace of element 3 is 4 times\n"
     ]
    }
   ],
   "source": [
    "tuple_int = (1,2,3,4,5,3,4,5,6,3,3,4)\n",
    "element_count = 3\n",
    "occurance = 0\n",
    "\n",
    "for i in tuple_int:\n",
    "    if i == element_count:\n",
    "        occurance +=1\n",
    "print(f\"the occurnace of element {3} is {occurance} times\" )"
   ]
  },
  {
   "cell_type": "markdown",
   "id": "3e87fa7e-65f6-46e6-ba31-bad29fc0bcf5",
   "metadata": {},
   "source": [
    "5. Find the index of the first occurrence of an element in a tuple.\n",
    "\n"
   ]
  },
  {
   "cell_type": "code",
   "execution_count": 3,
   "id": "44e2a03e-1efc-415e-b437-a1536fdfcce5",
   "metadata": {},
   "outputs": [
    {
     "name": "stdout",
     "output_type": "stream",
     "text": [
      "the index of 4 is 3 in tuple list in order to counting starts from zero.\n"
     ]
    }
   ],
   "source": [
    "tuple_int = (1,2,3,4,5)\n",
    "idex = tuple_int.index(4)\n",
    "print(f\"the index of 4 is {idex} in tuple list in order to counting starts from zero.\")"
   ]
  },
  {
   "cell_type": "markdown",
   "id": "d99538d3-c414-4275-b490-ea543108db6f",
   "metadata": {},
   "source": [
    "6. Check if an element exists in a tuple.\n"
   ]
  },
  {
   "cell_type": "code",
   "execution_count": 6,
   "id": "bb323458-9f1f-4990-a94b-cfa76f7322da",
   "metadata": {},
   "outputs": [
    {
     "name": "stdout",
     "output_type": "stream",
     "text": [
      "Element 4 exist in the tuple list\n"
     ]
    }
   ],
   "source": [
    "tuple_int = (1,2,3,4,5)\n",
    "\n",
    "element_check = 4\n",
    "\n",
    "if element_check in tuple_int:\n",
    "    print(f\"Element 4 exist in the tuple list\")\n",
    "    \n",
    "else: \n",
    "    print(\"element does not exit\")"
   ]
  },
  {
   "cell_type": "markdown",
   "id": "f3f80b5e-fa35-4d30-ba86-8583d3061531",
   "metadata": {},
   "source": [
    "7. Convert a tuple to a list.\n"
   ]
  },
  {
   "cell_type": "code",
   "execution_count": 10,
   "id": "bff5c699-8c3d-4293-9b78-ce196b7d719b",
   "metadata": {},
   "outputs": [
    {
     "name": "stdout",
     "output_type": "stream",
     "text": [
      "[1, 2, 3, 4, 5]\n",
      "(1, 2, 3, 4, 5)\n"
     ]
    }
   ],
   "source": [
    "print(my_list)\n",
    "print(tuple_int)\n",
    "#type(tuple_int)\n",
    "\n",
    "my_list = list(tuple_int)\n",
    "#type(my_list)\n",
    "\n",
    "print(my_list)\n",
    "print(tuple_int)\n"
   ]
  },
  {
   "cell_type": "markdown",
   "id": "eb723ee3-f3f6-4686-8805-fd357391dcb2",
   "metadata": {},
   "source": [
    "8. Convert a list to a tuple.\n"
   ]
  },
  {
   "cell_type": "code",
   "execution_count": 19,
   "id": "889c30da-a62a-4c3d-a686-64739810e917",
   "metadata": {},
   "outputs": [
    {
     "name": "stdout",
     "output_type": "stream",
     "text": [
      "Tuple : (1, 2, 3, 4, 5, 6, 7, 8, 9, 0)\n",
      "List : [1, 2, 3, 4, 5, 6, 7, 8, 9, 0]\n"
     ]
    }
   ],
   "source": [
    "my_list = [1,2,3,4,5,6,7,8,9,0]\n",
    "\n",
    "\n",
    "my_tuple = tuple(my_list)\n",
    "\n",
    "print(\"Tuple :\",my_tuple)\n",
    "print(\"List :\",my_list)"
   ]
  },
  {
   "cell_type": "markdown",
   "id": "d0fe41c8-8f82-4b03-8a8b-6a8af9960f1f",
   "metadata": {},
   "source": [
    "9. Unpack the elements of a tuple into variables.\n"
   ]
  },
  {
   "cell_type": "code",
   "execution_count": 20,
   "id": "be0dd8ca-b086-4ef0-9f78-187bea60878d",
   "metadata": {},
   "outputs": [
    {
     "name": "stdout",
     "output_type": "stream",
     "text": [
      "Variable 1 : 1\n",
      "Variable 2 : 2\n",
      "Variable 3 : 3\n"
     ]
    }
   ],
   "source": [
    "tuple_element = (1,2,3)\n",
    "\n",
    "var1,var3,var2 = tuple_element\n",
    "print(\"Variable 1 :\",var1)\n",
    "print(\"Variable 2 :\",var3)\n",
    "print(\"Variable 3 :\",var2)"
   ]
  },
  {
   "cell_type": "markdown",
   "id": "ddb7f6b2-b1a4-43f3-a0d3-5ec0f1af7307",
   "metadata": {},
   "source": [
    "10. Create a tuple of even numbers from 1 to 10.\n"
   ]
  },
  {
   "cell_type": "code",
   "execution_count": 21,
   "id": "9762d6f1-a71f-401c-920f-c342d2a18a21",
   "metadata": {},
   "outputs": [
    {
     "name": "stdout",
     "output_type": "stream",
     "text": [
      "List of tuple with even number is : [2, 4, 6, 8, 10]\n"
     ]
    }
   ],
   "source": [
    "even_numeber_list = [num for num in range (2,11,2)]\n",
    "\n",
    "my_tuple = tuple(even_numeber_list)\n",
    "\n",
    "print(\"List of tuple with even number is :\",even_numeber_list)"
   ]
  },
  {
   "cell_type": "markdown",
   "id": "44b6fecb-7a8b-4661-84be-26a5cf150a01",
   "metadata": {},
   "source": [
    "11. Create a tuple of odd numbers from 1 to 10.\n"
   ]
  },
  {
   "cell_type": "code",
   "execution_count": 24,
   "id": "d4bc4954-eaeb-4ee1-a0a4-094fa7fa6d29",
   "metadata": {},
   "outputs": [
    {
     "name": "stdout",
     "output_type": "stream",
     "text": [
      "List of tuple with odd number is : (1, 3, 5, 7, 9)\n"
     ]
    }
   ],
   "source": [
    "odd_numberf_list = [shreya for shreya in range(1,11,2)]\n",
    "\n",
    "print(\"List of tuple with odd number is :\",tuple(odd_numberf_list))"
   ]
  },
  {
   "cell_type": "markdown",
   "id": "7fd826f5-d59d-4dd4-89ca-e8e9999b091d",
   "metadata": {},
   "source": [
    "12. Concatenate two tuples.\n"
   ]
  },
  {
   "cell_type": "code",
   "execution_count": 28,
   "id": "d5d1a756-9968-43d5-bfb7-cf039431f5b4",
   "metadata": {},
   "outputs": [
    {
     "name": "stdout",
     "output_type": "stream",
     "text": [
      "concatenate of two tuple t1 and t2 will be: (1, 3, 5, 7, 9, 2, 4, 6, 8, 10)\n"
     ]
    }
   ],
   "source": [
    "t1  = [shreya for shreya in range (1,11,2)]\n",
    "t2 = [shreya for shreya in range(2,11,2)]\n",
    "sexy = tuple(t1)+tuple(t2)\n",
    "print(\"concatenate of two tuple t1 and t2 will be:\",sexy)"
   ]
  },
  {
   "cell_type": "markdown",
   "id": "268787a8-9f58-45c6-8195-eec4b1b4ec91",
   "metadata": {},
   "source": [
    "13. Repeat a tuple three times.\n"
   ]
  },
  {
   "cell_type": "code",
   "execution_count": 29,
   "id": "017e8508-1ed3-4e1a-af06-f1f1bc34e90e",
   "metadata": {},
   "outputs": [
    {
     "name": "stdout",
     "output_type": "stream",
     "text": [
      "Tuple after repeat 3 times: (1, 2, 3, 4, 5, 6, 1, 2, 3, 4, 5, 6, 1, 2, 3, 4, 5, 6)\n"
     ]
    }
   ],
   "source": [
    "t1 = (1,2,3,4,5,6)\n",
    "repeated_tuple = t1*3\n",
    "\n",
    "print(\"Tuple after repeat 3 times:\",repeated_tuple)"
   ]
  },
  {
   "cell_type": "markdown",
   "id": "746e9ce7-da8e-451c-94eb-14c6e23af626",
   "metadata": {},
   "source": [
    "14. Check if a tuple is empty.\n"
   ]
  },
  {
   "cell_type": "code",
   "execution_count": 31,
   "id": "f291fbb7-020b-4137-a526-5f06e2fd3094",
   "metadata": {},
   "outputs": [
    {
     "name": "stdout",
     "output_type": "stream",
     "text": [
      "the t1 tuple list is empty\n",
      "the t2 tuple list is not empty\n"
     ]
    }
   ],
   "source": [
    "t1 = ()\n",
    "t2 = (1,2,3,4)\n",
    "\n",
    "if not t1:\n",
    "    print(\"the t1 tuple list is empty\")\n",
    "else:\n",
    "    print(\"the t1 tuple list is not empty\")\n",
    "    \n",
    "\n",
    "if not t2:\n",
    "    print(\"the t2 tuple list is empty\")\n",
    "else:\n",
    "    print(\"the t2 tuple list is not empty\")"
   ]
  },
  {
   "cell_type": "markdown",
   "id": "dfaa6c19-24d1-409d-bf45-be2721cc6313",
   "metadata": {},
   "source": [
    "15. Create a nested tuple.\n"
   ]
  },
  {
   "cell_type": "code",
   "execution_count": 2,
   "id": "e1aeb0a6-db83-42d8-8d0d-357112fb087e",
   "metadata": {},
   "outputs": [
    {
     "name": "stdout",
     "output_type": "stream",
     "text": [
      "The nested tuple is: ((1, 2, 3), ('a', 'b', 'c'), (True, False))\n"
     ]
    }
   ],
   "source": [
    "my_tuple = ((1,2,3),('a','b','c'),(True,False))\n",
    "\n",
    "print(\"The nested tuple is:\",my_tuple)"
   ]
  },
  {
   "cell_type": "markdown",
   "id": "3bf9aa12-85e4-4550-ab41-c3179a093f23",
   "metadata": {},
   "source": [
    "16. Access the first element of a nested tuple.\n"
   ]
  },
  {
   "cell_type": "code",
   "execution_count": 4,
   "id": "e685bdc5-edc5-4642-8eb3-ae7daf27531d",
   "metadata": {},
   "outputs": [
    {
     "name": "stdout",
     "output_type": "stream",
     "text": [
      "The first element in a nested tuple is: (1, 2, 3)\n"
     ]
    }
   ],
   "source": [
    "my_tuple = ((1,2,3),('a','b','c'),(True,False))\n",
    "\n",
    "first_elemet = my_tuple[0]\n",
    "\n",
    "print(\"The first element in a nested tuple is:\", first_elemet)"
   ]
  },
  {
   "cell_type": "markdown",
   "id": "d90b9c92-1e11-424f-9f37-ef91511a1589",
   "metadata": {},
   "source": [
    "17. Create a tuple with a single element.\n"
   ]
  },
  {
   "cell_type": "code",
   "execution_count": 6,
   "id": "e4c741de-7373-4544-b676-916b2428e073",
   "metadata": {},
   "outputs": [
    {
     "name": "stdout",
     "output_type": "stream",
     "text": [
      "single tuple is (23,)\n"
     ]
    }
   ],
   "source": [
    "single_tuple = (23,)\n",
    "\n",
    "print(\"single tuple is\",single_tuple)"
   ]
  },
  {
   "cell_type": "markdown",
   "id": "12b1e9a5-aef0-439c-a3d9-3f415b94b973",
   "metadata": {},
   "source": [
    "18. Compare two tuples.\n"
   ]
  },
  {
   "cell_type": "code",
   "execution_count": 7,
   "id": "58806d56-3b11-4ec2-aa1a-c7abf455994c",
   "metadata": {},
   "outputs": [
    {
     "name": "stdout",
     "output_type": "stream",
     "text": [
      "t1 == t2 False\n",
      "t1 > t2 False\n",
      "t1 < t2 True\n",
      "t1 >= t2 False\n",
      "t1<=t2 True\n",
      "t1 != t2 True\n"
     ]
    }
   ],
   "source": [
    "t1 = (1,2,3)\n",
    "t2 = (2,3,4)\n",
    "\n",
    "print(\"t1 == t2\",t1==t2)\n",
    "print(\"t1 > t2\",t1 > t2)\n",
    "print(\"t1 < t2\",t1 < t2)\n",
    "print(\"t1 >= t2\",t1 >= t2)\n",
    "print(\"t1<=t2\",t1 <= t2)\n",
    "print(\"t1 != t2\",t1 != t2)"
   ]
  },
  {
   "cell_type": "markdown",
   "id": "96e0013f-ddd7-4f27-969c-753c8164c703",
   "metadata": {},
   "source": [
    "19. Delete a tuple.\n"
   ]
  },
  {
   "cell_type": "code",
   "execution_count": 10,
   "id": "843cb2bd-34ce-42ec-b9a9-cd1768f69891",
   "metadata": {},
   "outputs": [
    {
     "name": "stdout",
     "output_type": "stream",
     "text": [
      "(1, 2, 3)\n"
     ]
    }
   ],
   "source": [
    "t1 = (1,2,3)\n",
    "print(t1)\n"
   ]
  },
  {
   "cell_type": "code",
   "execution_count": 11,
   "id": "584f5f1f-38b7-48c5-b34b-e8bf16e8a64d",
   "metadata": {},
   "outputs": [
    {
     "ename": "NameError",
     "evalue": "name 't1' is not defined",
     "output_type": "error",
     "traceback": [
      "\u001b[0;31m---------------------------------------------------------------------------\u001b[0m",
      "\u001b[0;31mNameError\u001b[0m                                 Traceback (most recent call last)",
      "Cell \u001b[0;32mIn[11], line 2\u001b[0m\n\u001b[1;32m      1\u001b[0m \u001b[38;5;28;01mdel\u001b[39;00m t1\n\u001b[0;32m----> 2\u001b[0m \u001b[38;5;28mprint\u001b[39m(\u001b[43mt1\u001b[49m)\n",
      "\u001b[0;31mNameError\u001b[0m: name 't1' is not defined"
     ]
    }
   ],
   "source": [
    "del t1\n",
    "print(t1)"
   ]
  },
  {
   "cell_type": "markdown",
   "id": "b2fd7142-5ef2-435f-b527-f9648b08b5bd",
   "metadata": {},
   "source": [
    "20. Slice a tuple."
   ]
  },
  {
   "cell_type": "code",
   "execution_count": 6,
   "id": "a14106a2-6646-4e7c-8328-ef2459fc9084",
   "metadata": {},
   "outputs": [
    {
     "name": "stdout",
     "output_type": "stream",
     "text": [
      "tuple after sliced: (5, 6, 7, 8)\n"
     ]
    }
   ],
   "source": [
    "my_tuple = (1,2,3,4,5,6,7,8,9,0)\n",
    "\n",
    "slice_tuple = my_tuple[4:8]\n",
    "\n",
    "print(\"tuple after sliced:\",slice_tuple)"
   ]
  },
  {
   "cell_type": "markdown",
   "id": "4022462c-d533-45fe-9cee-eed09c2c7551",
   "metadata": {},
   "source": [
    "21. Find the maximum value in a tuple.\n",
    "\n"
   ]
  },
  {
   "cell_type": "code",
   "execution_count": 7,
   "id": "51ef8f48-2efe-4e2f-b02c-65bd5fb7ece1",
   "metadata": {},
   "outputs": [
    {
     "name": "stdout",
     "output_type": "stream",
     "text": [
      "the naximum value is: 9\n"
     ]
    }
   ],
   "source": [
    "my_tuple = (1,2,3,4,5,6,7,8,9,0)\n",
    "\n",
    "maximum_tuple = max(my_tuple)\n",
    "\n",
    "print(\"the naximum value is:\",maximum_tuple)"
   ]
  },
  {
   "cell_type": "markdown",
   "id": "8efceb10-1f67-4b3b-9cef-f4f849856827",
   "metadata": {},
   "source": [
    "22. Find the minimum value in a tuple.\n"
   ]
  },
  {
   "cell_type": "code",
   "execution_count": 8,
   "id": "3eca405b-d97d-47a0-9803-3524da8ded75",
   "metadata": {},
   "outputs": [
    {
     "name": "stdout",
     "output_type": "stream",
     "text": [
      "the minimum value is: 0\n"
     ]
    }
   ],
   "source": [
    "my_tuple = (1,2,3,4,5,6,7,8,9,0)\n",
    "\n",
    "minimum_tuple  = min(my_tuple)\n",
    "print(\"the minimum value is:\",minimum_tuple)"
   ]
  },
  {
   "cell_type": "markdown",
   "id": "3142bca5-4da7-4a16-b061-28e374be05ad",
   "metadata": {},
   "source": [
    "23. Convert a string to a tuple of characters.\n"
   ]
  },
  {
   "cell_type": "code",
   "execution_count": 9,
   "id": "15cf2fa1-e84b-44e3-8d7b-aa99270f87e1",
   "metadata": {},
   "outputs": [
    {
     "name": "stdout",
     "output_type": "stream",
     "text": [
      "the tuple in string characters is: ('I', ' ', 'l', 'o', 'v', 'e', ' ', 'u', ' ', 's', 'h', 'r', 'e', 'y', 'a')\n"
     ]
    }
   ],
   "source": [
    "my_str = \"I love u shreya\"\n",
    "\n",
    "characters_tuple = tuple(my_str)\n",
    "\n",
    "print(\"the tuple in string characters is:\",characters_tuple)"
   ]
  },
  {
   "cell_type": "markdown",
   "id": "39ea5242-20be-44c1-bd5b-0d1e1d3b9b5a",
   "metadata": {},
   "source": [
    "24. Convert a tuple of characters to a string.\n"
   ]
  },
  {
   "cell_type": "code",
   "execution_count": 10,
   "id": "4a8c25c0-412a-47ad-ae54-b5990f0df6d3",
   "metadata": {},
   "outputs": [
    {
     "name": "stdout",
     "output_type": "stream",
     "text": [
      "tuple of characters to a string is : I love u shreya\n"
     ]
    }
   ],
   "source": [
    "my_tuple = ('I', ' ', 'l', 'o', 'v', 'e', ' ', 'u', ' ', 's', 'h', 'r', 'e', 'y', 'a')\n",
    "\n",
    "string = \"\".join(my_tuple)\n",
    "\n",
    "print(\"tuple of characters to a string is :\",string)"
   ]
  },
  {
   "cell_type": "markdown",
   "id": "1a300bb2-9bd9-4be2-adf5-978bbe4e3e36",
   "metadata": {},
   "source": [
    "25. Create a tuple from multiple data types.\n"
   ]
  },
  {
   "cell_type": "code",
   "execution_count": 11,
   "id": "6cd94309-80e2-4f09-ad51-71bddbfe6b51",
   "metadata": {},
   "outputs": [
    {
     "name": "stdout",
     "output_type": "stream",
     "text": [
      "tuple with multiple data types: (23, 2.3, True, 'shreya')\n"
     ]
    }
   ],
   "source": [
    "diff_tuple = (23,2.3,True,\"shreya\")\n",
    "\n",
    "print(\"tuple with multiple data types:\",diff_tuple)"
   ]
  },
  {
   "cell_type": "markdown",
   "id": "edf262de-c412-48a4-a77c-d9f9fc96f48b",
   "metadata": {},
   "source": [
    "26. Check if two tuples are identical.\n"
   ]
  },
  {
   "cell_type": "code",
   "execution_count": 13,
   "id": "6e866a61-675a-4a65-a51e-c115f1f21a87",
   "metadata": {},
   "outputs": [
    {
     "name": "stdout",
     "output_type": "stream",
     "text": [
      "t1 and t2 tuple are identical: True\n",
      "t1 and t3 tuple are identical: False\n"
     ]
    }
   ],
   "source": [
    "t1 = (1,2,3)\n",
    "t2 = (1,2,3)\n",
    "t3 = (4,5,6)\n",
    "\n",
    "ide1 = t1 == t2\n",
    "ide2 = t1 == t3\n",
    "\n",
    "print(\"t1 and t2 tuple are identical:\",ide1)\n",
    "print(\"t1 and t3 tuple are identical:\",ide2)"
   ]
  },
  {
   "cell_type": "markdown",
   "id": "b4ba5e8f-a622-47dc-92ab-6a1cd7816f1d",
   "metadata": {},
   "source": [
    "27. Sort the elements of a tuple.\n"
   ]
  },
  {
   "cell_type": "code",
   "execution_count": 14,
   "id": "7e9f3dff-3348-4b7c-a028-2b46c0103c04",
   "metadata": {},
   "outputs": [
    {
     "name": "stdout",
     "output_type": "stream",
     "text": [
      "tuple after sorted is : [0, 1, 2, 4, 6, 9]\n"
     ]
    }
   ],
   "source": [
    "unsorted_tuple = (2,0,9,6,4,1)\n",
    "\n",
    "sorted_tuple = sorted(unsorted_tuple)\n",
    "\n",
    "print(\"tuple after sorted is :\",sorted_tuple)"
   ]
  },
  {
   "cell_type": "markdown",
   "id": "e94d60d0-6ec6-432e-9707-f8ac27099b77",
   "metadata": {},
   "source": [
    "28. Convert a tuple of integers to a tuple of strings.\n"
   ]
  },
  {
   "cell_type": "code",
   "execution_count": 22,
   "id": "bd6ff5a1-a1a6-4313-8fb7-e2acd094e2ef",
   "metadata": {},
   "outputs": [
    {
     "name": "stdout",
     "output_type": "stream",
     "text": [
      "string of intiger tuple is : ('1', '2', '3', '4', '5')\n"
     ]
    }
   ],
   "source": [
    "tuple_of_intigers = (1,2,3,4,5)\n",
    "\n",
    "tuple_string = [str(shreya) for shreya in tuple_of_intigers]\n",
    "\n",
    "print(\"string of intiger tuple is :\",tuple(tuple_string))"
   ]
  },
  {
   "cell_type": "markdown",
   "id": "5ee9328d-9d51-4295-97e9-a620c20466d1",
   "metadata": {},
   "source": [
    "29. Convert a tuple of strings to a tuple of integers.\n"
   ]
  },
  {
   "cell_type": "code",
   "execution_count": 23,
   "id": "6fdf0552-edd3-48b4-b8e6-8a833c7bde18",
   "metadata": {},
   "outputs": [
    {
     "name": "stdout",
     "output_type": "stream",
     "text": [
      "tuple string of tuple intiger is : (1, 2, 3, 4, 5)\n"
     ]
    }
   ],
   "source": [
    "tuple_string = ('1', '2', '3', '4', '5')\n",
    "\n",
    "tuple_intigers = [int(shreya) for shreya in tuple_string]\n",
    "\n",
    "print(\"tuple string of tuple intiger is :\",tuple_of_intigers)"
   ]
  },
  {
   "cell_type": "markdown",
   "id": "53d6d0d9-47d9-4aa6-9cca-9dfb73c1d16e",
   "metadata": {},
   "source": [
    "30. Merge two tuples.\n"
   ]
  },
  {
   "cell_type": "code",
   "execution_count": 24,
   "id": "98d57bda-23f2-47c3-8289-1d676818c83b",
   "metadata": {},
   "outputs": [
    {
     "name": "stdout",
     "output_type": "stream",
     "text": [
      "Two tuple t1 and t2 after merge will be :  (1, 2, 3, 4, 5, 6, 7, 8, 9, 0)\n"
     ]
    }
   ],
   "source": [
    "t1 = (1,2,3,4,5)\n",
    "t2 = (6,7,8,9,0)\n",
    "\n",
    "mergeing_tuple = t1 + t2 \n",
    "\n",
    "print(\"Two tuple t1 and t2 after merge will be : \", mergeing_tuple)"
   ]
  },
  {
   "cell_type": "markdown",
   "id": "58632f37-60fb-4517-afb3-4e202b343fc3",
   "metadata": {},
   "source": [
    "31. Flatten a nested tuple."
   ]
  },
  {
   "cell_type": "code",
   "execution_count": 27,
   "id": "3a68f681-1e60-41a0-9689-1325ed39be67",
   "metadata": {},
   "outputs": [
    {
     "name": "stdout",
     "output_type": "stream",
     "text": [
      "Flatted a nested tuple is: (1, 2, 3, 4, 5, 6)\n"
     ]
    }
   ],
   "source": [
    "def flatten_nested(value):\n",
    "    flatted = []\n",
    "    \n",
    "    for shreya in value:\n",
    "        if isinstance(shreya,tuple):\n",
    "            flatted.extend(flatten_nested(shreya))\n",
    "            \n",
    "        else:\n",
    "            flatted.append(shreya)\n",
    "    return flatted\n",
    "\n",
    "#example:\n",
    "\n",
    "value1 = ((1,2),(3,4),(5,6))\n",
    "\n",
    "result = flatten_nested(value1)\n",
    "\n",
    "print(\"Flatted a nested tuple is:\",tuple(result))"
   ]
  },
  {
   "cell_type": "markdown",
   "id": "7040508a-d306-4dff-b83b-9e7ba1327625",
   "metadata": {},
   "source": [
    "32. Create a tuple of the first 5 prime numbers.\n"
   ]
  },
  {
   "cell_type": "code",
   "execution_count": 26,
   "id": "7c782527-e7c9-41c4-ba2f-7386b3214759",
   "metadata": {},
   "outputs": [
    {
     "name": "stdout",
     "output_type": "stream",
     "text": [
      "First 5 prime numbers in tuple will be: (2, 3, 4, 5, 6)\n"
     ]
    }
   ],
   "source": [
    "def is_prime(num):\n",
    "    if num<=1 :\n",
    "        return False\n",
    "    for i in range(2,int(num**0.5),+1):\n",
    "        if num % i  == 0 :\n",
    "            return False\n",
    "    return True\n",
    "\n",
    "#example:\n",
    "\n",
    "prime_ist = [num for num in range(2,100) if is_prime(num)][:5]\n",
    "\n",
    "print(\"First 5 prime numbers in tuple will be:\",tuple(prime_ist))"
   ]
  },
  {
   "cell_type": "markdown",
   "id": "c5e061fd-fdc0-48fc-9f6a-6cd101d60ff5",
   "metadata": {},
   "source": [
    "33. Check if a tuple is a palindrome.\n"
   ]
  },
  {
   "cell_type": "code",
   "execution_count": 35,
   "id": "acc36287-146d-4e3f-ade4-88fb326be2bb",
   "metadata": {},
   "outputs": [
    {
     "name": "stdout",
     "output_type": "stream",
     "text": [
      "1,2,Ta ta,Ta ta,1,2 this is a palindrome or not ? True\n",
      "1,2,3,4,5 this is a palindrome or not ? False\n"
     ]
    }
   ],
   "source": [
    "def is_palindrome(value):\n",
    "    return value == value[::-1]\n",
    "\n",
    "p1 = (1,2,\"Ta ta\",\"Ta ta\",2,1)\n",
    "p2 = (1,2,3,4,5)\n",
    "\n",
    "check1 = is_palindrome(p1)\n",
    "check2 = is_palindrome(p2)\n",
    "print(\"1,2,Ta ta,Ta ta,1,2 this is a palindrome or not ?\",check1)\n",
    "print(\"1,2,3,4,5 this is a palindrome or not ?\",check2)"
   ]
  },
  {
   "cell_type": "markdown",
   "id": "5b24b919-d766-4035-b0cb-c31504e43baa",
   "metadata": {},
   "source": [
    "34. Create a tuple of squares of numbers from 1 to 5.\n"
   ]
  },
  {
   "cell_type": "code",
   "execution_count": 37,
   "id": "02b0bc1e-a596-453e-9110-20c278ecc3cc",
   "metadata": {},
   "outputs": [
    {
     "name": "stdout",
     "output_type": "stream",
     "text": [
      "(1, 4, 9, 16, 25)\n"
     ]
    }
   ],
   "source": [
    "squre_tuple = tuple(x**2 for x in range(1,6))\n",
    "\n",
    "print(squre_tuple)"
   ]
  },
  {
   "cell_type": "markdown",
   "id": "eac67546-8eb1-40db-b29a-e6d8ce731f51",
   "metadata": {},
   "source": [
    "35. Filter out all even numbers from a tuple.\n"
   ]
  },
  {
   "cell_type": "code",
   "execution_count": 41,
   "id": "e501125e-655d-4cb7-8c74-c81acc703aa0",
   "metadata": {},
   "outputs": [
    {
     "name": "stdout",
     "output_type": "stream",
     "text": [
      "the list of even tuple is (1, 3, 5, 7, 9)\n"
     ]
    }
   ],
   "source": [
    "org_tuple =(1,2,3,4,5,6,7,8,9,10)\n",
    "\n",
    "even_tuple = tuple (num for num in org_tuple if num%2 != 0)\n",
    "\n",
    "print('the list of even tuple is',even_tuple)"
   ]
  },
  {
   "cell_type": "markdown",
   "id": "2de806fb-7025-400e-8fcd-7470fb0a4dfc",
   "metadata": {},
   "source": [
    "36. Multiply all elements in a tuple by 2."
   ]
  },
  {
   "cell_type": "code",
   "execution_count": 47,
   "id": "90f3ecac-a2e7-40f9-898d-104708bcbd6a",
   "metadata": {},
   "outputs": [
    {
     "name": "stdout",
     "output_type": "stream",
     "text": [
      "[1, 2, 3, 4, 5, 6, 7, 8, 9, 10] All elements after multiply by 2 in tuples are (2, 4, 6, 8, 10, 12, 14, 16, 18, 20)\n"
     ]
    }
   ],
   "source": [
    "All_elemnet = [1,2,3,4,5,6,7,8,9,10]\n",
    "\n",
    "res = tuple(num*2 for num in All_elemnet)\n",
    "print(f\"{All_elemnet} All elements after multiply by 2 in tuples are {res}\")"
   ]
  },
  {
   "cell_type": "markdown",
   "id": "ace66714-18a7-43eb-9ac9-dc326040e0bc",
   "metadata": {},
   "source": [
    "37. Create a tuple of random numbers.\n"
   ]
  },
  {
   "cell_type": "code",
   "execution_count": 3,
   "id": "ef7a8716-9285-4063-ac9d-5cfff431a7b3",
   "metadata": {},
   "outputs": [
    {
     "name": "stdout",
     "output_type": "stream",
     "text": [
      "Random Number (35, 28, 51, 71, 37, 9, 44, 43, 98, 8)\n"
     ]
    }
   ],
   "source": [
    "import random\n",
    "\n",
    "random_number = tuple(random.randint(1,100) for _ in range(10))\n",
    "\n",
    "print(\"Random Number\",random_number)"
   ]
  },
  {
   "cell_type": "markdown",
   "id": "6628fb0a-fae5-4583-a48b-ec67c6392e6b",
   "metadata": {},
   "source": [
    "38. Check if a tuple is sorted.\n"
   ]
  },
  {
   "cell_type": "code",
   "execution_count": 6,
   "id": "7004ff2e-f3fa-4037-ba6f-2e00e496c8a5",
   "metadata": {},
   "outputs": [
    {
     "name": "stdout",
     "output_type": "stream",
     "text": [
      "sorted tuple is sorted : True\n",
      "unsorted tuple is unsorted : False\n"
     ]
    }
   ],
   "source": [
    "def tuple_sorted (tup):\n",
    "    for i in range(len(tup)-1):\n",
    "        if tup[i] > tup[i+1]:\n",
    "            return False\n",
    "    return True\n",
    "\n",
    "sorted_tuple = (1,2,3,4,5)\n",
    "unsorted_tuple =(3,4,5,2,1)\n",
    "\n",
    "print(\"sorted tuple is sorted :\",tuple_sorted(sorted_tuple))\n",
    "print(\"unsorted tuple is unsorted :\",tuple_sorted(unsorted_tuple))"
   ]
  },
  {
   "cell_type": "markdown",
   "id": "74526150-de5f-4009-abc8-a877175479ca",
   "metadata": {},
   "source": [
    "39. Rotate a tuple to the left by `n` positions.\n"
   ]
  },
  {
   "cell_type": "code",
   "execution_count": 7,
   "id": "6cccd43a-0fa1-4361-9860-2e8838a46af2",
   "metadata": {},
   "outputs": [
    {
     "name": "stdout",
     "output_type": "stream",
     "text": [
      "(3, 4, 5, 6, 1, 2)\n"
     ]
    }
   ],
   "source": [
    "def my_tuple(n,tup):\n",
    "    n = n%len(tup)\n",
    "    rotated_tuple = tup[n:] + tup[:n]\n",
    "    return rotated_tuple\n",
    "\n",
    "#Exampel\n",
    "n = 2\n",
    "tup = (1,2,3,4,5,6)\n",
    "\n",
    "res = my_tuple(n,tup)\n",
    "print(res)"
   ]
  },
  {
   "cell_type": "markdown",
   "id": "c1411f0d-7459-4ef3-b646-019dcb1b202d",
   "metadata": {},
   "source": [
    "40. Rotate a tuple to the right by `n` positions.\n"
   ]
  },
  {
   "cell_type": "code",
   "execution_count": 8,
   "id": "f3debaf0-3f89-44a6-8259-cf4f533cc5cf",
   "metadata": {},
   "outputs": [
    {
     "name": "stdout",
     "output_type": "stream",
     "text": [
      "(5, 6, 1, 2, 3, 4)\n"
     ]
    }
   ],
   "source": [
    "def my_tuple(n,tup):\n",
    "    n = n%len(tup)\n",
    "    rotated_tuple = tup[-n:] + tup[:-n]\n",
    "    return rotated_tuple\n",
    "\n",
    "#Exampel\n",
    "n = 2\n",
    "tup = (1,2,3,4,5,6)\n",
    "\n",
    "res = my_tuple(n,tup)\n",
    "print(res)"
   ]
  },
  {
   "cell_type": "markdown",
   "id": "8224c8c3-11cb-435a-9d42-366b86a69e29",
   "metadata": {},
   "source": [
    "41. Create a tuple of the first 5 Fibonacci numbers.\n"
   ]
  },
  {
   "cell_type": "code",
   "execution_count": 12,
   "id": "4b7924da-51f3-4769-83ee-d29d51a0b6c9",
   "metadata": {},
   "outputs": [
    {
     "name": "stdout",
     "output_type": "stream",
     "text": [
      "Tuple of the first 5 Fibonacci number is: (0, 1, 1, 2, 3)\n"
     ]
    }
   ],
   "source": [
    "def fibonacci(number):\n",
    "    fibonacci_num = [0,1]\n",
    "    while len(fibonacci_num) < number:\n",
    "        next_num =fibonacci_num[-1] + fibonacci_num[-2]\n",
    "        fibonacci_num.append(next_num)\n",
    "    return tuple(fibonacci_num)\n",
    "\n",
    "#example:\n",
    "\n",
    "fibonacci_tuple = fibonacci(5)\n",
    "print(\"Tuple of the first 5 Fibonacci number is:\",fibonacci_tuple)"
   ]
  },
  {
   "cell_type": "markdown",
   "id": "ff8d2c38-3d32-4404-8627-3ae11392bc16",
   "metadata": {},
   "source": [
    "42. Create a tuple from user input.\n"
   ]
  },
  {
   "cell_type": "code",
   "execution_count": 15,
   "id": "2d15b91e-1b52-4c0a-b02a-0f1f4834fc63",
   "metadata": {},
   "outputs": [
    {
     "name": "stdin",
     "output_type": "stream",
     "text": [
      "enter elements seprted by comas  1,2,3,,4\n"
     ]
    },
    {
     "name": "stdout",
     "output_type": "stream",
     "text": [
      "('1', '2', '3', '', '4')\n"
     ]
    }
   ],
   "source": [
    "input_str = input(\"enter elements seprted by comas \")\n",
    "\n",
    "list_user = input_str.split(\",\")\n",
    "tuple_user = tuple(list_user)\n",
    "print(tuple_user)"
   ]
  },
  {
   "cell_type": "markdown",
   "id": "4853bdec-ebea-4daf-8ca1-94f2deb34a92",
   "metadata": {},
   "source": [
    "43. Swap two elements in a tuple.\n"
   ]
  },
  {
   "cell_type": "code",
   "execution_count": 4,
   "id": "51b16f28-b0a3-4dee-b07d-71b3c8e5879a",
   "metadata": {},
   "outputs": [
    {
     "name": "stdout",
     "output_type": "stream",
     "text": [
      "tuple before swap: (1, 2, 3, 4, 5) & tuple after swap: (1, 2, 5, 4, 3)\n"
     ]
    }
   ],
   "source": [
    "def swap_element(my_tuple,index1,index2):\n",
    "    element = list(my_tuple)\n",
    "    element[index1],element[index2] = element[index2],element[index1]\n",
    "    new_element = tuple(element)\n",
    "    return new_element\n",
    "\n",
    "#example:\n",
    "\n",
    "t1 = (1,2,3,4,5)\n",
    "\n",
    "swapping = swap_element(t1,2,4)\n",
    "print(f\"tuple before swap: {t1} & tuple after swap: {swapping}\")"
   ]
  },
  {
   "cell_type": "markdown",
   "id": "4384df40-117b-479f-b38b-50dada542c4e",
   "metadata": {},
   "source": [
    "44. Reverse the elements of a tuple.\n"
   ]
  },
  {
   "cell_type": "code",
   "execution_count": 6,
   "id": "b942084a-ca64-4c4d-a411-d63b5558f704",
   "metadata": {},
   "outputs": [
    {
     "name": "stdout",
     "output_type": "stream",
     "text": [
      "tuple before reverse: (1, 2, 3, 4, 5) & tuple after reverse: (5, 4, 3, 2, 1)\n"
     ]
    }
   ],
   "source": [
    "def reverse(t1):\n",
    "    return tuple(t1[::-1])\n",
    "\n",
    "#example:\n",
    "\n",
    "t = (1,2,3,4,5)\n",
    "\n",
    "re_tuple = reverse(t)\n",
    "print(f\"tuple before reverse: {t} & tuple after reverse: {re_tuple}\")"
   ]
  },
  {
   "cell_type": "markdown",
   "id": "7e61555e-ee7c-40a3-b689-fad5f06e2fc6",
   "metadata": {},
   "source": [
    "45. Create a tuple of the first `n` powers of 2.\n"
   ]
  },
  {
   "cell_type": "code",
   "execution_count": 8,
   "id": "ba889645-4c09-478b-850f-36a1da96296b",
   "metadata": {},
   "outputs": [
    {
     "name": "stdout",
     "output_type": "stream",
     "text": [
      "tuple of the first n power of 2 is  : (1, 2, 4, 8, 16)\n"
     ]
    }
   ],
   "source": [
    "n = 5\n",
    "power_tuple = tuple(2**i for i in range(n))\n",
    "\n",
    "print(\"tuple of the first n power of 2 is  :\",power_tuple)\n"
   ]
  },
  {
   "cell_type": "markdown",
   "id": "210cd669-47fd-4c87-a129-daebfbd4b7e2",
   "metadata": {},
   "source": [
    "46. Find the longest string in a tuple of strings.\n"
   ]
  },
  {
   "cell_type": "code",
   "execution_count": 10,
   "id": "31b64b7b-daa1-4a88-808f-48559be7e43a",
   "metadata": {},
   "outputs": [
    {
     "name": "stdout",
     "output_type": "stream",
     "text": [
      "longest_tuple: watermelon\n"
     ]
    }
   ],
   "source": [
    "string_tuple = (\"apple\", \"banana\", \"grape\", \"kiwi\", \"watermelon\")\n",
    "\n",
    "longest_tuple = max(string_tuple,key = len)\n",
    "print(\"longest_tuple:\",longest_tuple)"
   ]
  },
  {
   "cell_type": "markdown",
   "id": "a58cb910-f70f-4190-9d8a-1c1a8b7e8910",
   "metadata": {},
   "source": [
    "47. Find the shortest string in a tuple of strings.\n"
   ]
  },
  {
   "cell_type": "code",
   "execution_count": 11,
   "id": "8eaa97ff-d134-4e1e-aa1f-325cd341ee46",
   "metadata": {},
   "outputs": [
    {
     "name": "stdout",
     "output_type": "stream",
     "text": [
      "longest_tuple: kiwi\n"
     ]
    }
   ],
   "source": [
    "string_tuple = (\"apple\", \"banana\", \"grape\", \"kiwi\", \"watermelon\")\n",
    "\n",
    "longest_tuple = min(string_tuple,key = len)\n",
    "print(\"longest_tuple:\",longest_tuple)"
   ]
  },
  {
   "cell_type": "markdown",
   "id": "46dc3ec9-4414-4392-9b6c-6638fe227b25",
   "metadata": {},
   "source": [
    "48. Create a tuple of the first `n` triangular numbers.\n"
   ]
  },
  {
   "cell_type": "code",
   "execution_count": 12,
   "id": "8d13322d-74ea-42e0-9393-7a646a7eb208",
   "metadata": {},
   "outputs": [
    {
     "name": "stdout",
     "output_type": "stream",
     "text": [
      "triangluar number is : (1, 3, 6, 10, 15)\n"
     ]
    }
   ],
   "source": [
    "n =5\n",
    "create = tuple((i*(i+1)//2 for i in range(1,n+1)))\n",
    "\n",
    "print(\"triangluar number is :\",create)"
   ]
  },
  {
   "cell_type": "markdown",
   "id": "64115ad8-3043-41ed-a7c8-4b48dae15a36",
   "metadata": {},
   "source": [
    "49. Check if a tuple contains another tuple as a subsequence.\n"
   ]
  },
  {
   "cell_type": "code",
   "execution_count": 6,
   "id": "25c14d81-11e1-41e3-81b4-5529af967be2",
   "metadata": {},
   "outputs": [
    {
     "name": "stdout",
     "output_type": "stream",
     "text": [
      "checking (1,2,3,4,5) is a subsequence tuple of (1,2,3) and it is  True\n"
     ]
    }
   ],
   "source": [
    "def subsequence(main_tuple,sub_tuple):\n",
    "    \n",
    "    if len(main_tuple)<len(sub_tuple):\n",
    "        return False\n",
    "    sub_index = 0\n",
    "    for element in main_tuple:\n",
    "        if sub_index < len(sub_tuple) and element == sub_tuple[sub_index]:\n",
    "            sub_index += 1\n",
    "        if sub_index == len(sub_tuple):\n",
    "            return True\n",
    "    return False\n",
    "#example:\n",
    "\n",
    "main_tuple = (1,2,3,4,5)\n",
    "sub_tuple = (1,2,3)\n",
    "res = subsequence(main_tuple,sub_tuple)\n",
    "print(\"checking (1,2,3,4,5) is a subsequence tuple of (1,2,3) and it is: \",res)"
   ]
  },
  {
   "cell_type": "markdown",
   "id": "dc1bf6b1-6ba5-49b5-a5e1-e0a57deb5a64",
   "metadata": {},
   "source": [
    "50. Create a tuple of alternating 1s and 0s of length `n`."
   ]
  },
  {
   "cell_type": "code",
   "execution_count": 8,
   "id": "d7415f8a-37e5-489b-a559-26c568a5d8d1",
   "metadata": {},
   "outputs": [
    {
     "name": "stdout",
     "output_type": "stream",
     "text": [
      "tuple alternating with 1s and 0s are : (0, 1, 0, 1, 0, 1, 0, 1, 0, 1, 0, 1, 0, 1, 0, 1, 0, 1, 0, 1)\n"
     ]
    }
   ],
   "source": [
    "n = 20 \n",
    "\n",
    "tuple_alternaating = tuple(i % 2 for i in range(n))\n",
    "\n",
    "print(\"tuple alternating with 1s and 0s are :\",tuple_alternaating)"
   ]
  },
  {
   "cell_type": "raw",
   "id": "16bb0a71-4817-48d9-9c0a-27af01324acf",
   "metadata": {},
   "source": [
    "##Set Based Practice Problem :\n"
   ]
  },
  {
   "cell_type": "markdown",
   "id": "8e7515be-3d93-4fbb-81aa-b0b007e7596e",
   "metadata": {},
   "source": [
    "1. Create a set with integers from 1 to 5.\n"
   ]
  },
  {
   "cell_type": "code",
   "execution_count": 10,
   "id": "abf97938-a75c-467e-9d99-971c9b3807be",
   "metadata": {},
   "outputs": [
    {
     "name": "stdout",
     "output_type": "stream",
     "text": [
      "{1, 2, 3, 4, 5}\n"
     ]
    }
   ],
   "source": [
    "r = set(range(1,6))\n",
    "\n",
    "print(r)"
   ]
  },
  {
   "cell_type": "markdown",
   "id": "6e8e6e1e-452a-4b7e-a6de-f83bad678928",
   "metadata": {},
   "source": [
    "2. Add an element to a set.\n"
   ]
  },
  {
   "cell_type": "code",
   "execution_count": 20,
   "id": "d5c2ce09-bd65-441b-b523-939a35845697",
   "metadata": {},
   "outputs": [
    {
     "name": "stdout",
     "output_type": "stream",
     "text": [
      "{1, 2, 3}\n",
      "{1, 2, 3, 7}\n"
     ]
    }
   ],
   "source": [
    "rv = {1,2,3}\n",
    "print(rv)\n",
    "\n",
    "element = 7\n",
    "rv.add(element)\n",
    "\n",
    "print(rv)"
   ]
  },
  {
   "cell_type": "markdown",
   "id": "ada050d6-e7b6-4006-8ab3-7b09f72039d5",
   "metadata": {},
   "source": [
    "3. Remove an element from a set.\n"
   ]
  },
  {
   "cell_type": "code",
   "execution_count": 22,
   "id": "f593530d-7e02-4719-b39c-46b30140fcec",
   "metadata": {},
   "outputs": [
    {
     "name": "stdout",
     "output_type": "stream",
     "text": [
      "{1, 2, 3}\n",
      "{1, 3}\n"
     ]
    }
   ],
   "source": [
    "rv = {1,2,3}\n",
    "print(rv)\n",
    "\n",
    "element = 2\n",
    "rv.remove(element)\n",
    "print(rv)"
   ]
  },
  {
   "cell_type": "markdown",
   "id": "aee34093-d507-4b7f-bfab-53a5d7cb4d4c",
   "metadata": {},
   "source": [
    "4. Check if an element exists in a set.\n"
   ]
  },
  {
   "cell_type": "code",
   "execution_count": 24,
   "id": "08fc72ec-5edd-48de-ab80-957fb1e23dd1",
   "metadata": {},
   "outputs": [
    {
     "name": "stdin",
     "output_type": "stream",
     "text": [
      "Enter the the digit to check weather it exist in set_elemnt 5\n"
     ]
    },
    {
     "name": "stdout",
     "output_type": "stream",
     "text": [
      "yes it exist\n"
     ]
    }
   ],
   "source": [
    "set_element = {1,2,3,4,5,6,7,8,9,10}\n",
    "\n",
    "checker = int(input(\"Enter the the digit to check weather it exist in set_elemnt\"))\n",
    "\n",
    "if checker in set_element:\n",
    "    print(\"yes it exist\")\n",
    "    \n",
    "else:\n",
    "    print(\"no it do not exist\")"
   ]
  },
  {
   "cell_type": "markdown",
   "id": "9926955e-3111-4ad0-956f-e8aa0f9a5256",
   "metadata": {},
   "source": [
    "5. Find the length of a set without using the `len()` function.\n"
   ]
  },
  {
   "cell_type": "code",
   "execution_count": 28,
   "id": "8f99d2fa-1192-45c3-96b9-865b1252de84",
   "metadata": {},
   "outputs": [
    {
     "name": "stdout",
     "output_type": "stream",
     "text": [
      "length of set is : 5\n"
     ]
    }
   ],
   "source": [
    "my_set = {1,2,3,4,5}\n",
    "\n",
    "count = 0\n",
    "\n",
    "for i in my_set:\n",
    "    count +=1\n",
    "    \n",
    "print(\"length of set is :\",count)"
   ]
  },
  {
   "cell_type": "markdown",
   "id": "eeba8ec5-9efb-4006-88c7-509a9d3fbf1f",
   "metadata": {},
   "source": [
    "6. Clear all elements from a set.\n"
   ]
  },
  {
   "cell_type": "code",
   "execution_count": 29,
   "id": "73f3a284-1693-4d64-b842-cc41ae225aed",
   "metadata": {},
   "outputs": [
    {
     "name": "stdout",
     "output_type": "stream",
     "text": [
      "my_set : {1, 2, 3, 4, 5}\n",
      "after clearing set : set()\n"
     ]
    }
   ],
   "source": [
    "my_set = {1,2,3,4,5}\n",
    "\n",
    "print(\"my_set :\",my_set)\n",
    "\n",
    "clear = my_set.clear()\n",
    "\n",
    "print(\"after clearing set :\", my_set)"
   ]
  },
  {
   "cell_type": "markdown",
   "id": "62deae39-101d-47e1-a012-54003be7e2e4",
   "metadata": {},
   "source": [
    "7. Create a set of even numbers from 1 to 10.\n"
   ]
  },
  {
   "cell_type": "code",
   "execution_count": 37,
   "id": "56cbf37b-df99-4eac-8bc3-b4d0607e5ec0",
   "metadata": {},
   "outputs": [
    {
     "name": "stdout",
     "output_type": "stream",
     "text": [
      "{2, 4, 6, 8, 10}\n"
     ]
    }
   ],
   "source": [
    "blank_set = set()\n",
    "for i in range(1,11):\n",
    "    if i%2 == 0:\n",
    "        blank_set.add(i)\n",
    "print(blank_set)"
   ]
  },
  {
   "cell_type": "markdown",
   "id": "f6bc6352-e87f-4839-bb12-16d7c1ceef2f",
   "metadata": {},
   "source": [
    "8. Create a set of odd numbers from 1 to 10.\n"
   ]
  },
  {
   "cell_type": "code",
   "execution_count": 38,
   "id": "6804df99-3061-4058-95b9-4ffdd4c0a68d",
   "metadata": {},
   "outputs": [
    {
     "name": "stdout",
     "output_type": "stream",
     "text": [
      "{1, 3, 5, 7, 9}\n"
     ]
    }
   ],
   "source": [
    "blank_set = set()\n",
    "for i in range(1,11):\n",
    "    if i%2 != 0:\n",
    "        blank_set.add(i)\n",
    "print(blank_set)"
   ]
  },
  {
   "cell_type": "markdown",
   "id": "fd46f57f-fe23-4e1a-a60e-bbd07310b884",
   "metadata": {},
   "source": [
    "9. Find the union of two sets.\n"
   ]
  },
  {
   "cell_type": "code",
   "execution_count": 41,
   "id": "67a3de16-fe7c-4a2a-a5e3-fe5aabaa4259",
   "metadata": {},
   "outputs": [
    {
     "name": "stdout",
     "output_type": "stream",
     "text": [
      "set1 {1, 2, 3, 4, 5}\n",
      "set2 {0, 6, 7, 8, 9}\n",
      "Union of set1 and set2 {0, 1, 2, 3, 4, 5, 6, 7, 8, 9}\n"
     ]
    }
   ],
   "source": [
    "set1 = {1,2,3,4,5}\n",
    "set2 = {6,7,8,9,0}\n",
    "\n",
    "set3= set1.union(set2)\n",
    "\n",
    "print(\"set1\",set1)\n",
    "print(\"set2\",set2)\n",
    "print(\"Union of set1 and set2\",set3)"
   ]
  },
  {
   "cell_type": "markdown",
   "id": "f32eaee5-9189-4e62-9c4c-a13e6471693f",
   "metadata": {},
   "source": [
    "10. Find the intersection of two sets.\n"
   ]
  },
  {
   "cell_type": "code",
   "execution_count": 44,
   "id": "27184fa2-063c-4e98-82f3-80d9b63c130f",
   "metadata": {},
   "outputs": [
    {
     "name": "stdout",
     "output_type": "stream",
     "text": [
      "set1 {1, 2, 3, 4, 5}\n",
      "set2 {3, 4, 5}\n",
      "Intersection of set1 and set2 {3, 4, 5}\n"
     ]
    }
   ],
   "source": [
    "set1 = {1,2,3,4,5}\n",
    "set2 = {3,4,5}\n",
    "\n",
    "set3= set1.intersection(set2)\n",
    "\n",
    "print(\"set1\",set1)\n",
    "print(\"set2\",set2)\n",
    "print(\"Intersection of set1 and set2\",set3)"
   ]
  },
  {
   "cell_type": "markdown",
   "id": "74843a8d-64da-4eb4-85a2-65216455c44b",
   "metadata": {},
   "source": [
    "11. Find the difference between two sets.\n"
   ]
  },
  {
   "cell_type": "code",
   "execution_count": 45,
   "id": "6803f11b-c9fb-4846-8803-bf5aef265b28",
   "metadata": {},
   "outputs": [
    {
     "name": "stdout",
     "output_type": "stream",
     "text": [
      "set1 {1, 2, 3, 4, 5}\n",
      "set2 {3, 4, 5}\n",
      "Diffrence of set1 and set2 {1, 2}\n"
     ]
    }
   ],
   "source": [
    "set1 = {1,2,3,4,5}\n",
    "set2 = {3,4,5}\n",
    "\n",
    "set3= set1.difference(set2)\n",
    "\n",
    "print(\"set1\",set1)\n",
    "print(\"set2\",set2)\n",
    "print(\"Diffrence of set1 and set2\",set3)"
   ]
  },
  {
   "cell_type": "markdown",
   "id": "b8e73081-eec4-4a29-b3bb-e30a4f215af1",
   "metadata": {},
   "source": [
    "12. Check if a set is a subset of another set.\n"
   ]
  },
  {
   "cell_type": "code",
   "execution_count": 59,
   "id": "2b15341e-8c69-455d-bc49-5cc4153657ac",
   "metadata": {},
   "outputs": [
    {
     "name": "stdout",
     "output_type": "stream",
     "text": [
      "set1 {3, 4, 5}\n",
      "set2 {1, 2, 3, 4, 5}\n",
      "Subset of set1 and set2: True\n"
     ]
    }
   ],
   "source": [
    "set1 = {3,4,5}\n",
    "set2 = {1,2,3,4,5}\n",
    "\n",
    "set3= set1.issubset(set2)\n",
    "\n",
    "print(\"set1\",set1)\n",
    "print(\"set2\",set2)\n",
    "print(\"Subset of set1 and set2:\",set3)"
   ]
  },
  {
   "cell_type": "markdown",
   "id": "4fa65cf2-105b-445e-a830-895ba350b248",
   "metadata": {},
   "source": [
    "13. Check if a set is a superset of another set.\n"
   ]
  },
  {
   "cell_type": "code",
   "execution_count": 61,
   "id": "72a464ef-acc9-4716-a3dc-ffd9dd9a5817",
   "metadata": {},
   "outputs": [
    {
     "name": "stdout",
     "output_type": "stream",
     "text": [
      "set1 is a superset of set2\n"
     ]
    }
   ],
   "source": [
    "set1 = {1,2,3,4,5}\n",
    "set2 = {3,4,5}\n",
    "\n",
    "set3= set1.issuperset(set2)\n",
    "\n",
    "if set3 :\n",
    "    print(\"set1 is a superset of set2\")\n",
    "else:\n",
    "    print(\"set1 is not a superset of set2\")"
   ]
  },
  {
   "cell_type": "markdown",
   "id": "156aec58-2b57-4830-9a54-f0868c7a7b3e",
   "metadata": {},
   "source": [
    "14. Create a set from a list.\n"
   ]
  },
  {
   "cell_type": "code",
   "execution_count": 65,
   "id": "b50c79e0-b4a5-4b05-b965-856b1c53ba99",
   "metadata": {},
   "outputs": [
    {
     "name": "stdout",
     "output_type": "stream",
     "text": [
      "list : [1, 2, 3, 4, 5]\n",
      "list to set : {1, 2, 3, 4, 5}\n"
     ]
    }
   ],
   "source": [
    "list1 = [1,2,3,4,5]\n",
    "\n",
    "set1 = set(list1)\n",
    "\n",
    "print(\"list :\" ,list1)\n",
    "print(\"list to set :\",set1) "
   ]
  },
  {
   "cell_type": "markdown",
   "id": "59622482-3ba1-4b4c-b9dd-2f88658c1817",
   "metadata": {},
   "source": [
    "15. Convert a set to a list."
   ]
  },
  {
   "cell_type": "code",
   "execution_count": 64,
   "id": "633e078e-2883-4f59-a485-91a7c3c18b96",
   "metadata": {},
   "outputs": [
    {
     "name": "stdout",
     "output_type": "stream",
     "text": [
      "set: {1, 2, 3, 4}\n",
      "set to list :  [1, 2, 3, 4]\n"
     ]
    }
   ],
   "source": [
    "s1 = {1,2,3,4}\n",
    "\n",
    "l1 = list(s1)\n",
    "\n",
    "print(\"set:\",s1)\n",
    "print(\"set to list : \",l1)"
   ]
  },
  {
   "cell_type": "markdown",
   "id": "38bd25e5-d005-4f4c-b9e3-4df4539c4eff",
   "metadata": {},
   "source": [
    "16. Remove a random element from a set.\n",
    "\n"
   ]
  },
  {
   "cell_type": "code",
   "execution_count": 4,
   "id": "fc5123e8-1b29-48cb-8543-d1ecbd41ad31",
   "metadata": {},
   "outputs": [
    {
     "name": "stdout",
     "output_type": "stream",
     "text": [
      "Orignal Set : {1, 2, 3, 4, 5, 6, 7}\n",
      "removing random element from my set is : 5 after remove element from my set : {1, 2, 3, 4, 6, 7}\n"
     ]
    }
   ],
   "source": [
    "import random\n",
    "\n",
    "my_set = {1,2,3,4,5,6,7} \n",
    "\n",
    "print(\"Orignal Set :\",my_set)\n",
    "\n",
    "remove_random = random.choice(list(my_set))\n",
    "\n",
    "my_set.remove(remove_random)\n",
    "\n",
    "print(\"removing random element from my set is :\",remove_random,\"after remove element from my set :\",my_set)"
   ]
  },
  {
   "cell_type": "markdown",
   "id": "71bcdca6-ba88-414e-bd9a-86cd2cca836c",
   "metadata": {},
   "source": [
    "17. Pop an element from a set.\n"
   ]
  },
  {
   "cell_type": "code",
   "execution_count": 5,
   "id": "2c44db84-e3ef-458b-9cff-9631c90c9aa5",
   "metadata": {},
   "outputs": [
    {
     "name": "stdout",
     "output_type": "stream",
     "text": [
      "Orignal Set : {1, 2, 3, 4, 5, 6, 7}\n",
      "Item poped from set is : 1\n",
      "set after po is :  {2, 3, 4, 5, 6, 7}\n"
     ]
    }
   ],
   "source": [
    "my_set = {1,2,3,4,5,6,7} \n",
    "\n",
    "print(\"Orignal Set :\",my_set)\n",
    "\n",
    "pop_element  = my_set.pop()\n",
    "\n",
    "print(\"Item poped from set is :\",pop_element)\n",
    "\n",
    "print(\"set after po is : \", my_set)"
   ]
  },
  {
   "cell_type": "markdown",
   "id": "a1bf5bae-a1c8-4d24-aa11-d56ec6d4ecd6",
   "metadata": {},
   "source": [
    "18. Check if two sets have no elements in common.\n"
   ]
  },
  {
   "cell_type": "code",
   "execution_count": 1,
   "id": "3f6cb6f5-5456-43ac-acfb-37d1aa1995a2",
   "metadata": {},
   "outputs": [
    {
     "name": "stdout",
     "output_type": "stream",
     "text": [
      "the common elements are : {1, 3, 4, 5}\n"
     ]
    }
   ],
   "source": [
    "set1 = {1,2,3,4,5}\n",
    "set2 = {1,5,3,4}\n",
    "\n",
    "common_elements = set1.intersection(set2)\n",
    "\n",
    "if not common_elements:\n",
    "    print(\"There is no common elements\")\n",
    "    \n",
    "else:\n",
    "    print(\"the common elements are :\",common_elements)"
   ]
  },
  {
   "cell_type": "markdown",
   "id": "f043700c-a756-43c7-a588-d0a702de51d3",
   "metadata": {},
   "source": [
    "19. Find the symmetric difference between two sets.\n"
   ]
  },
  {
   "cell_type": "code",
   "execution_count": 3,
   "id": "aeb45931-770d-4441-8feb-a5fb1f4a40d6",
   "metadata": {},
   "outputs": [
    {
     "name": "stdout",
     "output_type": "stream",
     "text": [
      "symmetric Diffrence : {0, 1, 4, 5, 6, 7, 8, 9}\n"
     ]
    }
   ],
   "source": [
    "set1 = {1,2,3,4,5,6,7}\n",
    "set2 = {3,2,8,9,0}\n",
    "\n",
    "symmetric = set1 ^ set2\n",
    "\n",
    "print(\"symmetric Diffrence :\",symmetric)"
   ]
  },
  {
   "cell_type": "markdown",
   "id": "dbd7557c-3ff1-4b7b-9b08-baa5cf8b37d4",
   "metadata": {},
   "source": [
    "20. Update a set with elements from another set.\n"
   ]
  },
  {
   "cell_type": "code",
   "execution_count": 6,
   "id": "2acda23c-86a4-472d-90b6-dcb9357a833a",
   "metadata": {},
   "outputs": [
    {
     "name": "stdout",
     "output_type": "stream",
     "text": [
      "Set 1 : {1, 2, 3}\n",
      "Set 2 : {4, 5, 6}\n",
      "new update value is : {1, 2, 3, 4, 5, 6}\n"
     ]
    }
   ],
   "source": [
    "set1 = {1,2,3}\n",
    "\n",
    "print(\"Set 1 :\",set1)\n",
    "\n",
    "set2 = {4,5,6}\n",
    "\n",
    "print(\"Set 2 :\",set2)\n",
    "\n",
    "set1.update(set2)\n",
    "print(\"new update value is :\",set1)"
   ]
  },
  {
   "cell_type": "markdown",
   "id": "e4dd613e-2658-4793-a2b1-f7cebfb005d6",
   "metadata": {},
   "source": [
    "21. Create a set of the first 5 prime numbers.\n"
   ]
  },
  {
   "cell_type": "code",
   "execution_count": 10,
   "id": "6ebf61f0-d3c0-495b-b63e-741d7c79ef25",
   "metadata": {},
   "outputs": [
    {
     "name": "stdout",
     "output_type": "stream",
     "text": [
      "{4, 6, 8, 9, 10}\n"
     ]
    }
   ],
   "source": [
    "def is_prime(n):\n",
    "    if n < 2:\n",
    "        return False\n",
    "    for i in  range(2,int(n**0.5) + 1):\n",
    "        if n % i == 0:\n",
    "            return True\n",
    "    return False\n",
    "\n",
    "prime_s = set()\n",
    "num = 2\n",
    "\n",
    "while len(prime_s) < 5 :\n",
    "    if is_prime(num):\n",
    "        prime_s.add(num)\n",
    "    num += 1\n",
    "        \n",
    "print(prime_s)"
   ]
  },
  {
   "cell_type": "markdown",
   "id": "f4ac152c-01d1-4ffb-a8de-a2e23c5f992c",
   "metadata": {},
   "source": [
    "22. Check if two sets are identical.\n"
   ]
  },
  {
   "cell_type": "code",
   "execution_count": 11,
   "id": "d67aa179-b2b3-4514-b012-11911510371e",
   "metadata": {},
   "outputs": [
    {
     "name": "stdout",
     "output_type": "stream",
     "text": [
      "Both are identical\n"
     ]
    }
   ],
   "source": [
    "set1 = {1,2,3,4,5}\n",
    "set2 = {5,4,1,2,3}\n",
    "\n",
    "if set1 == set2  :\n",
    "    print(\"Both are identical\")\n",
    "    \n",
    "else:\n",
    "    print(\"Both are not identical\")"
   ]
  },
  {
   "cell_type": "markdown",
   "id": "af6b4fef-ff41-4885-b5cc-1c5db222489a",
   "metadata": {},
   "source": [
    "23. Create a frozen set.\n"
   ]
  },
  {
   "cell_type": "code",
   "execution_count": 12,
   "id": "2cb81dad-4260-4518-9c88-4a6c1206da83",
   "metadata": {},
   "outputs": [
    {
     "name": "stdout",
     "output_type": "stream",
     "text": [
      "Frozen set is : frozenset({1, 2, 3, 4, 5})\n"
     ]
    }
   ],
   "source": [
    "elem = [1,2,3,4,5]\n",
    "\n",
    "frozen_element =frozenset(elem)\n",
    "\n",
    "print(\"Frozen set is :\", frozen_element)"
   ]
  },
  {
   "cell_type": "markdown",
   "id": "493715e3-69b2-47d7-8fe9-58bf9d537729",
   "metadata": {},
   "source": [
    "24. Check if a set is disjoint with another set.\n"
   ]
  },
  {
   "cell_type": "code",
   "execution_count": 14,
   "id": "8fe3697f-5a64-4b58-a3de-9c40c96fc9b7",
   "metadata": {},
   "outputs": [
    {
     "name": "stdout",
     "output_type": "stream",
     "text": [
      "Set a disjoint : True\n"
     ]
    }
   ],
   "source": [
    "set1 = {1,2,3,4,5}\n",
    "set2 = {6,7,8,9,10}\n",
    "\n",
    "check_disjoint = set1.isdisjoint(set2)\n",
    "\n",
    "print(\"Set a disjoint :\",check_disjoint)"
   ]
  },
  {
   "cell_type": "markdown",
   "id": "8f12322a-a8e9-4c5b-bd5b-4988f3f33482",
   "metadata": {},
   "source": [
    "25. Create a set of squares of numbers from 1 to 5.\n"
   ]
  },
  {
   "cell_type": "code",
   "execution_count": 16,
   "id": "6fce457d-3601-48eb-a265-488aa2d618ea",
   "metadata": {},
   "outputs": [
    {
     "name": "stdout",
     "output_type": "stream",
     "text": [
      "{1, 4, 9, 16, 25}\n"
     ]
    }
   ],
   "source": [
    "square = set()\n",
    "\n",
    "for i in range(1,6):\n",
    "    x = i**2\n",
    "    square.add(x)\n",
    "    \n",
    "print(square)"
   ]
  },
  {
   "cell_type": "markdown",
   "id": "f0259c34-76d7-4020-b5b1-7038318329db",
   "metadata": {},
   "source": [
    "26. Filter out all even numbers from a set.\n"
   ]
  },
  {
   "cell_type": "code",
   "execution_count": 23,
   "id": "eb27306c-ef09-450c-a7bb-88286ed9927a",
   "metadata": {},
   "outputs": [
    {
     "name": "stdout",
     "output_type": "stream",
     "text": [
      "orignal set {1, 2, 3, 4, 5, 6, 7, 8, 9, 10, 11, 12, 13, 14, 15, 16, 17, 18, 19, 20}\n",
      "Filter out even from orignal set : {2, 4, 6, 8, 10, 12, 14, 16, 18, 20}\n"
     ]
    }
   ],
   "source": [
    "my_set = set(range(1,21))\n",
    "\n",
    "empty_set = set()\n",
    "\n",
    "for num in my_set:\n",
    "    if num% 2==0:\n",
    "        empty_set.add(num)\n",
    "print(\"orignal set\", my_set)\n",
    "print(\"Filter out even from orignal set :\", empty_set)"
   ]
  },
  {
   "cell_type": "markdown",
   "id": "3d9ff673-d42f-495f-bf67-6a2e01a65554",
   "metadata": {},
   "source": [
    "27. Multiply all elements in a set by 2.\n"
   ]
  },
  {
   "cell_type": "code",
   "execution_count": 27,
   "id": "3c254c51-beb7-4261-9427-2d14e8115f92",
   "metadata": {},
   "outputs": [
    {
     "name": "stdout",
     "output_type": "stream",
     "text": [
      "Orignal_set {1, 2, 3, 4, 5, 6, 7, 8, 9}\n",
      "Set after mutilpied by 2 is : {2, 4, 6, 8, 10, 12, 14, 16, 18}\n"
     ]
    }
   ],
   "source": [
    "my_set = set(range(1,10))\n",
    "\n",
    "multiply_set = set()\n",
    "\n",
    "for i in my_set:\n",
    "    x = i*2\n",
    "    multiply_set.add(x)\n",
    "    \n",
    "print(\"Orignal_set\",my_set)\n",
    "print(\"Set after mutilpied by 2 is :\",multiply_set)"
   ]
  },
  {
   "cell_type": "markdown",
   "id": "b1616bd7-8029-4238-8e21-dbef60739ef4",
   "metadata": {},
   "source": [
    "28. Create a set of random numbers.\n"
   ]
  },
  {
   "cell_type": "code",
   "execution_count": 29,
   "id": "0f227cda-6c41-440e-90fc-17d1d958a317",
   "metadata": {},
   "outputs": [
    {
     "name": "stdout",
     "output_type": "stream",
     "text": [
      "{2, 66, 4, 67, 11, 12, 44, 78, 18, 90}\n"
     ]
    }
   ],
   "source": [
    "import random\n",
    "\n",
    "num_random  = 10\n",
    "my_set = set()\n",
    "\n",
    "for i in range(num_random):\n",
    "    ran = random.randint(1,100)\n",
    "    my_set.add(ran)\n",
    "    \n",
    "print(my_set)"
   ]
  },
  {
   "cell_type": "markdown",
   "id": "3de3f735-c14d-474b-9d81-1ee8867e5d33",
   "metadata": {},
   "source": [
    "29. Check if a set is empty.\n"
   ]
  },
  {
   "cell_type": "code",
   "execution_count": 30,
   "id": "766f1360-7fa6-472d-953f-2f1e4b9da65f",
   "metadata": {},
   "outputs": [
    {
     "name": "stdout",
     "output_type": "stream",
     "text": [
      "the set is empty\n"
     ]
    }
   ],
   "source": [
    "my_set = set()\n",
    "\n",
    "if not my_set:\n",
    "    print(\"the set is empty\")\n",
    "    \n",
    "else:\n",
    "    print(\"the set is not empty\")"
   ]
  },
  {
   "cell_type": "markdown",
   "id": "0b4d5f3c-d5ba-4677-aab1-ec5c7a3bfa1e",
   "metadata": {},
   "source": [
    "###### 30. Create a nested set (hint: use frozenset).\n"
   ]
  },
  {
   "cell_type": "code",
   "execution_count": 1,
   "id": "3e848f2b-0e74-474f-abfc-0f7a332d9850",
   "metadata": {},
   "outputs": [
    {
     "name": "stdout",
     "output_type": "stream",
     "text": [
      "nested set : (frozenset({1, 2, 3, 4, 5}), frozenset({6, 7, 8, 9, 10}))\n"
     ]
    }
   ],
   "source": [
    "set1 = {1,2,3,4,5}\n",
    "set2 = {6,7,8,9,10}\n",
    "\n",
    "nested_set = frozenset(set1),frozenset(set2)\n",
    "\n",
    "print(\"nested set :\", nested_set)"
   ]
  },
  {
   "cell_type": "markdown",
   "id": "b92b0731-6807-465e-977b-1c6ce4125536",
   "metadata": {},
   "source": [
    "31. Remove an element from a set using the discard method."
   ]
  },
  {
   "cell_type": "code",
   "execution_count": 2,
   "id": "596939d7-1c8b-4e12-8e5b-1d88c75cfd59",
   "metadata": {},
   "outputs": [
    {
     "name": "stdout",
     "output_type": "stream",
     "text": [
      "Actual set : {1, 2, 3, 4, 5}\n",
      "Set after removeing the element : {1, 2, 4, 5}\n"
     ]
    }
   ],
   "source": [
    "set1 = {1,2,3,4,5}\n",
    "\n",
    "print(\"Actual set :\",set1)\n",
    "\n",
    "element_remove = 3\n",
    "\n",
    "set1.discard(element_remove)\n",
    "\n",
    "print(\"Set after removeing the element :\",set1)"
   ]
  },
  {
   "cell_type": "markdown",
   "id": "d117b0f8-e561-43fc-847e-a1138becf588",
   "metadata": {},
   "source": [
    "32. Compare two sets.\n",
    "\n"
   ]
  },
  {
   "cell_type": "code",
   "execution_count": 4,
   "id": "dd7e4d57-eef4-4929-b743-625b937c0d9a",
   "metadata": {
    "tags": []
   },
   "outputs": [
    {
     "name": "stdout",
     "output_type": "stream",
     "text": [
      "is s1 a subset of s2 ? False\n",
      "is s2  a subset os s1 ? False\n",
      "element is s1 but not in s2 : {3, 4, 5}\n",
      "element is s1 but not in s2 : {8, 6, 7}\n",
      "Union of s1 and s2 : {1, 2, 3, 4, 5, 6, 7, 8}\n",
      "Intersection of s1 and s2 : {1, 2}\n"
     ]
    }
   ],
   "source": [
    "s1 = {1,2,3,4,5}\n",
    "s2 = {1,2,6,7,8}\n",
    "\n",
    "is_subset = s1.issubset(s2)\n",
    "is_superset = s1.issuperset(s2)\n",
    "\n",
    "diffrence1 = s1.difference(s2)\n",
    "diffrence2 = s2.difference(s1)\n",
    "\n",
    "union = s1.union(s2)\n",
    "intersection = s1.intersection(s2)\n",
    "\n",
    "print(\"is s1 a subset of s2 ?\",is_subset)\n",
    "print(\"is s2  a subset os s1 ?\",is_superset)\n",
    "print(\"element is s1 but not in s2 :\",diffrence1)\n",
    "print(\"element is s1 but not in s2 :\",diffrence2)\n",
    "print(\"Union of s1 and s2 :\",union)\n",
    "print(\"Intersection of s1 and s2 :\",intersection)"
   ]
  },
  {
   "cell_type": "markdown",
   "id": "c25f4ed8-8a30-4cf9-9ba6-7bc19700e3ee",
   "metadata": {},
   "source": [
    "33. Create a set from a string.\n"
   ]
  },
  {
   "cell_type": "code",
   "execution_count": 7,
   "id": "55da7329-62c2-4b82-b6da-9d3227be474d",
   "metadata": {},
   "outputs": [
    {
     "name": "stdin",
     "output_type": "stream",
     "text": [
      "enter a word ! cock\n"
     ]
    },
    {
     "name": "stdout",
     "output_type": "stream",
     "text": [
      "{'o', 'c', 'k'}\n"
     ]
    }
   ],
   "source": [
    "string_input = input(\"enter a word !\")\n",
    "\n",
    "char_set = set(string_input)\n",
    "\n",
    "print(char_set)"
   ]
  },
  {
   "cell_type": "markdown",
   "id": "ae644754-bf74-4201-90a1-5a1762acf080",
   "metadata": {},
   "source": [
    "34. Convert a set of strings to a set of integers.\n"
   ]
  },
  {
   "cell_type": "code",
   "execution_count": 10,
   "id": "612ca935-c288-40c3-bdca-624cc7479630",
   "metadata": {},
   "outputs": [
    {
     "name": "stdout",
     "output_type": "stream",
     "text": [
      "Orignal set : {'789', '123', '456'}\n",
      "After Conversion to intiger : {456, 123, 789}\n"
     ]
    }
   ],
   "source": [
    "org_set = {\"123\",\"456\",\"789\"}\n",
    "\n",
    "final_set = set()\n",
    "\n",
    "for i in org_set:\n",
    "    integer = int(i)\n",
    "    final_set.add(integer)\n",
    "print(\"Orignal set :\",org_set)\n",
    "print(\"After Conversion to intiger :\",final_set)"
   ]
  },
  {
   "cell_type": "markdown",
   "id": "a84d5ae3-76ba-4884-96de-47b01ee881fe",
   "metadata": {},
   "source": [
    "35. Convert a set of integers to a set of strings.\n"
   ]
  },
  {
   "cell_type": "code",
   "execution_count": 11,
   "id": "3355b493-96bf-4440-a6c9-29782e754d51",
   "metadata": {},
   "outputs": [
    {
     "name": "stdout",
     "output_type": "stream",
     "text": [
      "Orignal set : {456, 123, 789}\n",
      "After Conversion to intiger : {'789', '123', '456'}\n"
     ]
    }
   ],
   "source": [
    "org_set = {123,456,789}\n",
    "\n",
    "final_set = set()\n",
    "\n",
    "for i in org_set:\n",
    "    string = str(i)\n",
    "    final_set.add(string)\n",
    "\n",
    "print(\"Orignal set :\",org_set)\n",
    "print(\"After Conversion to intiger :\",final_set)"
   ]
  },
  {
   "cell_type": "markdown",
   "id": "fa7f1424-6cf6-4380-919b-2ecbc671f6e5",
   "metadata": {},
   "source": [
    "36. Create a set from a tuple.\n"
   ]
  },
  {
   "cell_type": "code",
   "execution_count": 12,
   "id": "909a610c-920f-4e7a-868a-42076f29477c",
   "metadata": {},
   "outputs": [
    {
     "name": "stdout",
     "output_type": "stream",
     "text": [
      "Orignal Tuple : (1, 2, 3, 4, 5)\n",
      "Conersted to set : {1, 2, 3, 4, 5}\n"
     ]
    }
   ],
   "source": [
    "tuple_in = (1,2,3,4,5)\n",
    "\n",
    "convert = set(tuple_in)\n",
    "\n",
    "print(\"Orignal Tuple :\",tuple_in)\n",
    "print(\"Conersted to set :\",convert)"
   ]
  },
  {
   "cell_type": "markdown",
   "id": "c3ce552d-f63d-4c31-8378-bf1603f8c3d2",
   "metadata": {},
   "source": [
    "37. Convert a set to a tuple.\n"
   ]
  },
  {
   "cell_type": "code",
   "execution_count": 13,
   "id": "5db44417-ca41-46f7-ab2f-229f1b6342cc",
   "metadata": {},
   "outputs": [
    {
     "name": "stdout",
     "output_type": "stream",
     "text": [
      "Orignal set : {1, 2, 3, 4, 5}\n",
      "set after converted to tuple : (1, 2, 3, 4, 5)\n"
     ]
    }
   ],
   "source": [
    "set_my = {1,2,3,4,5}\n",
    "\n",
    "convert = tuple(set_my)\n",
    "\n",
    "print(\"Orignal set :\",set_my)\n",
    "print(\"set after converted to tuple :\",convert)"
   ]
  },
  {
   "cell_type": "markdown",
   "id": "532ee829-b8a3-4940-8c31-12700c071e6a",
   "metadata": {},
   "source": [
    "38. Find the maximum value in a set.\n"
   ]
  },
  {
   "cell_type": "code",
   "execution_count": 1,
   "id": "214b0bef-e991-4c32-b101-a1b6b37104ae",
   "metadata": {},
   "outputs": [
    {
     "name": "stdout",
     "output_type": "stream",
     "text": [
      "Maximum value in my set is: 5\n"
     ]
    }
   ],
   "source": [
    "my_set = {1,2,3,4,5}\n",
    "\n",
    "maximum = None\n",
    "\n",
    "for num in my_set:\n",
    "    if maximum is None or num > maximum:\n",
    "        maximum = num\n",
    "        \n",
    "print(\"Maximum value in my set is:\",maximum)"
   ]
  },
  {
   "cell_type": "markdown",
   "id": "9e19eb45-13f5-4f93-9fa0-fd62087f6dfd",
   "metadata": {},
   "source": [
    "39. Find the minimum value in a set.\n"
   ]
  },
  {
   "cell_type": "code",
   "execution_count": 2,
   "id": "de19a541-1069-423e-94b8-7e7a1ad46676",
   "metadata": {},
   "outputs": [
    {
     "name": "stdout",
     "output_type": "stream",
     "text": [
      "Maximum value in my set is: 1\n"
     ]
    }
   ],
   "source": [
    "my_set = {1,2,3,4,5}\n",
    "\n",
    "minimum = None\n",
    "\n",
    "for num in my_set:\n",
    "    if minimum is None or num < minimum:\n",
    "        minimum = num\n",
    "        \n",
    "print(\"Maximum value in my set is:\",minimum)"
   ]
  },
  {
   "cell_type": "markdown",
   "id": "ad2c61ab-02c2-43e3-b3d6-aa487e0a9d72",
   "metadata": {},
   "source": [
    "40. Create a set from user input.\n"
   ]
  },
  {
   "cell_type": "code",
   "execution_count": 4,
   "id": "c0f31dba-de46-4ea4-b74f-75c270643c6b",
   "metadata": {},
   "outputs": [
    {
     "name": "stdin",
     "output_type": "stream",
     "text": [
      "Enter a input to create a set 123\n"
     ]
    },
    {
     "name": "stdout",
     "output_type": "stream",
     "text": [
      "Set by using user input : {'3', '1', '2'}\n"
     ]
    }
   ],
   "source": [
    "user_input = input(\"Enter a input to create a set\")\n",
    "\n",
    "re = set(user_input)\n",
    "\n",
    "print(\"Set by using user input :\",re)"
   ]
  },
  {
   "cell_type": "code",
   "execution_count": 7,
   "id": "3e2abd83-220d-4007-b6a2-e46c2396f2d2",
   "metadata": {},
   "outputs": [
    {
     "name": "stdout",
     "output_type": "stream",
     "text": [
      "enter a element to add in a set and enter done when it is finished\n"
     ]
    },
    {
     "name": "stdin",
     "output_type": "stream",
     "text": [
      "--  hello\n",
      "--  shreya\n",
      "--  i love u\n",
      "--  done\n"
     ]
    },
    {
     "name": "stdout",
     "output_type": "stream",
     "text": [
      "{'hello', 'shreya', 'i love u'}\n"
     ]
    }
   ],
   "source": [
    "us = set()\n",
    "\n",
    "print (\"enter a element to add in a set and enter done when it is finished\")\n",
    "\n",
    "while True:\n",
    "    user_input = input(\"-- \")\n",
    "    \n",
    "    if user_input.lower() == 'done':\n",
    "        break\n",
    "        \n",
    "    us.add(user_input)\n",
    "print(us)\n",
    "    "
   ]
  },
  {
   "cell_type": "markdown",
   "id": "0bfb4bb5-6d23-4643-8685-db69ceed6534",
   "metadata": {},
   "source": [
    "\n",
    "41. Check if the intersection of two sets is empty.\n"
   ]
  },
  {
   "cell_type": "code",
   "execution_count": 9,
   "id": "9ce688be-50d6-4ba9-98a7-ccf2abdff68d",
   "metadata": {},
   "outputs": [
    {
     "name": "stdout",
     "output_type": "stream",
     "text": [
      "the set is empty intersection\n"
     ]
    }
   ],
   "source": [
    "s1 = {1,2,3,4,5}\n",
    "s2 = {6,7,8,9,10}\n",
    "\n",
    "intersection = s1.intersection(s2)\n",
    "\n",
    "if not intersection  :\n",
    "    print(\"the set is empty intersection\")\n",
    "    \n",
    "else:\n",
    "    print(\"the set is not empty intersection\")"
   ]
  },
  {
   "cell_type": "markdown",
   "id": "4f9fc533-5066-4ddc-9d79-ac443ca1101a",
   "metadata": {},
   "source": [
    "42. Create a set of the first 5 Fibonacci numbers.\n"
   ]
  },
  {
   "cell_type": "code",
   "execution_count": 10,
   "id": "754271a8-ea5b-4ceb-b0af-2fd6ede35bc0",
   "metadata": {},
   "outputs": [
    {
     "name": "stdout",
     "output_type": "stream",
     "text": [
      "the 5 fibonacci numbers are : {0, 1, 2, 3, 5}\n"
     ]
    }
   ],
   "source": [
    "fiboacci_set = set()\n",
    "\n",
    "a,b = 0,1\n",
    "\n",
    "for i in range(6):\n",
    "    fiboacci_set.add(a)\n",
    "    \n",
    "    a,b =b,a+b\n",
    "    \n",
    "print(\"the 5 fibonacci numbers are :\",fiboacci_set)\n",
    "    "
   ]
  },
  {
   "cell_type": "markdown",
   "id": "2a43f0e1-f5b3-45e6-a073-d1e7d706b310",
   "metadata": {},
   "source": [
    "43. Remove duplicates from a list using sets.\n"
   ]
  },
  {
   "cell_type": "code",
   "execution_count": 13,
   "id": "87eabb68-0bd0-42d1-91b5-59a8e1cb162e",
   "metadata": {},
   "outputs": [
    {
     "name": "stdout",
     "output_type": "stream",
     "text": [
      "Orignal list [2, 4, 6, 8, 4, 10, 6, 12, 14, 8]\n",
      "After remove duplicate from a list using set is : [2, 4, 6, 8, 10, 12, 14]\n"
     ]
    }
   ],
   "source": [
    "original_list = [2, 4, 6, 8, 4, 10, 6, 12, 14, 8]\n",
    "\n",
    "unique_set = set(original_list)\n",
    "\n",
    "re =list( unique_set)\n",
    "\n",
    "print(\"Orignal list\",original_list)\n",
    "print(\"After remove duplicate from a list using set is :\",re)"
   ]
  },
  {
   "cell_type": "markdown",
   "id": "d05faf27-4adb-4206-8ec6-8313750e5ec4",
   "metadata": {},
   "source": [
    "44. Check if two sets have the same elements, regardless of their count.\n"
   ]
  },
  {
   "cell_type": "code",
   "execution_count": 18,
   "id": "1c43b75d-0b6a-49da-888f-4355141e184a",
   "metadata": {},
   "outputs": [
    {
     "name": "stdout",
     "output_type": "stream",
     "text": [
      "Two set have the smae elements\n"
     ]
    }
   ],
   "source": [
    "def same_elements (set1,set2):\n",
    "    sorted_set1 = sorted(list(set1))\n",
    "    sorted_set2 = sorted(list(set2))\n",
    "    return sorted_set1 == sorted_set2\n",
    "\n",
    "#example :\n",
    "\n",
    "s1 = {1,2,4,1,2}\n",
    "s2 = {1,2,4}\n",
    "re =same_elements(s1,s2)\n",
    "\n",
    "if re:\n",
    "    print(\"Two set have the smae elements\")\n",
    "    \n",
    "else:\n",
    "    print(\"it do not have same elements\")"
   ]
  },
  {
   "cell_type": "markdown",
   "id": "0fd6852d-b445-4c7a-86cf-7d93cf2943c7",
   "metadata": {},
   "source": [
    "45. Create a set of the first `n` powers of 2.\n"
   ]
  },
  {
   "cell_type": "code",
   "execution_count": 20,
   "id": "f46d039a-3be8-4f83-b894-b1ced6231f33",
   "metadata": {},
   "outputs": [
    {
     "name": "stdout",
     "output_type": "stream",
     "text": [
      "{1, 2, 4, 8, 16}\n"
     ]
    }
   ],
   "source": [
    "def calling_power(n):\n",
    "    \n",
    "    power_of_2 = set()\n",
    "    \n",
    "    for i in range(n):\n",
    "        power = 2**i\n",
    "        \n",
    "        power_of_2.add(power)\n",
    "        \n",
    "    return power_of_2\n",
    "\n",
    "#example:\n",
    "\n",
    "re = calling_power(5)\n",
    "\n",
    "print(re)"
   ]
  },
  {
   "cell_type": "markdown",
   "id": "de1299f4-1ee9-4789-87be-2307c4334315",
   "metadata": {},
   "source": [
    "46. Find the common elements between a set and a list.\n"
   ]
  },
  {
   "cell_type": "code",
   "execution_count": 21,
   "id": "9d92767d-c8f3-47ec-899d-271065265fe6",
   "metadata": {},
   "outputs": [
    {
     "name": "stdout",
     "output_type": "stream",
     "text": [
      "[7, 9, 12]\n"
     ]
    }
   ],
   "source": [
    "my_set = {3, 7, 9, 12, 15}\n",
    "my_list = [7, 12, 5, 9]\n",
    "\n",
    "list_set = set(my_list)\n",
    "\n",
    "common_el = []\n",
    "\n",
    "for i in my_set:\n",
    "    if i in list_set:\n",
    "        common_el.append(i)\n",
    "    \n",
    "print(common_el) "
   ]
  },
  {
   "cell_type": "markdown",
   "id": "0226dfa6-2f8e-4bb8-8351-b332bceaddc1",
   "metadata": {},
   "source": [
    "47. Create a set of the first `n` triangular numbers."
   ]
  },
  {
   "cell_type": "code",
   "execution_count": 22,
   "id": "954018df-dca2-4e4c-a973-30c25db78208",
   "metadata": {},
   "outputs": [
    {
     "name": "stdout",
     "output_type": "stream",
     "text": [
      "{1, 3, 6, 10, 15, 21}\n"
     ]
    }
   ],
   "source": [
    "def triangular_number(n):\n",
    "    tri_num = set()\n",
    "    for i in range(1,n+1):\n",
    "        triangular_number = i * (i + 1) // 2\n",
    "        tri_num.add(triangular_number)\n",
    "    return tri_num\n",
    "\n",
    "n  = 6\n",
    "\n",
    "re = triangular_number(n)\n",
    "print(re)\n",
    "        "
   ]
  },
  {
   "cell_type": "markdown",
   "id": "ab297c37-9166-4766-a24f-cf38b0a870bc",
   "metadata": {},
   "source": [
    "48. Check if a set contains another set as a subset.\n"
   ]
  },
  {
   "cell_type": "code",
   "execution_count": 24,
   "id": "0e97a060-2039-4a72-a705-dfb98d90161b",
   "metadata": {},
   "outputs": [
    {
     "name": "stdout",
     "output_type": "stream",
     "text": [
      "set2 is a subset of set1\n"
     ]
    }
   ],
   "source": [
    "set1 = {1, 2, 3, 4, 5}\n",
    "set2 = {3, 4}\n",
    "\n",
    "is_subset = set2.issubset(set1)\n",
    "\n",
    "if is_subset:\n",
    "    print(\"set2 is a subset of set1\")\n",
    "else:\n",
    "    print(\"set2 is not  a subset of set1\")"
   ]
  },
  {
   "cell_type": "markdown",
   "id": "60290d61-a39d-46cc-acbd-f15393c4ddd7",
   "metadata": {},
   "source": [
    "49. Create a set of alternating 1s and 0s of length `n`.\n"
   ]
  },
  {
   "cell_type": "code",
   "execution_count": 25,
   "id": "2c558449-5a5d-48c8-9ce7-19ba763131ab",
   "metadata": {},
   "outputs": [
    {
     "name": "stdout",
     "output_type": "stream",
     "text": [
      "{0, 1}\n"
     ]
    }
   ],
   "source": [
    "def alternate(n):\n",
    "    free_set =set()\n",
    "    for i in range(n):\n",
    "        if i%2 == 0:\n",
    "            free_set.add(1)\n",
    "        else:\n",
    "            free_set.add(0)\n",
    "    return free_set\n",
    "\n",
    "n = 4\n",
    "re = alternate(n)\n",
    "print(re)\n"
   ]
  },
  {
   "cell_type": "markdown",
   "id": "1a6db03e-e359-4b46-911b-b715bf853c94",
   "metadata": {},
   "source": [
    "50. Merge multiple sets into one."
   ]
  },
  {
   "cell_type": "code",
   "execution_count": 26,
   "id": "e58c44e7-e196-49e9-ad1f-3aaebf7e4308",
   "metadata": {},
   "outputs": [
    {
     "name": "stdout",
     "output_type": "stream",
     "text": [
      "{1, 2, 3, 4, 5, 6, 7}\n"
     ]
    }
   ],
   "source": [
    "set1 = {1, 2, 3}\n",
    "set2 = {3, 4, 5}\n",
    "set3 = {5, 6, 7}\n",
    "\n",
    "merged_set = set1.union(set2,set3)\n",
    "\n",
    "print(merged_set)"
   ]
  },
  {
   "cell_type": "raw",
   "id": "778d4c44-c52e-4480-872c-e38a983f30c0",
   "metadata": {},
   "source": [
    "#Prabhendra\n",
    "##Data Science Pro\n",
    "###p786solot@gmail.com"
   ]
  },
  {
   "cell_type": "code",
   "execution_count": null,
   "id": "596bd0b9-d70c-4d49-aacc-894d8311e795",
   "metadata": {},
   "outputs": [],
   "source": []
  }
 ],
 "metadata": {
  "kernelspec": {
   "display_name": "Python 3 (ipykernel)",
   "language": "python",
   "name": "python3"
  },
  "language_info": {
   "codemirror_mode": {
    "name": "ipython",
    "version": 3
   },
   "file_extension": ".py",
   "mimetype": "text/x-python",
   "name": "python",
   "nbconvert_exporter": "python",
   "pygments_lexer": "ipython3",
   "version": "3.10.8"
  }
 },
 "nbformat": 4,
 "nbformat_minor": 5
}
